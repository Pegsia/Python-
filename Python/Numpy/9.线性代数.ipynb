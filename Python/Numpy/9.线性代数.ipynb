{
 "metadata": {
  "language_info": {
   "codemirror_mode": {
    "name": "ipython",
    "version": 3
   },
   "file_extension": ".py",
   "mimetype": "text/x-python",
   "name": "python",
   "nbconvert_exporter": "python",
   "pygments_lexer": "ipython3",
   "version": "3.8.0"
  },
  "orig_nbformat": 4,
  "kernelspec": {
   "name": "python3",
   "display_name": "Python 3.8.0 32-bit"
  },
  "interpreter": {
   "hash": "1e84fa69717b11d7b5d61c02ca32d173064ae8c20934e36b193c71fd175ea29a"
  }
 },
 "nbformat": 4,
 "nbformat_minor": 2,
 "cells": [
  {
   "source": [
    "# 线性代数\n",
    "Numpy定义了`matrix`类型， 使用该`matrix`类型创建的是矩阵对象，它们的加减乘除运算缺省采用矩阵方式计算，因此用法和Matblab十分类似。但是由于Numpy中同时存在`ndarray和matrix`对象，因此用户很容易将两者弄混。这有违Python的“显示优于隐藏”的原则，因此官方并不推荐在程序中使用`matrix`。在这里，我们仍然用`ndarray`来介绍\n",
    "\n",
    "## 矩阵和向量积\n",
    "\n",
    "矩阵的定义、矩阵的加法、矩阵的乘法、矩阵的转置与二维数组完全一致，不再进行说明，但矩阵的乘法有不同的表示。\n",
    "\n",
    "- `numpy.dot(a, b[, out])` 计算两个矩阵的乘积，如果是一维数组则是它们的内积\n",
    "\n",
    "【例】"
   ],
   "cell_type": "markdown",
   "metadata": {}
  },
  {
   "cell_type": "code",
   "execution_count": 1,
   "metadata": {},
   "outputs": [
    {
     "output_type": "stream",
     "name": "stdout",
     "text": [
      "70\n[[1 2 3]\n [3 4 5]\n [6 7 8]]\n[[5 4 2]\n [1 7 9]\n [0 4 5]]\n[[  7  30  35]\n [ 19  60  67]\n [ 37 105 115]]\n[[ 29  40  51]\n [ 76  93 110]\n [ 42  51  60]]\n"
     ]
    }
   ],
   "source": [
    "import numpy as np\n",
    "\n",
    "x = np.array([1, 2, 3, 4, 5])\n",
    "y = np.array([2, 3, 4 ,5, 6])\n",
    "z = np.dot(x, y)\n",
    "print(z)\n",
    "\n",
    "x = np.array([[1, 2, 3], [3, 4, 5], [6, 7, 8]])\n",
    "print(x)\n",
    "\n",
    "y = np.array([[5, 4, 2], [1, 7, 9], [0, 4, 5]])\n",
    "print(y)\n",
    "\n",
    "print(np.dot(x, y))\n",
    "\n",
    "print(np.dot(y, x))"
   ]
  },
  {
   "source": [
    "【注意】：\n",
    "\n",
    "在线性代数里面讲的维数和数组的维数不同，如线代中提到的n维行向量在Numpy中是一维数组，而线代中的n维列向量在Numpy中是一个shape为(n, 1)的二维数组\n",
    "\n",
    "\n",
    "## 矩阵特征值与特征向量\n",
    "\n",
    "- `numpy.linalg.eig(a)` 计算方阵的特征值和特征向量\n",
    "- `numpy.linalg.eigvals(a)` 计算方阵的特征值"
   ],
   "cell_type": "markdown",
   "metadata": {}
  },
  {
   "cell_type": "code",
   "execution_count": 2,
   "metadata": {},
   "outputs": [
    {
     "output_type": "stream",
     "name": "stdout",
     "text": [
      "[[1 0 0]\n [0 2 0]\n [0 0 3]]\n[1. 2. 3.]\n[1. 2. 3.]\n[[1. 0. 0.]\n [0. 1. 0.]\n [0. 0. 1.]]\nRight\nRight\nRight\n"
     ]
    }
   ],
   "source": [
    "#创建一个对角矩阵\n",
    "x = np.diag((1, 2, 3))\n",
    "print(x)\n",
    "# [[1 0 0]\n",
    "#  [0 2 0]\n",
    "#  [0 0 3]]\n",
    "\n",
    "print(np.linalg.eigvals(x))# [1. 2. 3.]\n",
    "\n",
    "a, b = np.linalg.eig(x)\n",
    "print(a) # [1. 2. 3.]\n",
    "print(b)\n",
    "# [[1. 0. 0.]\n",
    "#  [0. 1. 0.]\n",
    "#  [0. 0. 1.]]\n",
    "\n",
    "#检验特征值与特征向量是否正确\n",
    "for i in range(x.shape[0]):\n",
    "    if np.allclose(a[i] * b[:, i], np.dot(x, b[:, i])):\n",
    "        print('Right')\n",
    "    else:\n",
    "        print('Error')"
   ]
  },
  {
   "source": [
    "【例】判断对称阵是否为正定阵（特征值是否全部为正）"
   ],
   "cell_type": "markdown",
   "metadata": {}
  },
  {
   "cell_type": "code",
   "execution_count": 3,
   "metadata": {},
   "outputs": [
    {
     "output_type": "stream",
     "name": "stdout",
     "text": [
      "[[ 0  1  2  3]\n [ 4  5  6  7]\n [ 8  9 10 11]\n [12 13 14 15]]\n[[ 0  5 10 15]\n [ 5 10 15 20]\n [10 15 20 25]\n [15 20 25 30]]\n[ 6.74165739e+01+0.00000000e+00j -7.41657387e+00+0.00000000e+00j\n -8.88285420e-17+1.82759332e-15j -8.88285420e-17-1.82759332e-15j]\nNo\n"
     ]
    }
   ],
   "source": [
    "A = np.arange(16).reshape(4, 4)\n",
    "print(A)\n",
    "\n",
    "A = A + A.T # 转化成对称矩阵\n",
    "print(A)\n",
    "\n",
    "B = np.linalg.eigvals(A)\n",
    "print(B)\n",
    "\n",
    "if np.all(B > 0):\n",
    "    print('Yes')\n",
    "else:\n",
    "    print('No')"
   ]
  },
  {
   "source": [
    "# 矩阵分解\n",
    "\n",
    "## 奇异值分解\n",
    "\n",
    "有关奇异值分解的原理：[奇异值分解（SVD）及其应用](https://mp.weixin.qq.com/s/GNHPamltnqaUpGG9NhvWxg)\n",
    "\n",
    "- u, s, v = numpy.linalg.svd(a, full_matrices = True, compute_uv = True, hermitian = False)` 奇异值分解\n",
    "    - `a` 是一个形如(M, N)矩阵\n",
    "\n",
    "    - `full_matrices` 的取值是为False或者True，默认值为True，这时`u`的大小为(M, M)，`v`的大小为(N, N))。否则`u`的大小为(M, K), `v`的大小为(K, N), K = min(M, N)\n",
    "\n",
    "    - `comptue_uv`的取值是为False或者True，默认值为True，表示计算`u, s, v`为False的时候只计算`s`\n",
    "    \n",
    "    - 总共有三个返回值`u, s, v, u`大小为(M, M), `s`大小为(M, N), `v`大小为(N, N), `a = u * s * v`\n",
    "\n",
    "    - 其中`s`是对矩阵`a`的奇异值分解。`s`除了对角元素不为`0`，其他元素都为`0`，并且对角元素从大到小排序。`s`中有`n`个奇异值，一般排在后面的比较接近0，所以仅保留比较大的`r`个奇异值。\n",
    "\n",
    "【注】：Numpy中返回的`v`是通常所谓奇异值分解`a = u * s * v`中`v`的转置"
   ],
   "cell_type": "markdown",
   "metadata": {}
  },
  {
   "source": [
    "A = np.array([[4, 11, 14], [8, 7, -2]])\n",
    "print(A)\n",
    "# [[ 4 11 14]\n",
    "#  [ 8  7 -2]]\n",
    "\n",
    "u, s, vh = np.linalg.svd(A, full_matrices = False)\n",
    "print(u.shape)\n",
    "print(u)\n",
    "# [[-0.9486833  -0.31622777]\n",
    "#  [-0.31622777  0.9486833 ]]\n",
    "\n",
    "print(s.shape)\n",
    "print(np.diag(s))\n",
    "# [18.97366596  0.        ]\n",
    "#  [ 0.          9.48683298]]\n",
    "\n",
    "print(vh.shape)\n",
    "print(vh)\n",
    "# [[-0.33333333 -0.66666667 -0.66666667]\n",
    "#  [ 0.66666667  0.33333333 -0.66666667]]\n",
    "\n",
    "a = np.dot(u, np.diag(s))\n",
    "a = np.dot(a, vh)\n",
    "print(a)"
   ],
   "cell_type": "code",
   "metadata": {},
   "execution_count": 4,
   "outputs": [
    {
     "output_type": "stream",
     "name": "stdout",
     "text": [
      "[[ 4 11 14]\n [ 8  7 -2]]\n(2, 2)\n[[-0.9486833  -0.31622777]\n [-0.31622777  0.9486833 ]]\n(2,)\n[[18.97366596  0.        ]\n [ 0.          9.48683298]]\n(2, 3)\n[[-0.33333333 -0.66666667 -0.66666667]\n [ 0.66666667  0.33333333 -0.66666667]]\n[[ 4. 11. 14.]\n [ 8.  7. -2.]]\n"
     ]
    }
   ]
  },
  {
   "cell_type": "code",
   "execution_count": 11,
   "metadata": {},
   "outputs": [
    {
     "output_type": "stream",
     "name": "stdout",
     "text": [
      "[[ 1  1]\n [ 1 -2]\n [ 2  1]]\n(3, 2)\n[[-5.34522484e-01 -1.11022302e-16]\n [ 2.67261242e-01 -9.48683298e-01]\n [-8.01783726e-01 -3.16227766e-01]]\n(2,)\n[[2.64575131 0.        ]\n [0.         2.23606798]]\n(2, 2)\n[[-0.70710678 -0.70710678]\n [-0.70710678  0.70710678]]\n[[ 1.  1.]\n [ 1. -2.]\n [ 2.  1.]]\n"
     ]
    }
   ],
   "source": [
    "A = np.array([[1, 1], [1, -2], [2, 1]])\n",
    "print(A)\n",
    "# [[ 1  1]\n",
    "#  [ 1 -2]\n",
    "#  [ 2  1]]\n",
    "\n",
    "u, s, v = np.linalg.svd(A, full_matrices = False)\n",
    "print(u.shape)\n",
    "print(u)\n",
    "# (3, 2)\n",
    "# [[-5.34522484e-01 -1.11022302e-16]\n",
    "#  [ 2.67261242e-01 -9.48683298e-01]\n",
    "#  [-8.01783726e-01 -3.16227766e-01]]\n",
    "\n",
    "print(s.shape)\n",
    "print(np.diag(s)) # r(A) = 2,故只有两个奇异值\n",
    "# (2,)\n",
    "# [[2.64575131 0.        ]\n",
    "#  [0.         2.23606798]]\n",
    "\n",
    "print(v.shape)\n",
    "print(v)\n",
    "# (2, 2)\n",
    "# [[-0.70710678 -0.70710678]\n",
    "#  [-0.70710678  0.70710678]]\n",
    "\n",
    "a = np.dot(np.dot(u, np.diag(s)), v)\n",
    "print(a)\n",
    "# [[ 1.  1.]\n",
    "#  [ 1. -2.]\n",
    "#  [ 2.  1.]]"
   ]
  },
  {
   "source": [
    "## QR分解\n",
    "\n",
    "- `q, r = numpy.linalg.qr(a, mode = 'reduced')` 计算矩阵`a`的QR分解\n",
    "    - `a` 是一个(M, N)的待分解矩阵\n",
    "    - `mode = reduced` 返回(M, N)的列向量两两正交的矩阵`q`，和(N, N)的三角阵`r`(Reduced QR分解)\n",
    "    - `mode = complete`返回(M, M)的正交矩阵`q`，和(M, N)的三角阵`r`(Full QR分解)"
   ],
   "cell_type": "markdown",
   "metadata": {}
  },
  {
   "cell_type": "code",
   "execution_count": 14,
   "metadata": {},
   "outputs": [
    {
     "output_type": "stream",
     "name": "stdout",
     "text": [
      "[[ 2 -2  3]\n [ 1  1  1]\n [ 1  3 -1]]\n(3, 3)\n[[-0.81649658  0.53452248  0.21821789]\n [-0.40824829 -0.26726124 -0.87287156]\n [-0.40824829 -0.80178373  0.43643578]]\n(3, 3)\n[[-2.44948974  0.         -2.44948974]\n [ 0.         -3.74165739  2.13808994]\n [ 0.          0.         -0.65465367]]\n[[ 2. -2.  3.]\n [ 1.  1.  1.]\n [ 1.  3. -1.]]\nTrue\n"
     ]
    }
   ],
   "source": [
    "A = np.array([[2, -2, 3], [1, 1, 1], [1, 3, -1]])\n",
    "print(A)\n",
    "\n",
    "q, r = np.linalg.qr(A)\n",
    "print(q.shape)\n",
    "print(q)\n",
    "\n",
    "print(r.shape)\n",
    "print(r)\n",
    "\n",
    "print(np.dot(q, r))\n",
    "\n",
    "a = np.allclose(np.dot(q.T, q), np.eye(3))\n",
    "print(a)"
   ]
  },
  {
   "cell_type": "code",
   "execution_count": 17,
   "metadata": {},
   "outputs": [
    {
     "output_type": "stream",
     "name": "stdout",
     "text": [
      "[[ 1  1]\n [ 1 -2]\n [ 2  1]]\n(3, 3)\n[[-0.40824829  0.34503278 -0.84515425]\n [-0.40824829 -0.89708523 -0.16903085]\n [-0.81649658  0.27602622  0.50709255]]\n(3, 2)\n[[-2.44948974 -0.40824829]\n [ 0.          2.41522946]\n [ 0.          0.        ]]\n[[ 1.  1.]\n [ 1. -2.]\n [ 2.  1.]]\nTrue\n"
     ]
    }
   ],
   "source": [
    "A = np.array([[1, 1], [1, -2], [2, 1]])\n",
    "print(A)\n",
    "\n",
    "q, r = np.linalg.qr(A, mode = 'complete')\n",
    "print(q.shape)\n",
    "print(q)\n",
    "\n",
    "print(r.shape)\n",
    "print(r)\n",
    "\n",
    "print(np.dot(q, r))\n",
    "\n",
    "print(np.allclose(np.dot(q.T, q), np.eye(3)))"
   ]
  },
  {
   "cell_type": "code",
   "execution_count": 18,
   "metadata": {},
   "outputs": [
    {
     "output_type": "stream",
     "name": "stdout",
     "text": [
      "[[ 1  1]\n [ 1 -2]\n [ 2  1]]\n(3, 2)\n[[-0.40824829  0.34503278]\n [-0.40824829 -0.89708523]\n [-0.81649658  0.27602622]]\n(2, 2)\n[[-2.44948974 -0.40824829]\n [ 0.          2.41522946]]\n[[ 1.  1.]\n [ 1. -2.]\n [ 2.  1.]]\nTrue\n"
     ]
    }
   ],
   "source": [
    "A = np.array([[1, 1], [1, -2], [2, 1]])\n",
    "print(A)\n",
    "# [[ 1  1]\n",
    "#  [ 1 -2]\n",
    "#  [ 2  1]]\n",
    "\n",
    "q, r = np.linalg.qr(A)\n",
    "print(q.shape)  # (3, 2)\n",
    "print(q)\n",
    "# [[-0.40824829  0.34503278]\n",
    "#  [-0.40824829 -0.89708523]\n",
    "#  [-0.81649658  0.27602622]]\n",
    "\n",
    "print(r.shape)  # (2, 2)\n",
    "print(r)\n",
    "# [[-2.44948974 -0.40824829]\n",
    "#  [ 0.          2.41522946]]\n",
    "\n",
    "print(np.dot(q, r))\n",
    "# [[ 1.  1.]\n",
    "#  [ 1. -2.]\n",
    "#  [ 2.  1.]]\n",
    "\n",
    "a = np.allclose(np.dot(q.T, q), np.eye(2))\n",
    "print(a)  # True   （说明q为正交矩阵）"
   ]
  },
  {
   "source": [
    "## Cholesky分解\n",
    "\n",
    "- `L = npmpy.linalg.cholesky(a)` 返回正定矩阵`a`的Cholesky分解 `a = L * L.T`其中`L`是下三角"
   ],
   "cell_type": "markdown",
   "metadata": {}
  },
  {
   "cell_type": "code",
   "execution_count": 19,
   "metadata": {},
   "outputs": [
    {
     "output_type": "stream",
     "name": "stdout",
     "text": [
      "[[1 1 1 1]\n [1 3 3 3]\n [1 3 5 5]\n [1 3 5 7]]\n[13.13707118  1.6199144   0.51978306  0.72323135]\n[[1.         0.         0.         0.        ]\n [1.         1.41421356 0.         0.        ]\n [1.         1.41421356 1.41421356 0.        ]\n [1.         1.41421356 1.41421356 1.41421356]]\n[[1. 1. 1. 1.]\n [1. 3. 3. 3.]\n [1. 3. 5. 5.]\n [1. 3. 5. 7.]]\n"
     ]
    }
   ],
   "source": [
    "A = np.array([[1, 1, 1, 1], [1, 3, 3, 3],\n",
    "              [1, 3, 5, 5], [1, 3, 5, 7]])\n",
    "print(A)\n",
    "# [[1 1 1 1]\n",
    "#  [1 3 3 3]\n",
    "#  [1 3 5 5]\n",
    "#  [1 3 5 7]]\n",
    "\n",
    "print(np.linalg.eigvals(A)) # 特征值\n",
    "\n",
    "L = np.linalg.cholesky(A)\n",
    "print(L)\n",
    "\n",
    "print(np.dot(L, L.T))"
   ]
  },
  {
   "source": [
    "## 范数和其他数字\n",
    "\n",
    "###矩阵的范数\n",
    "- `numpy.linalg.norm(x, ord=None, axis=None, keepdims=False)` 计算向量或者矩阵的范数。\n",
    "根据`ord`参数的不同，计算不同的范数："
   ],
   "cell_type": "markdown",
   "metadata": {}
  },
  {
   "cell_type": "code",
   "execution_count": 20,
   "metadata": {},
   "outputs": [
    {
     "output_type": "stream",
     "name": "stdout",
     "text": [
      "10.0\n10\n5.477225575051661\n5.477225575051661\n1.0\n1\n4.0\n4\n"
     ]
    }
   ],
   "source": [
    "x = np.array([1, 2, 3, 4])\n",
    "\n",
    "print(np.linalg.norm(x, ord=1)) \n",
    "# 10.0\n",
    "print(np.sum(np.abs(x)))  \n",
    "# 10\n",
    "\n",
    "print(np.linalg.norm(x, ord=2))  \n",
    "# 5.477225575051661\n",
    "print(np.sum(np.abs(x) ** 2) ** 0.5)  \n",
    "# 5.477225575051661\n",
    "\n",
    "print(np.linalg.norm(x, ord=-np.inf))  \n",
    "# 1.0\n",
    "print(np.min(np.abs(x)))  \n",
    "# 1\n",
    "\n",
    "print(np.linalg.norm(x, ord=np.inf))  \n",
    "# 4.0\n",
    "print(np.max(np.abs(x)))  \n",
    "# 4"
   ]
  },
  {
   "cell_type": "code",
   "execution_count": 21,
   "metadata": {},
   "outputs": [
    {
     "output_type": "stream",
     "name": "stdout",
     "text": [
      "[[ 1  2  3  4]\n [ 2  3  5  8]\n [ 1  3  5  7]\n [ 3  4  7 11]]\n30.0\n30\n20.243453587005757\n20.243453587005757\n25.0\n25\n20.273134932713294\n20.273134932713294\n"
     ]
    }
   ],
   "source": [
    "A = np.array([[1, 2, 3, 4], [2, 3, 5, 8],\n",
    "              [1, 3, 5, 7], [3, 4, 7, 11]])\n",
    "\n",
    "print(A)\n",
    "# [[ 1  2  3  4]\n",
    "#  [ 2  3  5  8]\n",
    "#  [ 1  3  5  7]\n",
    "#  [ 3  4  7 11]]\n",
    "\n",
    "print(np.linalg.norm(A, ord=1))  # 30.0\n",
    "print(np.max(np.sum(A, axis=0)))  # 30\n",
    "\n",
    "print(np.linalg.norm(A, ord=2))  \n",
    "# 20.24345358700576\n",
    "print(np.max(np.linalg.svd(A, compute_uv=False)))  \n",
    "# 20.24345358700576\n",
    "\n",
    "print(np.linalg.norm(A, ord=np.inf))  # 25.0\n",
    "print(np.max(np.sum(A, axis=1)))  # 25\n",
    "\n",
    "print(np.linalg.norm(A, ord='fro'))  \n",
    "# 20.273134932713294\n",
    "print(np.sqrt(np.trace(np.dot(A.T, A))))  \n",
    "# 20.273134932713294"
   ]
  },
  {
   "source": [
    "### 方阵的行列式\n",
    "\n",
    "- `numpy.linalg.det(a)`计算行列式"
   ],
   "cell_type": "markdown",
   "metadata": {}
  },
  {
   "cell_type": "code",
   "execution_count": 24,
   "metadata": {},
   "outputs": [
    {
     "output_type": "stream",
     "name": "stdout",
     "text": [
      "[[1 2]\n [3 4]]\n-2.0000000000000004\n"
     ]
    }
   ],
   "source": [
    "x = np.array([[1, 2], [3, 4]])\n",
    "print(x)\n",
    "\n",
    "print(np.linalg.det(x))"
   ]
  },
  {
   "source": [
    "### 矩阵的秩\n",
    "\n",
    "- `numpy.linalg.matrix_rank(M, tol = None, hermitian = False)`返回矩阵的秩\n"
   ],
   "cell_type": "markdown",
   "metadata": {}
  },
  {
   "cell_type": "code",
   "execution_count": 26,
   "metadata": {},
   "outputs": [
    {
     "output_type": "stream",
     "name": "stdout",
     "text": [
      "[[1. 0. 0.]\n [0. 1. 0.]\n [0. 0. 1.]]\n3\n2\n"
     ]
    }
   ],
   "source": [
    "i = np.eye(3)\n",
    "print(i)\n",
    "print(np.linalg.matrix_rank(i))\n",
    "\n",
    "i[1, 1] = 0\n",
    "print(np.linalg.matrix_rank(i))"
   ]
  },
  {
   "source": [
    "### 矩阵的迹\n",
    "\n",
    "- `numpy.trace(a, offset = 0, axis1 = 0, axis2 = 1, dtype = None, out = None)` 方阵的迹就是主对角线的和"
   ],
   "cell_type": "markdown",
   "metadata": {}
  },
  {
   "cell_type": "code",
   "execution_count": 28,
   "metadata": {},
   "outputs": [
    {
     "output_type": "stream",
     "name": "stdout",
     "text": [
      "13\n13\n30\n30\n"
     ]
    }
   ],
   "source": [
    "x = np.array([[1, 2, 3], [3, 4, 5], [6, 7, 8]])\n",
    "\n",
    "y = np.array([[5, 4, 2], [1, 7, 9], [0, 4, 5]])\n",
    "\n",
    "print(np.trace(x))\n",
    "\n",
    "print(np.trace(np.transpose(x)))\n",
    "\n",
    "print(np.trace(x + y))\n",
    "\n",
    "print(np.trace(x) + np.trace(y))\n"
   ]
  },
  {
   "source": [
    "## 解方程和逆矩阵\n",
    "\n",
    "### 逆矩阵(inverse matrix)\n",
    "\n",
    "设 A 是数域上的一个 n 阶矩阵，若在相同数域上存在另一个 n 阶矩阵 B，使得：`AB=BA=E`（E 为单位矩阵），则我们称 B 是 A 的逆矩阵，而 A 则被称为可逆矩阵。\n",
    "\n",
    "- `numpy.linalg.inv(a)` 计算矩阵`a`的逆矩阵（矩阵可逆的充要条件：`det(a) != 0`，或者`a`满秩）。\n",
    "【例】计算矩阵的逆矩阵。"
   ],
   "cell_type": "markdown",
   "metadata": {}
  },
  {
   "cell_type": "code",
   "execution_count": 36,
   "metadata": {},
   "outputs": [
    {
     "output_type": "stream",
     "name": "stdout",
     "text": [
      "-3.0000000000000004\n[[ 1.          1.          0.        ]\n [ 0.33333333  1.         -0.33333333]\n [ 0.66666667  1.         -0.66666667]]\nTrue\n[[-3. -3. -0.]\n [-1. -3.  1.]\n [-2. -3.  2.]]\nTrue\n"
     ]
    }
   ],
   "source": [
    "A = np.array([[1, -2, 1], [0, 2, -1], [1, 1, -2]])\n",
    "A_det = np.linalg.det(A)\n",
    "print(A_det)\n",
    "\n",
    "A_inverse = np.linalg.inv(A)\n",
    "print(A_inverse)\n",
    "\n",
    "x = np.allclose(np.dot(A_inverse, A), np.eye(3))\n",
    "print(x)\n",
    "\n",
    "A_companion = A_inverse * A_det\n",
    "print(A_companion)\n",
    "\n",
    "print(np.allclose(np.dot(A_companion, A), A_det * np.eye(3)))"
   ]
  },
  {
   "source": [
    "###   求解线性方程组\n",
    "\n",
    "- `numpy.linalg.solve(a, b)` 求解线性方程组或矩阵方程"
   ],
   "cell_type": "markdown",
   "metadata": {}
  },
  {
   "cell_type": "code",
   "execution_count": 38,
   "metadata": {},
   "outputs": [
    {
     "output_type": "stream",
     "name": "stdout",
     "text": [
      "[ 7.  1. -2.]\n[ 7.  1. -2.]\nTrue\n"
     ]
    }
   ],
   "source": [
    "# x + 2y + z = 7\n",
    "# 2x - y + 3z = 7\n",
    "# 3x + y + 2z = 18\n",
    "\n",
    "A = np.array([[1, 2, 1], [2, -1, 3], [3, 1, 2]])\n",
    "B = np.array([7, 7, 18])\n",
    "print(np.linalg.solve(A, B))\n",
    "\n",
    "x = np.linalg.inv(A).dot(B)\n",
    "print(x)\n",
    "\n",
    "print(np.allclose(np.dot(A, x), B))"
   ]
  },
  {
   "cell_type": "code",
   "execution_count": 40,
   "metadata": {},
   "outputs": [
    {
     "output_type": "stream",
     "name": "stdout",
     "text": [
      "[ 4.7553803 +0.j         -1.37769015+0.45260477j -1.37769015-0.45260477j] [[ 0.4704336 +0.j          0.66245383+0.j          0.66245383-0.j        ]\n [ 0.5308921 +0.j         -0.58811834+0.20733017j -0.58811834-0.20733017j]\n [ 0.7048729 +0.j         -0.39887326-0.11483058j -0.39887326+0.11483058j]]\n"
     ]
    }
   ],
   "source": [
    "a, b = np.linalg.eig(A)\n",
    "print(a, b)"
   ]
  },
  {
   "cell_type": "code",
   "execution_count": null,
   "metadata": {},
   "outputs": [],
   "source": []
  }
 ]
}