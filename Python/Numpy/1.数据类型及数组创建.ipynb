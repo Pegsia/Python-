{
 "cells": [
  {
   "cell_type": "markdown",
   "metadata": {},
   "source": [
    "[常量](#常量)<br>\n",
    "[数据类型](#数据类型)<br>\n",
    "[时间日期和时间增量](#时间日期和时间增量)<br>\n",
    "[数组的创建](#数组的创建)<br>\n",
    "[数组的属性](#数组的属性)<br>"
   ]
  },
  {
   "cell_type": "markdown",
   "metadata": {},
   "source": [
    "# 常量\n",
    "## numpy.nan\n",
    "- 表示空值\n",
    "nan = NaN = NAN\n",
    "#注：两个`numpy.nan`是不相等的"
   ]
  },
  {
   "cell_type": "code",
   "execution_count": 1,
   "metadata": {},
   "outputs": [
    {
     "name": "stdout",
     "output_type": "stream",
     "text": [
      "False\n"
     ]
    }
   ],
   "source": [
    "import numpy as np\n",
    "print(np.nan == np.nan) # False"
   ]
  },
  {
   "cell_type": "markdown",
   "metadata": {},
   "source": [
    "- numpy.isnan(x, *args, **kwargs) Test element-wise for NaN and return result as a boolean array."
   ]
  },
  {
   "cell_type": "code",
   "execution_count": 2,
   "metadata": {},
   "outputs": [
    {
     "name": "stdout",
     "output_type": "stream",
     "text": [
      "[False False False  True False]\n",
      "1\n"
     ]
    }
   ],
   "source": [
    "x = np.array([1, 2, 8, np.nan, 10])\n",
    "y = np.isnan(x)\n",
    "print(y)\n",
    "# [False False False  True False]\n",
    "\n",
    "z = np.count_nonzero(y)\n",
    "print(z) # 1"
   ]
  },
  {
   "cell_type": "markdown",
   "metadata": {},
   "source": [
    "## numpy.inf\n",
    "- 表示正无穷大。\n",
    "Inf = inf = infty = Infinity = PINF\n",
    "\n",
    "## numpy.pi\n",
    "- 表示圆周率\n",
    "pi = 3.1415926535897932384626433...\n",
    "\n",
    "## numpy.e\n",
    "- 表示自然常数\n",
    "e = 2.71828182845904523536028747135266249775724709369995...\n",
    "\n",
    "# 数据类型\n",
    "## 常见数据类型\n",
    "Python 原生的数据类型相对较少， bool、int、float、str等。这在不需要关心数据在计算机中表示的所有方式的应用中是方便的。然而，对于科学计算，通常需要更多的控制。为了加以区分 numpy 在这些类型名称末尾都加了“_”。\n",
    "\n",
    "下表列举了常用 numpy 基本类型。\n",
    "\n",
    "类型|备注|说明\n",
    ":---:|:---:|:---:\n",
    "bool_ = bool8|8位|布尔类型\n",
    "int8 = byte|8位|整型\n",
    "int16 = short|16位|整型\n",
    "int32 = intc|32位|整型\n",
    "int_ = int64 = long = int0 = intp|64位|整型\n",
    "uint8 = ubyte|8位|无符号整型\n",
    "uint16 = ushort|16位|无符号整型\n",
    "uint32 = uintc|32位|无符号整型\n",
    "uint64 = uintp = uint0 = uint|64位|无符号整型\n",
    "float16 = half|16位|浮点型\n",
    "float32 = single|32位|浮点型\n",
    "float_ = float64 = double|64位|浮点型\n",
    "str_ = unicode_ = str0 = unicode|Unicode 字符串\n",
    "datetime64|日期时间类型\n",
    "timedelta64|表示两个时间之间的间隔\n",
    "\n",
    "## 创建数据类型\n",
    "numpy的数值类型实际上是dtype对象的实例"
   ]
  },
  {
   "cell_type": "code",
   "execution_count": 3,
   "metadata": {},
   "outputs": [],
   "source": [
    "class dtype(object):\n",
    "    def __init__(self, obj, align = False, copy = False):\n",
    "        pass"
   ]
  },
  {
   "cell_type": "markdown",
   "metadata": {},
   "source": [
    "每个内建类型都有一个唯一定义它的字符代码，如下\n",
    "\n",
    "字符|对应类型|备注\n",
    ":---:|:---:|:---:|\n",
    "b|boolean|'b1'\n",
    "i|signed integer|'i1', 'i2', 'i4', 'i8'\n",
    "u|unsigned integer|'u1', 'u2' ,'u4' ,'u8'\n",
    "f|floating-point|'f2', 'f4', 'f8'\n",
    "c|complex floating-point|\n",
    "m|timedelta64|表示两个时间之间的间隔\n",
    "M|datetime64|日期时间类型\n",
    "O|object|\n",
    "S|(byte-)string|S3表示长度为3的字符串\n",
    "U|Unicode|Unicode 字符串\n",
    "V|void|"
   ]
  },
  {
   "cell_type": "code",
   "execution_count": 4,
   "metadata": {},
   "outputs": [
    {
     "name": "stdout",
     "output_type": "stream",
     "text": [
      "<class 'numpy.bool_'>\n",
      "1\n"
     ]
    }
   ],
   "source": [
    "a = np.dtype('b1')\n",
    "print(a.type)  # <class 'numpy.bool_'>\n",
    "print(a.itemsize)  # 1\n",
    "\n",
    "a = np.dtype('i1')\n",
    "print(a.type)  # <class 'numpy.int8'>\n",
    "print(a.itemsize)  # 1\n",
    "a = np.dtype('i2')\n",
    "print(a.type)  # <class 'numpy.int16'>\n",
    "print(a.itemsize)  # 2\n",
    "a = np.dtype('i4')\n",
    "print(a.type)  # <class 'numpy.int32'>\n",
    "print(a.itemsize)  # 4\n",
    "a = np.dtype('i8')\n",
    "print(a.type)  # <class 'numpy.int64'>\n",
    "print(a.itemsize)  # 8\n",
    "\n",
    "a = np.dtype('u1')\n",
    "print(a.type)  # <class 'numpy.uint8'>\n",
    "print(a.itemsize)  # 1\n",
    "a = np.dtype('u2')\n",
    "print(a.type)  # <class 'numpy.uint16'>\n",
    "print(a.itemsize)  # 2\n",
    "a = np.dtype('u4')\n",
    "print(a.type)  # <class 'numpy.uint32'>\n",
    "print(a.itemsize)  # 4\n",
    "a = np.dtype('u8')\n",
    "print(a.type)  # <class 'numpy.uint64'>\n",
    "print(a.itemsize)  # 8\n",
    "\n",
    "a = np.dtype('f2')\n",
    "print(a.type)  # <class 'numpy.float16'>\n",
    "print(a.itemsize)  # 2\n",
    "a = np.dtype('f4')\n",
    "print(a.type)  # <class 'numpy.float32'>\n",
    "print(a.itemsize)  # 4\n",
    "a = np.dtype('f8')\n",
    "print(a.type)  # <class 'numpy.float64'>\n",
    "print(a.itemsize)  # 8\n",
    "\n",
    "a = np.dtype('S')\n",
    "print(a.type)  # <class 'numpy.bytes_'>\n",
    "print(a.itemsize)  # 0\n",
    "a = np.dtype('S3')\n",
    "print(a.type)  # <class 'numpy.bytes_'>\n",
    "print(a.itemsize)  # 3\n",
    "\n",
    "a = np.dtype('U3')\n",
    "print(a.type)  # <class 'numpy.str_'>\n",
    "print(a.itemsize)  # 12"
   ]
  },
  {
   "cell_type": "markdown",
   "metadata": {},
   "source": [
    "## 数据类型信息\n",
    "Python的浮点数通常是64位浮点数，几乎等同于`np.float64`\n",
    "\n",
    "NumPy和Python整数类型的行为在整数溢出方面存在显著差异，与NumPy不同，Python的`int`是灵活的，这意味着Python整数可以扩展以容纳任何整数并且不会溢出\n",
    "\n",
    "Machnine limits for integer types:"
   ]
  },
  {
   "cell_type": "code",
   "execution_count": 2,
   "metadata": {},
   "outputs": [
    {
     "name": "stdout",
     "output_type": "stream",
     "text": [
      "-32768\n",
      "32767\n",
      "-2147483648\n",
      "2147483647\n",
      "16\n",
      "-65500.0\n",
      "65500.0\n",
      "0.000977\n",
      "32\n",
      "-3.4028235e+38\n",
      "3.4028235e+38\n",
      "1.1920929e-07\n"
     ]
    }
   ],
   "source": [
    "class iinfo(object):\n",
    "    def __init__(self, int_type):\n",
    "        pass\n",
    "    \n",
    "    def min(self):\n",
    "        pass\n",
    "    \n",
    "    def max(self):\n",
    "        pass\n",
    "    \n",
    "import numpy as np\n",
    "\n",
    "ii16 = np.iinfo(np.int16)\n",
    "print(ii16.min)  # -32768\n",
    "print(ii16.max)  # 32767\n",
    "\n",
    "ii32 = np.iinfo(np.int32)\n",
    "print(ii32.min)  # -2147483648\n",
    "print(ii32.max)  # 2147483647\n",
    "\n",
    "class finfo(object):\n",
    "    def __init__(self, dtype):\n",
    "        pass\n",
    "    \n",
    "import numpy as np\n",
    "\n",
    "ff16 = np.finfo(np.float16)\n",
    "print(ff16.bits)  # 16\n",
    "print(ff16.min)  # -65500.0\n",
    "print(ff16.max)  # 65500.0\n",
    "print(ff16.eps)  # 0.000977\n",
    "\n",
    "ff32 = np.finfo(np.float32)\n",
    "print(ff32.bits)  # 32\n",
    "print(ff32.min)  # -3.4028235e+38\n",
    "print(ff32.max)  # 3.4028235e+38\n",
    "print(ff32.eps)  # 1.1920929e-07"
   ]
  },
  {
   "cell_type": "markdown",
   "metadata": {},
   "source": [
    "# 时间日期和时间增量\n",
    "\n",
    "## datetime64基础\n",
    "在numpy中，我们很方便的将字符串转换成时间日期类型`datetime64`（`datetime`已被python包含的日期时间库所占用）\n",
    "`datatime64`是带单位的日期时间类型，其单位如下：\n",
    "\n",
    "日期单位|代码含义|时间单位|代码含义\n",
    ":---:|:---:|:---:|:---:|\n",
    "Y|年|h|小时\n",
    "M|月|m|分钟\n",
    "W|周|s|秒\n",
    "D|天|ms|毫秒\n",
    "-|-|us|微秒\n",
    "-|-|ns|纳秒\n",
    "-|-|ps|皮秒\n",
    "-|-|fs|飞秒\n",
    "-|-|as|阿托秒\n",
    "\n",
    "注意：\n",
    "- 1秒 = 1000 毫秒（milliseconds）\n",
    "- 1毫秒 = 1000 微秒（microseconds）\n",
    "\n",
    "【例】从字符串创建 datetime64 类型时，默认情况下，numpy 会根据字符串自动选择对应的单位。"
   ]
  },
  {
   "cell_type": "code",
   "execution_count": 3,
   "metadata": {},
   "outputs": [
    {
     "name": "stdout",
     "output_type": "stream",
     "text": [
      "2020-03-01 datetime64[D]\n",
      "2020-03 datetime64[M]\n",
      "2020-03-08T20:00:05 datetime64[s]\n",
      "2020-03-08T20:00 datetime64[m]\n",
      "2020-03-08T20 datetime64[h]\n"
     ]
    }
   ],
   "source": [
    "import numpy as np\n",
    "\n",
    "a = np.datetime64('2020-03-01')\n",
    "print(a, a.dtype)  # 2020-03-01 datetime64[D]\n",
    "\n",
    "a = np.datetime64('2020-03')\n",
    "print(a, a.dtype)  # 2020-03 datetime64[M]\n",
    "\n",
    "a = np.datetime64('2020-03-08 20:00:05')\n",
    "print(a, a.dtype)  # 2020-03-08T20:00:05 datetime64[s]\n",
    "\n",
    "a = np.datetime64('2020-03-08 20:00')\n",
    "print(a, a.dtype)  # 2020-03-08T20:00 datetime64[m]\n",
    "\n",
    "a = np.datetime64('2020-03-08 20')\n",
    "print(a, a.dtype)  # 2020-03-08T20 datetime64[h]"
   ]
  },
  {
   "cell_type": "markdown",
   "metadata": {},
   "source": [
    "从字符串创建datetime64类型时，可以强制指定使用的单位"
   ]
  },
  {
   "cell_type": "code",
   "execution_count": 4,
   "metadata": {},
   "outputs": [
    {
     "name": "stdout",
     "output_type": "stream",
     "text": [
      "2020-03-01 datetime64[D]\n",
      "2020 datetime64[Y]\n",
      "True\n",
      "False\n"
     ]
    }
   ],
   "source": [
    "a = np.datetime64('2020-03', 'D')\n",
    "print(a, a.dtype)  # 2020-03-01 datetime64[D]\n",
    "\n",
    "a = np.datetime64('2020-03', 'Y')\n",
    "print(a, a.dtype)  # 2020 datetime64[Y]\n",
    "\n",
    "print(np.datetime64('2020-03') == np.datetime64('2020-03-01'))  # True\n",
    "print(np.datetime64('2020-03') == np.datetime64('2020-03-02'))  #False"
   ]
  },
  {
   "cell_type": "markdown",
   "metadata": {},
   "source": [
    "由上例可以看出，2019-03 和 2019-03-01 所表示的其实是同一个时间。 事实上，如果两个 datetime64 对象具有不同的单位，它们可能仍然代表相同的时刻。并且从较大的单位（如月份）转换为较小的单位（如天数）是安全的。\n",
    "\n",
    "【例】从字符串创建 datetime64 数组时，如果单位不统一，则一律转化成其中最小的单位。"
   ]
  },
  {
   "cell_type": "code",
   "execution_count": 5,
   "metadata": {},
   "outputs": [
    {
     "name": "stdout",
     "output_type": "stream",
     "text": [
      "['2020-03-01T00:00' '2020-03-08T00:00' '2020-03-08T20:00'] datetime64[m]\n"
     ]
    }
   ],
   "source": [
    "a = np.array(['2020-03', '2020-03-08', '2020-03-08 20:00'], dtype = 'datetime64')\n",
    "print(a, a.dtype)\n",
    "# ['2020-03-01T00:00' '2020-03-08T00:00' '2020-03-08T20:00'] datetime64[m]"
   ]
  },
  {
   "cell_type": "markdown",
   "metadata": {},
   "source": [
    "使用`arange()`创建datetime64数组，用于生成日期范围"
   ]
  },
  {
   "cell_type": "code",
   "execution_count": 7,
   "metadata": {},
   "outputs": [
    {
     "name": "stdout",
     "output_type": "stream",
     "text": [
      "['2020-08-01' '2020-08-02' '2020-08-03' '2020-08-04' '2020-08-05'\n",
      " '2020-08-06' '2020-08-07' '2020-08-08' '2020-08-09']\n",
      "datetime64[D]\n",
      "['2020-08-01T20:00' '2020-08-01T20:01' '2020-08-01T20:02' ...\n",
      " '2020-08-09T23:57' '2020-08-09T23:58' '2020-08-09T23:59']\n",
      "datetime64[m] 11760\n",
      "['2020-05' '2020-06' '2020-07' '2020-08' '2020-09' '2020-10' '2020-11']\n",
      "datetime64[M]\n"
     ]
    }
   ],
   "source": [
    "a = np.arange('2020-08-01', '2020-08-10', dtype=np.datetime64)\n",
    "print(a)\n",
    "# ['2020-08-01' '2020-08-02' '2020-08-03' '2020-08-04' '2020-08-05'\n",
    "#  '2020-08-06' '2020-08-07' '2020-08-08' '2020-08-09']\n",
    "print(a.dtype)  # datetime64[D]\n",
    "\n",
    "a = np.arange('2020-08-01 20:00', '2020-08-10', dtype=np.datetime64)\n",
    "print(a)\n",
    "# ['2020-08-01T20:00' '2020-08-01T20:01' '2020-08-01T20:02' ...\n",
    "#  '2020-08-09T23:57' '2020-08-09T23:58' '2020-08-09T23:59']\n",
    "print(a.dtype,len(a))  # datetime64[m]\n",
    "\n",
    "a = np.arange('2020-05', '2020-12', dtype=np.datetime64)\n",
    "print(a)\n",
    "# ['2020-05' '2020-06' '2020-07' '2020-08' '2020-09' '2020-10' '2020-11']\n",
    "print(a.dtype)  # datetime64[M]"
   ]
  },
  {
   "cell_type": "markdown",
   "metadata": {},
   "source": [
    "## datetime64 和timedeldta64运算\n",
    "【例】timedelta64 表示两个 datetime64 之间的差。timedelta64 也是带单位的，并且和相减运算中的两个 datetime64 中的较小的单位保持一致。"
   ]
  },
  {
   "cell_type": "code",
   "execution_count": 10,
   "metadata": {},
   "outputs": [
    {
     "name": "stdout",
     "output_type": "stream",
     "text": [
      "1 days timedelta64[D]\n",
      "956178240 minutes timedelta64[m]\n",
      "1 days timedelta64[D]\n",
      "2020-03-21 datetime64[D]\n",
      "2020-06-15T12:00 datetime64[m]\n"
     ]
    }
   ],
   "source": [
    "a = np.datetime64('2020-03-08') - np.datetime64('2020-03-07')\n",
    "b = np.datetime64('2020-03-08') - np.datetime64('202-03-07 08:00')\n",
    "c = np.datetime64('2020-03-08') - np.datetime64('2020-03-07 23:00', 'D')\n",
    "\n",
    "print(a, a.dtype)  # 1 days timedelta64[D]\n",
    "print(b, b.dtype)  # 956178240 minutes timedelta64[m]\n",
    "print(c, c.dtype)  # 1 days timedelta64[D]\n",
    "\n",
    "a = np.datetime64('2020-03') + np.timedelta64(20, 'D')\n",
    "b = np.datetime64('2020-06-15 00:00') + np.timedelta64(12, 'h')\n",
    "print(a, a.dtype)  # 2020-03-21 datetime64[D]\n",
    "print(b, b.dtype)  # 2020-06-15T12:00 datetime64[m]"
   ]
  },
  {
   "cell_type": "markdown",
   "metadata": {},
   "source": [
    "生成timedelta64时（也就是让两个timedelta进行转换），要注意年`Y`和月`M`这两个单位无法和其他单位进行运算（一年有几天和一个月有几个小时是不确定的）"
   ]
  },
  {
   "cell_type": "code",
   "execution_count": 16,
   "metadata": {},
   "outputs": [
    {
     "name": "stdout",
     "output_type": "stream",
     "text": [
      "1 years 12 months\n"
     ]
    },
    {
     "ename": "TypeError",
     "evalue": "Cannot cast NumPy timedelta64 scalar from metadata [Y] to [m] according to the rule 'same_kind'",
     "output_type": "error",
     "traceback": [
      "\u001b[0;31m---------------------------------------------------------------------------\u001b[0m",
      "\u001b[0;31mTypeError\u001b[0m                                 Traceback (most recent call last)",
      "\u001b[0;32m<ipython-input-16-a1335d283e52>\u001b[0m in \u001b[0;36m<module>\u001b[0;34m\u001b[0m\n\u001b[1;32m      4\u001b[0m \u001b[0;34m\u001b[0m\u001b[0m\n\u001b[1;32m      5\u001b[0m \u001b[0mc\u001b[0m \u001b[0;34m=\u001b[0m \u001b[0mnp\u001b[0m\u001b[0;34m.\u001b[0m\u001b[0mtimedelta64\u001b[0m\u001b[0;34m(\u001b[0m\u001b[0;36m5\u001b[0m\u001b[0;34m,\u001b[0m \u001b[0;34m'D'\u001b[0m\u001b[0;34m)\u001b[0m\u001b[0;34m\u001b[0m\u001b[0m\n\u001b[0;32m----> 6\u001b[0;31m \u001b[0md\u001b[0m \u001b[0;34m=\u001b[0m \u001b[0mnp\u001b[0m\u001b[0;34m.\u001b[0m\u001b[0mtimedelta64\u001b[0m\u001b[0;34m(\u001b[0m\u001b[0ma\u001b[0m\u001b[0;34m,\u001b[0m \u001b[0;34m'm'\u001b[0m\u001b[0;34m)\u001b[0m\u001b[0;34m\u001b[0m\u001b[0m\n\u001b[0m\u001b[1;32m      7\u001b[0m \u001b[0mprint\u001b[0m\u001b[0;34m(\u001b[0m\u001b[0mc\u001b[0m\u001b[0;34m,\u001b[0m \u001b[0md\u001b[0m\u001b[0;34m)\u001b[0m \u001b[0;31m# 5 days 7200 minutes\u001b[0m\u001b[0;34m\u001b[0m\u001b[0m\n\u001b[1;32m      8\u001b[0m \u001b[0;34m\u001b[0m\u001b[0m\n",
      "\u001b[0;31mTypeError\u001b[0m: Cannot cast NumPy timedelta64 scalar from metadata [Y] to [m] according to the rule 'same_kind'"
     ]
    }
   ],
   "source": [
    "a = np.timedelta64(1, 'Y')\n",
    "b = np.timedelta64(a, 'M')\n",
    "print(a, b)  # 1 years 12 months\n",
    "\n",
    "c = np.timedelta64(5, 'D')\n",
    "d = np.timedelta64(c, 'm')\n",
    "print(c, d) # 5 days 7200 minutes\n",
    "\n",
    "print(np.timedelta64(a, 'D'))\n",
    "# TypeError: Cannot cast NumPy timedelta64 scalar \n",
    "# from metadata [Y] to [D] according to the rule 'same_kind'\n",
    "\n",
    "print(np.timedelta64(b, 'D'))\n",
    "# TypeError: Cannot cast NumPy timedelta64 scalar \n",
    "# from metadata [M] to [D] according to the rule 'same_kind'"
   ]
  },
  {
   "cell_type": "markdown",
   "metadata": {},
   "source": [
    "timedelta64的运算"
   ]
  },
  {
   "cell_type": "code",
   "execution_count": 17,
   "metadata": {},
   "outputs": [
    {
     "name": "stdout",
     "output_type": "stream",
     "text": [
      "1 years\n",
      "6 months\n",
      "18 months\n",
      "6 months\n",
      "2 years\n",
      "2.0\n",
      "7.0\n",
      "7 days\n"
     ]
    }
   ],
   "source": [
    "a = np.timedelta64(1, 'Y')\n",
    "b = np.timedelta64(6, 'M')\n",
    "c = np.timedelta64(1, 'W')\n",
    "d = np.timedelta64(1, 'D')\n",
    "e = np.timedelta64(10, 'D')\n",
    "\n",
    "print(a)  # 1 years\n",
    "print(b)  # 6 months\n",
    "print(a + b)  # 18 months\n",
    "print(a - b)  # 6 months\n",
    "print(2 * a)  # 2 years\n",
    "print(a / b)  # 2.0\n",
    "print(c / d)  # 7.0\n",
    "print(c % e)  # 7 days"
   ]
  },
  {
   "cell_type": "markdown",
   "metadata": {},
   "source": [
    "numpy.datetime64与datetime.datetime相互转换"
   ]
  },
  {
   "cell_type": "code",
   "execution_count": 21,
   "metadata": {},
   "outputs": [
    {
     "name": "stdout",
     "output_type": "stream",
     "text": [
      "2020-06-01T20:05:30 datetime64[s]\n",
      "2020-06-01 20:05:30 <class 'datetime.datetime'>\n"
     ]
    }
   ],
   "source": [
    "import numpy as np\n",
    "import datetime\n",
    "\n",
    "dt = datetime.datetime(year = 2020, month = 6, day = 1, \n",
    "                       hour = 20, minute = 5, second = 30)\n",
    "dt64 = np.datetime64(dt, 's')\n",
    "print(dt64, dt64.dtype)\n",
    "# 2020-06-01T20:05:30 datetime64[s]\n",
    "\n",
    "dt2 = dt64.astype(datetime.datetime)\n",
    "print(dt2, type(dt2))\n",
    "# 2020-06-01 20:05:30 <class 'datetime.datetime'>"
   ]
  },
  {
   "cell_type": "markdown",
   "metadata": {},
   "source": [
    "## datetime64的应用\n",
    "为了允许在只有一周中某些日子有效的上下文中使用日期时间，NumPy包含一组'busday'（工作日）功能\n",
    "\n",
    "- numpy.busday_offset(dates, offsets, roll='raise', weekmask='1111100', holidays=None, busdaycal=None, out=None) 先将offsets加在日期上，再根据roll规则调整到的合法日期\n",
    "\n",
    "参数roll：{'raise', 'nat', 'forward', 'following', 'backward', 'preceding', 'modifiedfollowing', 'modifiedpreceding'}\n",
    "\n",
    "- 'raise' means to raise an exception for an invalid day.\n",
    "- 'nat' means to return a NaT (not-a-time) for an invalid day.\n",
    "- 'forward' and 'following' mean to take the first valid day later in time.\n",
    "- 'backward' and 'preceding' mean to take the first valid day earlier in time.\n",
    "\n",
    "可以指定偏移量为0来获取当前日期向前或向后最近的工作日，当然如果当前日期本身就是工作日，则直接返回当前日期。\n",
    "\n",
    "【例】将指定的偏移量应用于工作日，单位天（'D'）。计算下一个工作日，如果当前日期为非工作日，默认报错。可以指定`forward`或`backward`规则来避免报错（一个是向前取第一个有效工作日，一个是向后取第一个有效工作日）"
   ]
  },
  {
   "cell_type": "code",
   "execution_count": 11,
   "metadata": {},
   "outputs": [
    {
     "name": "stdout",
     "output_type": "stream",
     "text": [
      "2021-05-28\n",
      "2021-05-24 2021-05-21\n",
      "2021-05-25 2021-05-24\n"
     ]
    }
   ],
   "source": [
    "import numpy as np\n",
    "\n",
    "a = np.busday_offset('2021-05-28', offsets = 1)\n",
    "print(a) # 2021-05-31\n",
    "\n",
    "# a = np.busday_offset('2021-05-30', offsets = 1)\n",
    "# print(a)\n",
    "# ValueError: Non-business day date in busday_offset\n",
    "\n",
    "a = np.busday_offset('2021-05-23', offsets = 0, roll = 'forward')\n",
    "b = np.busday_offset('2021-05-23', offsets = 0, roll = 'backward')\n",
    "print(a, b) # 2021-05-24 2021-05-21\n",
    "\n",
    "a = np.busday_offset('2021-05-23', offsets = 1, roll = 'forward')\n",
    "b = np.busday_offset('2021-05-23', offsets = 1, roll = 'backward')\n",
    "print(a, b) # 2021-05-25 2021-05-24"
   ]
  },
  {
   "cell_type": "markdown",
   "metadata": {},
   "source": [
    "- numpy.is_busday(dates, weekmask='1111100', holidays=None, busdaycal=None, out=None) Calculates which of the given dates are valid days, and which are not.\n",
    "\n",
    "【例】返回指定日期是否是工作日。"
   ]
  },
  {
   "cell_type": "code",
   "execution_count": 12,
   "metadata": {},
   "outputs": [
    {
     "name": "stdout",
     "output_type": "stream",
     "text": [
      "True\n",
      "False\n"
     ]
    }
   ],
   "source": [
    "a = np.is_busday('2020-07-10')\n",
    "b = np.is_busday('2020-07-11')\n",
    "print(a)  # True\n",
    "print(b)  # False"
   ]
  },
  {
   "cell_type": "markdown",
   "metadata": {},
   "source": [
    "统计一个`datetime64[D]`数组中工作日的天数"
   ]
  },
  {
   "cell_type": "code",
   "execution_count": 21,
   "metadata": {},
   "outputs": [
    {
     "name": "stdout",
     "output_type": "stream",
     "text": [
      "9\n",
      "9\n"
     ]
    }
   ],
   "source": [
    "beginDates = np.datetime64('2021-05-31')\n",
    "endDates = np.datetime64('2021-06-11')\n",
    "a = np.arange(beginDates, endDates, dtype = 'datetime64')\n",
    "print(np.count_nonzero(np.is_busday(a)))\n",
    "print(np.busday_count(beginDates, endDates))"
   ]
  },
  {
   "cell_type": "markdown",
   "metadata": {},
   "source": [
    "自定义周掩码值，即指定一周中哪些日子是工作日"
   ]
  },
  {
   "cell_type": "code",
   "execution_count": 18,
   "metadata": {},
   "outputs": [
    {
     "name": "stdout",
     "output_type": "stream",
     "text": [
      "True False\n"
     ]
    }
   ],
   "source": [
    "a = np.is_busday('2021-05-30', weekmask = [1, 1, 1, 1, 1, 0, 1])\n",
    "b = np.is_busday('2021-05-30', weekmask = [1, 1, 1, 1, 0, 0, 0])\n",
    "print(a, b) # True False"
   ]
  },
  {
   "cell_type": "markdown",
   "metadata": {},
   "source": [
    "- numpy.busday_count(begindates, enddates, weekmask='1111100', holidays=[], busdaycal=None, out=None)Counts the number of valid days between begindates and enddates, not including the day of enddates.\n",
    "\n",
    "【例】返回两个日期之间的工作日数量。"
   ]
  },
  {
   "cell_type": "code",
   "execution_count": 19,
   "metadata": {},
   "outputs": [
    {
     "name": "stdout",
     "output_type": "stream",
     "text": [
      "6\n",
      "-6\n"
     ]
    }
   ],
   "source": [
    "# 2020-07-10 星期五\n",
    "begindates = np.datetime64('2020-07-10')\n",
    "enddates = np.datetime64('2020-07-20')\n",
    "a = np.busday_count(begindates, enddates)\n",
    "b = np.busday_count(enddates, begindates)\n",
    "print(a)  # 6\n",
    "print(b)  # -6"
   ]
  },
  {
   "cell_type": "markdown",
   "metadata": {},
   "source": [
    "# 数组的创建\n",
    "numpy 提供的最重要的数据结构是`ndarray`，它是python中`list`的扩展\n",
    "\n",
    "## 1.依据现有数据来创建ndarray\n",
    "### 1)通过array()函数进行创建\n",
    "```python\n",
    "def array(p_object, dtype = None, copy = True, order = 'K', subok = False, ndimin = 0):\n",
    "```"
   ]
  },
  {
   "cell_type": "code",
   "execution_count": 23,
   "metadata": {},
   "outputs": [
    {
     "name": "stdout",
     "output_type": "stream",
     "text": [
      "[0 1 2 3 4] <class 'numpy.ndarray'>\n",
      "[0 1 2 3 4] <class 'numpy.ndarray'>\n",
      "[[11 12 13 14 15]\n",
      " [16 17 18 19 20]\n",
      " [21 22 23 24 25]\n",
      " [26 27 28 29 30]\n",
      " [31 32 33 34 35]] <class 'numpy.ndarray'>\n",
      "[[[1.5 2.  3. ]\n",
      "  [4.  5.  6. ]]\n",
      "\n",
      " [[3.  2.  1. ]\n",
      "  [4.  5.  6. ]]] <class 'numpy.ndarray'>\n"
     ]
    }
   ],
   "source": [
    "import numpy as np\n",
    "\n",
    "a = np.array([0, 1, 2, 3, 4])\n",
    "b = np.array((0, 1, 2, 3, 4))\n",
    "print(a, type(a))\n",
    "print(b, type(b))\n",
    "            \n",
    "c = np.array([[11, 12, 13, 14, 15],\n",
    "              [16, 17, 18, 19, 20],\n",
    "              [21, 22, 23, 24, 25],\n",
    "              [26, 27, 28, 29, 30],\n",
    "              [31, 32, 33, 34, 35]])\n",
    "             \n",
    "print(c, type(c))\n",
    "             \n",
    "d = np.array([[(1.5, 2, 3), (4, 5, 6)], \n",
    "              [(3, 2, 1), (4, 5, 6)]])\n",
    "print(d, type(d))\n",
    "# [[[1.5 2.  3. ]\n",
    "#   [4.  5.  6. ]]\n",
    "\n",
    "#  [[3.  2.  1. ]\n",
    "#   [4.  5.  6. ]]] <class 'numpy.ndarray'>"
   ]
  },
  {
   "cell_type": "markdown",
   "metadata": {},
   "source": [
    "### 2)通过asarray()函数进行创建\n",
    "`array()`和`asarray()`都可以将数据结构转化为ndarray，但是`array()`和`asarray()`主要区别就是当数据源是***ndarray*** 时，`array()`任然会copy出一个副本，占用新的内存，但不改变dtype时`asarray()`不会\n",
    "```python\n",
    "def asarray(a, dtype = None, order = None):\n",
    "    return array(a, dtype, copy = False, order = order)\n",
    "```"
   ]
  },
  {
   "cell_type": "code",
   "execution_count": 24,
   "metadata": {},
   "outputs": [
    {
     "name": "stdout",
     "output_type": "stream",
     "text": [
      "[[1, 1, 1], [1, 1, 2], [1, 1, 1]] <class 'list'>\n",
      "[[1 1 1]\n",
      " [1 1 1]\n",
      " [1 1 1]] <class 'numpy.ndarray'>\n",
      "[[1 1 1]\n",
      " [1 1 1]\n",
      " [1 1 1]] <class 'numpy.ndarray'>\n"
     ]
    }
   ],
   "source": [
    "x = [[1, 1, 1], [1, 1, 1], [1, 1, 1]]\n",
    "y = np.array(x)\n",
    "z = np.asarray(x)\n",
    "x[1][2] = 2\n",
    "print(x, type(x))\n",
    "# [[1, 1, 1], [1, 1, 2], [1, 1, 1]] <class 'list'>\n",
    "\n",
    "print(y, type(y))\n",
    "# [[1 1 1]\n",
    "#  [1 1 1]\n",
    "#  [1 1 1]] <class 'numpy.ndarray'>\n",
    "\n",
    "print(z, type(z))\n",
    "# [[1 1 1]\n",
    "#  [1 1 1]\n",
    "#  [1 1 1]] <class 'numpy.ndarray'>"
   ]
  },
  {
   "cell_type": "code",
   "execution_count": 26,
   "metadata": {},
   "outputs": [
    {
     "name": "stdout",
     "output_type": "stream",
     "text": [
      "[[1 1 1]\n",
      " [1 1 2]\n",
      " [1 1 1]] <class 'numpy.ndarray'> int64\n",
      "[[1 1 1]\n",
      " [1 1 1]\n",
      " [1 1 1]] <class 'numpy.ndarray'> int64\n",
      "[[1 1 1]\n",
      " [1 1 2]\n",
      " [1 1 1]] <class 'numpy.ndarray'> int64\n",
      "[[1 1 1]\n",
      " [1 1 1]\n",
      " [1 1 1]] <class 'numpy.ndarray'> int32\n"
     ]
    }
   ],
   "source": [
    "x = np.array([[1, 1, 1], [1, 1, 1], [1, 1, 1]])\n",
    "y = np.array(x)\n",
    "z = np.asarray(x)\n",
    "w = np.asarray(x, dtype = np.int32)\n",
    "x[1][2] = 2\n",
    "print(x,type(x),x.dtype)\n",
    "# [[1 1 1]\n",
    "#  [1 1 2]\n",
    "#  [1 1 1]] <class 'numpy.ndarray'> int64\n",
    "\n",
    "#array方法是复制了原先的ndarray\n",
    "print(y,type(y),y.dtype) \n",
    "# [[1 1 1]\n",
    "#  [1 1 1]\n",
    "#  [1 1 1]] <class 'numpy.ndarray'> int64\n",
    "\n",
    "#在没有改变dtype的情况下，asarray不占用新内存\n",
    "print(z,type(z),z.dtype)\n",
    "# [[1 1 1]\n",
    "#  [1 1 2]\n",
    "#  [1 1 1]] <class 'numpy.ndarray'> int64\n",
    "\n",
    "#改变了dtype，则asarray也占用新内存\n",
    "print(w,type(w),w.dtype)\n",
    "# [[1 1 1]\n",
    "#  [1 1 1]\n",
    "#  [1 1 1]] <class 'numpy.ndarray'> int32"
   ]
  },
  {
   "cell_type": "markdown",
   "metadata": {},
   "source": [
    "更改为较大的dtype时，其大小必须是array的最后一个axis的总大小（以字节为单位）的除数，可能是最后一个维度的大小\n",
    "\n",
    "***int32是4字节，float是8字节，数组是[3][4]最后一维为4 * 4 = 16是8的余数***"
   ]
  },
  {
   "cell_type": "code",
   "execution_count": 38,
   "metadata": {},
   "outputs": [
    {
     "name": "stdout",
     "output_type": "stream",
     "text": [
      "[[1 1 1]\n",
      " [1 1 1]\n",
      " [1 1 1]] int32\n",
      "8\n"
     ]
    }
   ],
   "source": [
    "x = np.array([[1, 1, 1], [1, 1, 1], [1, 1, 1]], dtype = np.int32)\n",
    "print(x, x.dtype)\n",
    "# [[1 1 1]\n",
    "#  [1 1 1]\n",
    "#  [1 1 1]] int32\n",
    "\n",
    "# x.dtype = np.float\n",
    "# ValueError: When changing to a larger dtype, \n",
    "# its size must be a divisor of the total size in bytes of the last axis of the array.\n",
    "\n",
    "a = np.dtype(np.float)\n",
    "print(a.itemsize) # 8\n",
    "x = np.array([[1, 1, 1, 1], [1, 1, 1, 1], [1, 1, 1, 1]], dtype = np.int32)\n",
    "# int32是4字节，float是8字节，数组是[3][4]最后一维为4 * 4 = 16是8的余数"
   ]
  },
  {
   "cell_type": "markdown",
   "metadata": {},
   "source": [
    "### 3)通过fromfunction()函数进行创建\n",
    "给函数绘图的时候可能会用到`fromfunction()`，该函数可从函数中创建数组\n",
    "```python\n",
    "def fromfunction(function, shape, **kwargs):\n",
    "```\n",
    "- `shape` 数组的形状\n",
    "- 函数通过行列的坐标进行计算\n",
    "\n",
    "【例】通过在每个坐标上执行一个函数来构造数组"
   ]
  },
  {
   "cell_type": "code",
   "execution_count": 42,
   "metadata": {},
   "outputs": [
    {
     "name": "stdout",
     "output_type": "stream",
     "text": [
      "[[ 0  1  2  3]\n",
      " [10 11 12 13]\n",
      " [20 21 22 23]\n",
      " [30 31 32 33]\n",
      " [40 41 42 43]]\n",
      "[[ True False False]\n",
      " [False  True False]\n",
      " [False False  True]]\n",
      "[[0 1 2]\n",
      " [1 2 3]\n",
      " [2 3 4]]\n"
     ]
    }
   ],
   "source": [
    "def f(x, y):#x, y就是行列坐标\n",
    "    return 10 * x + y\n",
    "\n",
    "x = np.fromfunction(f, (5, 4), dtype = int)\n",
    "print(x)\n",
    "# [[ 0  1  2  3]\n",
    "#  [10 11 12 13]\n",
    "#  [20 21 22 23]\n",
    "#  [30 31 32 33]\n",
    "#  [40 41 42 43]]\n",
    "\n",
    "x = np.fromfunction(lambda i, j : i == j, (3, 3), dtype = int)\n",
    "print(x)\n",
    "# [[ True False False]\n",
    "#  [False  True False]\n",
    "#  [False False  True]]\n",
    "\n",
    "x = np.fromfunction(lambda i, j : i + j, (3, 3), dtype = int)\n",
    "print(x)\n",
    "# [[0 1 2]\n",
    "#  [1 2 3]\n",
    "#  [2 3 4]]"
   ]
  },
  {
   "cell_type": "markdown",
   "metadata": {},
   "source": [
    "## 2.依据ones和zeros填充方式\n",
    "在机器学习任务中经常做的一件事就是初始化参数，需要用常数值或者随机数来创建一个固定大小的矩阵\n",
    "### 1)零数组\n",
    "- `zeros()`函数：返回给定形状和类型的零数组\n",
    "- `zeros_like()`函数：返回与给定数组形状和类型相同的零数组\n",
    "```python\n",
    "def zeros(shape, dtype = None, order = 'C'):\n",
    "def zeros_like(a, dtype = None, order = 'K', subok = True, shape = None):\n",
    "```"
   ]
  },
  {
   "cell_type": "code",
   "execution_count": 44,
   "metadata": {},
   "outputs": [
    {
     "name": "stdout",
     "output_type": "stream",
     "text": [
      "[0. 0. 0. 0. 0.]\n",
      "[[0. 0. 0.]\n",
      " [0. 0. 0.]]\n",
      "[[0 0 0]\n",
      " [0 0 0]]\n"
     ]
    }
   ],
   "source": [
    "x = np.zeros(5)\n",
    "print(x)  # [0. 0. 0. 0. 0.]\n",
    "x = np.zeros([2, 3])\n",
    "print(x)\n",
    "# [[0. 0. 0.]\n",
    "#  [0. 0. 0.]]\n",
    "\n",
    "x = np.array([[1, 2, 3], [4, 5, 6]])\n",
    "y = np.zeros_like(x)\n",
    "print(y)\n",
    "# [[0 0 0]\n",
    "#  [0 0 0]]"
   ]
  },
  {
   "cell_type": "markdown",
   "metadata": {},
   "source": [
    "### 2) 1数组\n",
    "- `ones()`函数：返回给定形状和类型的1数组\n",
    "- `ones_like()`函数：返回与给定数组形状和类型相同的1数组\n",
    "```python\n",
    "def ones(shape, dtype = None, order = 'C'):\n",
    "def ones(a, dtype = None, order = 'K', subok = True, shape = None):\n",
    "```"
   ]
  },
  {
   "cell_type": "code",
   "execution_count": 45,
   "metadata": {},
   "outputs": [
    {
     "name": "stdout",
     "output_type": "stream",
     "text": [
      "[1. 1. 1. 1. 1.]\n",
      "[[1. 1. 1.]\n",
      " [1. 1. 1.]]\n",
      "[[1 1 1]\n",
      " [1 1 1]]\n"
     ]
    }
   ],
   "source": [
    "x = np.ones(5)\n",
    "print(x)  # [1. 1. 1. 1. 1.]\n",
    "x = np.ones([2, 3])\n",
    "print(x)\n",
    "# [[1. 1. 1.]\n",
    "#  [1. 1. 1.]]\n",
    "\n",
    "x = np.array([[1, 2, 3], [4, 5, 6]])\n",
    "y = np.ones_like(x)\n",
    "print(y)\n",
    "# [[1 1 1]\n",
    "#  [1 1 1]]"
   ]
  },
  {
   "cell_type": "markdown",
   "metadata": {},
   "source": [
    "### 3) 空数组\n",
    "- `empty()`函数：返回一个空数组，数组元素为随机数。\n",
    "- `empty_like()`函数：返回与给定数组具有相同形状和类型的新数组。\n",
    "```python\n",
    "def empty(shape, dtype=None, order='C'): \n",
    "def empty_like(prototype, dtype=None, order='K', subok=True, shape=None):\n",
    "```"
   ]
  },
  {
   "cell_type": "code",
   "execution_count": 50,
   "metadata": {},
   "outputs": [
    {
     "name": "stdout",
     "output_type": "stream",
     "text": [
      "[1. 1. 1. 1. 1.]\n",
      "[[4.9e-324 9.9e-324 1.5e-323]\n",
      " [2.0e-323 2.5e-323 3.0e-323]]\n",
      "[[1 2 3]\n",
      " [4 5 6]]\n"
     ]
    }
   ],
   "source": [
    "x = np.empty(5)\n",
    "print(x)\n",
    "# [1. 1. 1. 1. 1.]  ????\n",
    "\n",
    "x = np.empty((2, 3))\n",
    "print(x)\n",
    "# [[4.9e-324 9.9e-324 1.5e-323]\n",
    "#  [2.0e-323 2.5e-323 3.0e-323]]\n",
    "\n",
    "x = np.array([[1, 2, 3], [4, 5, 6]])\n",
    "z = np.empty_like(x)\n",
    "print(z)\n",
    "# [[1 2 3]\n",
    "#  [4 5 6]] ????"
   ]
  },
  {
   "cell_type": "markdown",
   "metadata": {},
   "source": [
    "### 4)单位数组\n",
    "- `eye()`函数：返回一个对角线上为1，其它地方为零的单位数组\n",
    "- `identity()`函数：返回一个方的单位数组\n",
    "```python\n",
    "def eye(N, M = None, k = 0, dtype = float, order = 'C'):\n",
    "def identity(n, dtype=None):\n",
    "```\n"
   ]
  },
  {
   "cell_type": "code",
   "execution_count": 52,
   "metadata": {},
   "outputs": [
    {
     "name": "stdout",
     "output_type": "stream",
     "text": [
      "[[1. 0. 0.]\n",
      " [0. 1. 0.]\n",
      " [0. 0. 1.]]\n",
      "[[1. 0. 0.]\n",
      " [0. 1. 0.]]\n",
      "[[1. 0. 0. 0.]\n",
      " [0. 1. 0. 0.]\n",
      " [0. 0. 1. 0.]\n",
      " [0. 0. 0. 1.]]\n"
     ]
    }
   ],
   "source": [
    "x = np.eye(4)\n",
    "print(x)\n",
    "# [[1. 0. 0. 0.]\n",
    "#  [0. 1. 0. 0.]\n",
    "#  [0. 0. 1. 0.]\n",
    "#  [0. 0. 0. 1.]]\n",
    "\n",
    "x = np.eye(2, 3)\n",
    "print(x)\n",
    "# [[1. 0. 0.]\n",
    "#  [0. 1. 0.]]\n",
    "\n",
    "x = np.identity(4)\n",
    "print(x)\n",
    "# [[1. 0. 0. 0.]\n",
    "#  [0. 1. 0. 0.]\n",
    "#  [0. 0. 1. 0.]\n",
    "#  [0. 0. 0. 1.]]"
   ]
  },
  {
   "cell_type": "markdown",
   "metadata": {},
   "source": [
    "### 5)对角数组\n",
    "- `diag()`函数：提取对角线或构造对角数组\n",
    "```python\n",
    "def diag(v, k = 0):\n",
    "````\n",
    "  - `k`在主对角线附近上下移动"
   ]
  },
  {
   "cell_type": "code",
   "execution_count": 54,
   "metadata": {},
   "outputs": [
    {
     "name": "stdout",
     "output_type": "stream",
     "text": [
      "[[0 1 2]\n",
      " [3 4 5]\n",
      " [6 7 8]]\n",
      "[0 4 8]\n",
      "[1 5]\n",
      "[3 7]\n",
      "[[1 0 0 0]\n",
      " [0 3 0 0]\n",
      " [0 0 5 0]\n",
      " [0 0 0 7]]\n"
     ]
    }
   ],
   "source": [
    "x = np.arange(9).reshape((3, 3))\n",
    "print(x)\n",
    "# [[0 1 2]\n",
    "#  [3 4 5]\n",
    "#  [6 7 8]]\n",
    "\n",
    "print(np.diag(x)) # [0 4 8]\n",
    "print(np.diag(x, k = 1)) # [1 5]\n",
    "print(np.diag(x, k = -1)) # [3 7]\n",
    "\n",
    "v = [1, 3, 5, 7]\n",
    "print(np.diag(v))\n",
    "# [[1 0 0 0]\n",
    "#  [0 3 0 0]\n",
    "#  [0 0 5 0]\n",
    "#  [0 0 0 7]]"
   ]
  },
  {
   "cell_type": "markdown",
   "metadata": {},
   "source": [
    "### 6)常数数组\n",
    "- `full()`函数：返回一个常熟数组\n",
    "- `full_like()`函数：返回与给定数组具有相同形状和类型的常数数组。\n",
    "```python\n",
    "def full(shape, fill_value, dtype=None, order='C'):\n",
    "def full_like(a, fill_value, dtype=None, order='K', subok=True, shape=None):\n",
    "```"
   ]
  },
  {
   "cell_type": "code",
   "execution_count": 55,
   "metadata": {},
   "outputs": [
    {
     "name": "stdout",
     "output_type": "stream",
     "text": [
      "[7 7]\n"
     ]
    }
   ],
   "source": [
    "x = np.full(2, 7)\n",
    "print(x)\n",
    "# [7 7]\n",
    "\n",
    "x = np.full((2, 7), 7)\n",
    "print(x)\n",
    "# [[7 7 7 7 7 7 7]\n",
    "#  [7 7 7 7 7 7 7]]\n",
    "\n",
    "x = np.array([[1, 2, 3], [4, 5, 6]])\n",
    "y = np.full_like(x, 7)\n",
    "print(y)\n",
    "# [[7 7 7]\n",
    "#  [7 7 7]]"
   ]
  },
  {
   "cell_type": "markdown",
   "metadata": {},
   "source": [
    "## 3.利用数值范围来创建ndarray\n",
    "- `arange()函数`：返回给定间隔内的均匀间隔的值\n",
    "- `linspace()函数`：返回指定间隔内的等间隔数字\n",
    "- `logspace()函数`：返回数以对数刻度均匀分布\n",
    "- `numpy.random.rand()`返回一个由[0, 1)内的随机数组成的数组\n",
    "\n",
    "```python\n",
    "def arange([start,] stop[, step,], dtype = None)\n",
    "def linspace(start, stop, num = 50, endpoint = True, \n",
    "             retstep = False, dtype = None, axis = 0)\n",
    "def logspace(start, stop, num=50, endpoint=True, base=10.0, \n",
    "             dtype=None, axis=0):\n",
    "def rand(d0, d1, ..., dn): \n",
    "```\n",
    "\n",
    "- `around()函数`：返回四舍五入的值，可指定精度\n",
    "```python\n",
    "def around(a, decimals = 0, out = None) \n",
    "```\n",
    " - decimals 要舍入的小数位数，默认为0，\n",
    "    如果为负，整数将四舍五入到小数点左侧的位置"
   ]
  },
  {
   "cell_type": "code",
   "execution_count": 60,
   "metadata": {},
   "outputs": [
    {
     "name": "stdout",
     "output_type": "stream",
     "text": [
      "[0 1 2 3 4]\n",
      "[3 5]\n",
      "[0.   0.25 0.5  0.75 1.  ]\n",
      "[ 1.    1.78  3.16  5.62 10.  ] float64\n",
      "[ 1.    1.78  3.16  5.62 10.  ]\n",
      "[0.76763699 0.19619514 0.83379525 0.39627677 0.27317613]\n"
     ]
    }
   ],
   "source": [
    "x = np.arange(5)\n",
    "print(x) # [0 1 2 3 4]\n",
    "\n",
    "x = np.arange(3, 7 ,2)\n",
    "print(x, ) # [3 5]\n",
    "\n",
    "x = np.linspace(0, 1, 5)\n",
    "print(x)  # [0.   0.25 0.5  0.75 1.  ]\n",
    "\n",
    "x = np.logspace(0, 1, 5) #log10(x) = 0.25 求x\n",
    "print(np.around(x, 2), x.dtype)\n",
    "# [ 1.    1.78  3.16  5.62 10.  ]\n",
    "\n",
    "x = np.linspace(0, 1, 5)\n",
    "x = [10 ** i for i in x]\n",
    "print(np.around(x, 2))\n",
    "# [ 1.    1.78  3.16  5.62 10.  ]\n",
    "\n",
    "x = np.random.rand(5)\n",
    "print(x)\n",
    "# [0.51039598 0.07196477 0.23262776 0.24438114 0.52482411]"
   ]
  },
  {
   "cell_type": "markdown",
   "metadata": {},
   "source": [
    "## 4.结构数组的创建\n",
    "结构数组，首先需要定义结构，然后利用`np.array()`来创建数组，其参数`dtype`为定义的结构\n",
    "### 1)利用字典来定义结构"
   ]
  },
  {
   "cell_type": "code",
   "execution_count": 65,
   "metadata": {},
   "outputs": [
    {
     "name": "stdout",
     "output_type": "stream",
     "text": [
      "[('qiu', 12, 22.) ('tio', 13, 43.) ('dan', 13, 45.)]\n",
      "[('name', '<U30'), ('age', '<i8'), ('weight', '<f8')]\n",
      "<class 'numpy.ndarray'>\n"
     ]
    }
   ],
   "source": [
    "personType = np.dtype({\n",
    "    'names' : ['name', 'age', 'weight'],\n",
    "    'formats' : ['U30', 'i8', 'f8']})\n",
    "\n",
    "a = np.array([('qiu', 12, 22), ('tio', 13, 43), ('dan', 13, 45)],\n",
    "            dtype = personType)\n",
    "print(a, a.dtype, type(a), sep = '\\n')"
   ]
  },
  {
   "cell_type": "markdown",
   "metadata": {},
   "source": [
    "### 2)利用包含多个元组的列表来定义结构"
   ]
  },
  {
   "cell_type": "code",
   "execution_count": 66,
   "metadata": {},
   "outputs": [
    {
     "name": "stdout",
     "output_type": "stream",
     "text": [
      "[('qiu', 12, 22.) ('tio', 13, 43.) ('dan', 13, 45.)]\n",
      "[('name', '<U30'), ('age', '<i8'), ('weight', '<f8')]\n",
      "<class 'numpy.ndarray'>\n",
      "('qiu', 12, 22.)\n",
      "[('tio', 13, 43.) ('dan', 13, 45.)]\n",
      "['qiu' 'tio' 'dan']\n",
      "[12 13 13]\n",
      "[22. 43. 45.]\n"
     ]
    }
   ],
   "source": [
    "personType = np.dtype([\n",
    "    ('name', 'U30'), ('age', 'i8'), ('weight', 'f8')\n",
    "])\n",
    "a = np.array([('qiu', 12, 22), ('tio', 13, 43), ('dan', 13, 45)],\n",
    "            dtype = personType)\n",
    "print(a, a.dtype, type(a), sep = '\\n')\n",
    "# [('qiu', 12, 22.) ('tio', 13, 43.) ('dan', 13, 45.)]\n",
    "# [('name', '<U30'), ('age', '<i8'), ('weight', '<f8')]\n",
    "# <class 'numpy.ndarray'>\n",
    "\n",
    "\n",
    "#结构数组的取值方式和一般数组差不多，可以通过下标取得元素：\n",
    "print(a[0])\n",
    "# ('qiu', 12, 22.)\n",
    "\n",
    "print(a[-2:])\n",
    "# [('tio', 13, 43.) ('dan', 13, 45.)]\n",
    "\n",
    "#我们可以使用字段名作为下标获取对应的值\n",
    "print(a['name'])\n",
    "# ['qiu' 'tio' 'dan']\n",
    "print(a['age'])\n",
    "# [12 13 13]\n",
    "print(a['weight'])\n",
    "# [22. 43. 45.]"
   ]
  },
  {
   "cell_type": "markdown",
   "metadata": {},
   "source": [
    "# 数组的属性\n",
    "在使用 numpy 时，你会想知道数组的某些信息。很幸运，在这个包里边包含了很多便捷的方法，可以给你想要的信息。\n",
    "\n",
    "- `numpy.ndarray.ndim`用于返回数组的维数（轴的个数）也称为秩，一维数组的秩为 1，二维数组的秩为 2，以此类推。\n",
    "- `numpy.ndarray.shape`表示数组的维度，返回一个元组，这个元组的长度就是维度的数目，即 ndim 属性(秩)。\n",
    "- `numpy.ndarray.size`数组中所有元素的总量，相当于数组的shape中所有元素的乘积，例如矩阵的元素总量为行与列的乘积。\n",
    "- `numpy.ndarray.dtype ndarray` 对象的元素类型。\n",
    "- `numpy.ndarray.itemsize`以字节的形式返回数组中每一个元素的大小。\n",
    "```python\n",
    "class ndarray(object):\n",
    "    shape = property(lambda self: object(), lambda self, v: None, lambda self: None)\n",
    "    dtype = property(lambda self: object(), lambda self, v: None, lambda self: None)\n",
    "    size = property(lambda self: object(), lambda self, v: None, lambda self: None)\n",
    "    ndim = property(lambda self: object(), lambda self, v: None, lambda self: None)\n",
    "    itemsize = property(lambda self: object(), lambda self, v: None, lambda self: None)\n",
    "```"
   ]
  },
  {
   "cell_type": "code",
   "execution_count": null,
   "metadata": {},
   "outputs": [],
   "source": [
    "a = np.array([1, 2, 3, 4, 5])\n",
    "print(a.shape)  # (5,)\n",
    "print(a.dtype)  # int32\n",
    "print(a.size)  # 5\n",
    "print(a.ndim)  # 1\n",
    "print(a.itemsize)  # 4\n",
    "\n",
    "b = np.array([[1, 2, 3], [4, 5, 6.0]])\n",
    "print(b.shape)  # (2, 3)\n",
    "print(b.dtype)  # float64\n",
    "print(b.size)  # 6\n",
    "print(b.ndim)  # 2\n",
    "print(b.itemsize)  # 8"
   ]
  },
  {
   "cell_type": "markdown",
   "metadata": {},
   "source": [
    "在`ndarra`中所有元素必须是同一类型，否则会自动向下转换，`int->float->str`。"
   ]
  },
  {
   "cell_type": "code",
   "execution_count": 69,
   "metadata": {},
   "outputs": [
    {
     "name": "stdout",
     "output_type": "stream",
     "text": [
      "[1 2 3 4 5]\n",
      "['1' '2' '3' '4.0' '5']\n",
      "[1. 2. 3. 4. 5.]\n"
     ]
    }
   ],
   "source": [
    "a = np.array([1, 2, 3, 4, 5])\n",
    "print(a)  # [1 2 3 4 5]\n",
    "b = np.array([1, 2, 3, 4.0, '5'])\n",
    "print(b)  # ['1' '2' '3' '4.0' '5']\n",
    "c = np.array([1, 2, 3, 4, 5.0])\n",
    "print(c)  # [1. 2. 3. 4. 5.]"
   ]
  },
  {
   "cell_type": "markdown",
   "metadata": {},
   "source": [
    "***以下表达式运行的结果分别是什么?***\n",
    "\n",
    "(提示: NaN = not a number, inf = infinity)\n",
    "\n",
    "0 * np.nan\n",
    "\n",
    "np.nan == np.nan\n",
    "\n",
    "np.inf > np.nan\n",
    "\n",
    "np.nan - np.nan\n",
    "\n",
    "0.3 == 3 * 0.1"
   ]
  },
  {
   "cell_type": "code",
   "execution_count": 3,
   "metadata": {},
   "outputs": [
    {
     "name": "stdout",
     "output_type": "stream",
     "text": [
      "nan\n",
      "False\n",
      "False\n",
      "nan\n",
      "False\n"
     ]
    }
   ],
   "source": [
    "import numpy as np\n",
    "print(0 * np.nan)\n",
    "print(np.nan == np.nan)\n",
    "print(np.inf > np.nan)\n",
    "print(np.nan - np.nan)\n",
    "print(0.3 == 3 * 0.1)"
   ]
  },
  {
   "cell_type": "markdown",
   "metadata": {},
   "source": [
    "***得到昨天、今天、明天的日期***"
   ]
  },
  {
   "cell_type": "code",
   "execution_count": 7,
   "metadata": {},
   "outputs": [
    {
     "name": "stdout",
     "output_type": "stream",
     "text": [
      "2021-05-30\n",
      "2021-05-31\n",
      "2021-06-01\n"
     ]
    }
   ],
   "source": [
    "yesterday = np.datetime64('today', 'D') - np.timedelta64(1, 'D')\n",
    "today     = np.datetime64('today', 'D')\n",
    "tomorrow  = np.datetime64('today', 'D') + np.timedelta64(1, 'D')\n",
    "\n",
    "print(yesterday, today, tomorrow, sep = '\\n')\n",
    "# 2021-05-30\n",
    "# 2021-05-31\n",
    "# 2021-06-01"
   ]
  },
  {
   "cell_type": "markdown",
   "metadata": {},
   "source": [
    "***将numpy的datetime64对象转换为datetime的datetime对象。***"
   ]
  },
  {
   "cell_type": "code",
   "execution_count": 8,
   "metadata": {},
   "outputs": [
    {
     "name": "stdout",
     "output_type": "stream",
     "text": [
      "2021-05-31 11:19:00 <class 'datetime.datetime'>\n"
     ]
    }
   ],
   "source": [
    "import datetime\n",
    "\n",
    "dt64 = np.datetime64('2021-05-31 11:19', 's')\n",
    "dt = dt64.astype(datetime.datetime)\n",
    "print(dt, type(dt))\n",
    "# 2021-05-31 11:19:00 <class 'datetime.datetime'>"
   ]
  },
  {
   "cell_type": "markdown",
   "metadata": {},
   "source": [
    "***创建一个二维数组，其中边界值为1，其余值为0***\n",
    "\n",
    "知识点：二维数组的创建\n"
   ]
  },
  {
   "cell_type": "code",
   "execution_count": 20,
   "metadata": {},
   "outputs": [
    {
     "name": "stdout",
     "output_type": "stream",
     "text": [
      "[[0.65281664 0.04476343 0.00540273 0.24320414 0.56938237]]\n",
      "[[0.44215348 0.47138955 0.76541263 0.20597796 0.78603287]\n",
      " [0.77425878 0.82781361 0.59830552 0.04269845 0.52710462]\n",
      " [0.65281664 0.04476343 0.00540273 0.24320414 0.56938237]\n",
      " [0.77756079 0.80311854 0.46479887 0.72113927 0.77231496]\n",
      " [0.8394567  0.37344619 0.8939583  0.9634229  0.53853819]]\n",
      "[[1. 1. 1. 1. 1. 1. 1. 1. 1. 1.]\n",
      " [1. 0. 0. 0. 0. 0. 0. 0. 0. 1.]\n",
      " [1. 0. 0. 0. 0. 0. 0. 0. 0. 1.]\n",
      " [1. 0. 0. 0. 0. 0. 0. 0. 0. 1.]\n",
      " [1. 0. 0. 0. 0. 0. 0. 0. 0. 1.]\n",
      " [1. 0. 0. 0. 0. 0. 0. 0. 0. 1.]\n",
      " [1. 0. 0. 0. 0. 0. 0. 0. 0. 1.]\n",
      " [1. 0. 0. 0. 0. 0. 0. 0. 0. 1.]\n",
      " [1. 0. 0. 0. 0. 0. 0. 0. 0. 1.]\n",
      " [1. 1. 1. 1. 1. 1. 1. 1. 1. 1.]]\n"
     ]
    }
   ],
   "source": [
    "z = np.random.random((5, 5))\n",
    "print(z[1:-1][1:-1]) # 先取一次中间，然后再取一次中间，分两次取\n",
    "print(z)\n",
    "\n",
    "z = np.ones((10, 10))\n",
    "z[1:-1, 1:-1] = 0 # 取一次，取的是中间\n",
    "print(z)"
   ]
  },
  {
   "cell_type": "markdown",
   "metadata": {},
   "source": [
    "***创建长度为10的numpy数组，从5开始，在连续的数字之间的步长为3***\n",
    "\n",
    "【知识点：数组的创建与属性】\n",
    "\n",
    "- 如何在给定起始点、长度和步骤的情况下创建一个numpy数组序列？"
   ]
  },
  {
   "cell_type": "code",
   "execution_count": 21,
   "metadata": {},
   "outputs": [
    {
     "name": "stdout",
     "output_type": "stream",
     "text": [
      "[ 5  8 11 14 17 20 23 26 29 32]\n"
     ]
    }
   ],
   "source": [
    "start = 5\n",
    "length = 10\n",
    "step = 3\n",
    "a = np.arange(start, start + step * length, step)\n",
    "print(a)\n",
    "# [ 5  8 11 14 17 20 23 26 29 32]"
   ]
  },
  {
   "cell_type": "code",
   "execution_count": null,
   "metadata": {},
   "outputs": [],
   "source": []
  }
 ],
 "metadata": {
  "kernelspec": {
   "display_name": "Python 3",
   "language": "python",
   "name": "python3"
  },
  "language_info": {
   "codemirror_mode": {
    "name": "ipython",
    "version": 3
   },
   "file_extension": ".py",
   "mimetype": "text/x-python",
   "name": "python",
   "nbconvert_exporter": "python",
   "pygments_lexer": "ipython3",
   "version": "3.6.5"
  }
 },
 "nbformat": 4,
 "nbformat_minor": 4
}