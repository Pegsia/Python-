{
 "cells": [
  {
   "cell_type": "markdown",
   "metadata": {},
   "source": [
    "# 副本与视图\n",
    "在Numpy中，尤其是在做数组运算或数组操作时，返回结果不是数组的 ***副本*** 就是 ***视图***\n",
    "\n",
    "在Numpy中，所有赋值运算不会为数组和数组中的任何元素创建副本\n",
    "- `numpy.ndarry.copy()`函数创建一个副本，对副本数据进行修改，不会影响到原始数据，它们物理内存不在同一位置"
   ]
  },
  {
   "cell_type": "code",
   "execution_count": 2,
   "metadata": {},
   "outputs": [
    {
     "name": "stdout",
     "output_type": "stream",
     "text": [
      "[-1  2  3  4  5  6] [-1  2  3  4  5  6]\n",
      "[1 2 3 4 5] [-1  2  3  4  5]\n"
     ]
    }
   ],
   "source": [
    "import numpy as np\n",
    "\n",
    "x = np.array([1, 2, 3, 4, 5 ,6])\n",
    "y = x       # y是x的一个视图\n",
    "y[0] = -1\n",
    "print(x, y)\n",
    "# [-1  2  3  4  5  6] [-1  2  3  4  5  6]\n",
    "\n",
    "x = np.array([1, 2, 3, 4, 5])\n",
    "y = x.copy() # y是x的一个副本\n",
    "y[0] = -1\n",
    "print(x, y)\n",
    "# [1 2 3 4 5] [-1  2  3  4  5]"
   ]
  },
  {
   "cell_type": "markdown",
   "metadata": {},
   "source": [
    "数组切片操作返回的对象只是原数组的视图"
   ]
  },
  {
   "cell_type": "code",
   "execution_count": 4,
   "metadata": {},
   "outputs": [
    {
     "name": "stdout",
     "output_type": "stream",
     "text": [
      "[[-1 11 -1 13 14]\n",
      " [20 21 22 23 24]\n",
      " [-1 31 -1 33 34]\n",
      " [40 41 42 43 44]\n",
      " [-1 51 -1 53 54]]\n",
      "[[-1 11 -1 13 14]\n",
      " [20 21 22 23 24]\n",
      " [-1 31 -1 33 34]\n",
      " [40 41 42 43 44]\n",
      " [-1 51 -1 53 54]]\n",
      "[[11 12 13 14 15]\n",
      " [21 22 23 24 25]\n",
      " [31 32 33 34 35]\n",
      " [41 42 43 44 45]\n",
      " [51 52 53 54 55]]\n",
      "[[ 0 12 13  0 15]\n",
      " [21 22 23 24 25]\n",
      " [ 0 32 33  0 35]\n",
      " [41 42 43 44 45]\n",
      " [ 0 52 53  0 55]]\n"
     ]
    }
   ],
   "source": [
    "import numpy as np\n",
    "x = np.fromfunction(lambda i, j : 10 * (i + 1) + j, (5, 5), dtype = int)\n",
    "y = x\n",
    "y[::2, :3:2] = -1 # 一维从头到尾隔两个，二维从头到2，隔两个\n",
    "print(x, y, sep = '\\n')\n",
    "# [[-1 11 -1 13 14]\n",
    "#  [20 21 22 23 24]\n",
    "#  [-1 31 -1 33 34]\n",
    "#  [40 41 42 43 44]\n",
    "#  [-1 51 -1 53 54]]\n",
    "\n",
    "# [[-1 11 -1 13 14]\n",
    "#  [20 21 22 23 24]\n",
    "#  [-1 31 -1 33 34]\n",
    "#  [40 41 42 43 44]\n",
    "#  [-1 51 -1 53 54]]\n",
    "x = np.fromfunction(lambda i, j : 10*(i+1)+j+1, (5, 5), dtype = int)\n",
    "y = x.copy()\n",
    "y[::2, ::3] = 0\n",
    "print(x, y, sep = '\\n')\n",
    "# [[11 12 13 14 15]\n",
    "#  [21 22 23 24 25]\n",
    "#  [31 32 33 34 35]\n",
    "#  [41 42 43 44 45]\n",
    "#  [51 52 53 54 55]]\n",
    "\n",
    "# [[ 0 12 13  0 15]\n",
    "#  [21 22 23 24 25]\n",
    "#  [ 0 32 33  0 35]\n",
    "#  [41 42 43 44 45]\n",
    "#  [ 0 52 53  0 55]]"
   ]
  },
  {
   "cell_type": "markdown",
   "metadata": {},
   "source": [
    "# 索引与切片\n",
    "数组索引机制指的是用方括号`[]`加序号的形式引用单个数组元素，它的用处很多，比如抽取元素，选取数组的几个元素，甚至为其赋一个新值\n",
    "## 整数索引"
   ]
  },
  {
   "cell_type": "code",
   "execution_count": 5,
   "metadata": {},
   "outputs": [
    {
     "name": "stdout",
     "output_type": "stream",
     "text": [
      "3\n",
      "[21 22 23 24 25]\n",
      "22\n",
      "22\n"
     ]
    }
   ],
   "source": [
    "x = np.array([1, 2, 3, 4, 5, 6, 7, 8])\n",
    "print(x[2])  # 3\n",
    "\n",
    "x = np.array([[11, 12, 13, 14, 15],\n",
    "              [16, 17, 18, 19, 20],\n",
    "              [21, 22, 23, 24, 25],\n",
    "              [26, 27, 28, 29, 30],\n",
    "              [31, 32, 33, 34, 35]])\n",
    "print(x[2])  # [21 22 23 24 25]\n",
    "print(x[2][1])  # 22\n",
    "print(x[2, 1])  # 22"
   ]
  },
  {
   "cell_type": "markdown",
   "metadata": {},
   "source": [
    "## 切片索引\n",
    "\n",
    "切片操作是指抽取数组的一部分元素生成新数组。对***Python列表***进行切片操作得到的数组是原数组的***副本***，而对***Numpy***数据进行切片操作得到的数组则是***指向相同缓冲区的视图***\n",
    "\n",
    "如果想抽取或查看数组的一部分，必须使用切片语法，也就是，把几个用冒号`（ start:stop:step ）`隔开的数字置于方括号内。\n",
    "\n",
    "为了更好地理解切片语法，还应该了解不明确指明起始和结束位置的情况。如省去第一个数字，numpy 会认为第一个数字是0；如省去第二个数字，numpy 则会认为第二个数字是数组的最大索引值；如省去最后一个数字，它将会被理解为1，也就是抽取所有元素而不再考虑间隔。\n",
    "\n",
    "【例】对一维数组"
   ]
  },
  {
   "cell_type": "code",
   "execution_count": 7,
   "metadata": {},
   "outputs": [
    {
     "name": "stdout",
     "output_type": "stream",
     "text": [
      "[1 2]\n",
      "[2 4]\n",
      "[3 4 5 6 7 8]\n",
      "[1 2]\n",
      "[7 8]\n",
      "[1 2 3 4 5 6]\n",
      "[1 2 3 4 5 6 7 8]\n",
      "[8 7 6 5 4 3 2 1]\n"
     ]
    }
   ],
   "source": [
    "x = np.array([1, 2, 3, 4, 5, 6, 7, 8])\n",
    "print(x[0:2])  # [1 2]\n",
    "#用下标0~5,以2为步长选取数组\n",
    "print(x[1:5:2])  # [2 4]\n",
    "print(x[2:])  # [3 4 5 6 7 8]\n",
    "print(x[:2])  # [1 2]\n",
    "print(x[-2:])  # [7 8]\n",
    "print(x[:-2])  # [1 2 3 4 5 6]\n",
    "print(x[:])  # [1 2 3 4 5 6 7 8]\n",
    "#利用负数下标翻转数组\n",
    "print(x[::-1]) # [8 7 6 5 4 3 2 1]"
   ]
  },
  {
   "cell_type": "code",
   "execution_count": null,
   "metadata": {},
   "outputs": [],
   "source": [
    "x = np.array([[11, 12, 13, 14, 15],\n",
    "              [16, 17, 18, 19, 20],\n",
    "              [21, 22, 23, 24, 25],\n",
    "              [26, 27, 28, 29, 30],\n",
    "              [31, 32, 33, 34, 35]])\n",
    "print(x[0:2])\n",
    "# [[11 12 13 14 15]\n",
    "#  [16 17 18 19 20]]\n",
    "\n",
    "print(x[1:5:2])\n",
    "# [[16 17 18 19 20]\n",
    "#  [26 27 28 29 30]]\n",
    "\n",
    "print(x[2:])\n",
    "# [[21 22 23 24 25]\n",
    "#  [26 27 28 29 30]\n",
    "#  [31 32 33 34 35]]\n",
    "\n",
    "print(x[:2])\n",
    "# [[11 12 13 14 15]\n",
    "#  [16 17 18 19 20]]\n",
    "\n",
    "print(x[-2:])\n",
    "# [[26 27 28 29 30]\n",
    "#  [31 32 33 34 35]]\n",
    "\n",
    "print(x[:-2])\n",
    "# [[11 12 13 14 15]\n",
    "#  [16 17 18 19 20]\n",
    "#  [21 22 23 24 25]]\n",
    "\n",
    "print(x[:])\n",
    "# [[11 12 13 14 15]\n",
    "#  [16 17 18 19 20]\n",
    "#  [21 22 23 24 25]\n",
    "#  [26 27 28 29 30]\n",
    "#  [31 32 33 34 35]]\n",
    "\n",
    "\n",
    "print(x[2, :])  # [21 22 23 24 25]\n",
    "print(x[:, 2])  # [13 18 23 28 33]\n",
    "print(x[0, 1:4])  # [12 13 14]\n",
    "print(x[1:4, 0])  # [16 21 26]\n",
    "print(x[1:3, 2:4])\n",
    "# [[18 19]\n",
    "#  [23 24]]\n",
    "\n",
    "print(x[:, :])\n",
    "# [[11 12 13 14 15]\n",
    "#  [16 17 18 19 20]\n",
    "#  [21 22 23 24 25]\n",
    "#  [26 27 28 29 30]\n",
    "#  [31 32 33 34 35]]\n",
    "\n",
    "print(x[::2, ::2])\n",
    "# [[11 13 15]\n",
    "#  [21 23 25]\n",
    "#  [31 33 35]]\n",
    "\n",
    "print(x[::-1, :])\n",
    "# [[31 32 33 34 35]\n",
    "#  [26 27 28 29 30]\n",
    "#  [21 22 23 24 25]\n",
    "#  [16 17 18 19 20]\n",
    "#  [11 12 13 14 15]]\n",
    "\n",
    "print(x[:, ::-1])\n",
    "# [[15 14 13 12 11]\n",
    "#  [20 19 18 17 16]\n",
    "#  [25 24 23 22 21]\n",
    "#  [30 29 28 27 26]\n",
    "#  [35 34 33 32 31]]"
   ]
  },
  {
   "cell_type": "markdown",
   "metadata": {},
   "source": [
    "通过对每个以逗号分隔的维度执行单独的切片，你可以对多维数组进行切片。因此，对于二维数组，我们的第一片定义了行的切片，第二片定义了列的切片"
   ]
  },
  {
   "cell_type": "markdown",
   "metadata": {},
   "source": [
    "## dots索引\n",
    "\n",
    "Numpy允许使用`...`表示足够多的冒号来构建完整的索引列表\n",
    "比如，如果`x`是5维数组：\n",
    "- x[1, 2,...]  == x[1,2,:,:,:]\n",
    "- x[...,3]     == x[:, :, :, :, 3]\n",
    "- x[4,...,5,:] == x[4, :, :, 5, :]"
   ]
  },
  {
   "cell_type": "code",
   "execution_count": 9,
   "metadata": {},
   "outputs": [
    {
     "name": "stdout",
     "output_type": "stream",
     "text": [
      "[[[72 68 91]\n",
      "  [45 59 11]]\n",
      "\n",
      " [[91  3 69]\n",
      "  [22  8 21]]]\n",
      "[[91  3 69]\n",
      " [22  8 21]]\n",
      "[[91 11]\n",
      " [69 21]]\n"
     ]
    }
   ],
   "source": [
    "x = np.random.randint(1, 100, [2, 2, 3])\n",
    "# [[72 68 91][45 59 11]] [[91  3 69][22  8 21]]\n",
    "\n",
    "print(x)\n",
    "# [[[72 68 91]\n",
    "#   [45 59 11]]\n",
    "\n",
    "#  [[91  3 69]\n",
    "#   [22  8 21]]]\n",
    "\n",
    "print(x[1, ...])\n",
    "# [[91  3 69]\n",
    "#  [22  8 21]]\n",
    "\n",
    "print(x[..., 2])\n",
    "# [[91 11]\n",
    "#  [69 21]]"
   ]
  },
  {
   "cell_type": "markdown",
   "metadata": {},
   "source": [
    "## 整数数组索引\n",
    "【例】方括号内传入多个索引值，可以同时选择多个元素"
   ]
  },
  {
   "cell_type": "code",
   "execution_count": 10,
   "metadata": {},
   "outputs": [
    {
     "name": "stdout",
     "output_type": "stream",
     "text": [
      "[1 2 3]\n",
      "[1 2 8]\n",
      "[[11 12 13 14 15]\n",
      " [16 17 18 19 20]\n",
      " [21 22 23 24 25]]\n",
      "[[11 12 13 14 15]\n",
      " [16 17 18 19 20]\n",
      " [31 32 33 34 35]]\n",
      "[13 19 25]\n"
     ]
    }
   ],
   "source": [
    "x = np.array([1, 2, 3, 4, 5, 6, 7, 8])\n",
    "r = [0, 1, 2]\n",
    "print(x[r])\n",
    "# [1 2 3]\n",
    "\n",
    "r = [0, 1, -1]\n",
    "print(x[r])\n",
    "# [1 2 8]\n",
    "\n",
    "x = np.array([[11, 12, 13, 14, 15],\n",
    "              [16, 17, 18, 19, 20],\n",
    "              [21, 22, 23, 24, 25],\n",
    "              [26, 27, 28, 29, 30],\n",
    "              [31, 32, 33, 34, 35]])\n",
    "\n",
    "r = [0, 1, 2]\n",
    "print(x[r])\n",
    "# [[11 12 13 14 15]\n",
    "#  [16 17 18 19 20]\n",
    "#  [21 22 23 24 25]]\n",
    "\n",
    "r = [0, 1, -1]\n",
    "print(x[r])\n",
    "\n",
    "# [[11 12 13 14 15]\n",
    "#  [16 17 18 19 20]\n",
    "#  [31 32 33 34 35]]\n",
    "\n",
    "r = [0, 1, 2]\n",
    "c = [2, 3, 4]\n",
    "print(x[r, c])\n",
    "# [13 19 25]"
   ]
  },
  {
   "cell_type": "code",
   "execution_count": 6,
   "metadata": {},
   "outputs": [
    {
     "name": "stdout",
     "output_type": "stream",
     "text": [
      "[[1 2]\n",
      " [4 5]]\n",
      "[[ 0  1  2  3  4]\n",
      " [10 11 12 13 14]\n",
      " [20 21 22 23 24]\n",
      " [30 31 32 33 34]\n",
      " [40 41 42 43 44]]\n",
      "[[[ 0  1  2  3  4]\n",
      "  [10 11 12 13 14]]\n",
      "\n",
      " [[30 31 32 33 34]\n",
      "  [40 41 42 43 44]]]\n",
      "[[ 0 23]\n",
      " [40 44]]\n"
     ]
    }
   ],
   "source": [
    "import numpy as np\n",
    "x = np.array([1, 2, 3, 4, 5, 6, 7, 8])\n",
    "r = np.array(([0, 1], [3, 4])) # 取成二维数组\n",
    "print(x[r])\n",
    "# [[1 2]\n",
    "#  [4 5]]\n",
    "\n",
    "x = np.fromfunction(lambda i, j : i*10+j, (5, 5), dtype = int)\n",
    "print(x)\n",
    "# [[ 0  1  2  3  4]\n",
    "#  [10 11 12 13 14]\n",
    "#  [20 21 22 23 24]\n",
    "#  [30 31 32 33 34]\n",
    "#  [40 41 42 43 44]]\n",
    "\n",
    "r = np.array([[0, 1], [3, 4]])\n",
    "print(x[r])  # 只有一维\n",
    "# [[[ 0  1  2  3  4]\n",
    "#   [10 11 12 13 14]]\n",
    "\n",
    "#  [[30 31 32 33 34]\n",
    "#   [40 41 42 43 44]]]\n",
    "\n",
    "# 获取了 5X5 数组中的四个角的元素。\n",
    "# 行索引是 [0,2] 和 [4,4]，而列索引是 [0,3] 和 [0,4]。\n",
    "# 也就是获取[0, 0], [2, 3], [4, 0], [4, 4]\n",
    "r = np.array([[0, 2], [4, 4]])\n",
    "c = np.array([[0, 3], [0, 4]])\n",
    "print(x[r, c]) # 两维\n",
    "# [[ 0 23]\n",
    "#  [40 44]]"
   ]
  },
  {
   "cell_type": "markdown",
   "metadata": {},
   "source": [
    "【例】可以借助切片`:`与整数数组组合"
   ]
  },
  {
   "cell_type": "code",
   "execution_count": 7,
   "metadata": {},
   "outputs": [
    {
     "name": "stdout",
     "output_type": "stream",
     "text": [
      "[[ 1  2  3]\n",
      " [11 12 13]\n",
      " [21 22 23]]\n"
     ]
    }
   ],
   "source": [
    "x = np.fromfunction(lambda i, j : i*10+j, (5, 5), dtype = int)\n",
    "y = x[0:3, [1, 2, 3]]\n",
    "print(y)"
   ]
  },
  {
   "cell_type": "markdown",
   "metadata": {},
   "source": [
    "- `numpy.take(a, indices, axis = None, out = None, mode = 'raise')`\n",
    " - `axis表示轴（数组维度，0是一维，1是二维，依此类推）\n",
    "从array中获取元素"
   ]
  },
  {
   "cell_type": "code",
   "execution_count": 12,
   "metadata": {},
   "outputs": [
    {
     "name": "stdout",
     "output_type": "stream",
     "text": [
      "[1 2 3]\n",
      "[1 2 6]\n",
      "[[11 12 13 14 15]\n",
      " [16 17 18 19 20]\n",
      " [21 22 23 24 25]]\n",
      "[[[12 14 15]\n",
      "  [11 12 15]]\n",
      "\n",
      " [[17 19 20]\n",
      "  [16 17 20]]\n",
      "\n",
      " [[22 24 25]\n",
      "  [21 22 25]]\n",
      "\n",
      " [[27 29 30]\n",
      "  [26 27 30]]\n",
      "\n",
      " [[32 34 35]\n",
      "  [31 32 35]]]\n",
      "[[11 12 13]\n",
      " [13 14 15]]\n",
      "[[11 12]]\n"
     ]
    }
   ],
   "source": [
    "x = np.array([1, 2, 3, 4, 5, 6])\n",
    "r = [0, 1, 2]\n",
    "print(np.take(x, r)) # [1 2 3]\n",
    "\n",
    "r = [0, 1, -1]\n",
    "print(np.take(x, r)) # [1 2 6]\n",
    "\n",
    "x = np.array([[11, 12, 13, 14, 15],\n",
    "              [16, 17, 18, 19, 20],\n",
    "              [21, 22, 23, 24, 25],\n",
    "              [26, 27, 28, 29, 30],\n",
    "              [31, 32, 33, 34, 35]])\n",
    "\n",
    "r = [0, 1, 2]\n",
    "print(np.take(x, r, axis = 0))\n",
    "# [[11 12 13 14 15]\n",
    "#  [16 17 18 19 20]\n",
    "#  [21 22 23 24 25]]\n",
    "\n",
    "r = [1, 3, 4]\n",
    "c = [0, 1, 4]\n",
    "print(np.take(x, [r, c], axis = 1))\n",
    "# [[[12 14 15]\n",
    "#   [11 12 15]]\n",
    "\n",
    "#  [[17 19 20]\n",
    "#   [16 17 20]]\n",
    "\n",
    "#  [[22 24 25]\n",
    "#   [21 22 25]]\n",
    "\n",
    "#  [[27 29 30]\n",
    "#   [26 27 30]]\n",
    "\n",
    "#  [[32 34 35]\n",
    "#   [31 32 35]]]\n",
    "\n",
    "r = [0, 1, 2]\n",
    "c = [2, 3, 4]\n",
    "y = np.take(x, [r, c])\n",
    "print(y)\n",
    "# [[11 12 13]\n",
    "#  [13 14 15]]\n",
    "\n",
    "r = [(0, 1)]\n",
    "print(np.take(x, r)) # [[11 12]]"
   ]
  },
  {
   "cell_type": "markdown",
   "metadata": {},
   "source": [
    "***注意***\n",
    "- 使用切片索引到numpy数组时，生成的数组视图将始终是原数组的子数组。\n",
    "- 但是整数数组索引，不是其子数组，而是生成新的数组\n",
    "\n",
    "切片索引："
   ]
  },
  {
   "cell_type": "code",
   "execution_count": 22,
   "metadata": {},
   "outputs": [
    {
     "name": "stdout",
     "output_type": "stream",
     "text": [
      "[[1 2]\n",
      " [3 4]]\n",
      "[[ 1  2  7]\n",
      " [99 99 99]\n",
      " [ 5  6  9]]\n",
      "[[ 1  2]\n",
      " [99 99]]\n"
     ]
    }
   ],
   "source": [
    "a = np.array([[1, 2, 7], [3, 4, 8], [5, 6, 9]])\n",
    "b = a[0:2, 0:2]\n",
    "print(b)\n",
    "# [[1 2]\n",
    "#  [3 4]]\n",
    "a[1] = 99\n",
    "print(a, b, sep = '\\n')\n",
    "# [[ 1  2  7]\n",
    "#  [99 99 99]\n",
    "#  [ 5  6  9]]\n",
    "\n",
    "# [[ 1  2]\n",
    "#  [99 99]]"
   ]
  },
  {
   "cell_type": "markdown",
   "metadata": {},
   "source": [
    "整数数组索引"
   ]
  },
  {
   "cell_type": "code",
   "execution_count": 23,
   "metadata": {},
   "outputs": [
    {
     "name": "stdout",
     "output_type": "stream",
     "text": [
      "[[1 2]\n",
      " [3 4]\n",
      " [5 6]] 2\n"
     ]
    }
   ],
   "source": [
    "a = np.array([[1, 2], [3, 4], [5, 6]])\n",
    "b = a[0, 0]\n",
    "b = 2\n",
    "print(a, b)\n",
    "# [[1 2]\n",
    "#  [3 4]\n",
    "#  [5 6]] 2"
   ]
  },
  {
   "cell_type": "markdown",
   "metadata": {},
   "source": [
    "## 布尔索引\n",
    "我们可以通过一个布尔数组来索引目标数组"
   ]
  },
  {
   "cell_type": "code",
   "execution_count": 27,
   "metadata": {},
   "outputs": [
    {
     "name": "stdout",
     "output_type": "stream",
     "text": [
      "[False False False False False  True  True]\n",
      "[6 7]\n",
      "[ True False False  True False False False]\n",
      "[1. 2. 3. 4. 5.]\n"
     ]
    }
   ],
   "source": [
    "x = np.array([1, 2, 3, 4, 5, 6, 7])\n",
    "y = x > 5\n",
    "print(y)  # [False False False False False  True  True]\n",
    "print(x[x > 5]) # [6 7]\n",
    "\n",
    "x = np.array([np.nan, 1, 2, np.nan, 3, 4 , 5])\n",
    "y = np.logical_not(np.isnan(x))\n",
    "print(x[y]) # [1. 2. 3. 4. 5.]\n",
    "\n",
    "x = np.array([[11, 12, 13, 14, 15],\n",
    "              [16, 17, 18, 19, 20],\n",
    "              [21, 22, 23, 24, 25],\n",
    "              [26, 27, 28, 29, 30],\n",
    "              [31, 32, 33, 34, 35]])\n",
    "y = x > 25\n",
    "print(y)\n",
    "# [[False False False False False]\n",
    "#  [False False False False False]\n",
    "#  [False False False False False]\n",
    "#  [ True  True  True  True  True]\n",
    "#  [ True  True  True  True  True]]\n",
    "print(x[x > 25])\n",
    "# [26 27 28 29 30 31 32 33 34 35]"
   ]
  },
  {
   "cell_type": "code",
   "execution_count": 43,
   "metadata": {},
   "outputs": [
    {
     "name": "stdout",
     "output_type": "stream",
     "text": [
      "25\n"
     ]
    },
    {
     "data": {
      "text/plain": [
       "[<matplotlib.lines.Line2D at 0x7f9f38d41cc0>]"
      ]
     },
     "execution_count": 43,
     "metadata": {},
     "output_type": "execute_result"
    },
    {
     "data": {
      "image/png": "[encoded data removed]",
      "text/plain": [
       "<Figure size 432x288 with 1 Axes>"
      ]
     },
     "metadata": {
      "needs_background": "light"
     },
     "output_type": "display_data"
    }
   ],
   "source": [
    "import matplotlib.pyplot as plt\n",
    "\n",
    "x = np.linspace(0, 2 *np.pi, 50)\n",
    "y = np.sin(x)\n",
    "plt.plot(x, y)\n",
    "\n",
    "mask = y >= 0\n",
    "print(len(x[mask]))\n",
    "plt.plot(x[mask], y[mask], 'go')\n",
    "\n",
    "mask = np.logical_and(y <= 0, x >= np.pi / 2 * 3)\n",
    "plt.plot(x[mask], y[mask], 'ro')"
   ]
  },
  {
   "cell_type": "markdown",
   "metadata": {},
   "source": [
    "## 数组迭代\n",
    "除了for，Numpy还提供另一种更为优雅的遍历方法\n",
    "- `apply_along_axis(fuinc1d, axis, arr)` 根据给定的函数处理给定的轴（0表示列，1表示行）"
   ]
  },
  {
   "cell_type": "code",
   "execution_count": 46,
   "metadata": {},
   "outputs": [
    {
     "name": "stdout",
     "output_type": "stream",
     "text": [
      "[105 110 115 120 125]\n",
      "[ 65  90 115 140 165]\n",
      "[21. 22. 23. 24. 25.]\n",
      "[13. 18. 23. 28. 33.]\n",
      "[21. 22. 23. 24. 25.]\n"
     ]
    }
   ],
   "source": [
    "x = np.array([[11, 12, 13, 14, 15],\n",
    "              [16, 17, 18, 19, 20],\n",
    "              [21, 22, 23, 24, 25],\n",
    "              [26, 27, 28, 29, 30],\n",
    "              [31, 32, 33, 34, 35]])\n",
    "\n",
    "y = np.apply_along_axis(np.sum, 0, x)\n",
    "print(y)  # [105 110 115 120 125]\n",
    "y = np.apply_along_axis(np.sum, 1, x)\n",
    "print(y)  # [ 65  90 115 140 165]\n",
    "\n",
    "y = np.apply_along_axis(np.mean, 0, x)\n",
    "print(y)  # [21. 22. 23. 24. 25.]\n",
    "y = np.apply_along_axis(np.mean, 1, x)\n",
    "print(y)  # [13. 18. 23. 28. 33.]\n",
    "\n",
    "y = np.apply_along_axis(lambda x : (x[0] + x[-1]) * 0.5, 0, x)\n",
    "print(y) # [21. 22. 23. 24. 25.]"
   ]
  },
  {
   "cell_type": "markdown",
   "metadata": {},
   "source": [
    "## 练习\n",
    "- 1.交换数组arr中的行列"
   ]
  },
  {
   "cell_type": "code",
   "execution_count": 65,
   "metadata": {},
   "outputs": [
    {
     "name": "stdout",
     "output_type": "stream",
     "text": [
      "[[2 1 0]\n",
      " [5 4 3]\n",
      " [8 7 6]]\n",
      "[[1 8 8]\n",
      " [7 8 2]\n",
      " [5 1 1]]\n",
      "\n",
      "[[5 1 1]\n",
      " [7 8 2]\n",
      " [1 8 8]]\n"
     ]
    }
   ],
   "source": [
    "arr = np.arange(9).reshape(3, 3)\n",
    "x = arr[:, [2, 1, 0]]\n",
    "print(x)\n",
    "\n",
    "arr = np.random.randint(1, 10, (3, 3))\n",
    "print(arr, arr[[2, 1, 0], :], sep = '\\n\\n')\n",
    "# [[1 4 5]\n",
    "#  [3 4 7]\n",
    "#  [4 2 4]]\n",
    "\n",
    "# [[4 2 4]\n",
    "#  [3 4 7]\n",
    "#  [1 4 5]]"
   ]
  },
  {
   "cell_type": "markdown",
   "metadata": {},
   "source": [
    "- 2.反转二维数组arr的行列"
   ]
  },
  {
   "cell_type": "code",
   "execution_count": 71,
   "metadata": {},
   "outputs": [
    {
     "name": "stdout",
     "output_type": "stream",
     "text": [
      "[[0 1 2]\n",
      " [3 4 5]\n",
      " [6 7 8]]\n",
      "[[6 7 8]\n",
      " [3 4 5]\n",
      " [0 1 2]]\n",
      "[[2 1 0]\n",
      " [5 4 3]\n",
      " [8 7 6]]\n"
     ]
    }
   ],
   "source": [
    "x = np.arange(9).reshape(3, 3)\n",
    "print(x)\n",
    "# [[0 1 2]\n",
    "#  [3 4 5]\n",
    "#  [6 7 8]]\n",
    "\n",
    "print(x[::-1,:])\n",
    "# [[6 7 8]\n",
    "#  [3 4 5]\n",
    "#  [0 1 2]]\n",
    "\n",
    "print(x[:,::-1])\n",
    "# [[2 1 0]\n",
    "#  [5 4 3]\n",
    "#  [8 7 6]]"
   ]
  },
  {
   "cell_type": "code",
   "execution_count": null,
   "metadata": {},
   "outputs": [],
   "source": []
  }
 ],
 "metadata": {
  "kernelspec": {
   "display_name": "Python 3",
   "language": "python",
   "name": "python3"
  },
  "language_info": {
   "codemirror_mode": {
    "name": "ipython",
    "version": 3
   },
   "file_extension": ".py",
   "mimetype": "text/x-python",
   "name": "python",
   "nbconvert_exporter": "python",
   "pygments_lexer": "ipython3",
   "version": "3.6.5"
  }
 },
 "nbformat": 4,
 "nbformat_minor": 4
}