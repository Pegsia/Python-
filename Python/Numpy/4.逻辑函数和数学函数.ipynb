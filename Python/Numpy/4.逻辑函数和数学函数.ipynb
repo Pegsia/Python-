{
 "cells": [
  {
   "cell_type": "markdown",
   "metadata": {},
   "source": [
    "[逻辑函数](#逻辑函数)<br>\n",
    "[数学函数](#数学函数)<br>\n",
    "[练习](#练习)<br>"
   ]
  },
  {
   "cell_type": "markdown",
   "metadata": {},
   "source": [
    "# 逻辑函数\n",
    "## 真值测试\n",
    "- `numpy.all(a, axis=None, out=None, keepdims=np._NoValue)` Test whether all array elements along a given axis evaluate to True.\n",
    "- `numpy.any(a, axis=None, out=None, keepdims=np._NoValue)` Test whether any array element along a given axis evaluates to True."
   ]
  },
  {
   "cell_type": "code",
   "execution_count": 1,
   "metadata": {},
   "outputs": [
    {
     "name": "stdout",
     "output_type": "stream",
     "text": [
      "True\n",
      "True\n",
      "False\n",
      "True\n",
      "True\n",
      "True\n",
      "[False False False]\n",
      "[ True  True  True]\n",
      "[[1. 0. 0.]\n",
      " [0. 1. 0.]\n",
      " [0. 0. 1.]]\n"
     ]
    }
   ],
   "source": [
    "import numpy as np\n",
    "\n",
    "a = np.array([0, 4, 5])\n",
    "b = np.copy(a)\n",
    "print(np.all(a == b))  # True\n",
    "print(np.any(a == b))  # True\n",
    "\n",
    "b[0] = 1\n",
    "print(np.all(a == b))  # False\n",
    "print(np.any(a == b))  # True\n",
    "\n",
    "print(np.all([1.0, np.nan]))  # True\n",
    "print(np.any([1.0, np.nan]))  # True\n",
    "\n",
    "a = np.eye(3)\n",
    "print(np.all(a, axis=0))  # [False False False]\n",
    "print(np.any(a, axis=0))  # [ True  True  True]"
   ]
  },
  {
   "cell_type": "markdown",
   "metadata": {},
   "source": [
    "## 数组内容\n",
    "- `numpy.isnan(x, *args, **kwargs)` Test element-wise for NaN and return result as a boolean array."
   ]
  },
  {
   "cell_type": "code",
   "execution_count": 2,
   "metadata": {},
   "outputs": [
    {
     "name": "stdout",
     "output_type": "stream",
     "text": [
      "[False False  True]\n"
     ]
    }
   ],
   "source": [
    "a=np.array([1,2,np.nan])\n",
    "print(np.isnan(a))\n",
    "#[False False  True]"
   ]
  },
  {
   "cell_type": "markdown",
   "metadata": {},
   "source": [
    "## 逻辑运算\n",
    "- `numpy.logical_not(x, *args, **kwargs)` Compute the truth value of NOT x element-wise.\n",
    "- `numpy.logical_and(x1, x2, *args, **kwargs)` Compute the truth value of x1 AND x2 element-wise.\n",
    "- `numpy.logical_or(x1, x2, *args, **kwargs)` Compute the truth value of x1 OR x2 element-wise.\n",
    "- `numpy.logical_xor(x1, x2, *args, **kwargs)` Compute the truth value of x1 XOR x2, element-wise.\n",
    "\n",
    "- 计算非"
   ]
  },
  {
   "cell_type": "code",
   "execution_count": 4,
   "metadata": {},
   "outputs": [
    {
     "name": "stdout",
     "output_type": "stream",
     "text": [
      "False\n",
      "[False  True  True False]\n",
      "[False False False  True  True]\n"
     ]
    }
   ],
   "source": [
    "print(np.logical_not(3))  \n",
    "# False\n",
    "print(np.logical_not([True, False, 0, 1]))\n",
    "# [False  True  True False]\n",
    "\n",
    "x = np.arange(5)\n",
    "print(np.logical_not(x < 3))\n",
    "# [False False False  True  True]"
   ]
  },
  {
   "cell_type": "markdown",
   "metadata": {},
   "source": [
    "- 计算与"
   ]
  },
  {
   "cell_type": "code",
   "execution_count": 5,
   "metadata": {},
   "outputs": [
    {
     "name": "stdout",
     "output_type": "stream",
     "text": [
      "False\n",
      "[ True False]\n",
      "[False False  True  True False]\n"
     ]
    }
   ],
   "source": [
    "print(np.logical_and(True, False))\n",
    "# False\n",
    "print(np.logical_and([True, False], [True, False]))\n",
    "# [ True False]\n",
    "print(np.logical_and(x > 1, x < 4))\n",
    "# [False False  True  True False]"
   ]
  },
  {
   "cell_type": "markdown",
   "metadata": {},
   "source": [
    "- 计算或"
   ]
  },
  {
   "cell_type": "code",
   "execution_count": 6,
   "metadata": {},
   "outputs": [
    {
     "name": "stdout",
     "output_type": "stream",
     "text": [
      "True\n",
      "[ True False]\n",
      "[ True False False False  True]\n"
     ]
    }
   ],
   "source": [
    "print(np.logical_or(True, False))\n",
    "# True\n",
    "print(np.logical_or([True, False], [False, False]))\n",
    "# [ True False]\n",
    "print(np.logical_or(x < 1, x > 3))\n",
    "# [ True False False False  True]"
   ]
  },
  {
   "cell_type": "markdown",
   "metadata": {},
   "source": [
    "- 计算亦或"
   ]
  },
  {
   "cell_type": "code",
   "execution_count": 7,
   "metadata": {},
   "outputs": [
    {
     "name": "stdout",
     "output_type": "stream",
     "text": [
      "True\n",
      "[False  True  True False]\n",
      "[ True False False False  True]\n",
      "[[ True False]\n",
      " [False  True]]\n"
     ]
    }
   ],
   "source": [
    "print(np.logical_xor(True, False))\n",
    "# True\n",
    "print(np.logical_xor([True, True, False, False], [True, False, True, False]))\n",
    "# [False  True  True False]\n",
    "print(np.logical_xor(x < 1, x > 3))\n",
    "# [ True False False False  True]\n",
    "print(np.logical_xor(0, np.eye(2)))\n",
    "# [[ True False]\n",
    "#  [False  True]]"
   ]
  },
  {
   "cell_type": "markdown",
   "metadata": {},
   "source": [
    "## 对照\n",
    "- `numpy.greater(x1, x2, *args, **kwargs)` Return the truth value of (x1 > x2) element-wise.\n",
    "- `numpy.greater_equal(x1, x2, *args, **kwargs)` Return the truth value of (x1 >= x2) element-wise.\n",
    "- `numpy.equal(x1, x2, *args, **kwargs)` Return (x1 == x2) element-wise.\n",
    "- `numpy.not_equal(x1, x2, *args, **kwargs) `Return (x1 != x2) element-wise.\n",
    "- `numpy.less(x1, x2, *args, **kwargs)` Return the truth value of (x1 < x2) element-wise.\n",
    "- `numpy.less_equal(x1, x2, *args, **kwargs)` Return the truth value of (x1 =< x2) element-wise."
   ]
  },
  {
   "cell_type": "code",
   "execution_count": 9,
   "metadata": {},
   "outputs": [
    {
     "name": "stdout",
     "output_type": "stream",
     "text": [
      "[False False  True  True  True  True  True  True]\n",
      "[False False  True  True  True  True  True  True]\n",
      "[False  True  True  True  True  True  True  True]\n",
      "[False  True  True  True  True  True  True  True]\n",
      "[False  True False False False False False False]\n",
      "[False  True False False False False False False]\n",
      "[ True False  True  True  True  True  True  True]\n",
      "[ True False  True  True  True  True  True  True]\n",
      "[ True False False False False False False False]\n",
      "[ True False False False False False False False]\n",
      "[ True  True False False False False False False]\n",
      "[ True  True False False False False False False]\n"
     ]
    }
   ],
   "source": [
    "x = np.array([1, 2, 3, 4, 5, 6, 7, 8])\n",
    "\n",
    "y = x > 2\n",
    "print(y)\n",
    "print(np.greater(x, 2))\n",
    "# [False False  True  True  True  True  True  True]\n",
    "\n",
    "y = x >= 2\n",
    "print(y)\n",
    "print(np.greater_equal(x, 2))\n",
    "# [False  True  True  True  True  True  True  True]\n",
    "\n",
    "y = x == 2\n",
    "print(y)\n",
    "print(np.equal(x, 2))\n",
    "# [False  True False False False False False False]\n",
    "\n",
    "y = x != 2\n",
    "print(y)\n",
    "print(np.not_equal(x, 2))\n",
    "# [ True False  True  True  True  True  True  True]\n",
    "\n",
    "y = x < 2\n",
    "print(y)\n",
    "print(np.less(x, 2))\n",
    "# [ True False False False False False False False]\n",
    "\n",
    "y = x <= 2\n",
    "print(y)\n",
    "print(np.less_equal(x, 2))\n",
    "# [ True  True False False False False False False]\n"
   ]
  },
  {
   "cell_type": "markdown",
   "metadata": {},
   "source": [
    "- 注意numpy的广播规则（维度小也可以和维度大做对比）"
   ]
  },
  {
   "cell_type": "code",
   "execution_count": 10,
   "metadata": {},
   "outputs": [
    {
     "name": "stdout",
     "output_type": "stream",
     "text": [
      "[32 37 30 24 10]\n",
      "[[False False False False  True]\n",
      " [False False False False  True]\n",
      " [False False False False  True]\n",
      " [False False False  True  True]\n",
      " [False False  True  True  True]]\n",
      "[[False False False False  True]\n",
      " [False False False False  True]\n",
      " [False False False False  True]\n",
      " [False False False  True  True]\n",
      " [False False  True  True  True]]\n"
     ]
    }
   ],
   "source": [
    "x = np.array([[11, 12, 13, 14, 15],\n",
    "              [16, 17, 18, 19, 20],\n",
    "              [21, 22, 23, 24, 25],\n",
    "              [26, 27, 28, 29, 30],\n",
    "              [31, 32, 33, 34, 35]])\n",
    "\n",
    "np.random.seed(20200611)\n",
    "y = np.random.randint(10, 50, 5)\n",
    "\n",
    "print(y)\n",
    "# [32 37 30 24 10]\n",
    "\n",
    "z = x > y\n",
    "print(z)\n",
    "print(np.greater(x, y))\n",
    "# [[False False False False  True]\n",
    "#  [False False False False  True]\n",
    "#  [False False False False  True]\n",
    "#  [False False False  True  True]\n",
    "#  [False False  True  True  True]]"
   ]
  },
  {
   "cell_type": "markdown",
   "metadata": {},
   "source": [
    "## 判断相近\n",
    "- `numpy.isclose(a, b, rtol=1.e-5, atol=1.e-8, equal_nan=False)` Returns a boolean array where two arrays are element-wise equal within a tolerance.\n",
    "- `numpy.allclose(a, b, rtol=1.e-5, atol=1.e-8, equal_nan=False)` Returns True if two arrays are element-wise equal within a tolerance.\n",
    "\n",
    "`numpy.allclose()` 等价于 `numpy.all(isclose(a, b, rtol=rtol, atol=atol, equal_nan=equal_nan))`。\n",
    "\n",
    "The tolerance values are positive, typically very small numbers. The relative difference `(rtol * abs(b))` and the absolute difference `atol` are added together to compare against the absolute difference between `a` and `b`.\n",
    "\n",
    "绝对误差和（绝对误差+相对误差*b绝对值）比较\n",
    "\n",
    "判断是否为True的计算依据：\n",
    "\n",
    "np.absolute(a - b) <= (atol + rtol * absolute(b))\n",
    "\n",
    "- atol：float，绝对公差。\n",
    "- rtol：float，相对公差。\n",
    "\n",
    "NaNs are treated as equal if they are in the same place and if `equal_nan=True`. Infs are treated as equal if they are in the same place and of the same sign in both arrays."
   ]
  },
  {
   "cell_type": "code",
   "execution_count": null,
   "metadata": {},
   "outputs": [],
   "source": [
    "x = np.isclose([1e10, 1e-7], [1.00001e10, 1e-8])\n",
    "print(x)  # [ True False]\n",
    "\n",
    "x = np.allclose([1e10, 1e-7], [1.00001e10, 1e-8])\n",
    "print(x)  # False\n",
    "\n",
    "x = np.isclose([1e10, 1e-8], [1.00001e10, 1e-9])\n",
    "print(x)  # [ True  True]\n",
    "\n",
    "x = np.allclose([1e10, 1e-8], [1.00001e10, 1e-9])\n",
    "print(x)  # True\n",
    "\n",
    "x = np.isclose([1e10, 1e-8], [1.0001e10, 1e-9])\n",
    "print(x)  # [False  True]\n",
    "\n",
    "x = np.allclose([1e10, 1e-8], [1.0001e10, 1e-9])\n",
    "print(x)  # False\n",
    "\n",
    "x = np.isclose([1.0, np.nan], [1.0, np.nan])\n",
    "print(x)  # [ True False]\n",
    "\n",
    "x = np.allclose([1.0, np.nan], [1.0, np.nan])\n",
    "print(x)  # False\n",
    "\n",
    "x = np.isclose([1.0, np.nan], [1.0, np.nan], equal_nan=True)\n",
    "print(x)  # [ True  True]\n",
    "\n",
    "x = np.allclose([1.0, np.nan], [1.0, np.nan], equal_nan=True)\n",
    "print(x)  # True"
   ]
  },
  {
   "cell_type": "markdown",
   "metadata": {},
   "source": [
    "# 数学函数\n",
    "## 向量化和广播\n",
    "向量化和广播这两个概念是numpy内部实现的基础。有了向量化，编写代码时无需使用显式循环。这些循环实际上不能省略，只不过是在内部实现，被代码中的其他结构代替。向量化的应用使得代码更简洁，可读性更强，也可以说使用了向量化方法的代码看上去更“Pythonic\"。\n",
    "\n",
    "广播（Broadcasting）机制描述了numpy如何在算术运算期间处理具有不同形状的数组，让较小的数组在较大的数组上“广播”，以便它们具有兼容的形状。并不是所有的维度都要彼此兼容才符合广播机制的要求，但它们必须满足一定的条件。\n",
    "\n",
    "若两个数组的各维度兼容，也就是两个数组的每一维等长，或其中一个数组为一维，那么广播机制就适用。如果两个条件不满足，numpy就会抛出异常，说两个数组不兼容\n",
    "\n",
    "总结来说，广播的规则有三个：\n",
    "- 如果两个数组的维度数dim不相同，那么小维度数组的形状将会在左边补1。\n",
    "- 如果shape维度不匹配，但是有维度是1，那么可以扩展维度是1的维度匹配另一个数组；\n",
    "- 如果shape维度不匹配，但是没有任何一个维度是1，则匹配引发错误；\n",
    "\n",
    "【例】二维数组加一维数组（进行广播）"
   ]
  },
  {
   "cell_type": "code",
   "execution_count": 12,
   "metadata": {},
   "outputs": [
    {
     "name": "stdout",
     "output_type": "stream",
     "text": [
      "[0 1 2 3] [[1. 1. 1. 1.]\n",
      " [1. 1. 1. 1.]\n",
      " [1. 1. 1. 1.]]\n",
      "(4,) (3, 4)\n",
      "(3, 4)\n",
      "[[1. 2. 3. 4.]\n",
      " [1. 2. 3. 4.]\n",
      " [1. 2. 3. 4.]]\n"
     ]
    }
   ],
   "source": [
    "x = np.arange(4)\n",
    "y = np.ones((3, 4))\n",
    "print(x.shape, y.shape) # (4,) (3, 4)\n",
    "print((x + y).shape) # (3, 4)\n",
    "print(x + y)\n",
    "# [[1. 2. 3. 4.]\n",
    "#  [1. 2. 3. 4.]\n",
    "#  [1. 2. 3. 4.]]"
   ]
  },
  {
   "cell_type": "markdown",
   "metadata": {},
   "source": [
    "【例】俩个数组均需要广播"
   ]
  },
  {
   "cell_type": "code",
   "execution_count": 15,
   "metadata": {},
   "outputs": [
    {
     "name": "stdout",
     "output_type": "stream",
     "text": [
      "(4, 1) (5,)\n",
      "(4, 5) [[1. 1. 1. 1. 1.]\n",
      " [2. 2. 2. 2. 2.]\n",
      " [3. 3. 3. 3. 3.]\n",
      " [4. 4. 4. 4. 4.]]\n",
      "[[ 0]\n",
      " [10]\n",
      " [20]\n",
      " [30]] (4, 1) [[ 1  2  3]\n",
      " [11 12 13]\n",
      " [21 22 23]\n",
      " [31 32 33]]\n"
     ]
    }
   ],
   "source": [
    "x = np.arange(4).reshape(4, 1)\n",
    "y = np.ones(5)\n",
    "\n",
    "print(x.shape, y.shape) # (4, 1) (5,)\n",
    "print((x + y).shape, x + y)\n",
    "# (4, 5) \n",
    "# [[1. 1. 1. 1. 1.]\n",
    "#  [2. 2. 2. 2. 2.]\n",
    "#  [3. 3. 3. 3. 3.]\n",
    "#  [4. 4. 4. 4. 4.]]\n",
    "\n",
    "x = np.array([0, 10, 20, 30])\n",
    "y = np.array([1, 2, 3])\n",
    "z = x[:, np.newaxis]\n",
    "print(z.shape, z + y)\n",
    "# (4, 1) \n",
    "# [[ 1  2  3]\n",
    "#  [11 12 13]\n",
    "#  [21 22 23]\n",
    "#  [31 32 33]]"
   ]
  },
  {
   "cell_type": "markdown",
   "metadata": {},
   "source": [
    "【例】不匹配报错的例子"
   ]
  },
  {
   "cell_type": "code",
   "execution_count": null,
   "metadata": {},
   "outputs": [],
   "source": [
    "x = np.arange(4)\n",
    "y = np.ones(5)\n",
    "\n",
    "print(x.shape)  # (4,)\n",
    "print(y.shape)  # (5,)\n",
    "\n",
    "print(x + y)\n",
    "# ValueError: operands could not be broadcast together with shapes (4,) (5,) "
   ]
  },
  {
   "cell_type": "markdown",
   "metadata": {},
   "source": [
    "## 算术运算\n",
    "- `numpy.add(x1, x2, *args, **kwargs)` Add arguments element-wise.\n",
    "- `numpy.subtract(x1, x2, *args, **kwargs)` Subtract arguments element-wise.\n",
    "- `numpy.multiply(x1, x2, *args, **kwargs)` Multiply arguments element-wise.\n",
    "- `numpy.divide(x1, x2, *args, **kwargs)` Returns a true division of the inputs, element-wise.\n",
    "- `numpy.floor_divide(x1, x2, *args, **kwargs)` Return the largest integer smaller or equal to the division of the inputs.\n",
    "- `numpy.power(x1, x2, *args, **kwargs)` First array elements raised to powers from second array, element-wise.\n",
    "\n",
    "在numpy中对以上函数进行了运算符的重载，且运算符为***元素级***。也就是说，它们只用于位置形同的元素之间，所得到的结果组成一个新的数组"
   ]
  },
  {
   "cell_type": "code",
   "execution_count": 1,
   "metadata": {},
   "outputs": [
    {
     "name": "stdout",
     "output_type": "stream",
     "text": [
      "[2 3 4 5 6 7 8 9]\n",
      "[2 3 4 5 6 7 8 9]\n",
      "[0 1 2 3 4 5 6 7]\n",
      "[0 1 2 3 4 5 6 7]\n",
      "[ 2  4  6  8 10 12 14 16]\n",
      "[ 2  4  6  8 10 12 14 16]\n",
      "[0.5 1.  1.5 2.  2.5 3.  3.5 4. ]\n",
      "[0.5 1.  1.5 2.  2.5 3.  3.5 4. ]\n",
      "[0 1 1 2 2 3 3 4]\n",
      "[0 1 1 2 2 3 3 4]\n",
      "[ 1  4  9 16 25 36 49 64]\n",
      "[ 1  4  9 16 25 36 49 64]\n"
     ]
    }
   ],
   "source": [
    "import numpy as np\n",
    "\n",
    "x = np.array([1, 2, 3, 4, 5, 6, 7, 8])\n",
    "y = x + 1\n",
    "print(y)\n",
    "print(np.add(x, 1))\n",
    "# [2 3 4 5 6 7 8 9]\n",
    "\n",
    "y = x - 1\n",
    "print(y)\n",
    "print(np.subtract(x, 1))\n",
    "# [0 1 2 3 4 5 6 7]\n",
    "\n",
    "y = x * 2\n",
    "print(y)\n",
    "print(np.multiply(x, 2))\n",
    "# [ 2  4  6  8 10 12 14 16]\n",
    "\n",
    "y = x / 2\n",
    "print(y)\n",
    "print(np.divide(x, 2))\n",
    "# [0.5 1.  1.5 2.  2.5 3.  3.5 4. ]\n",
    "\n",
    "y = x // 2\n",
    "print(y)\n",
    "print(np.floor_divide(x, 2))\n",
    "# [0 1 1 2 2 3 3 4]\n",
    "\n",
    "y = x ** 2\n",
    "print(y)\n",
    "print(np.power(x, 2))\n",
    "# [ 1  4  9 16 25 36 49 64]"
   ]
  },
  {
   "cell_type": "markdown",
   "metadata": {},
   "source": [
    "- `numpy.sqrt(x, *args, **kwargs)` Return the non-negative square-root of an array, element-wise.\n",
    "- `numpy.square(x, *args, **kwargs)` Return the element-wise square of the input."
   ]
  },
  {
   "cell_type": "code",
   "execution_count": 2,
   "metadata": {},
   "outputs": [
    {
     "name": "stdout",
     "output_type": "stream",
     "text": [
      "[1 2 3 4]\n",
      "[1.         1.41421356 1.73205081 2.        ]\n",
      "[1.         1.41421356 1.73205081 2.        ]\n",
      "[ 1  4  9 16]\n",
      "[ 1  4  9 16]\n"
     ]
    }
   ],
   "source": [
    "x = np.arange(1, 5)\n",
    "print(x)  # [1 2 3 4]\n",
    "\n",
    "y = np.sqrt(x)\n",
    "print(y)\n",
    "# [1.         1.41421356 1.73205081 2.        ]\n",
    "print(np.power(x, 0.5))\n",
    "# [1.         1.41421356 1.73205081 2.        ]\n",
    "\n",
    "y = np.square(x)\n",
    "print(y)\n",
    "# [ 1  4  9 16]\n",
    "print(np.power(x, 2))\n",
    "# [ 1  4  9 16]"
   ]
  },
  {
   "cell_type": "markdown",
   "metadata": {},
   "source": [
    "## 三角函数\n",
    "- `numpy.sin(x, *args, **kwargs)` Trigonometric sine, element-wise.\n",
    "- `numpy.cos(x, *args, **kwargs)` Cosine element-wise.\n",
    "- `numpy.tan(x, *args, **kwargs)` Compute tangent element-wise.\n",
    "- `numpy.arcsin(x, *args, **kwargs)` Inverse sine, element-wise.\n",
    "- `numpy.arccos(x, *args, **kwargs)` Trigonometric inverse cosine, element-wise.\n",
    "- `numpy.arctan(x, *args, **kwargs)` Trigonometric inverse tangent, element-wise.\n",
    "\n",
    "***通用函数***（universal function)通常叫作ufunc，它对数组中的各个元素逐一进行操作。这表明，通用函数分别处理输入数组的各个元素，生成的结果组成一个新的输出数组。输出数组的大小跟输入数组相同\n",
    "\n",
    "三角函数等很多数学运算符合通用函数的定义，例如，计算平方根的`sqrt()`函数，用来取对数的`log()`函数和求正弦值的`sin()`函数\n"
   ]
  },
  {
   "cell_type": "code",
   "execution_count": 3,
   "metadata": {},
   "outputs": [
    {
     "name": "stdout",
     "output_type": "stream",
     "text": [
      "[0.         0.17453293 0.34906585 0.52359878 0.6981317  0.87266463\n",
      " 1.04719755 1.22173048 1.3962634  1.57079633]\n"
     ]
    }
   ],
   "source": [
    "x = np.linspace(start=0, stop=np.pi / 2, num=10)\n",
    "print(x)\n",
    "# [0.         0.17453293 0.34906585 0.52359878 0.6981317  0.87266463\n",
    "#  1.04719755 1.22173048 1.3962634  1.57079633]\n",
    "\n",
    "y = np.sin(x)\n",
    "print(y)\n",
    "# [0.         0.17364818 0.34202014 0.5        0.64278761 0.76604444\n",
    "#  0.8660254  0.93969262 0.98480775 1.        ]\n",
    "\n",
    "z = np.arcsin(y)\n",
    "print(z)\n",
    "# [0.         0.17453293 0.34906585 0.52359878 0.6981317  0.87266463\n",
    "#  1.04719755 1.22173048 1.3962634  1.57079633]\n",
    "\n",
    "y = np.cos(x)\n",
    "print(y)\n",
    "# [1.00000000e+00 9.84807753e-01 9.39692621e-01 8.66025404e-01\n",
    "#  7.66044443e-01 6.42787610e-01 5.00000000e-01 3.42020143e-01\n",
    "#  1.73648178e-01 6.12323400e-17]\n",
    "\n",
    "z = np.arccos(y)\n",
    "print(z)\n",
    "# [0.         0.17453293 0.34906585 0.52359878 0.6981317  0.87266463\n",
    "#  1.04719755 1.22173048 1.3962634  1.57079633]\n",
    "\n",
    "y = np.tan(x)\n",
    "print(y)\n",
    "# [0.00000000e+00 1.76326981e-01 3.63970234e-01 5.77350269e-01\n",
    "#  8.39099631e-01 1.19175359e+00 1.73205081e+00 2.74747742e+00\n",
    "#  5.67128182e+00 1.63312394e+16]\n",
    "\n",
    "z = np.arctan(y)\n",
    "print(z)\n",
    "# [0.         0.17453293 0.34906585 0.52359878 0.6981317  0.87266463\n",
    "#  1.04719755 1.22173048 1.3962634  1.57079633]"
   ]
  },
  {
   "cell_type": "markdown",
   "metadata": {},
   "source": [
    "## 指数和对数\n",
    "\n",
    "- `numpy.exp(x, *args, **kwargs)` Calculate the exponential of all elements in the input array.\n",
    "- `numpy.log(x, *args, **kwargs)` Natural logarithm, element-wise.\n",
    "- `numpy.exp2(x, *args, **kwargs)` Calculate 2**p for all p in the input array.\n",
    "- `numpy.log2(x, *args, **kwargs)` Base-2 logarithm of x.\n",
    "- `numpy.log10(x, *args, **kwargs)` Return the base 10 logarithm of the input array, element-wise.\n",
    "\n",
    "The natural logarithm `log` is the inverse of the exponential function, so that `log(exp(x)) = x`. The natural logarithm is logarithm in base `e`."
   ]
  },
  {
   "cell_type": "code",
   "execution_count": 5,
   "metadata": {},
   "outputs": [
    {
     "name": "stdout",
     "output_type": "stream",
     "text": [
      "[ 2.71828183  7.3890561  20.08553692 54.59815003]\n",
      "[1. 2. 3. 4.]\n"
     ]
    }
   ],
   "source": [
    "x = np.arange(1, 5)\n",
    "y = np.exp(x)\n",
    "print(y) # [ 2.71828183  7.3890561  20.08553692 54.59815003]\n",
    "print(np.log(y)) # [1. 2. 3. 4.]"
   ]
  },
  {
   "cell_type": "markdown",
   "metadata": {},
   "source": [
    "## 加法函数、乘法函数\n",
    "- `numpy.sum(a[, axis=None, dtype=None, out=None, …])` Sum of array elements over a given axis.加法\n",
    "- `numpy.cumsum(a, axis=None, dtype=None, out=None)` Return the cumulative sum of the elements along a given axis.累加\n",
    "\n",
    "***聚合函数***是对一组值（比如一个数组）进行操作，返回一个单一值作为结果的函数。因而，求数组所有元素质和的函数就是聚合函数。`ndarray`类实现了多个这样的函数"
   ]
  },
  {
   "cell_type": "code",
   "execution_count": 1,
   "metadata": {},
   "outputs": [
    {
     "ename": "NameError",
     "evalue": "name 'np' is not defined",
     "output_type": "error",
     "traceback": [
      "\u001b[0;31m---------------------------------------------------------------------------\u001b[0m",
      "\u001b[0;31mNameError\u001b[0m                                 Traceback (most recent call last)",
      "\u001b[0;32m<ipython-input-1-4c56f1cf521c>\u001b[0m in \u001b[0;36m<module>\u001b[0;34m\u001b[0m\n\u001b[0;32m----> 1\u001b[0;31m x = np.array([[11, 12, 13, 14, 15],\n\u001b[0m\u001b[1;32m      2\u001b[0m               \u001b[0;34m[\u001b[0m\u001b[0;36m16\u001b[0m\u001b[0;34m,\u001b[0m \u001b[0;36m17\u001b[0m\u001b[0;34m,\u001b[0m \u001b[0;36m18\u001b[0m\u001b[0;34m,\u001b[0m \u001b[0;36m19\u001b[0m\u001b[0;34m,\u001b[0m \u001b[0;36m20\u001b[0m\u001b[0;34m]\u001b[0m\u001b[0;34m,\u001b[0m\u001b[0;34m\u001b[0m\u001b[0m\n\u001b[1;32m      3\u001b[0m               \u001b[0;34m[\u001b[0m\u001b[0;36m21\u001b[0m\u001b[0;34m,\u001b[0m \u001b[0;36m22\u001b[0m\u001b[0;34m,\u001b[0m \u001b[0;36m23\u001b[0m\u001b[0;34m,\u001b[0m \u001b[0;36m24\u001b[0m\u001b[0;34m,\u001b[0m \u001b[0;36m25\u001b[0m\u001b[0;34m]\u001b[0m\u001b[0;34m,\u001b[0m\u001b[0;34m\u001b[0m\u001b[0m\n\u001b[1;32m      4\u001b[0m               \u001b[0;34m[\u001b[0m\u001b[0;36m26\u001b[0m\u001b[0;34m,\u001b[0m \u001b[0;36m27\u001b[0m\u001b[0;34m,\u001b[0m \u001b[0;36m28\u001b[0m\u001b[0;34m,\u001b[0m \u001b[0;36m29\u001b[0m\u001b[0;34m,\u001b[0m \u001b[0;36m30\u001b[0m\u001b[0;34m]\u001b[0m\u001b[0;34m,\u001b[0m\u001b[0;34m\u001b[0m\u001b[0m\n\u001b[1;32m      5\u001b[0m               [31, 32, 33, 34, 35]])\n",
      "\u001b[0;31mNameError\u001b[0m: name 'np' is not defined"
     ]
    }
   ],
   "source": [
    "import numpy as np\n",
    "x = np.array([[11, 12, 13, 14, 15],\n",
    "              [16, 17, 18, 19, 20],\n",
    "              [21, 22, 23, 24, 25],\n",
    "              [26, 27, 28, 29, 30],\n",
    "              [31, 32, 33, 34, 35]])\n",
    "y = np.sum(x)\n",
    "print(y)  # 575\n",
    "\n",
    "y = np.sum(x, axis=0)\n",
    "print(y)  # [105 110 115 120 125]\n",
    "\n",
    "y = np.sum(x, axis=1)\n",
    "print(y)  # [ 65  90 115 140 165]"
   ]
  },
  {
   "cell_type": "code",
   "execution_count": null,
   "metadata": {},
   "outputs": [],
   "source": [
    "x = np.array([[11, 12, 13, 14, 15],\n",
    "              [16, 17, 18, 19, 20],\n",
    "              [21, 22, 23, 24, 25],\n",
    "              [26, 27, 28, 29, 30],\n",
    "              [31, 32, 33, 34, 35]])\n",
    "y = np.cumsum(x)\n",
    "print(y)\n",
    "# [ 11  23  36  50  65  81  98 116 135 155 176 198 221 245 270 296 323 351\n",
    "#  380 410 441 473 506 540 575]\n",
    "\n",
    "y = np.cumsum(x, axis=0)\n",
    "print(y)\n",
    "# [[ 11  12  13  14  15]\n",
    "#  [ 27  29  31  33  35]\n",
    "#  [ 48  51  54  57  60]\n",
    "#  [ 74  78  82  86  90]\n",
    "#  [105 110 115 120 125]]\n",
    "\n",
    "y = np.cumsum(x, axis=1)\n",
    "print(y)\n",
    "# [[ 11  23  36  50  65]\n",
    "#  [ 16  33  51  70  90]\n",
    "#  [ 21  43  66  90 115]\n",
    "#  [ 26  53  81 110 140]\n",
    "#  [ 31  63  96 130 165]]"
   ]
  },
  {
   "cell_type": "markdown",
   "metadata": {},
   "source": [
    "- `numpy.prod(a[, axis=None, dtype=None, out=None, …])` Return the product of array elements over a given axis.乘积\n",
    "\n",
    "- `numpy.cumprod(a, axis=None, dtype=None, out=None)` Return the cumulative product of elements along a given axis.累乘"
   ]
  },
  {
   "cell_type": "code",
   "execution_count": null,
   "metadata": {},
   "outputs": [],
   "source": [
    "x = np.array([[11, 12, 13, 14, 15],\n",
    "              [16, 17, 18, 19, 20],\n",
    "              [21, 22, 23, 24, 25],\n",
    "              [26, 27, 28, 29, 30],\n",
    "              [31, 32, 33, 34, 35]])\n",
    "y = np.prod(x)\n",
    "print(y)  # 788529152\n",
    "\n",
    "y = np.prod(x, axis=0)\n",
    "print(y)\n",
    "# [2978976 3877632 4972968 6294624 7875000]\n",
    "\n",
    "y = np.prod(x, axis=1)\n",
    "print(y)\n",
    "# [  360360  1860480  6375600 17100720 38955840]"
   ]
  },
  {
   "cell_type": "markdown",
   "metadata": {},
   "source": [
    "返回给定轴上数组元素的累乘。"
   ]
  },
  {
   "cell_type": "code",
   "execution_count": null,
   "metadata": {},
   "outputs": [],
   "source": [
    "x = np.array([[11, 12, 13, 14, 15],\n",
    "              [16, 17, 18, 19, 20],\n",
    "              [21, 22, 23, 24, 25],\n",
    "              [26, 27, 28, 29, 30],\n",
    "              [31, 32, 33, 34, 35]])\n",
    "y = np.cumprod(x)\n",
    "print(y)\n",
    "# [         11         132        1716       24024      360360     5765760\n",
    "#     98017920  1764322560  -837609728   427674624   391232512    17180672\n",
    "#    395155456   893796352   870072320  1147043840   905412608  -418250752\n",
    "#    755630080  1194065920 -1638662144  -897581056   444596224 -2063597568\n",
    "#    788529152]\n",
    "\n",
    "y = np.cumprod(x, axis=0)\n",
    "print(y)\n",
    "# [[     11      12      13      14      15]\n",
    "#  [    176     204     234     266     300]\n",
    "#  [   3696    4488    5382    6384    7500]\n",
    "#  [  96096  121176  150696  185136  225000]\n",
    "#  [2978976 3877632 4972968 6294624 7875000]]\n",
    "\n",
    "y = np.cumprod(x, axis=1)\n",
    "print(y)\n",
    "# [[      11      132     1716    24024   360360]\n",
    "#  [      16      272     4896    93024  1860480]\n",
    "#  [      21      462    10626   255024  6375600]\n",
    "#  [      26      702    19656   570024 17100720]\n",
    "#  [      31      992    32736  1113024 38955840]]"
   ]
  },
  {
   "cell_type": "markdown",
   "metadata": {},
   "source": [
    "- `numpy.diff(a, n=1, axis=-1, prepend=np._NoValue, append=np._NoValue)` Calculate the n-th discrete difference along the given axis.\n",
    " - a：输入矩阵\n",
    " - n：可选，代表要执行几次差值\n",
    " - axis：默认是最后一个\n",
    " \n",
    "The first difference is given by `out[i] = a[i+1] - a[i]` along the given axis, higher differences are calculated by using `diff` recursively.\n",
    "\n",
    "【例】沿着指定轴计算第N维的离散差值"
   ]
  },
  {
   "cell_type": "code",
   "execution_count": 1,
   "metadata": {},
   "outputs": [
    {
     "name": "stdout",
     "output_type": "stream",
     "text": [
      "[[ 2  3  4  5]\n",
      " [ 6  8  8  9]\n",
      " [10 11 12 13]]\n",
      "[[1 1 1]\n",
      " [2 0 1]\n",
      " [1 1 1]]\n",
      "[[4 5 4 4]\n",
      " [4 3 4 4]]\n"
     ]
    }
   ],
   "source": [
    "import numpy as np\n",
    "\n",
    "A = np.arange(2, 14).reshape((3, 4))\n",
    "A[1, 1] = 8\n",
    "print(A)\n",
    "# [[ 2  3  4  5]\n",
    "#  [ 6  8  8  9]\n",
    "#  [10 11 12 13]]\n",
    "print(np.diff(A))\n",
    "# [[1 1 1]\n",
    "#  [2 0 1]\n",
    "#  [1 1 1]]\n",
    "print(np.diff(A, axis=0))\n",
    "# [[4 5 4 4]\n",
    "#  [4 3 4 4]]"
   ]
  },
  {
   "cell_type": "markdown",
   "metadata": {},
   "source": [
    "## 四舍五入\n",
    "- `numpy.around(a, decimals=0, out=None)` Evenly round to the given number of decimals.\n",
    "\n",
    "【例】将数组舍入到给定的小数位数。"
   ]
  },
  {
   "cell_type": "code",
   "execution_count": 2,
   "metadata": {},
   "outputs": [
    {
     "name": "stdout",
     "output_type": "stream",
     "text": [
      "[[9. 6. 6.]\n",
      " [7. 9. 7.]\n",
      " [6. 7. 8.]]\n",
      "[[9.38 5.51 5.5 ]\n",
      " [7.24 9.42 7.15]\n",
      " [6.03 7.34 7.93]]\n"
     ]
    }
   ],
   "source": [
    "x = np.random.rand(3, 3) * 10\n",
    "print(np.around(x))\n",
    "# [[9. 6. 6.]\n",
    "#  [7. 9. 7.]\n",
    "#  [6. 7. 8.]]\n",
    "print(np.around(x, 2))\n",
    "# [[9.38 5.51 5.5 ]\n",
    "#  [7.24 9.42 7.15]\n",
    "#  [6.03 7.34 7.93]]"
   ]
  },
  {
   "cell_type": "markdown",
   "metadata": {},
   "source": [
    "- `numpy.ceil(x, *args, **kwargs)` Return the ceiling of the input, element-wise.上取整\n",
    "- `numpy.floor(x, *args, **kwargs)` Return the floor of the input, element-wise.下取整"
   ]
  },
  {
   "cell_type": "code",
   "execution_count": 4,
   "metadata": {},
   "outputs": [
    {
     "name": "stdout",
     "output_type": "stream",
     "text": [
      "[[ 1.  4. 10.]\n",
      " [ 9.  1.  9.]\n",
      " [ 2.  4.  6.]]\n",
      "[[0. 3. 9.]\n",
      " [8. 0. 8.]\n",
      " [1. 3. 5.]]\n"
     ]
    }
   ],
   "source": [
    "x = np.random.rand(3, 3) * 10\n",
    "print(np.ceil(x))\n",
    "# [[ 1.  4. 10.]\n",
    "#  [ 9.  1.  9.]\n",
    "#  [ 2.  4.  6.]]\n",
    "print(np.floor(x))\n",
    "# [[0. 3. 9.]\n",
    "#  [8. 0. 8.]\n",
    "#  [1. 3. 5.]]"
   ]
  },
  {
   "cell_type": "markdown",
   "metadata": {},
   "source": [
    "## 杂项\n",
    "- `numpy.clip(a, a_min, a_max, out=None, **kwargs)`: Clip (limit) the values in an array.\n",
    "\n",
    "Given an interval, values outside the interval are clipped to the interval edges. For example, if an interval of `[0, 1]` is specified, values smaller than 0 become 0, and values larger than 1 become 1.\n",
    "\n",
    "小于min的变成min，大于max的变成max\n",
    "\n",
    "【例】裁剪（限制）数组中的值"
   ]
  },
  {
   "cell_type": "code",
   "execution_count": 5,
   "metadata": {},
   "outputs": [
    {
     "name": "stdout",
     "output_type": "stream",
     "text": [
      "[[20 20 20 20 20]\n",
      " [20 20 20 20 20]\n",
      " [21 22 23 24 25]\n",
      " [26 27 28 29 30]\n",
      " [30 30 30 30 30]]\n"
     ]
    }
   ],
   "source": [
    "x = np.array([[11, 12, 13, 14, 15],\n",
    "              [16, 17, 18, 19, 20],\n",
    "              [21, 22, 23, 24, 25],\n",
    "              [26, 27, 28, 29, 30],\n",
    "              [31, 32, 33, 34, 35]])\n",
    "\n",
    "y = np.clip(x, a_min = 20, a_max = 30)\n",
    "print(y)"
   ]
  },
  {
   "cell_type": "markdown",
   "metadata": {},
   "source": [
    "- `numpy.absolute(x, *args, **kwargs)` Calculate the absolute value element-wise.\n",
    "- `numpy.abs(x, *args, **kwargs)` is a shorthand for this function."
   ]
  },
  {
   "cell_type": "code",
   "execution_count": 6,
   "metadata": {},
   "outputs": [
    {
     "name": "stdout",
     "output_type": "stream",
     "text": [
      "[-5 -4 -3 -2 -1  0  1  2  3  4]\n",
      "[5 4 3 2 1 0 1 2 3 4]\n",
      "[5 4 3 2 1 0 1 2 3 4]\n"
     ]
    }
   ],
   "source": [
    "x = np.arange(-5, 5)\n",
    "print(x)\n",
    "# [-5 -4 -3 -2 -1  0  1  2  3  4]\n",
    "\n",
    "y = np.abs(x)\n",
    "print(y)\n",
    "# [5 4 3 2 1 0 1 2 3 4]\n",
    "\n",
    "y = np.absolute(x)\n",
    "print(y)\n",
    "# [5 4 3 2 1 0 1 2 3 4]"
   ]
  },
  {
   "cell_type": "markdown",
   "metadata": {},
   "source": [
    "- `numpy.sign(x, *args, **kwargs)` Returns an element-wise indication of the sign of a number.\n",
    "\n",
    "返回数字符号的逐元素指示"
   ]
  },
  {
   "cell_type": "code",
   "execution_count": 7,
   "metadata": {},
   "outputs": [
    {
     "name": "stdout",
     "output_type": "stream",
     "text": [
      "[-5 -4 -3 -2 -1  0  1  2  3  4]\n",
      "[-1 -1 -1 -1 -1  0  1  1  1  1]\n"
     ]
    }
   ],
   "source": [
    "x = np.arange(-5, 5)\n",
    "print(x)\n",
    "#[-5 -4 -3 -2 -1  0  1  2  3  4]\n",
    "print(np.sign(x))\n",
    "#[-1 -1 -1 -1 -1  0  1  1  1  1]"
   ]
  },
  {
   "cell_type": "markdown",
   "metadata": {},
   "source": [
    "# 练习\n",
    "- 1.将数组a中大于30的值替换为30，小于10的值替换为10"
   ]
  },
  {
   "cell_type": "code",
   "execution_count": 1,
   "metadata": {},
   "outputs": [
    {
     "name": "stdout",
     "output_type": "stream",
     "text": [
      "[27.63 14.64 21.8  42.39  1.23  6.96 33.87 41.47  7.7  29.18 44.67 11.25\n",
      " 10.08  6.31 11.77 48.95 40.77  9.43 41.   14.43]\n",
      "[27.63 14.64 21.8  30.   10.   10.   30.   30.   10.   29.18 30.   11.25\n",
      " 10.08 10.   11.77 30.   30.   10.   30.   14.43]\n",
      "[27.63 14.64 21.8  30.   10.   10.   30.   30.   10.   29.18 30.   11.25\n",
      " 10.08 10.   11.77 30.   30.   10.   30.   14.43]\n"
     ]
    }
   ],
   "source": [
    "import numpy as np\n",
    "\n",
    "np.set_printoptions(precision = 2)\n",
    "np.random.seed(100)\n",
    "a = np.random.uniform(1, 50, 20)\n",
    "print(a)\n",
    "# [27.63 14.64 21.8  42.39  1.23  6.96 33.87 41.47  7.7  29.18 44.67 11.25\n",
    "#  10.08  6.31 11.77 48.95 40.77  9.43 41.   14.43]\n",
    "\n",
    "b = np.clip(a, a_min = 10, a_max = 30)\n",
    "print(b)\n",
    "# [27.63 14.64 21.8  30.   10.   10.   30.   30.   10.   29.18 30.   11.25\n",
    "#  10.08 10.   11.77 30.   30.   10.   30.   14.43]\n",
    "\n",
    "b = np.where(a < 10, 10, a)\n",
    "b = np.where(b > 30, 30, b)\n",
    "print(b)"
   ]
  },
  {
   "cell_type": "markdown",
   "metadata": {},
   "source": [
    "- 2.找到一个一维数组中的所有峰值（两边被较小数值包围的点）\n",
    "\n",
    "利用峰值两端的差值一正一负"
   ]
  },
  {
   "cell_type": "code",
   "execution_count": 3,
   "metadata": {},
   "outputs": [
    {
     "name": "stdout",
     "output_type": "stream",
     "text": [
      "[ 2  4 -6  1  4 -6  1]\n",
      "[ 1  1 -1  1  1 -1  1]\n",
      "[ 0 -2  2  0 -2  2]\n",
      "[2 5]\n"
     ]
    }
   ],
   "source": [
    "a = np.array([1, 3, 7, 1, 2, 6, 0, 1])\n",
    "b1 = np.diff(a)  # 计算数组的差值\n",
    "b2 = np.sign(b1) # 显示差值的符号\n",
    "b3 = np.diff(b2) # 计算符号的差值，峰值对左边符号为正，对右边符号为负\n",
    "\n",
    "print(b1, b2, b3, sep = '\\n')\n",
    "print(np.where(np.equal(b3, -2))[0] + 1) # 差值数组长度比原数组长度少1"
   ]
  },
  {
   "cell_type": "markdown",
   "metadata": {},
   "source": [
    "- 3.对于给定的一维数组，计算窗口大小为3的移动平均值"
   ]
  },
  {
   "cell_type": "code",
   "execution_count": 8,
   "metadata": {},
   "outputs": [
    {
     "name": "stdout",
     "output_type": "stream",
     "text": [
      "[8 8 3 7 7 0 4 2 5 2]\n",
      "[7 7 0 4 2 5 2] [8 8 3 7 7 0 4]\n",
      "[6.33 6.   5.67 4.67 3.67 2.   3.67 3.  ]\n"
     ]
    }
   ],
   "source": [
    "np.random.seed(100)\n",
    "z = np.random.randint(10 ,size = 10)\n",
    "print(z)\n",
    "# [8 8 3 7 7 0 4 2 5 2]\n",
    "print(z[3:], z[:-3])\n",
    "# [7 7 0 4 2 5 2] [8 8 3 7 7 0 4]\n",
    "\n",
    "def movingAverage(arr, n = 3):\n",
    "    a = np.cumsum(arr)\n",
    "    a[n:] = a[n:] - a[:-3]\n",
    "    return a[n - 1:] /n\n",
    "\n",
    "r = movingAverage(z, 3)\n",
    "print(np.around(r, 2))\n",
    "# [6.33 6.   5.67 4.67 3.67 2.   3.67 3.  ]"
   ]
  },
  {
   "cell_type": "markdown",
   "metadata": {},
   "source": [
    "- 4.对一个5x5的随机矩阵做归一化"
   ]
  },
  {
   "cell_type": "code",
   "execution_count": 9,
   "metadata": {},
   "outputs": [
    {
     "name": "stdout",
     "output_type": "stream",
     "text": [
      "[[0.22 0.47 0.92 0.06 0.65]\n",
      " [0.55 0.59 0.   0.32 1.  ]\n",
      " [0.13 0.08 0.32 0.66 0.73]\n",
      " [0.67 0.97 0.31 0.6  0.18]\n",
      " [0.56 0.68 0.14 0.61 0.5 ]]\n"
     ]
    }
   ],
   "source": [
    "Z = np.random.random((5,5))\n",
    "Zmax, Zmin = Z.max(), Z.min()\n",
    "Z = (Z - Zmin)/(Zmax - Zmin)\n",
    "print(Z)"
   ]
  },
  {
   "cell_type": "markdown",
   "metadata": {},
   "source": [
    "- 5.用五种不同的方法去提取一个随机数组的整数部分"
   ]
  },
  {
   "cell_type": "code",
   "execution_count": 11,
   "metadata": {},
   "outputs": [
    {
     "name": "stdout",
     "output_type": "stream",
     "text": [
      "[1. 1. 8. 0. 8. 8. 0. 0. 0. 3.]\n",
      "[1. 1. 8. 0. 8. 8. 0. 0. 0. 3.]\n",
      "[2. 2. 9. 1. 9. 9. 1. 1. 1. 4.]\n",
      "[1 1 8 0 8 8 0 0 0 3]\n",
      "[1. 1. 8. 0. 8. 8. 0. 0. 0. 3.]\n"
     ]
    }
   ],
   "source": [
    "z = np.random.uniform(0, 10, 10)\n",
    "print(z - z % 1)\n",
    "print(np.floor(z))\n",
    "print(np.ceil(z))\n",
    "print(z.astype(int))\n",
    "print(np.trunc(z))\n",
    "# [1. 1. 8. 0. 8. 8. 0. 0. 0. 3.]\n",
    "# [1. 1. 8. 0. 8. 8. 0. 0. 0. 3.]\n",
    "# [2. 2. 9. 1. 9. 9. 1. 1. 1. 4.]\n",
    "# [1 1 8 0 8 8 0 0 0 3]\n",
    "# [1. 1. 8. 0. 8. 8. 0. 0. 0. 3.]"
   ]
  },
  {
   "cell_type": "markdown",
   "metadata": {},
   "source": [
    "- 6.考虑一维数组Z，构建一个二维数组，其第一行为（Z [0]，Z [1]，Z [2]），随后的每一行都移位1（最后一行应为（Z [ -3]，Z [-2]，Z [-1]）"
   ]
  },
  {
   "cell_type": "code",
   "execution_count": 13,
   "metadata": {},
   "outputs": [
    {
     "name": "stdout",
     "output_type": "stream",
     "text": [
      "[[0 1 2]\n",
      " [1 2 3]\n",
      " [2 3 4]\n",
      " [3 4 5]\n",
      " [4 5 6]\n",
      " [5 6 7]\n",
      " [6 7 8]\n",
      " [7 8 9]]\n"
     ]
    }
   ],
   "source": [
    "from numpy.lib import stride_tricks\n",
    "\n",
    "def rolling(a, window):\n",
    "    shape = (a.size - window + 1, window)\n",
    "    strides = (a.itemsize, a.itemsize)\n",
    "    return stride_tricks.as_strided(a, shape = shape, strides = strides)\n",
    "\n",
    "print(rolling(np.arange(10), 3))\n",
    "# [[0 1 2]\n",
    "#  [1 2 3]\n",
    "#  [2 3 4]\n",
    "#  [3 4 5]\n",
    "#  [4 5 6]\n",
    "#  [5 6 7]\n",
    "#  [6 7 8]\n",
    "#  [7 8 9]]"
   ]
  },
  {
   "cell_type": "markdown",
   "metadata": {},
   "source": [
    "- 7.考虑两组点集P0和P1去描述一组线(二维)和一个点p,如何计算点p到每一条线 i (P0[i],P1[i])的距离？\n",
    "\n",
    "【知识点：数学函数】\n",
    "\n",
    "提示 设P(x0,y0)，直线方程为：Ax+By+C=0 则P到直线的距离为:d=|Ax0+By0+C|/√(A²+B²)"
   ]
  },
  {
   "cell_type": "code",
   "execution_count": 8,
   "metadata": {},
   "outputs": [
    {
     "name": "stdout",
     "output_type": "stream",
     "text": [
      "[[-7  9]]\n",
      "[[-10   0]]\n",
      "[[-2  4]]\n",
      "[16.32998314]\n"
     ]
    }
   ],
   "source": [
    "import numpy as np\n",
    "# p0 = np.random.uniform(1, 10, (10, 2))\n",
    "# p1 = np.random.uniform(1, 10, (10, 2))\n",
    "# p  = np.random.uniform(1, 10, (1 , 2))\n",
    "P0 = np.random.randint(-10, 10, (1, 2))\n",
    "P1 = np.random.randint(-10, 10, (1, 2))\n",
    "P  = np.random.randint(-10, 10, (1 , 2))\n",
    "print(P0, P1, P, sep = '\\n')\n",
    "def distance(P0,P1,p):\n",
    "    A=-1/(P1[:,0]-P0[:,0])\n",
    "    B=1/(P1[:,1]-P0[:,1])\n",
    "    C=P0[:,0]/(P1[:,0]-P0[:,0])-P0[:,1]/(P1[:,1]-P0[:,1])\n",
    "    return np.abs(A*p[:,0]+B*p[:,1]+C)/np.sqrt(A**2+B**2)\n",
    "\n",
    "print (distance(P0, P1, p))"
   ]
  },
  {
   "cell_type": "markdown",
   "metadata": {},
   "source": [
    "- 8.画正弦函数和余弦函数"
   ]
  },
  {
   "cell_type": "code",
   "execution_count": 10,
   "metadata": {},
   "outputs": [
    {
     "data": {
      "image/png": "[encoded data removed]",
      "text/plain": [
       "<Figure size 432x288 with 1 Axes>"
      ]
     },
     "metadata": {
      "needs_background": "light"
     },
     "output_type": "display_data"
    }
   ],
   "source": [
    "import matplotlib.pyplot as plt\n",
    "x = np.arange(0, 3 * np.pi, 0.1)\n",
    "y1 = np.sin(x)\n",
    "y2 = np.cos(x)\n",
    "plt.plot(x, y1)\n",
    "plt.plot(x, y2)\n",
    "plt.show()"
   ]
  },
  {
   "cell_type": "markdown",
   "metadata": {},
   "source": [
    "- 9.减去矩阵每一行的平均值"
   ]
  },
  {
   "cell_type": "code",
   "execution_count": 12,
   "metadata": {},
   "outputs": [
    {
     "name": "stdout",
     "output_type": "stream",
     "text": [
      "[[ 0.07125     0.23939691  0.05489029  0.11172287  0.12123775 -0.26309755\n",
      "  -0.46221125  0.2708742  -0.43091795  0.28685472]\n",
      " [ 0.37294965  0.21876479  0.27993545 -0.43380922  0.0872947  -0.43166586\n",
      "  -0.36028409  0.20351856  0.07622536 -0.01292935]\n",
      " [ 0.39158461  0.41266875 -0.14513467 -0.24273725  0.20994024 -0.27789195\n",
      "   0.23436195 -0.2542111   0.05349173 -0.3820723 ]\n",
      " [-0.16551087 -0.11024407 -0.24446262  0.00170261  0.00262387  0.12333843\n",
      "   0.4285348   0.56205692 -0.24386342 -0.35417563]\n",
      " [-0.36461024  0.48200592 -0.33329156 -0.11593421  0.12521036  0.20382138\n",
      "  -0.35116523  0.53234671  0.19223228 -0.37061541]]\n"
     ]
    }
   ],
   "source": [
    "X = np.random.rand(5, 10)\n",
    "# 新\n",
    "Y = X - X.mean(axis=1, keepdims=True)\n",
    "# 旧\n",
    "Y = X - X.mean(axis=1).reshape(-1, 1)\n",
    "print(Y)\n"
   ]
  },
  {
   "cell_type": "markdown",
   "metadata": {},
   "source": [
    "- 10.进行概率统计分析"
   ]
  },
  {
   "cell_type": "code",
   "execution_count": null,
   "metadata": {},
   "outputs": [],
   "source": [
    "arr1 = np.random.randint(1,10,10)\n",
    "arr2 = np.random.randint(1,10,10)\n",
    "\n",
    "print(\"arr1的平均数为:%s\" %np.mean(arr1))\n",
    "print(\"arr1的中位数为:%s\" %np.median(arr1))\n",
    "print(\"arr1的方差为:%s\" %np.var(arr1))\n",
    "print(\"arr1的标准差为:%s\" %np.std(arr1))\n",
    "print(\"arr1,arr的相关性矩阵为:%s\" %np.cov(arr1,arr2))\n",
    "print(\"arr1,arr的协方差矩阵为:%s\" %np.corrcoef(arr1,arr2))"
   ]
  },
  {
   "cell_type": "markdown",
   "metadata": {},
   "source": [
    "- 11.获取a和b元素匹配的位置"
   ]
  },
  {
   "cell_type": "code",
   "execution_count": 14,
   "metadata": {},
   "outputs": [
    {
     "name": "stdout",
     "output_type": "stream",
     "text": [
      "(array([1, 3, 5, 7]),)\n",
      "(array([1, 3, 5, 7]),)\n"
     ]
    }
   ],
   "source": [
    "a = np.array([1, 2, 3, 2, 3, 4, 3, 4, 5, 6])\n",
    "b = np.array([7, 2, 10, 2, 7, 4, 9, 4, 9, 8])\n",
    "mask = np.equal(a, b)\n",
    "\n",
    "print(np.where(mask))\n",
    "print(np.nonzero(mask)) # (array([1, 3, 5, 7]),)"
   ]
  },
  {
   "cell_type": "markdown",
   "metadata": {},
   "source": [
    "- 12.获取5到10之间的所有元素"
   ]
  },
  {
   "cell_type": "code",
   "execution_count": 16,
   "metadata": {},
   "outputs": [
    {
     "name": "stdout",
     "output_type": "stream",
     "text": [
      "[ 6  9 10]\n",
      "[ 6  9 10]\n",
      "[ 6  9 10]\n"
     ]
    }
   ],
   "source": [
    "a = np.array([2, 6, 1, 9, 10, 3, 27])\n",
    "mask = np.logical_and(np.greater_equal(a, 5), np.less_equal(a, 10))\n",
    "print(a[np.where(mask)])\n",
    "print(a[np.nonzero(mask)])\n",
    "print(a[np.logical_and(a >= 5, a <= 10)]) # [ 6  9 10]"
   ]
  },
  {
   "cell_type": "markdown",
   "metadata": {},
   "source": [
    "- 13.对于两个随机数组A和B,检查他们是否相等"
   ]
  },
  {
   "cell_type": "code",
   "execution_count": 17,
   "metadata": {},
   "outputs": [
    {
     "name": "stdout",
     "output_type": "stream",
     "text": [
      "False False\n"
     ]
    }
   ],
   "source": [
    "A = np.random.randint(0,2,5)\n",
    "B = np.random.randint(0,2,5)\n",
    "print(np.allclose(A,B), np.array_equal(A, B))"
   ]
  },
  {
   "cell_type": "markdown",
   "metadata": {},
   "source": [
    "- 14.对布尔值取反，或者原位(in-place)改变浮点数的符号(sign)？"
   ]
  },
  {
   "cell_type": "code",
   "execution_count": 19,
   "metadata": {},
   "outputs": [
    {
     "name": "stdout",
     "output_type": "stream",
     "text": [
      "[ True False]\n"
     ]
    },
    {
     "data": {
      "text/plain": [
       "array([ 0, -1])"
      ]
     },
     "execution_count": 19,
     "metadata": {},
     "output_type": "execute_result"
    }
   ],
   "source": [
    "z = np.array([0, 1])\n",
    "print(np.logical_not(z))\n",
    "np.negative(z) # 改变符号"
   ]
  },
  {
   "cell_type": "markdown",
   "metadata": {},
   "source": [
    "- 15.找出数组中与给定值最接近的数"
   ]
  },
  {
   "cell_type": "code",
   "execution_count": 27,
   "metadata": {},
   "outputs": [
    {
     "name": "stdout",
     "output_type": "stream",
     "text": [
      "[[5.1 4.1 3.1 2.1]\n",
      " [1.1 0.1 0.9 1.9]]\n"
     ]
    },
    {
     "ename": "TypeError",
     "evalue": "'numpy.flatiter' object is not callable",
     "output_type": "error",
     "traceback": [
      "\u001b[0;31m---------------------------------------------------------------------------\u001b[0m",
      "\u001b[0;31mTypeError\u001b[0m                                 Traceback (most recent call last)",
      "\u001b[0;32m<ipython-input-27-7ebc001c2e1c>\u001b[0m in \u001b[0;36m<module>\u001b[0;34m\u001b[0m\n\u001b[1;32m      2\u001b[0m \u001b[0mz\u001b[0m \u001b[0;34m=\u001b[0m \u001b[0;36m5.1\u001b[0m\u001b[0;34m\u001b[0m\u001b[0m\n\u001b[1;32m      3\u001b[0m \u001b[0mprint\u001b[0m\u001b[0;34m(\u001b[0m\u001b[0mnp\u001b[0m\u001b[0;34m.\u001b[0m\u001b[0mabs\u001b[0m\u001b[0;34m(\u001b[0m\u001b[0ma\u001b[0m \u001b[0;34m-\u001b[0m \u001b[0mz\u001b[0m\u001b[0;34m)\u001b[0m\u001b[0;34m)\u001b[0m\u001b[0;34m\u001b[0m\u001b[0m\n\u001b[0;32m----> 4\u001b[0;31m \u001b[0mprint\u001b[0m\u001b[0;34m(\u001b[0m\u001b[0ma\u001b[0m\u001b[0;34m.\u001b[0m\u001b[0mflat\u001b[0m\u001b[0;34m(\u001b[0m\u001b[0;34m)\u001b[0m\u001b[0;34m)\u001b[0m\u001b[0;34m\u001b[0m\u001b[0m\n\u001b[0m",
      "\u001b[0;31mTypeError\u001b[0m: 'numpy.flatiter' object is not callable"
     ]
    }
   ],
   "source": [
    "a = np.array([[0, 1, 2, 3], [4, 5, 6, 7]])\n",
    "z = 5.1\n",
    "np.abs(Z - z).argmin()\n",
    "print(Z.flat[np.abs(Z - z).argmin()])"
   ]
  },
  {
   "cell_type": "code",
   "execution_count": null,
   "metadata": {},
   "outputs": [],
   "source": []
  }
 ],
 "metadata": {
  "kernelspec": {
   "display_name": "Python 3",
   "language": "python",
   "name": "python3"
  },
  "language_info": {
   "codemirror_mode": {
    "name": "ipython",
    "version": 3
   },
   "file_extension": ".py",
   "mimetype": "text/x-python",
   "name": "python",
   "nbconvert_exporter": "python",
   "pygments_lexer": "ipython3",
   "version": "3.6.5"
  }
 },
 "nbformat": 4,
 "nbformat_minor": 4
}
