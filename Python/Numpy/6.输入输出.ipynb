{
 "metadata": {
  "language_info": {
   "codemirror_mode": {
    "name": "ipython",
    "version": 3
   },
   "file_extension": ".py",
   "mimetype": "text/x-python",
   "name": "python",
   "nbconvert_exporter": "python",
   "pygments_lexer": "ipython3",
   "version": "3.8.0"
  },
  "orig_nbformat": 4,
  "kernelspec": {
   "name": "python3",
   "display_name": "Python 3.8.0 32-bit"
  },
  "interpreter": {
   "hash": "1e84fa69717b11d7b5d61c02ca32d173064ae8c20934e36b193c71fd175ea29a"
  }
 },
 "nbformat": 4,
 "nbformat_minor": 2,
 "cells": [
  {
   "source": [
    "# 输入和输出\n",
    "## 1.numpy二进制文件\n",
    "`save(), savez()和load()`函数以numpy专用的二进制类型`(.npz、.npy)`保存和堆区数据，这三个函数会自动处理ndim,dtype,shape等信息，使用它们独写数组非常方便，但是`save()和savez()`输出的文件很难与其它语言编写的程序兼容\n",
    "\n",
    "【函数】\n",
    "```python\n",
    "def save(file, arr, allow_pickle=True, fix_imports=True):\n",
    "```\n",
    "- `save()`函数：以`.npy`格式将数组保存到二进制文件中。\n",
    "- `.npy`格式：以二进制的方式存储文件，在二进制文件第一行以文本形式保存了数据的元信息（ndim，dtype，shape等），可以用二进制工具查看内容。\n",
    "\n",
    "\n",
    "\n",
    "【函数】\n",
    "```python\n",
    "def load(file, mmap_mode=None, allow_pickle=False, fix_imports=True, encoding='ASCII'):\n",
    "```\n",
    "\n",
    "- `load()`函数：从`.npy`、`.npz`或 pickled文件加载数组或pickled对象。\n",
    "- `mmap_mode: {None, ‘r+’, ‘r’, ‘w+’, ‘c’};`：读取文件的方式。\n",
    "- `allow_pickle=False`：允许加载存储在`.npy`文件中的pickled对象数组。\n",
    "- `fix_imports=True`：若为True，pickle将尝试将旧的python2名称映射到python3中使用的新名称。\n",
    "- `encoding='ASCII'`：制定编码格式，默认为“ASCII”。\n",
    "\n",
    "\n",
    "【例子】将一个数组保存到一个文件中。"
   ],
   "cell_type": "markdown",
   "metadata": {}
  },
  {
   "cell_type": "code",
   "execution_count": 1,
   "metadata": {},
   "outputs": [
    {
     "output_type": "stream",
     "name": "stdout",
     "text": [
      "[[0.01123594 0.66790705 0.50212171 0.7230908  0.61668256]\n [0.00668332 0.1234096  0.96092409 0.67925305 0.38596837]\n [0.72342998 0.26258324 0.24318845 0.98795012 0.77370715]]\n"
     ]
    }
   ],
   "source": [
    "import numpy as np\n",
    "outfile = r'.\\test.npy'\n",
    "np.random.seed(20200619)\n",
    "x = np.random.uniform(low = 0, high = 1, size = [3, 5])\n",
    "np.save(outfile, x)\n",
    "y = np.load(outfile)\n",
    "print(y)"
   ]
  },
  {
   "source": [
    "【函数】\n",
    "```python\n",
    "def savez(file, *args, **kwds):\n",
    "```\n",
    "\n",
    "- `savez()`函数：以未压缩的`.npz`格式将多个数组保存到单个文件中。\n",
    "- `.npz`格式：以压缩打包的方式存储文件，可以用压缩软件解压。\n",
    "- `savez()`函数：第一个参数是文件名，其后的参数都是需要保存的数组，也可以使用关键字参数为数组起一个名字，非关键字参数传递的数组会自动起名为`arr_0, arr_1, …`。\n",
    "- `savez()`函数：输出的是一个压缩文件（扩展名为`.npz`），其中每个文件都是一个`save()`保存的`.npy`文件，文件名对应于数组名。`load()`自动识别`.npz`文件，并且返回一个类似于字典的对象，可以通过数组名作为关键字获取数组的内容。\n",
    "\n",
    "【例子】将多个数组保存到一个文件。"
   ],
   "cell_type": "markdown",
   "metadata": {}
  },
  {
   "cell_type": "code",
   "execution_count": 4,
   "metadata": {},
   "outputs": [
    {
     "output_type": "stream",
     "name": "stdout",
     "text": [
      "['z_d', 'arr_0', 'arr_1']\n[0.         0.78539816 1.57079633 2.35619449 3.14159265]\n[0.         0.70710678 1.         0.70710678 0.        ]\n[ 1.          0.70710678  0.         -0.70710678 -1.        ]\n"
     ]
    }
   ],
   "source": [
    "outfile = r'.test.npz'\n",
    "x = np.linspace(0, np.pi, 5)\n",
    "y = np.sin(x)\n",
    "z = np.cos(x)\n",
    "np.savez(outfile, x, y, z_d = z)\n",
    "data = np.load(outfile)\n",
    "np.set_printoptions(suppress = True)\n",
    "print(data.files)\n",
    "\n",
    "print(data['arr_0'])\n",
    "\n",
    "print(data['arr_1'])\n",
    "\n",
    "print(data['z_d'])"
   ]
  },
  {
   "source": [
    "用解压软件打开test.npz文件，会发现其中有三个文件：\n",
    "`arr_0.npy, arr_1.npy, z_d.npy`，其中分别保存着数组`x, y, z`的内容"
   ],
   "cell_type": "markdown",
   "metadata": {}
  },
  {
   "source": [
    "## 2.文本文件\n",
    "`savetxt()`，`loadtxt()`和`genfromtxt()`函数用来存储和读取文本文件（如`.TXT`，`.CSV`等）。`genfromtxt()`比`loadtxt()`更加强大，可对缺失数据进行处理。\n",
    "\n",
    "【函数】\n",
    "```python\n",
    "def savetxt(fname, X, fmt='%.18e', delimiter=' ', newline='\\n',header='', footer='', comments='# ', encoding=None):\n",
    "```\n",
    "- `fname`：文件路径\n",
    "- `X`：存入文件的数组。\n",
    "- `fmt='%.18e'`：写入文件中每个元素的字符串格式，默认'%.18e'（保留18位小数的浮点数形式）。\n",
    "- `delimiter=' '`：分割字符串，默认以空格分隔。\n",
    "\n",
    "```python\n",
    "def loadtxt(fname, dtype=float, comments='#', delimiter=None,\n",
    "            converters=None, skiprows=0, usecols=None, unpack=False,\n",
    "            ndmin=0, encoding='bytes', max_rows=None):\n",
    "```\n",
    "- `fname`：文件路径。\n",
    "- `dtype=float`：数据类型，默认为float。\n",
    "- `comments='#'`: 字符串或字符串组成的列表，默认为'#'，表示注释字符集开始的标志。\n",
    "- `skiprows=0`：跳过多少行，一般跳过第一行表头。\n",
    "- `usecols=None`：元组（元组内数据为列的数值索引）， 用来指定要读取数据的列（第一列为0）。\n",
    "- `unpack=False`：当加载多列数据时是否需要将数据列进行解耦赋值给不同的变量。\n",
    "\n",
    "\n",
    "【例】写入和读出TXT文件。"
   ],
   "cell_type": "markdown",
   "metadata": {}
  },
  {
   "cell_type": "code",
   "execution_count": 7,
   "metadata": {},
   "outputs": [
    {
     "output_type": "stream",
     "name": "stdout",
     "text": [
      "[[0. 1. 2. 3. 4.]\n [5. 6. 7. 8. 9.]]\n"
     ]
    }
   ],
   "source": [
    "outfile = r'.\\test.txt'\n",
    "x = np.arange(0, 10).reshape(2, -1)\n",
    "np.savetxt(outfile, x)\n",
    "y = np.loadtxt(outfile)\n",
    "print(y)"
   ]
  },
  {
   "source": [
    "test.txt文件如下\n",
    "\n",
    "```python\n",
    "0.000000000000000000e+00 1.000000000000000000e+00 2.000000000000000000e+00 3.000000000000000000e+00 4.000000000000000000e+00\n",
    "5.000000000000000000e+00 6.000000000000000000e+00 7.000000000000000000e+00 8.000000000000000000e+00 9.000000000000000000e+00\n",
    "```\n",
    "\n",
    "【例】读入和写出csv文件"
   ],
   "cell_type": "markdown",
   "metadata": {}
  },
  {
   "cell_type": "code",
   "execution_count": 14,
   "metadata": {},
   "outputs": [
    {
     "output_type": "execute_result",
     "data": {
      "text/plain": [
       "array([[0. , 0.5, 1. , 1.5, 2. ],\n",
       "       [2.5, 3. , 3.5, 4. , 4.5],\n",
       "       [5. , 5.5, 6. , 6.5, 7. ],\n",
       "       [7.5, 8. , 8.5, 9. , 9.5]])"
      ]
     },
     "metadata": {},
     "execution_count": 14
    }
   ],
   "source": [
    "outfile = r'.\\test.csv'\n",
    "x = np.arange(0, 10, 0.5).reshape(4, -1)\n",
    "np.savetxt(outfile, x, fmt = '%.3f', delimiter = ',')\n",
    "y = np.loadtxt(outfile, delimiter = ',')\n",
    "y"
   ]
  },
  {
   "cell_type": "code",
   "execution_count": 15,
   "metadata": {},
   "outputs": [
    {
     "output_type": "execute_result",
     "data": {
      "text/plain": [
       "array([[0. , 0.5, 1. , 1.5, 2. ],\n",
       "       [2.5, 3. , 3.5, 4. , 4.5],\n",
       "       [5. , 5.5, 6. , 6.5, 7. ],\n",
       "       [7.5, 8. , 8.5, 9. , 9.5]])"
      ]
     },
     "metadata": {},
     "execution_count": 15
    }
   ],
   "source": [
    "y"
   ]
  },
  {
   "source": [
    "test.csv文件如下：\n",
    "```python\n",
    "0.000,0.500,1.000,1.500,2.000\n",
    "2.500,3.000,3.500,4.000,4.500\n",
    "5.000,5.500,6.000,6.500,7.000\n",
    "7.500,8.000,8.500,9.000,9.500\n",
    "```\n",
    "\n",
    "\n",
    "\n",
    "【函数】\n",
    "\n",
    "```python\n",
    "def genfromtxt(fname, dtype=float, comments='#', delimiter=None,\n",
    "               skip_header=0, skip_footer=0, converters=None,\n",
    "               missing_values=None, filling_values=None, usecols=None,\n",
    "               names=None, excludelist=None,\n",
    "               deletechars=''.join(sorted(NameValidator.defaultdeletechars)),\n",
    "               replace_space='_', autostrip=False, case_sensitive=True,\n",
    "               defaultfmt=\"f%i\", unpack=None, usemask=False, loose=True,\n",
    "               invalid_raise=True, max_rows=None, encoding='bytes'):\n",
    "```\n",
    "- `genfromtxt()`函数：从文本文件加载数据，并按指定方式处理缺少的值（是面向结构数组和缺失数据处理的。）。\n",
    "- `names=None`：设置为True时，程序将把第一行作为列名称。\n",
    "\n",
    "\n",
    "data.csv文件（不带缺失值）\n",
    "```python\n",
    "id,value1,value2,value3\n",
    "1,123,1.4,23\n",
    "2,110,0.5,18\n",
    "3,164,2.1,19\n",
    "```\n",
    "\n",
    "【例子】"
   ],
   "cell_type": "markdown",
   "metadata": {}
  },
  {
   "cell_type": "code",
   "execution_count": 34,
   "metadata": {},
   "outputs": [
    {
     "output_type": "stream",
     "name": "stdout",
     "text": [
      "[[  1.  123.    1.4  23. ]\n [  2.  110.    0.5  18. ]\n [  3.  164.    2.1  19. ]]\n"
     ]
    }
   ],
   "source": [
    "outfile = r'.\\data.csv'\n",
    "x = np.loadtxt(outfile, delimiter = ',', skiprows = 1)\n",
    "print(x)"
   ]
  },
  {
   "cell_type": "code",
   "execution_count": 37,
   "metadata": {},
   "outputs": [
    {
     "output_type": "execute_result",
     "data": {
      "text/plain": [
       "array([[123. ,   1.4],\n",
       "       [110. ,   0.5],\n",
       "       [164. ,   2.1]])"
      ]
     },
     "metadata": {},
     "execution_count": 37
    }
   ],
   "source": [
    "np.loadtxt(outfile, delimiter = ',', skiprows = 1, usecols = (1, 2))"
   ]
  },
  {
   "source": [
    "【例子】"
   ],
   "cell_type": "markdown",
   "metadata": {}
  },
  {
   "cell_type": "code",
   "execution_count": 40,
   "metadata": {},
   "outputs": [
    {
     "output_type": "stream",
     "name": "stdout",
     "text": [
      "[(1., 123., 1.4, 23.) (2., 110., 0.5, 18.) (3., 164., 2.1, 19.)]\n<class 'numpy.ndarray'>\n[('id', '<f8'), ('value1', '<f8'), ('value2', '<f8'), ('value3', '<f8')]\n[1. 2. 3.]\n[123. 110. 164.]\n"
     ]
    }
   ],
   "source": [
    "outfile = r'.\\data.csv'\n",
    "x = np.genfromtxt(outfile, delimiter = ',', names = True)\n",
    "print(x)\n",
    "\n",
    "print(type(x))\n",
    "\n",
    "print(x.dtype)\n",
    "\n",
    "print(x['id'])\n",
    "print(x['value1'])"
   ]
  },
  {
   "source": [
    "data1.csv文件（带有缺失值）\n",
    "```python\n",
    "id,value1,value2,value3\n",
    "1,123,1.4,23\n",
    "2,110,,18\n",
    "3,,2.1,19\n",
    "```"
   ],
   "cell_type": "markdown",
   "metadata": {}
  },
  {
   "cell_type": "code",
   "execution_count": 42,
   "metadata": {},
   "outputs": [
    {
     "output_type": "stream",
     "name": "stdout",
     "text": [
      "[(1., 123., 1.4, 23.) (2., 110., 0.5, 18.) (3., 164., 2.1, 19.)]\n<class 'numpy.ndarray'>\n[('id', '<f8'), ('value1', '<f8'), ('value2', '<f8'), ('value3', '<f8')]\n[1. 2. 3.]\n[123. 110. 164.]\n"
     ]
    }
   ],
   "source": [
    "outfile1 = r'.\\data1.csv'\n",
    "x = np.genfromtxt(outfile, delimiter = ',', names = True)\n",
    "print(x)\n",
    "\n",
    "print(type(x))\n",
    "\n",
    "print(x.dtype)\n",
    "\n",
    "print(x['id'])\n",
    "print(x['value1'])"
   ]
  },
  {
   "source": [
    "## 3. 文本格式选项\n",
    "\n",
    "【函数】\n",
    "```python\n",
    "def set_printoptions(precision=None, threshold=None, edgeitems=None,\n",
    "                     linewidth=None, suppress=None, nanstr=None, infstr=None,\n",
    "                     formatter=None, sign=None, floatmode=None, **kwarg):\n",
    "```\n",
    "- `set_printoptions()`函数：设置打印选项。这些选项决定浮点数、数组和其它NumPy对象的显示方式。\n",
    "- `precision=8`：设置浮点精度，控制输出的小数点个数，默认是8。\n",
    "- `threshold=1000`：概略显示，超过该值则以“…”的形式来表示，默认是1000。\n",
    "- `linewidth=75`：用于确定每行多少字符数后插入换行符，默认为75。\n",
    "- `suppress=False`：当`suppress=True`，表示小数不需要以科学计数法的形式输出，默认是False。\n",
    "- `nanstr=nan`：浮点非数字的字符串表示形式，默认`nan`。\n",
    "- `infstr=inf`：浮点无穷大的字符串表示形式，默认`inf`。\n",
    "- `formatter`：一个字典，自定义格式化用于显示的数组元素。键为需要格式化的类型，值为格式化的字符串。\n",
    "    - 'bool'\n",
    "    - 'int'\n",
    "    - 'float'\n",
    "    - 'str' : all other strings\n",
    "    - 'all' : sets all types\n",
    "    - ...\n",
    "\n",
    "【例子】\n"
   ],
   "cell_type": "markdown",
   "metadata": {}
  },
  {
   "cell_type": "code",
   "execution_count": 43,
   "metadata": {},
   "outputs": [
    {
     "output_type": "stream",
     "name": "stdout",
     "text": [
      "[1.1232]\n"
     ]
    }
   ],
   "source": [
    "np.set_printoptions(precision = 4)\n",
    "x = np.array([1.12323452])\n",
    "print(x)"
   ]
  },
  {
   "cell_type": "code",
   "execution_count": 49,
   "metadata": {},
   "outputs": [
    {
     "output_type": "stream",
     "name": "stdout",
     "text": [
      "[ 0  1  2 ... 47 48 49]\n"
     ]
    }
   ],
   "source": [
    "np.set_printoptions(threshold = 5)\n",
    "x = np.arange(50)\n",
    "print(x)"
   ]
  },
  {
   "cell_type": "code",
   "execution_count": 50,
   "metadata": {},
   "outputs": [
    {
     "output_type": "stream",
     "name": "stdout",
     "text": [
      "[ 0  1  2  3  4  5  6  7  8  9 10 11 12 13 14 15 16 17 18 19 20 21 22 23\n 24 25 26 27 28 29 30 31 32 33 34 35 36 37 38 39 40 41 42 43 44 45 46 47\n 48 49]\n"
     ]
    }
   ],
   "source": [
    "np.set_printoptions(threshold = np.iinfo(np.int).max)\n",
    "print(x)"
   ]
  },
  {
   "cell_type": "code",
   "execution_count": 56,
   "metadata": {},
   "outputs": [
    {
     "output_type": "stream",
     "name": "stdout",
     "text": [
      "[-4.9304e-32 -4.4409e-16  0.0000e+00  0.0000e+00]\n[-0. -0.  0.  0.]\n"
     ]
    }
   ],
   "source": [
    "eps = np.finfo(float).eps\n",
    "x = np.arange(4.)\n",
    "x = x ** 2 - (x + eps) ** 2\n",
    "np.set_printoptions(suppress = False)\n",
    "print(x)\n",
    "\n",
    "np.set_printoptions(suppress = True)\n",
    "print(x)"
   ]
  },
  {
   "cell_type": "code",
   "execution_count": 57,
   "metadata": {},
   "outputs": [
    {
     "output_type": "stream",
     "name": "stdout",
     "text": [
      "[ 0.      1.1111  2.2222  3.3333  4.4444  5.5556  6.6667  7.7778  8.8889\n 10.    ]\n"
     ]
    }
   ],
   "source": [
    "x = np.linspace(0, 10, 10)\n",
    "print(x)"
   ]
  },
  {
   "cell_type": "code",
   "execution_count": 58,
   "metadata": {},
   "outputs": [
    {
     "output_type": "stream",
     "name": "stdout",
     "text": [
      "[ 0.    1.11  2.22 ...  7.78  8.89 10.  ]\n"
     ]
    }
   ],
   "source": [
    "np.set_printoptions(precision = 2, suppress = True, threshold = 5)\n",
    "print(x)"
   ]
  },
  {
   "cell_type": "code",
   "execution_count": 61,
   "metadata": {},
   "outputs": [
    {
     "output_type": "stream",
     "name": "stdout",
     "text": [
      "[int:0 int:-1 int:-2]\n"
     ]
    }
   ],
   "source": [
    "np.set_printoptions(formatter = {'all' : lambda x : 'int:' + str(-x)})\n",
    "x = np.arange(3)\n",
    "print(x)"
   ]
  },
  {
   "cell_type": "code",
   "execution_count": 62,
   "metadata": {},
   "outputs": [
    {
     "output_type": "stream",
     "name": "stdout",
     "text": [
      "[0 1 2]\n"
     ]
    }
   ],
   "source": [
    "np.set_printoptions() # 重置\n",
    "print(x)"
   ]
  },
  {
   "source": [
    "【函数】\n",
    "```python\n",
    "def get_printoptions():\n",
    "```\n",
    "函数，获取当前打印选项\n",
    "【例子】"
   ],
   "cell_type": "markdown",
   "metadata": {}
  },
  {
   "cell_type": "code",
   "execution_count": 64,
   "metadata": {},
   "outputs": [
    {
     "output_type": "stream",
     "name": "stdout",
     "text": [
      "{'edgeitems': 3, 'threshold': 5, 'floatmode': 'maxprec', 'precision': 2, 'suppress': True, 'linewidth': 75, 'nanstr': 'nan', 'infstr': 'inf', 'sign': '-', 'formatter': None, 'legacy': False}\n"
     ]
    }
   ],
   "source": [
    "x = np.get_printoptions()\n",
    "print(x)"
   ]
  },
  {
   "source": [
    "## 4. 练习\n",
    "\n",
    "**（1）只打印或显示numpy数组rand_arr的小数点后3位。**\n",
    "\n",
    "【知识点：输入和输出】\n",
    "- 如何在numpy数组中只打印小数点后三位？\n",
    "\n",
    "```python\n",
    "import numpy as np\n",
    "\n",
    "np.random.seed(2002)\n",
    "rand_arr = np.random.random([5,3])\n",
    "```\n",
    "\n",
    "**（2）将numpy数组a中打印的项数限制为最多6个元素。**\n",
    "\n",
    "【知识点：输入和输出】\n",
    "- 如何限制numpy数组输出中打印的项目数？\n",
    "\n",
    "```python\n",
    "import numpy as np\n",
    "\n",
    "a = np.arange(15)\n",
    "```\n",
    "\n",
    "**（3）打印完整的numpy数组a而不中断。**\n",
    "\n",
    "【知识点：输入和输出】\n",
    "\n",
    "- 如何打印完整的numpy数组而不中断？\n",
    "\n",
    "```python\n",
    "import numpy as np\n",
    "\n",
    "a = np.arange(15)\n",
    "np.set_printoptions(threshold=6)\n",
    "print(a)\n",
    "```"
   ],
   "cell_type": "markdown",
   "metadata": {}
  },
  {
   "cell_type": "code",
   "execution_count": 66,
   "metadata": {},
   "outputs": [
    {
     "output_type": "stream",
     "name": "stdout",
     "text": [
      "[[0.655 0.297 0.524]\n [0.514 0.674 0.102]\n [0.745 0.061 0.047]\n [0.099 0.392 0.18 ]\n [0.485 0.718 0.326]]\n"
     ]
    }
   ],
   "source": [
    "#1\n",
    "np.random.seed(2002)\n",
    "rand_arr = np.random.random([5, 3])\n",
    "np.set_printoptions(precision = 3)\n",
    "print(rand_arr)"
   ]
  },
  {
   "cell_type": "code",
   "execution_count": 67,
   "metadata": {},
   "outputs": [
    {
     "output_type": "stream",
     "name": "stdout",
     "text": [
      "[ 0  1  2 ... 12 13 14]\n"
     ]
    }
   ],
   "source": [
    "#2\n",
    "a = np.arange(15)\n",
    "np.set_printoptions(threshold = 6)\n",
    "print(a)"
   ]
  },
  {
   "cell_type": "code",
   "execution_count": null,
   "metadata": {},
   "outputs": [],
   "source": []
  }
 ]
}