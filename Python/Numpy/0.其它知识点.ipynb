{
 "cells": [
  {
   "cell_type": "markdown",
   "source": [
    "# np.meshgrid()\r\n",
    "\r\n",
    "在计算机中进行绘图操作时，往往需要一些采样点，然后根据这些采样点绘制出整个图形"
   ],
   "metadata": {}
  },
  {
   "cell_type": "code",
   "execution_count": 6,
   "source": [
    "import numpy as np\r\n",
    "x = np.arange(1, 4)\r\n",
    "y = np.arange(6, 8)\r\n",
    "X, Y = np.meshgrid(x, y)\r\n",
    "print(x, y, sep='\\n\\n')\r\n",
    "print()\r\n",
    "print(X, Y, sep='\\n\\n')"
   ],
   "outputs": [
    {
     "output_type": "stream",
     "name": "stdout",
     "text": [
      "[1 2 3]\n",
      "\n",
      "[6 7]\n",
      "\n",
      "[[1 2 3]\n",
      " [1 2 3]]\n",
      "\n",
      "[[6 6 6]\n",
      " [7 7 7]]\n"
     ]
    }
   ],
   "metadata": {}
  },
  {
   "cell_type": "markdown",
   "source": [
    "`meshgrid`将`x`当作行向量复制了`len(y)`次变成一个`(2, 3)`的矩阵\r\n",
    "\r\n",
    "`meshgrid`将`y`当作列向量复制了`len(x)`次变成一个`(2, 3)`的矩阵\r\n",
    "\r\n",
    "`X,Y`中存放着xoy平面中采样点的`x,y`坐标\r\n",
    "\r\n",
    "也就是我们要在1<=x<=3,6<=y<=7的平面内绘制图形，则需要表示出的坐标为：\r\n",
    "\r\n",
    "(1,6)，(2,6)，(3,6)\r\n",
    "\r\n",
    "(1,7)，(2,7)，(3,7)\r\n",
    "\r\n",
    "把各个点的x坐标独立出来就是X中的数据：\r\n",
    "\r\n",
    "1，2，3\r\n",
    "\r\n",
    "1，2，3\r\n",
    "\r\n",
    "再把各个点的y坐标独立出来就是Y中的数据：\r\n",
    "\r\n",
    "6，6，6\r\n",
    "\r\n",
    "7，7，7"
   ],
   "metadata": {}
  },
  {
   "cell_type": "markdown",
   "source": [
    "# np.r_和np.c_"
   ],
   "metadata": {}
  },
  {
   "cell_type": "markdown",
   "source": [
    "- `np.r_`添加到第一个维度\r\n",
    "\r\n",
    "- `np.c_`添加到最后一个维度\r\n"
   ],
   "metadata": {}
  },
  {
   "cell_type": "code",
   "execution_count": 8,
   "source": [
    "a = np.array([[1, 2, 3], [4, 5, 6]])\r\n",
    "b = np.array([[0, 0, 0], [1, 1, 1]])\r\n",
    "print(np.r_[a, b])\r\n",
    "print()\r\n",
    "print(np.c_[a, b])"
   ],
   "outputs": [
    {
     "output_type": "stream",
     "name": "stdout",
     "text": [
      "[[1 2 3]\n",
      " [4 5 6]\n",
      " [0 0 0]\n",
      " [1 1 1]]\n",
      "\n",
      "[[1 2 3 0 0 0]\n",
      " [4 5 6 1 1 1]]\n"
     ]
    }
   ],
   "metadata": {}
  },
  {
   "cell_type": "code",
   "execution_count": 11,
   "source": [
    "a = np.zeros(3)\r\n",
    "b = np.ones(3)\r\n",
    "print(a.shape, b.shape)\r\n",
    "print(np.r_[a, b].shape, np.c_[a, b].shape)\r\n",
    "\r\n",
    "a = np.zeros((2, 3))\r\n",
    "b = np.ones((2, 3))\r\n",
    "print(a.shape, b.shape)\r\n",
    "print(np.r_[a, b].shape, np.c_[a, b].shape)\r\n",
    "\r\n",
    "a = np.zeros((2, 3, 4))\r\n",
    "b = np.ones((2, 3, 4))\r\n",
    "print(a.shape, b.shape)\r\n",
    "print(np.r_[a, b].shape, np.c_[a, b].shape)"
   ],
   "outputs": [
    {
     "output_type": "stream",
     "name": "stdout",
     "text": [
      "(3,) (3,)\n",
      "(6,) (3, 2)\n",
      "(2, 3) (2, 3)\n",
      "(4, 3) (2, 6)\n",
      "(2, 3, 4) (2, 3, 4)\n",
      "(4, 3, 4) (2, 3, 8)\n"
     ]
    }
   ],
   "metadata": {}
  },
  {
   "cell_type": "markdown",
   "source": [
    "# np.random.uniform\r\n",
    "- `random.uniform(参数1，参数2)` 返回参数1和参数2之间的任意值"
   ],
   "metadata": {}
  },
  {
   "cell_type": "code",
   "execution_count": 2,
   "source": [
    "import numpy as np\r\n",
    "np.random.uniform(3, 10, 5)"
   ],
   "outputs": [
    {
     "output_type": "execute_result",
     "data": {
      "text/plain": [
       "array([4.39027761, 7.34022424, 7.28731143, 9.88894867, 5.32135218])"
      ]
     },
     "metadata": {},
     "execution_count": 2
    }
   ],
   "metadata": {}
  },
  {
   "cell_type": "markdown",
   "source": [
    "# np.random.multivariate_normal\r\n",
    "\r\n",
    "- `def multivariate_normal(mean, cov, size=None, check_valid=None, tol=None)`从多元正态分布中生成随机抽样，组成一个N维的数组。并返回该数组。\r\n",
    " - `mean`：多元正态分布的维度。(长度为N的一维数组)\r\n",
    " - `cov`：多元正态分布的协方差矩阵，且协方差矩阵必须是对称矩阵和半正定矩阵(形状为(N,N)的二维数组)。\r\n",
    " - `size`：数组的形状（整数或者由整数构成的元组）。如果该值未给定，则返回单个N维的样本（N恰恰是上面mean的长度）。\r\n",
    "  - `check_valid`：当协方差(上面的cov)矩阵不是半正定矩阵时，程序的处理方式（一共有三种方式：{ ‘warn’, ‘raise’, ‘ignore’ }）。igore:忽略协方差矩阵不是半正定矩阵的问题，生成数组。warn:输出警告，但是还是会生成数组。raise:程序报错，且不会生成数组\r\n",
    "  - `tol`:当协方差矩阵只有一个值时，生成的公差（浮点数）。"
   ],
   "metadata": {}
  },
  {
   "cell_type": "code",
   "execution_count": 4,
   "source": [
    "np.random.multivariate_normal(np.random.randn(2), np.eye(2), (2, 2))"
   ],
   "outputs": [
    {
     "output_type": "execute_result",
     "data": {
      "text/plain": [
       "array([[[-0.82391543, -0.90725102],\n",
       "        [ 0.22400312, -0.83353517]],\n",
       "\n",
       "       [[ 0.07476064,  0.5790277 ],\n",
       "        [ 0.04620254, -2.63115561]]])"
      ]
     },
     "metadata": {},
     "execution_count": 4
    }
   ],
   "metadata": {}
  },
  {
   "cell_type": "code",
   "execution_count": 5,
   "source": [
    "np.random.randn(2)"
   ],
   "outputs": [
    {
     "output_type": "execute_result",
     "data": {
      "text/plain": [
       "array([-0.37064095,  0.33178886])"
      ]
     },
     "metadata": {},
     "execution_count": 5
    }
   ],
   "metadata": {}
  },
  {
   "cell_type": "code",
   "execution_count": null,
   "source": [],
   "outputs": [],
   "metadata": {}
  }
 ],
 "metadata": {
  "interpreter": {
   "hash": "e5edc721c267c354f7c3a43761a84baa24063647031c2095a95e3fbc9f4e28d2"
  },
  "kernelspec": {
   "display_name": "Python 3.8.0 64-bit",
   "name": "python3"
  },
  "language_info": {
   "codemirror_mode": {
    "name": "ipython",
    "version": 3
   },
   "file_extension": ".py",
   "mimetype": "text/x-python",
   "name": "python",
   "nbconvert_exporter": "python",
   "pygments_lexer": "ipython3",
   "version": "3.8.0"
  },
  "orig_nbformat": 4
 },
 "nbformat": 4,
 "nbformat_minor": 2
}