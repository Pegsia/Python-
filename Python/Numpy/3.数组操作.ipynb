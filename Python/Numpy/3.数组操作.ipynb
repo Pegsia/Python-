{
 "cells": [
  {
   "cell_type": "markdown",
   "metadata": {},
   "source": [
    "# 数组操作\n",
    "## 更改形状\n",
    "\n",
    "在对数组进行操作时，为了满足格式和计算的要求通常会改变其形状\n",
    "- `numpy.ndarray.shape`表示数组的维度，返回一个元组，这个元组的长度就是维度的数目，即`ndim`属性（秩）\n",
    "【例】通过修改shape属性来改变数组的形状\n"
   ]
  },
  {
   "cell_type": "code",
   "execution_count": 1,
   "metadata": {},
   "outputs": [
    {
     "name": "stdout",
     "output_type": "stream",
     "text": [
      "(8,)\n",
      "[[1 2 3 4]\n",
      " [5 6 7 8]]\n"
     ]
    }
   ],
   "source": [
    "import numpy as np\n",
    "\n",
    "x = np.array([1 ,2 ,3 ,4 ,5 ,6 ,7, 8])\n",
    "print(x.shape) # (8,)\n",
    "x.shape = [2, 4]\n",
    "print(x)\n",
    "# [[1 2 3 4]\n",
    "#  [5 6 7 8]]"
   ]
  },
  {
   "cell_type": "markdown",
   "metadata": {},
   "source": [
    "- `numpy.ndarray.flat`将数组转换为一维的迭代器，可以用for访问数组每一个元素"
   ]
  },
  {
   "cell_type": "code",
   "execution_count": 5,
   "metadata": {},
   "outputs": [
    {
     "name": "stdout",
     "output_type": "stream",
     "text": [
      "<numpy.flatiter object at 0x5601c0b07ce0>\n",
      "0 1 2 3 4 5 6 7 8 9 10 11 12 13 14 15 16 17 18 19 20 21 22 23 24 "
     ]
    }
   ],
   "source": [
    "x = np.arange(25).reshape(5, 5)\n",
    "y = x.flat\n",
    "print(y)\n",
    "for i in y:\n",
    "    print(i, end=' ')"
   ]
  },
  {
   "cell_type": "markdown",
   "metadata": {},
   "source": [
    "- `numpy.ndarray.flatten([order='C'])`将原数组的副本转换为一维数组，并返回\n",
    " - `order`:'C'按行,'F'按列,'A'原顺序,'k'元素再内存中出现顺序\n",
    " - `order`：{'C / F，'A，K}，可选使用此索引顺序读取a的元素。'C'意味着以行大的C风格顺序对元素进行索引，最后一个轴索引会更改F表示以列大的Fortran样式顺序索引元素，其中第一个索引变化最快，最后一个索引变化最快。请注意，'C'和'F'选项不考虑基础数组的内存布局，仅引用轴索引的顺序.A'表示如果a为Fortran，则以类似Fortran的索引顺序读取元素在内存中连续，否则类似C的顺序。“ K”表示按照步序在内存中的顺序读取元素，但步幅为负时反转数据除外。默认情况下，使用Cindex顺序。\n",
    " \n",
    "【例】`flatten()`函数返回的是拷贝"
   ]
  },
  {
   "cell_type": "code",
   "execution_count": 6,
   "metadata": {},
   "outputs": [
    {
     "name": "stdout",
     "output_type": "stream",
     "text": [
      "[11 12 13 14 15 16 17 18 19 20]\n",
      "[[11 12 13 14 15]\n",
      " [16 17 18 19 20]]\n",
      "[11 16 12 17 13 18 14 19 15 20]\n",
      "[11 12 13 14 15 16 17 18 19 20]\n"
     ]
    }
   ],
   "source": [
    "x = np.array([[11, 12, 13, 14, 15],\n",
    "              [16, 17, 18, 19, 20]])\n",
    "y = x.flatten()\n",
    "print(y) # [11 12 13 14 15 16 17 18 19 20]\n",
    "\n",
    "y[3] = 0\n",
    "print(x)\n",
    "# [[11 12 13 14 15]\n",
    "#  [16 17 18 19 20]] 没变，因为是copy\n",
    "\n",
    "x = np.array([[11, 12, 13, 14, 15],\n",
    "              [16, 17, 18, 19, 20]])\n",
    "y = x.flatten(order = 'F')\n",
    "print(y)\n",
    "# [11 16 12 17 13 18 14 19 15 20]\n",
    "\n",
    "x = np.array([[11, 12, 13, 14, 15],\n",
    "              [16, 17, 18, 19, 20]])\n",
    "y = x.flatten(order = 'k')\n",
    "print(y)\n",
    "# [11 12 13 14 15 16 17 18 19 20]"
   ]
  },
  {
   "cell_type": "markdown",
   "metadata": {},
   "source": [
    "- `ravel()`返回的是视图"
   ]
  },
  {
   "cell_type": "code",
   "execution_count": 1,
   "metadata": {},
   "outputs": [
    {
     "name": "stdout",
     "output_type": "stream",
     "text": [
      "[11 12 13 14 15 16 17 18 19 20 21 22 23 24 25 26 27 28 29 30 31 32 33 34\n",
      " 35]\n",
      "[[11 12 13  0 15]\n",
      " [16 17 18 19 20]\n",
      " [21 22 23 24 25]\n",
      " [26 27 28 29 30]\n",
      " [31 32 33 34 35]]\n"
     ]
    }
   ],
   "source": [
    "import numpy as np\n",
    "\n",
    "x = np.array([[11, 12, 13, 14, 15],\n",
    "              [16, 17, 18, 19, 20],\n",
    "              [21, 22, 23, 24, 25],\n",
    "              [26, 27, 28, 29, 30],\n",
    "              [31, 32, 33, 34, 35]])\n",
    "y = np.ravel(x)\n",
    "print(y)\n",
    "# [11 12 13 14 15 16 17 18 19 20 21 22 23 24 25 26 27 28 29 30 31 32 33 34\n",
    "#  35]\n",
    "\n",
    "y[3] = 0\n",
    "print(x)\n",
    "# [[11 12 13  0 15]\n",
    "#  [16 17 18 19 20]\n",
    "#  [21 22 23 24 25]\n",
    "#  [26 27 28 29 30]\n",
    "#  [31 32 33 34 35]]"
   ]
  },
  {
   "cell_type": "markdown",
   "metadata": {},
   "source": [
    "`order = F`就是按列"
   ]
  },
  {
   "cell_type": "code",
   "execution_count": 5,
   "metadata": {},
   "outputs": [
    {
     "name": "stdout",
     "output_type": "stream",
     "text": [
      "[11 16 21 26 31 12 17 22 27 32 13 18 23 28 33 14 19 24 29 34 15 20 25 30\n",
      " 35]\n",
      "[[11 12 13 14 15]\n",
      " [16 17 18 19 20]\n",
      " [21 22 23 24 25]\n",
      " [26 27 28 29 30]\n",
      " [31 32 33 34 35]]\n"
     ]
    }
   ],
   "source": [
    "x = np.array([[11, 12, 13, 14, 15],\n",
    "              [16, 17, 18, 19, 20],\n",
    "              [21, 22, 23, 24, 25],\n",
    "              [26, 27, 28, 29, 30],\n",
    "              [31, 32, 33, 34, 35]])\n",
    "y = np.ravel(x, order = 'F')\n",
    "print(y)\n",
    "\n",
    "y[3] = 0\n",
    "print(x)"
   ]
  },
  {
   "cell_type": "markdown",
   "metadata": {},
   "source": [
    "- `numpy.reshape(a, nweshape[, order = 'C'])`在不更改数据的情况下为数组赋予新的形状\n",
    "\n",
    "返回的是原数组的副本，改变reshape后的数组，原数组也会改变\n",
    "\n",
    "【例】`reshape()`函数当参数`newshape = [rows, -1]`时，将根据行数自动确定列数"
   ]
  },
  {
   "cell_type": "code",
   "execution_count": 7,
   "metadata": {},
   "outputs": [
    {
     "name": "stdout",
     "output_type": "stream",
     "text": [
      "[[ 0  1  2  3]\n",
      " [ 4  5  6  7]\n",
      " [ 8  9 10 11]] int64\n",
      "[[ 0  1  2]\n",
      " [ 3  4  5]\n",
      " [ 6  7  8]\n",
      " [ 9 10 11]]\n",
      "[[ 0  1  2  3  4  5]\n",
      " [ 6  7  8  9 10 11]]\n",
      "[ 0 10  2  3  4  5  6  7  8  9 10 11]\n"
     ]
    }
   ],
   "source": [
    "x = np.arange(12)\n",
    "y = np.reshape(x, [3, 4])\n",
    "print(y, y.dtype)\n",
    "# [[ 0  1  2  3]\n",
    "#  [ 4  5  6  7]\n",
    "#  [ 8  9 10 11]] int64\n",
    "\n",
    "y = np.reshape(x, [4, -1])\n",
    "print(y)\n",
    "# [[ 0  1  2]\n",
    "#  [ 3  4  5]\n",
    "#  [ 6  7  8]\n",
    "#  [ 9 10 11]]\n",
    "\n",
    "y = np.reshape(x, [-1, 6])\n",
    "print(y)\n",
    "# [[ 0  1  2  3  4  5]\n",
    "#  [ 6  7  8  9 10 11]]\n",
    "\n",
    "y[0, 1] = 10\n",
    "print(x)\n",
    "# [ 0 10  2  3  4  5  6  7  8  9 10 11]#原数组发生改变"
   ]
  },
  {
   "cell_type": "markdown",
   "metadata": {},
   "source": [
    "【例】`reshape()`函数当参数`newshape = -1`时，表示将数组降为一维"
   ]
  },
  {
   "cell_type": "code",
   "execution_count": 9,
   "metadata": {},
   "outputs": [
    {
     "name": "stdout",
     "output_type": "stream",
     "text": [
      "[[[0 1 3 9]\n",
      "  [3 8 5 4]\n",
      "  [8 4 9 8]]\n",
      "\n",
      " [[3 1 8 0]\n",
      "  [4 6 5 4]\n",
      "  [8 9 8 9]]]\n",
      "[0 3 3 4 8 8 1 1 8 6 4 9 3 8 5 5 9 8 9 0 4 4 8 9]\n"
     ]
    }
   ],
   "source": [
    "x = np.random.randint(0, 10, (2, 3, 4))\n",
    "print(x)\n",
    "# [[[0 1 3 9]\n",
    "#   [3 8 5 4]\n",
    "#   [8 4 9 8]]\n",
    "\n",
    "#  [[3 1 8 0]\n",
    "#   [4 6 5 4]\n",
    "#   [8 9 8 9]]]\n",
    "y = np.reshape(x, -1, order = 'F')\n",
    "print(y)\n",
    "# [0 3 3 4 8 8 1 1 8 6 4 9 3 8 5 5 9 8 9 0 4 4 8 9]"
   ]
  },
  {
   "cell_type": "markdown",
   "metadata": {},
   "source": [
    "## 数组转置\n",
    "- `numpy.transpose(a, axes = None)` 转置数组\n",
    "- `numpy.ndarray.T`  但如果self.ndim<2，则返回self。"
   ]
  },
  {
   "cell_type": "code",
   "execution_count": 20,
   "metadata": {},
   "outputs": [
    {
     "name": "stdout",
     "output_type": "stream",
     "text": [
      "[[1.8  7.03 0.22]\n",
      " [7.19 4.04 0.62]\n",
      " [4.84 5.43 6.  ]]\n",
      "[[1.8  7.19 4.84]\n",
      " [7.03 4.04 5.43]\n",
      " [0.22 0.62 6.  ]]\n",
      "[[1.8  7.19 4.84]\n",
      " [7.03 4.04 5.43]\n",
      " [0.22 0.62 6.  ]]\n"
     ]
    }
   ],
   "source": [
    "x = np.around(np.random.rand(3, 3) * 10, 2)\n",
    "print(x)\n",
    "# [[1.8  7.03 0.22]\n",
    "#  [7.19 4.04 0.62]\n",
    "#  [4.84 5.43 6.  ]]\n",
    "\n",
    "y = x.T\n",
    "print(y)\n",
    "# [[1.8  7.19 4.84]\n",
    "#  [7.03 4.04 5.43]\n",
    "#  [0.22 0.62 6.  ]]\n",
    "\n",
    "y = np.transpose(x)\n",
    "print(y)\n",
    "# [[1.8  7.19 4.84]\n",
    "#  [7.03 4.04 5.43]\n",
    "#  [0.22 0.62 6.  ]]"
   ]
  },
  {
   "cell_type": "markdown",
   "metadata": {},
   "source": [
    "## 更改维度\n",
    "当创建一个数组之后，还可以给它增加一个维度，这在矩阵计算中经常会用到\n",
    "\n",
    "- `numpy.newaxis = None` None的别名，对索引数组很有用\n",
    "\n",
    "【例】很多工具包在进行计算时都会先判断输入数据的维度是否满足要求，如果输入数据达不到指定的维度，可以使用`newaxis`参数来增加一个维度"
   ]
  },
  {
   "cell_type": "code",
   "execution_count": 21,
   "metadata": {},
   "outputs": [
    {
     "name": "stdout",
     "output_type": "stream",
     "text": [
      "(1, 8)\n",
      "[[1 2 3 4 5 6 7 8]]\n",
      "(8, 1)\n",
      "[[1]\n",
      " [2]\n",
      " [3]\n",
      " [4]\n",
      " [5]\n",
      " [6]\n",
      " [7]\n",
      " [8]]\n"
     ]
    }
   ],
   "source": [
    "x = np.array([1, 2, 3, 4, 5, 6, 7, 8])\n",
    "y = x[np.newaxis, :]\n",
    "print(y.shape) # (1, 8)\n",
    "print(y) # [[1 2 3 4 5 6 7 8]]\n",
    "\n",
    "y = x[:, np.newaxis] \n",
    "print(y.shape) # (8, 1)\n",
    "print(y)\n",
    "# [[1]\n",
    "#  [2]\n",
    "#  [3]\n",
    "#  [4]\n",
    "#  [5]\n",
    "#  [6]\n",
    "#  [7]\n",
    "#  [8]]"
   ]
  },
  {
   "cell_type": "markdown",
   "metadata": {},
   "source": [
    "- `numpy.squeeze(a, axis = None)`从数组的形状中删除单维度条目，即把shape中为1的维度去掉\n",
    " - a表示输入的数组\n",
    " - axis用于指定需要删除的维度，但是指定的维度必须为但唯独，否则报错\n",
    " \n",
    "在机器学习和深度学习中，通常算法的结果是可以表示向量的数组（即包含两对或以上的方括号形式[[]])，如果直接利用这个数组进行画图可能显示界面为空（见后面的示例）。我们可以利用`squeeze()`函数将表示向量的数组转换为秩为1（即一维数组）的数组，这样利用matplotlib库函数画图时，就可以正常的显示结果了"
   ]
  },
  {
   "cell_type": "code",
   "execution_count": 24,
   "metadata": {},
   "outputs": [
    {
     "name": "stdout",
     "output_type": "stream",
     "text": [
      "[[0 1 2 3 4 5 6 7 8 9]]\n",
      "(10,)\n",
      "[0 1 2 3 4 5 6 7 8 9]\n"
     ]
    }
   ],
   "source": [
    "x = np.arange(10)\n",
    "y = x[np.newaxis, :]\n",
    "print(y) # [[0 1 2 3 4 5 6 7 8 9]]\n",
    "z = np.squeeze(x)\n",
    "print(z.shape, z, sep = '\\n')\n",
    "# (10,)\n",
    "# [0 1 2 3 4 5 6 7 8 9]"
   ]
  },
  {
   "cell_type": "code",
   "execution_count": 30,
   "metadata": {},
   "outputs": [
    {
     "name": "stdout",
     "output_type": "stream",
     "text": [
      "[[[1]\n",
      "  [4]\n",
      "  [4]]]\n",
      "(3,)\n",
      "[1 4 4]\n",
      "(3, 1)\n",
      "[[1]\n",
      " [4]\n",
      " [4]]\n",
      "(1, 3)\n",
      "[[1 4 4]]\n"
     ]
    },
    {
     "ename": "ValueError",
     "evalue": "cannot select an axis to squeeze out which has size not equal to one",
     "output_type": "error",
     "traceback": [
      "\u001b[0;31m---------------------------------------------------------------------------\u001b[0m",
      "\u001b[0;31mValueError\u001b[0m                                Traceback (most recent call last)",
      "\u001b[0;32m<ipython-input-30-f0f392e8e63f>\u001b[0m in \u001b[0;36m<module>\u001b[0;34m\u001b[0m\n\u001b[1;32m     12\u001b[0m \u001b[0mprint\u001b[0m\u001b[0;34m(\u001b[0m\u001b[0my\u001b[0m\u001b[0;34m)\u001b[0m  \u001b[0;31m# [[0 1 2]]\u001b[0m\u001b[0;34m\u001b[0m\u001b[0m\n\u001b[1;32m     13\u001b[0m \u001b[0;34m\u001b[0m\u001b[0m\n\u001b[0;32m---> 14\u001b[0;31m \u001b[0my\u001b[0m \u001b[0;34m=\u001b[0m \u001b[0mnp\u001b[0m\u001b[0;34m.\u001b[0m\u001b[0msqueeze\u001b[0m\u001b[0;34m(\u001b[0m\u001b[0mx\u001b[0m\u001b[0;34m,\u001b[0m \u001b[0maxis\u001b[0m\u001b[0;34m=\u001b[0m\u001b[0;36m1\u001b[0m\u001b[0;34m)\u001b[0m\u001b[0;34m\u001b[0m\u001b[0m\n\u001b[0m",
      "\u001b[0;32m<__array_function__ internals>\u001b[0m in \u001b[0;36msqueeze\u001b[0;34m(*args, **kwargs)\u001b[0m\n",
      "\u001b[0;32m/opt/conda/lib/python3.6/site-packages/numpy/core/fromnumeric.py\u001b[0m in \u001b[0;36msqueeze\u001b[0;34m(a, axis)\u001b[0m\n\u001b[1;32m   1493\u001b[0m         \u001b[0;32mreturn\u001b[0m \u001b[0msqueeze\u001b[0m\u001b[0;34m(\u001b[0m\u001b[0;34m)\u001b[0m\u001b[0;34m\u001b[0m\u001b[0m\n\u001b[1;32m   1494\u001b[0m     \u001b[0;32melse\u001b[0m\u001b[0;34m:\u001b[0m\u001b[0;34m\u001b[0m\u001b[0m\n\u001b[0;32m-> 1495\u001b[0;31m         \u001b[0;32mreturn\u001b[0m \u001b[0msqueeze\u001b[0m\u001b[0;34m(\u001b[0m\u001b[0maxis\u001b[0m\u001b[0;34m=\u001b[0m\u001b[0maxis\u001b[0m\u001b[0;34m)\u001b[0m\u001b[0;34m\u001b[0m\u001b[0m\n\u001b[0m\u001b[1;32m   1496\u001b[0m \u001b[0;34m\u001b[0m\u001b[0m\n\u001b[1;32m   1497\u001b[0m \u001b[0;34m\u001b[0m\u001b[0m\n",
      "\u001b[0;31mValueError\u001b[0m: cannot select an axis to squeeze out which has size not equal to one"
     ]
    }
   ],
   "source": [
    "x = np.random.randint(1, 10, (1, 3, 1))\n",
    "print(x)\n",
    "# [[[1]\n",
    "#   [4]\n",
    "#   [4]]]\n",
    "y = np.squeeze(x)\n",
    "print(y.shape, y, sep = '\\n')\n",
    "# (3,)\n",
    "# [1 4 4]\n",
    "\n",
    "y = np.squeeze(x, axis = 0)\n",
    "print(y.shape, y, sep = '\\n')\n",
    "# (3, 1)\n",
    "# [[1]\n",
    "#  [4]\n",
    "#  [4]]\n",
    "\n",
    "y = np.squeeze(x, axis=2)\n",
    "print(y.shape, y, sep = '\\n')\n",
    "# (1, 3)\n",
    "# [[1 4 4]]\n",
    "\n",
    "y = np.squeeze(x, axis=1)\n",
    "# ValueError: cannot select an axis to squeeze out which has size not equal to one"
   ]
  },
  {
   "cell_type": "code",
   "execution_count": 32,
   "metadata": {},
   "outputs": [
    {
     "name": "stdout",
     "output_type": "stream",
     "text": [
      "(1, 5)\n"
     ]
    },
    {
     "data": {
      "image/png": "[encoded data removed]",
      "text/plain": [
       "<Figure size 432x288 with 1 Axes>"
      ]
     },
     "metadata": {
      "needs_background": "light"
     },
     "output_type": "display_data"
    }
   ],
   "source": [
    "import matplotlib.pyplot as plt\n",
    "x = np.random.randint(1, 10, (1, 5))\n",
    "print(x.shape)\n",
    "plt.plot(x)\n",
    "plt.show()"
   ]
  },
  {
   "cell_type": "code",
   "execution_count": 33,
   "metadata": {},
   "outputs": [
    {
     "data": {
      "image/png": "[encoded data removed]",
      "text/plain": [
       "<Figure size 432x288 with 1 Axes>"
      ]
     },
     "metadata": {
      "needs_background": "light"
     },
     "output_type": "display_data"
    }
   ],
   "source": [
    "x = np.random.randint(1, 10, (1, 5))\n",
    "y = np.squeeze(x)\n",
    "plt.plot(y)\n",
    "plt.show()"
   ]
  },
  {
   "cell_type": "markdown",
   "metadata": {},
   "source": [
    "## 数组组合\n",
    "如果要将两份数据组合到一起，就需要拼接操作\n",
    "- `numpy.concatenate((a1, a2, ...), axis = 0, out = None)` 沿现有的轴连接两个数组序列（原来x，y都是一维的，拼接后的结果也是一维的）"
   ]
  },
  {
   "cell_type": "code",
   "execution_count": 24,
   "metadata": {},
   "outputs": [
    {
     "name": "stdout",
     "output_type": "stream",
     "text": [
      "[1 2 3 4 5 6]\n",
      "[1 2 3 4 5 6]\n"
     ]
    }
   ],
   "source": [
    "import numpy as np\n",
    "\n",
    "x = np.array([1, 2, 3])\n",
    "y = np.array([4, 5, 6])\n",
    "z = np.concatenate([x, y])\n",
    "print(z) # [1 2 3 4 5 6]\n",
    "\n",
    "z = np.concatenate([x, y], axis = 0)\n",
    "print(z) # [1 2 3 4 5 6]"
   ]
  },
  {
   "cell_type": "markdown",
   "metadata": {},
   "source": [
    "原来x，y都是二维的，拼接后的结果也是二维的"
   ]
  },
  {
   "cell_type": "code",
   "execution_count": 4,
   "metadata": {},
   "outputs": [
    {
     "name": "stdout",
     "output_type": "stream",
     "text": [
      "[[ 0  1  2  3]\n",
      " [ 4  5  6  7]\n",
      " [ 8  9 10 11]\n",
      " [ 0  1  2  3]\n",
      " [ 4  5  6  7]\n",
      " [ 8  9 10 11]]\n",
      "[[ 0  1  2  3  0  1  2  3]\n",
      " [ 4  5  6  7  4  5  6  7]\n",
      " [ 8  9 10 11  8  9 10 11]]\n"
     ]
    }
   ],
   "source": [
    "x = np.arange(12).reshape(3, 4)\n",
    "y = np.arange(12).reshape(3, 4)\n",
    "z = np.concatenate([x, y])\n",
    "print(z)\n",
    "print(np.concatenate([x, y], axis = 1))"
   ]
  },
  {
   "cell_type": "markdown",
   "metadata": {},
   "source": [
    "- `numpy.stack(arrays, axis = 0, out = None)`沿着新的轴加入一些列数组（stack为增加维度的拼接）"
   ]
  },
  {
   "cell_type": "code",
   "execution_count": 9,
   "metadata": {},
   "outputs": [
    {
     "name": "stdout",
     "output_type": "stream",
     "text": [
      "[[1 2 3]\n",
      " [4 5 6]]\n",
      "[[1 4]\n",
      " [2 5]\n",
      " [3 6]]\n",
      "[[0 1 2]\n",
      " [3 4 5]]\n",
      "[[[0 0]\n",
      "  [1 1]\n",
      "  [2 2]]\n",
      "\n",
      " [[3 3]\n",
      "  [4 4]\n",
      "  [5 5]]]\n"
     ]
    }
   ],
   "source": [
    "x = np.array([1, 2, 3])\n",
    "y = np.array([4, 5, 6])\n",
    "print(np.stack([x, y], axis = 0))\n",
    "# [[1 2 3]\n",
    "#  [4 5 6]]\n",
    "\n",
    "print(np.stack([x, y], axis = 1))\n",
    "# [[1 4]\n",
    "#  [2 5]\n",
    "#  [3 6]]\n",
    "\n",
    "x = np.arange(6).reshape(2, 3)\n",
    "y = np.arange(6).reshape(2, 3)\n",
    "print(x)\n",
    "# [[0 1 2]\n",
    "#  [3 4 5]]\n",
    "print(np.stack([x, y], axis = 2))\n",
    "# [[[0 0]\n",
    "#   [1 1]\n",
    "#   [2 2]]\n",
    "\n",
    "#  [[3 3]\n",
    "#   [4 4]\n",
    "#   [5 5]]]"
   ]
  },
  {
   "cell_type": "markdown",
   "metadata": {},
   "source": [
    "- `numpy.vstack(tup)`vertically (row wise).\n",
    "- `numpy.hstack(tup)`horizontally (column wise).\n",
    "\n",
    "一维情况"
   ]
  },
  {
   "cell_type": "code",
   "execution_count": 12,
   "metadata": {},
   "outputs": [
    {
     "name": "stdout",
     "output_type": "stream",
     "text": [
      "[[1 2 3]\n",
      " [4 5 6]]\n",
      "[[1 2 3]\n",
      " [4 5 6]]\n",
      "[1 2 3 4 5 6]\n",
      "[1 2 3 4 5 6]\n"
     ]
    }
   ],
   "source": [
    "x = np.array([1, 2, 3])\n",
    "y = np.array([4, 5, 6])\n",
    "print(np.vstack([x, y]))\n",
    "print(np.stack([x, y]))\n",
    "# [[1 2 3]\n",
    "#  [4 5 6]]\n",
    "\n",
    "print(np.hstack([x, y]))\n",
    "print(np.concatenate([x, y]))\n",
    "# [1 2 3 4 5 6]"
   ]
  },
  {
   "cell_type": "markdown",
   "metadata": {},
   "source": [
    "二维情况"
   ]
  },
  {
   "cell_type": "code",
   "execution_count": 25,
   "metadata": {},
   "outputs": [
    {
     "name": "stdout",
     "output_type": "stream",
     "text": [
      "[[0 1 2]]\n",
      "[[0 1 2]\n",
      " [0 1 2]]\n",
      "[[0 1 2]\n",
      " [0 1 2]]\n",
      "[[0 1 2 0 1 2]]\n",
      "[[0 1 2 0 1 2]]\n"
     ]
    }
   ],
   "source": [
    "x = np.arange(3).reshape(1, 3)\n",
    "y = x.copy()\n",
    "print(np.vstack([x, y]))\n",
    "print(np.concatenate([x, y]))\n",
    "# [[0 1 2]\n",
    "#  [0 1 2]]\n",
    "\n",
    "print(np.hstack([x, y]))\n",
    "print(np.concatenate([x, y], axis = 1))\n",
    "# [[0 1 2 0 1 2]]"
   ]
  },
  {
   "cell_type": "markdown",
   "metadata": {},
   "source": [
    "`hstack(),vstack()`分别表示水平和竖直的拼接方式。在数据维度等于1时，比较特殊。而当维度大于或等于2时，它们的作用相当于`concatenate`，用于在已有轴上进行操作。"
   ]
  },
  {
   "cell_type": "code",
   "execution_count": 26,
   "metadata": {},
   "outputs": [
    {
     "name": "stdout",
     "output_type": "stream",
     "text": [
      "[1 2 3 4 5]\n"
     ]
    },
    {
     "ename": "ValueError",
     "evalue": "all the input arrays must have same number of dimensions, but the array at index 0 has 1 dimension(s) and the array at index 1 has 0 dimension(s)",
     "output_type": "error",
     "traceback": [
      "\u001b[0;31m---------------------------------------------------------------------------\u001b[0m",
      "\u001b[0;31mValueError\u001b[0m                                Traceback (most recent call last)",
      "\u001b[0;32m<ipython-input-26-99ecd8aa4d44>\u001b[0m in \u001b[0;36m<module>\u001b[0;34m\u001b[0m\n\u001b[1;32m      2\u001b[0m \u001b[0mprint\u001b[0m\u001b[0;34m(\u001b[0m\u001b[0ma\u001b[0m\u001b[0;34m)\u001b[0m  \u001b[0;31m# [1 2 3 4 5]\u001b[0m\u001b[0;34m\u001b[0m\u001b[0m\n\u001b[1;32m      3\u001b[0m \u001b[0;34m\u001b[0m\u001b[0m\n\u001b[0;32m----> 4\u001b[0;31m \u001b[0ma\u001b[0m \u001b[0;34m=\u001b[0m \u001b[0mnp\u001b[0m\u001b[0;34m.\u001b[0m\u001b[0mconcatenate\u001b[0m\u001b[0;34m(\u001b[0m\u001b[0;34m[\u001b[0m\u001b[0mnp\u001b[0m\u001b[0;34m.\u001b[0m\u001b[0marray\u001b[0m\u001b[0;34m(\u001b[0m\u001b[0;34m[\u001b[0m\u001b[0;36m1\u001b[0m\u001b[0;34m,\u001b[0m \u001b[0;36m2\u001b[0m\u001b[0;34m,\u001b[0m \u001b[0;36m3\u001b[0m\u001b[0;34m,\u001b[0m \u001b[0;36m4\u001b[0m\u001b[0;34m]\u001b[0m\u001b[0;34m)\u001b[0m\u001b[0;34m,\u001b[0m \u001b[0;36m5\u001b[0m\u001b[0;34m]\u001b[0m\u001b[0;34m)\u001b[0m\u001b[0;34m\u001b[0m\u001b[0m\n\u001b[0m\u001b[1;32m      5\u001b[0m \u001b[0mprint\u001b[0m\u001b[0;34m(\u001b[0m\u001b[0ma\u001b[0m\u001b[0;34m)\u001b[0m\u001b[0;34m\u001b[0m\u001b[0m\n\u001b[1;32m      6\u001b[0m \u001b[0;31m# all the input arrays must have same number of dimensions,\u001b[0m\u001b[0;34m\u001b[0m\u001b[0;34m\u001b[0m\u001b[0m\n",
      "\u001b[0;32m<__array_function__ internals>\u001b[0m in \u001b[0;36mconcatenate\u001b[0;34m(*args, **kwargs)\u001b[0m\n",
      "\u001b[0;31mValueError\u001b[0m: all the input arrays must have same number of dimensions, but the array at index 0 has 1 dimension(s) and the array at index 1 has 0 dimension(s)"
     ]
    }
   ],
   "source": [
    "a = np.hstack([np.array([1, 2, 3, 4]), 5])\n",
    "print(a)  # [1 2 3 4 5]\n",
    "\n",
    "a = np.concatenate([np.array([1, 2, 3, 4]), 5])\n",
    "print(a)\n",
    "# all the input arrays must have same number of dimensions, \n",
    "# but the array at index 0 has 1 dimension(s) and the array at index 1 has 0 dimension(s)"
   ]
  },
  {
   "cell_type": "markdown",
   "metadata": {},
   "source": [
    "## 数组拆分\n",
    "- `numpy.split(ary, indices_or_sections, axis = 0)`拆分数组"
   ]
  },
  {
   "cell_type": "code",
   "execution_count": 32,
   "metadata": {},
   "outputs": [
    {
     "name": "stdout",
     "output_type": "stream",
     "text": [
      "[array([[11, 12, 13, 14]]), array([[16, 17, 18, 19],\n",
      "       [21, 22, 23, 24]]), array([], shape=(0, 4), dtype=int64)]\n",
      "[array([], shape=(3, 0), dtype=int64), array([[11],\n",
      "       [16],\n",
      "       [21]]), array([[12, 13],\n",
      "       [17, 18],\n",
      "       [22, 23]]), array([[14],\n",
      "       [19],\n",
      "       [24]])]\n"
     ]
    }
   ],
   "source": [
    "x = np.array([[11, 12, 13, 14],\n",
    "              [16, 17, 18, 19],\n",
    "              [21, 22, 23, 24]])\n",
    "y = np.split(x, [1, 3]) # 拆成0-1 1-2两个部分\n",
    "print(y)\n",
    "# [array([[11, 12, 13, 14]]), array([[16, 17, 18, 19],\n",
    "#        [21, 22, 23, 24]]), array([], shape=(0, 4), dtype=int64)]\n",
    "\n",
    "print(np.split(x, [0, 1, 3], axis = 1))\n",
    "# [array([], shape=(3, 0), dtype=int64), array([[11],\n",
    "#        [16],\n",
    "#        [21]]), array([[12, 13],\n",
    "#        [17, 18],\n",
    "#        [22, 23]]), array([[14],\n",
    "#        [19],\n",
    "#        [24]])]"
   ]
  },
  {
   "cell_type": "markdown",
   "metadata": {},
   "source": [
    "- `numpy.vsplit(ary, indices_or_sections)`把数组按照高度切分"
   ]
  },
  {
   "cell_type": "code",
   "execution_count": 34,
   "metadata": {},
   "outputs": [
    {
     "name": "stdout",
     "output_type": "stream",
     "text": [
      "(3, 4) [array([[11, 12, 13, 14]]), array([[16, 17, 18, 19]]), array([[21, 22, 23, 24]])]\n"
     ]
    }
   ],
   "source": [
    "x = np.array([[11, 12, 13, 14],\n",
    "              [16, 17, 18, 19],\n",
    "              [21, 22, 23, 24]])\n",
    "print(x.shape, np.vsplit(x, 3))\n",
    "# (3, 4) [array([[11, 12, 13, 14]]), array([[16, 17, 18, 19]]), array([[21, 22, 23, 24]])]\n",
    "\n",
    "y = np.vsplit(x, [1, 3])\n",
    "print(y)\n",
    "# [array([[11, 12, 13, 14]]), array([[16, 17, 18, 19],\n",
    "#        [21, 22, 23, 24]]), array([], shape=(0, 4), dtype=int32)]\n",
    "\n",
    "y = np.split(x, [1, 3], axis=0)\n",
    "print(y)\n",
    "# [array([[11, 12, 13, 14]]), array([[16, 17, 18, 19],\n",
    "#        [21, 22, 23, 24]]), array([], shape=(0, 4), dtype=int32)]"
   ]
  },
  {
   "cell_type": "markdown",
   "metadata": {},
   "source": [
    "- `numpy.hsplit(ary, indices_or_sections)`将数组按照宽度切分"
   ]
  },
  {
   "cell_type": "code",
   "execution_count": 36,
   "metadata": {},
   "outputs": [
    {
     "name": "stdout",
     "output_type": "stream",
     "text": [
      "[array([[11, 12],\n",
      "       [16, 17],\n",
      "       [21, 22]]), array([[13, 14],\n",
      "       [18, 19],\n",
      "       [23, 24]])]\n"
     ]
    }
   ],
   "source": [
    "x = np.array([[11, 12, 13, 14],\n",
    "              [16, 17, 18, 19],\n",
    "              [21, 22, 23, 24]])\n",
    "print(np.hsplit(x, 2))\n",
    "# [array([[11, 12],\n",
    "#        [16, 17],\n",
    "#        [21, 22]]), array([[13, 14],\n",
    "#        [18, 19],\n",
    "#        [23, 24]])]\n",
    "y = np.hsplit(x, [1, 3])\n",
    "print(y)\n",
    "# [array([[11],\n",
    "#        [16],\n",
    "#        [21]]), array([[12, 13],\n",
    "#        [17, 18],\n",
    "#        [22, 23]]), array([[14],\n",
    "#        [19],\n",
    "#        [24]])]\n",
    "\n",
    "y = np.split(x, [1, 3], axis=1)\n",
    "print(y)\n",
    "# [array([[11],\n",
    "#        [16],\n",
    "#        [21]]), array([[12, 13],\n",
    "#        [17, 18],\n",
    "#        [22, 23]]), array([[14],\n",
    "#        [19],\n",
    "#        [24]])]"
   ]
  },
  {
   "cell_type": "markdown",
   "metadata": {},
   "source": [
    "## 数组平铺\n",
    "- `numpy.tile(A, reps) tile`是瓷砖的意思，顾名思义，这个函数就是把数组像瓷砖一样铺展开来\n",
    "\n",
    "【例】将原矩阵横向、纵向地复制"
   ]
  },
  {
   "cell_type": "code",
   "execution_count": 3,
   "metadata": {},
   "outputs": [
    {
     "name": "stdout",
     "output_type": "stream",
     "text": [
      "[[1 2]\n",
      " [3 4]]\n",
      "[[1 2 1 2 1 2]\n",
      " [3 4 3 4 3 4]]\n"
     ]
    }
   ],
   "source": [
    "import numpy as np\n",
    "x = np.array([[1, 2], [3, 4]])\n",
    "print(x)\n",
    "# [[1 2]\n",
    "#  [3 4]]\n",
    "\n",
    "print(np.tile(x, (1, 3))) # 横向铺展一次，纵向铺展三次\n",
    "# [[1 2 1 2 1 2]\n",
    "#  [3 4 3 4 3 4]]"
   ]
  },
  {
   "cell_type": "markdown",
   "metadata": {},
   "source": [
    "- `numpy.repeat(a, repeats, axis = None)` 重复矩阵的元素\n",
    " - repeats 可以为一个数，也可以为一个矩阵\n",
    " - axis = None时就会flatten当前矩阵，实际上就是变成了一个行向量"
   ]
  },
  {
   "cell_type": "code",
   "execution_count": null,
   "metadata": {},
   "outputs": [],
   "source": [
    "x = np.repeat(3, 4)\n",
    "print(x)  # [3 3 3 3]\n",
    "\n",
    "x = np.array([[1, 2], [3, 4]])\n",
    "y = np.repeat(x, 2)\n",
    "print(y)\n",
    "# [1 1 2 2 3 3 4 4]\n",
    "\n",
    "y = np.repeat(x, 2, axis=0)\n",
    "print(y)\n",
    "# [[1 2]\n",
    "#  [1 2]\n",
    "#  [3 4]\n",
    "#  [3 4]]\n",
    "\n",
    "y = np.repeat(x, 2, axis=1)\n",
    "print(y)\n",
    "# [[1 1 2 2]\n",
    "#  [3 3 4 4]]\n",
    "\n",
    "y = np.repeat(x, [2, 3], axis=0)\n",
    "print(y)\n",
    "# [[1 2]\n",
    "#  [1 2]\n",
    "#  [3 4]\n",
    "#  [3 4]\n",
    "#  [3 4]]\n",
    "\n",
    "y = np.repeat(x, [2, 3], axis=1)\n",
    "print(y)\n",
    "# [[1 1 2 2 2]\n",
    "#  [3 3 4 4 4]]"
   ]
  },
  {
   "cell_type": "markdown",
   "metadata": {},
   "source": [
    "## 添加和删除元素\n",
    "- `numpy.unique(ar, return_index=False, return_inverse=False,return_counts=False, axis=None)` Find the unique elements of an array.\n",
    " - `return_index`：the indices of the input array that give the unique values位置的索引\n",
    " - `return_inverse`：the indices of the unique array that reconstruct the input array原数组中的元素在唯一值数组中的下标\n",
    " - `return_counts`：the number of times each unique value comes up in the input array不同元素出现的次数\n",
    " \n",
    "【例】查找数组的唯一元素"
   ]
  },
  {
   "cell_type": "code",
   "execution_count": 56,
   "metadata": {},
   "outputs": [
    {
     "name": "stdout",
     "output_type": "stream",
     "text": [
      "(array([1, 3, 4, 5, 6]), array([0, 2, 4, 5, 6]), array([0, 0, 1, 1, 2, 3, 4, 2]), array([2, 2, 2, 1, 1]))\n",
      "[5 6]\n"
     ]
    }
   ],
   "source": [
    "a = np.array([1, 1, 3, 3, 4, 5, 6, 4])\n",
    "b = np.unique(a, return_counts = True, return_index = True, return_inverse = True)\n",
    "print(b)\n",
    "# (array([1, 3, 4, 5, 6]), array([0, 2, 4, 5, 6]), array([0, 0, 1, 1, 2, 3, 4, 2]), array([2, 2, 2, 1, 1]))\n",
    "\n",
    "lst = [i for i in range(list(b[3]).index(1), len(b[3]))]\n",
    "print(b[0][lst])\n"
   ]
  },
  {
   "cell_type": "markdown",
   "metadata": {},
   "source": [
    "## 练习\n",
    "- 1.将arr的二维数组按列输出"
   ]
  },
  {
   "cell_type": "code",
   "execution_count": 57,
   "metadata": {},
   "outputs": [
    {
     "name": "stdout",
     "output_type": "stream",
     "text": [
      "[16 11 21 31 26 17 12 22 32 27 18 13 23 33 28 19 14 24 34 29 20 15 25 35\n",
      " 30]\n"
     ]
    }
   ],
   "source": [
    "arr = np.array([[16, 17, 18, 19, 20],[11, 12, 13, 14, 15],\n",
    "                [21, 22, 23, 24, 25],[31, 32, 33, 34, 35],[26, 27, 28, 29, 30]])\n",
    "print(arr.flatten(order = 'F'))\n",
    "# [16 11 21 31 26 17 12 22 32 27 18 13 23 33 28 19 14 24 34 29 20 15 25 35\n",
    "#  30]"
   ]
  },
  {
   "cell_type": "markdown",
   "metadata": {},
   "source": [
    "- 2.给定两个随机数组A和B，验证它们是否相等\n",
    "- `numpy.allclose(a, b, rtol=1e-05, atol=1e-08, equal_nan=False)`判断两个向量是否相近\n",
    "- `np.array_equal(A, B)`完全相同"
   ]
  },
  {
   "cell_type": "code",
   "execution_count": 75,
   "metadata": {},
   "outputs": [
    {
     "name": "stdout",
     "output_type": "stream",
     "text": [
      "True True\n",
      "[0.14821794 0.5032764  0.53075133 0.36721384 0.55032568 0.85099876\n",
      " 0.63886239 0.42699376 0.43136818 0.85720185]\n",
      "\n",
      "[0.4563625  0.41251255 0.28584412 0.71800457 0.55231578 0.94844955\n",
      " 0.99377274 0.03347476 0.74461671 0.18650151]\n",
      "False False\n"
     ]
    }
   ],
   "source": [
    "a = np.array([1, 2, 3])\n",
    "b = a.copy()\n",
    "print(np.allclose(a, b), np.array_equal(a, b)) # True True\n",
    "\n",
    "c = np.random.rand(10)\n",
    "d = np.random.rand(10)\n",
    "print(c, d, sep = '\\n\\n')\n",
    "print(np.allclose(c, d), np.array_equal(c, d)) # False False"
   ]
  },
  {
   "cell_type": "markdown",
   "metadata": {},
   "source": [
    "- 3.在给定的numpy数组中找到重复的条目（第二次出现以后），并将它们标记为True。第一次出现应为False"
   ]
  },
  {
   "cell_type": "code",
   "execution_count": 78,
   "metadata": {},
   "outputs": [
    {
     "name": "stdout",
     "output_type": "stream",
     "text": [
      "[0 0 3 0 2 4 2 2 2 2]\n",
      "[False  True False  True False False  True  True  True  True]\n"
     ]
    }
   ],
   "source": [
    "np.random.seed(100)\n",
    "a = np.random.randint(0, 5, 10)\n",
    "print(a)\n",
    "\n",
    "ans = np.full(10, True)\n",
    "vals, counts = np.unique(a, return_index = True)\n",
    "ans[counts] = False\n",
    "print(ans)"
   ]
  },
  {
   "cell_type": "code",
   "execution_count": null,
   "metadata": {},
   "outputs": [],
   "source": []
  }
 ],
 "metadata": {
  "interpreter": {
   "hash": "e5edc721c267c354f7c3a43761a84baa24063647031c2095a95e3fbc9f4e28d2"
  },
  "kernelspec": {
   "display_name": "Python 3.8.0 64-bit",
   "name": "python3"
  },
  "language_info": {
   "name": "python",
   "version": ""
  }
 },
 "nbformat": 4,
 "nbformat_minor": 4
}