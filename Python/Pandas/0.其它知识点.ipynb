{
 "cells": [
  {
   "cell_type": "markdown",
   "source": [
    "# df.sample(n=None, frac=None, replace=False, weights=None, random_state=None, axis=None)\r\n",
    "\r\n",
    "|参数名称\t|参数说明|\r\n",
    "|---|---|\r\n",
    "|n\t|要抽取的行数|\r\n",
    "frac\t|抽取行的比例\r\n",
    "replace\t|是否为有放回抽样，True:有放回抽样，False:不放回抽样\r\n",
    "weights\t|字符索引或概率数组，axis=0:为行字符索引或概率数组，axis=1:为列字符索引或概率数组\r\n",
    "random_state\t|int: 随机数发生器种子或numpy.random.RandomState\r\n",
    "axis\t|选择抽取数据的行还是列，axis=0:抽取行，axis=1:抽取列"
   ],
   "metadata": {}
  },
  {
   "cell_type": "markdown",
   "source": [],
   "metadata": {}
  }
 ],
 "metadata": {
  "orig_nbformat": 4,
  "language_info": {
   "name": "python"
  }
 },
 "nbformat": 4,
 "nbformat_minor": 2
}