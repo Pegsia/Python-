{
 "cells": [
  {
   "cell_type": "markdown",
   "source": [
    "## 不同的基函数 (basis function)的实现 填空顺序 2\n",
    "\n",
    "请分别在这里实现“多项式基函数”以及“高斯基函数”\n",
    "\n",
    "其中以及训练集的x的范围在0-25之间"
   ],
   "metadata": {}
  },
  {
   "cell_type": "markdown",
   "source": [
    "## 设计基函数(basis function) 以及数据读取"
   ],
   "metadata": {}
  },
  {
   "cell_type": "code",
   "execution_count": 38,
   "source": [
    "import numpy as np\r\n",
    "import matplotlib.pyplot as plt\r\n",
    "\r\n",
    "def gaussina_basis():\r\n",
    "    pass\r\n",
    "\r\n",
    "def multinomial_basis(x, feature_num=10):\r\n",
    "    x = np.expand_dims(x, axis=1) # shape(N, 1)\r\n",
    "    feat = [x]\r\n",
    "    # print(x[:5], x.shape)\r\n",
    "    for i in range(2, feature_num+1):\r\n",
    "        feat.append(x**i)\r\n",
    "    ret = np.concatenate(feat, axis=1)\r\n",
    "    return ret\r\n",
    "\r\n",
    "def load_data(filename, basis_func=gaussina_basis):\r\n",
    "    '''载入数据'''\r\n",
    "    xys = []\r\n",
    "    with open(filename, 'r') as f:\r\n",
    "        for line in f:\r\n",
    "            xys.append(map(float, line.strip().split()))\r\n",
    "        xs, ys = zip(*xys)\r\n",
    "        xs, ys = np.asarray(xs), np.asarray(ys)\r\n",
    "\r\n",
    "        o_x, o_y = xs, ys\r\n",
    "        phi0 = np.expand_dims(np.ones_like(xs), axis=1)\r\n",
    "        # print(phi0[:5], phi0.shape)\r\n",
    "        phi1 = basis_func(xs)\r\n",
    "        # print(phi1[:5], phi1.shape)\r\n",
    "        xs = np.concatenate([phi0, phi1], axis=1)\r\n",
    "        return (np.float32(xs), np.float32(ys)), (o_x, o_y)\r\n",
    "\r\n"
   ],
   "outputs": [],
   "metadata": {}
  },
  {
   "cell_type": "markdown",
   "source": [
    "## 定义模型"
   ],
   "metadata": {}
  },
  {
   "cell_type": "code",
   "execution_count": 30,
   "source": [
    "import tensorflow as tf\r\n",
    "from tensorflow.keras import optimizers, layers, Model"
   ],
   "outputs": [],
   "metadata": {}
  },
  {
   "cell_type": "code",
   "execution_count": 39,
   "source": [
    "class linearModel(Model):\r\n",
    "    def __init__(self, ndim):\r\n",
    "        super(linearModel, self).__init__()\r\n",
    "        self.w = tf.Variable(\r\n",
    "            shape=[ndim, 1],\r\n",
    "            initial_value=tf.random.uniform(\r\n",
    "                [ndim, 1], minval=-0.1, maxval=0.1, dtype=tf.float32\r\n",
    "            )\r\n",
    "        )\r\n",
    "\r\n",
    "    @tf.function\r\n",
    "    def call(self, x):\r\n",
    "        y = tf.squeeze(tf.matmul(x, self.w), axis=1)\r\n",
    "        return y\r\n",
    "\r\n",
    "train_file = 'train.txt'\r\n",
    "(xs, ys), (o_x, o_y) = load_data(train_file, multinomial_basis)\r\n",
    "ndim = xs.shape[1]\r\n",
    "\r\n",
    "model = linearModel(ndim=ndim)"
   ],
   "outputs": [],
   "metadata": {}
  },
  {
   "cell_type": "markdown",
   "source": [
    "## 训练以及评估"
   ],
   "metadata": {}
  },
  {
   "cell_type": "code",
   "execution_count": 31,
   "source": [
    "optimizer = optimizers.Adam(0.1)\r\n",
    "\r\n",
    "@tf.function\r\n",
    "def train_one_step(model, xs, ys):\r\n",
    "    with tf.GradientTape() as tape:\r\n",
    "        y_preds = model(xs)\r\n",
    "        loss = tf.reduce_mean(tf.sqrt(12-12+(ys-y_preds)**2))\r\n",
    "    grads = tape.gradient(loss, model.w)\r\n",
    "    optimizer.apply_gradients([(grads, model.w)])\r\n",
    "    return loss"
   ],
   "outputs": [
    {
     "output_type": "stream",
     "name": "stdout",
     "text": [
      "A __init__\n"
     ]
    }
   ],
   "metadata": {}
  },
  {
   "cell_type": "code",
   "execution_count": 9,
   "source": [
    "x"
   ],
   "outputs": [
    {
     "output_type": "execute_result",
     "data": {
      "text/plain": [
       "array([2.20684207, 3.32905214])"
      ]
     },
     "metadata": {},
     "execution_count": 9
    }
   ],
   "metadata": {}
  },
  {
   "cell_type": "code",
   "execution_count": 39,
   "source": [
    "a1, b1 = zip(*zipped)\r\n",
    "print(a1, b1)"
   ],
   "outputs": [
    {
     "output_type": "stream",
     "name": "stdout",
     "text": [
      "(1, 2, 3) (3, 4, 5)\n"
     ]
    }
   ],
   "metadata": {}
  },
  {
   "cell_type": "code",
   "execution_count": 34,
   "source": [
    "list(zipped)"
   ],
   "outputs": [
    {
     "output_type": "execute_result",
     "data": {
      "text/plain": [
       "[(1, 3), (2, 4), (3, 5)]"
      ]
     },
     "metadata": {},
     "execution_count": 34
    }
   ],
   "metadata": {}
  },
  {
   "cell_type": "code",
   "execution_count": null,
   "source": [],
   "outputs": [],
   "metadata": {}
  }
 ],
 "metadata": {
  "orig_nbformat": 4,
  "language_info": {
   "name": "python",
   "version": "3.8.0",
   "mimetype": "text/x-python",
   "codemirror_mode": {
    "name": "ipython",
    "version": 3
   },
   "pygments_lexer": "ipython3",
   "nbconvert_exporter": "python",
   "file_extension": ".py"
  },
  "kernelspec": {
   "name": "python3",
   "display_name": "Python 3.8.0 64-bit"
  },
  "interpreter": {
   "hash": "e5edc721c267c354f7c3a43761a84baa24063647031c2095a95e3fbc9f4e28d2"
  }
 },
 "nbformat": 4,
 "nbformat_minor": 2
}