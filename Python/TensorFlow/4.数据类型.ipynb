{
 "cells": [
  {
   "cell_type": "markdown",
   "source": [
    "# 📚 2.3相知篇-数据类型"
   ],
   "metadata": {}
  },
  {
   "cell_type": "markdown",
   "source": [
    "\r\n",
    "Tensorflow的基本数据类型有：数值型、字符串型和布尔型。"
   ],
   "metadata": {}
  },
  {
   "cell_type": "markdown",
   "source": [
    "## 一、本节目标\n",
    "        本节将详述概述Tensorflow2中的数据类型及创建方法，通过实例列举了部分常用的 。"
   ],
   "metadata": {}
  },
  {
   "cell_type": "markdown",
   "source": [
    "## 二、 数值型"
   ],
   "metadata": {}
  },
  {
   "cell_type": "markdown",
   "source": [
    "\r\n",
    "|数值类型|定义|示例|维度(Demension)|Shape|\r\n",
    "|:---:|:---:|:---:|:---:|:---:|\r\n",
    "标量Scalar|单个实数|1，2，3|0|[]\r\n",
    "向量Vector|实数的有序集合|[1, 2]|1|[n] n为长度\r\n",
    "矩阵Matrix|n行m列的实数有序集合|[[1, 2], [3, 4]]|2|[n, m]\r\n",
    "张量Tensor|所有维度数大于2的数组|[[[3.14, 0, 1],[6.28, 0, 2]],[[1, 2, 3], [4, 5, 6]]]|大于2|[n, c, h, w]"
   ],
   "metadata": {}
  },
  {
   "cell_type": "markdown",
   "source": [
    "**注意：** \r\n",
    "\r\n",
    "TensorFlow中将以上统称为张量，不作严格区分，可以通过type()函数获得数值的类型，tf.is_tensor()函数判断数值是否是张量。  \r\n",
    "\r\n",
    "**总结 ：**\r\n",
    "\r\n",
    "张量是一个多维数组，张量属性包括：ndim(维度)、shape(形状)和dtype(类型)。tf.Tensors对象可以驻留在加速器内存中(如GPU)。TensorFlow提供了丰富的操作库，用于生成和使用张量。"
   ],
   "metadata": {}
  },
  {
   "cell_type": "markdown",
   "source": [
    "### 2.1 张量创建"
   ],
   "metadata": {}
  },
  {
   "cell_type": "markdown",
   "source": [
    "张量创建通过tf.constant()来实现。"
   ],
   "metadata": {}
  },
  {
   "cell_type": "markdown",
   "source": [
    "tf.constant(\n",
    "    value, dtype=None, shape=None, name='Const'\n",
    ")"
   ],
   "metadata": {}
  },
  {
   "cell_type": "markdown",
   "source": [
    "（1）0维"
   ],
   "metadata": {}
  },
  {
   "cell_type": "code",
   "execution_count": 1,
   "source": [
    "import tensorflow as tf\r\n",
    "# 0维\r\n",
    "scalar_tf = tf.constant(3.14)\r\n",
    "type(scalar_tf), tf.is_tensor(scalar_tf) # 查看张量类型及是否是张量"
   ],
   "outputs": [
    {
     "output_type": "execute_result",
     "data": {
      "text/plain": [
       "(tensorflow.python.framework.ops.EagerTensor, True)"
      ]
     },
     "metadata": {},
     "execution_count": 1
    }
   ],
   "metadata": {}
  },
  {
   "cell_type": "markdown",
   "source": [
    "（2）1维"
   ],
   "metadata": {}
  },
  {
   "cell_type": "code",
   "execution_count": 3,
   "source": [
    "vec_tf = tf.constant([3.14, 0, 1])\r\n",
    "type(vec_tf), tf.is_tensor(vec_tf)"
   ],
   "outputs": [
    {
     "output_type": "execute_result",
     "data": {
      "text/plain": [
       "(tensorflow.python.framework.ops.EagerTensor, True)"
      ]
     },
     "metadata": {},
     "execution_count": 3
    }
   ],
   "metadata": {}
  },
  {
   "cell_type": "markdown",
   "source": [
    "（3）2维"
   ],
   "metadata": {}
  },
  {
   "cell_type": "code",
   "execution_count": 17,
   "source": [
    "max_tf = tf.constant([[3.14, 0, 1], [6.28, 0, 2]])\r\n",
    "type(max_tf), tf.is_tensor(max_tf)\r\n",
    "max_tf"
   ],
   "outputs": [
    {
     "output_type": "execute_result",
     "data": {
      "text/plain": [
       "<tf.Tensor: shape=(2, 3), dtype=float32, numpy=\n",
       "array([[3.14, 0.  , 1.  ],\n",
       "       [6.28, 0.  , 2.  ]], dtype=float32)>"
      ]
     },
     "metadata": {},
     "execution_count": 17
    }
   ],
   "metadata": {}
  },
  {
   "cell_type": "markdown",
   "source": [
    "（4）3维"
   ],
   "metadata": {}
  },
  {
   "cell_type": "code",
   "execution_count": 15,
   "source": [
    "Tensor_tf = tf.constant([[[3.14,0,1],[6.28,0,2]],[[1,2,3],[4,5,6]]])\r\n",
    "type(Tensor_tf),tf.is_tensor(Tensor_tf)"
   ],
   "outputs": [
    {
     "output_type": "execute_result",
     "data": {
      "text/plain": [
       "(tensorflow.python.framework.ops.EagerTensor, True)"
      ]
     },
     "metadata": {},
     "execution_count": 15
    }
   ],
   "metadata": {}
  },
  {
   "cell_type": "markdown",
   "source": [
    "显示tensor内容"
   ],
   "metadata": {}
  },
  {
   "cell_type": "code",
   "execution_count": 16,
   "source": [
    "Tensor_tf"
   ],
   "outputs": [
    {
     "output_type": "execute_result",
     "data": {
      "text/plain": [
       "<tf.Tensor: shape=(2, 2, 3), dtype=float32, numpy=\n",
       "array([[[3.14, 0.  , 1.  ],\n",
       "        [6.28, 0.  , 2.  ]],\n",
       "\n",
       "       [[1.  , 2.  , 3.  ],\n",
       "        [4.  , 5.  , 6.  ]]], dtype=float32)>"
      ]
     },
     "metadata": {},
     "execution_count": 16
    }
   ],
   "metadata": {}
  },
  {
   "cell_type": "markdown",
   "source": [
    "(5）其他方法"
   ],
   "metadata": {}
  },
  {
   "cell_type": "code",
   "execution_count": 18,
   "source": [
    "# 创建常量张量，数字后面加个点代表转float32类型\r\n",
    "tf.constant([[1., 2., 3.], [4., 5., 6.]]) "
   ],
   "outputs": [
    {
     "output_type": "execute_result",
     "data": {
      "text/plain": [
       "<tf.Tensor: shape=(2, 3), dtype=float32, numpy=\n",
       "array([[1., 2., 3.],\n",
       "       [4., 5., 6.]], dtype=float32)>"
      ]
     },
     "metadata": {},
     "execution_count": 18
    }
   ],
   "metadata": {}
  },
  {
   "cell_type": "code",
   "execution_count": 19,
   "source": [
    "# 创建一个shape形状的全为0元素的张量，dtype='tf.float32'为默认，可以自己进行设定。\r\n",
    "tf.zeros([2, 3])"
   ],
   "outputs": [
    {
     "output_type": "execute_result",
     "data": {
      "text/plain": [
       "<tf.Tensor: shape=(2, 3), dtype=float32, numpy=\n",
       "array([[0., 0., 0.],\n",
       "       [0., 0., 0.]], dtype=float32)>"
      ]
     },
     "metadata": {},
     "execution_count": 19
    }
   ],
   "metadata": {}
  },
  {
   "cell_type": "code",
   "execution_count": 21,
   "source": [
    "# 创建全为1的张量\r\n",
    "c = tf.ones([2, 3])\r\n",
    "c"
   ],
   "outputs": [
    {
     "output_type": "execute_result",
     "data": {
      "text/plain": [
       "<tf.Tensor: shape=(2, 3), dtype=float32, numpy=\n",
       "array([[1., 1., 1.],\n",
       "       [1., 1., 1.]], dtype=float32)>"
      ]
     },
     "metadata": {},
     "execution_count": 21
    }
   ],
   "metadata": {}
  },
  {
   "cell_type": "code",
   "execution_count": 22,
   "source": [
    "# 改变张量中元素的数据类型，只能由低精度向高精度转化\r\n",
    "tf.cast(c, float)"
   ],
   "outputs": [
    {
     "output_type": "execute_result",
     "data": {
      "text/plain": [
       "<tf.Tensor: shape=(2, 3), dtype=float32, numpy=\n",
       "array([[1., 1., 1.],\n",
       "       [1., 1., 1.]], dtype=float32)>"
      ]
     },
     "metadata": {},
     "execution_count": 22
    }
   ],
   "metadata": {}
  },
  {
   "cell_type": "code",
   "execution_count": 23,
   "source": [
    "# tf.fill(dims, value)创建维度为dims，值全为value的张量\r\n",
    "tf.fill([2, 3], 3)"
   ],
   "outputs": [
    {
     "output_type": "execute_result",
     "data": {
      "text/plain": [
       "<tf.Tensor: shape=(2, 3), dtype=int32, numpy=\n",
       "array([[3, 3, 3],\n",
       "       [3, 3, 3]])>"
      ]
     },
     "metadata": {},
     "execution_count": 23
    }
   ],
   "metadata": {}
  },
  {
   "cell_type": "code",
   "execution_count": 51,
   "source": [
    "# 创建一个标准正态分布,shape:形状，mean: 均值，默认是0,\r\n",
    "# stddev: 标准差，默认是1,dtype: 数据类型默认是float32\r\n",
    "import numpy as np\r\n",
    "a = tf.random.normal(shape=[100, 3], mean=2, stddev=1, dtype=tf.float32)\r\n",
    "plt.hist(a)\r\n",
    "plt.show()"
   ],
   "outputs": [
    {
     "output_type": "display_data",
     "data": {
      "text/plain": [
       "<Figure size 432x288 with 1 Axes>"
      ],
      "image/png": "[encoded data removed]"
     },
     "metadata": {
      "needs_background": "light"
     }
    }
   ],
   "metadata": {}
  },
  {
   "cell_type": "code",
   "execution_count": 43,
   "source": [
    "# 创建一个截断正态分布，返回一个截断的正态分布，截断标准是标准差的二倍\r\n",
    "a = tf.random.truncated_normal(shape=(100, 2), mean=2, stddev=1, dtype=tf.float32)\r\n",
    "plt.hist(a)\r\n",
    "plt.show()"
   ],
   "outputs": [
    {
     "output_type": "display_data",
     "data": {
      "text/plain": [
       "<Figure size 432x288 with 1 Axes>"
      ],
      "image/png": "[encoded data removed]"
     },
     "metadata": {
      "needs_background": "light"
     }
    }
   ],
   "metadata": {}
  },
  {
   "cell_type": "code",
   "execution_count": 36,
   "source": [
    "# 创建均匀分布张量，minval为最小值，maxval为最大值\r\n",
    "a = tf.random.uniform(shape=(2, 3), minval=1, maxval=4, dtype=tf.float32)\r\n",
    "import matplotlib.pyplot as plt\r\n",
    "plt.hist(a)\r\n",
    "plt.show()"
   ],
   "outputs": [
    {
     "output_type": "display_data",
     "data": {
      "text/plain": [
       "<Figure size 432x288 with 1 Axes>"
      ],
      "image/png": "[encoded data removed]"
     },
     "metadata": {
      "needs_background": "light"
     }
    }
   ],
   "metadata": {}
  },
  {
   "cell_type": "code",
   "execution_count": 32,
   "source": [
    "# 随机打乱数据，只打乱第一维元素\r\n",
    "tf.random.shuffle(a)"
   ],
   "outputs": [
    {
     "output_type": "execute_result",
     "data": {
      "text/plain": [
       "<tf.Tensor: shape=(2, 3), dtype=float32, numpy=\n",
       "array([[1.1115727, 3.4481795, 2.8315587],\n",
       "       [3.4354692, 3.209746 , 3.6748827]], dtype=float32)>"
      ]
     },
     "metadata": {},
     "execution_count": 32
    }
   ],
   "metadata": {}
  },
  {
   "cell_type": "code",
   "execution_count": 52,
   "source": [
    "# 创建start为起点，delta为变化量，不超过limit的等差张量\r\n",
    "tf.range(start=1, limit=5, delta=1, dtype=tf.float32)"
   ],
   "outputs": [
    {
     "output_type": "execute_result",
     "data": {
      "text/plain": [
       "<tf.Tensor: shape=(4,), dtype=float32, numpy=array([1., 2., 3., 4.], dtype=float32)>"
      ]
     },
     "metadata": {},
     "execution_count": 52
    }
   ],
   "metadata": {}
  },
  {
   "cell_type": "markdown",
   "source": [
    "## 三、字符串类型"
   ],
   "metadata": {}
  },
  {
   "cell_type": "markdown",
   "source": [
    "字符串类型主要用于表示文件的路径；"
   ],
   "metadata": {}
  },
  {
   "cell_type": "markdown",
   "source": [
    "### 3.1 字符串类型创建"
   ],
   "metadata": {}
  },
  {
   "cell_type": "markdown",
   "source": [
    "同样字符串类型的创建也是通过tf.constant()来实现。"
   ],
   "metadata": {}
  },
  {
   "cell_type": "code",
   "execution_count": 54,
   "source": [
    "string_tf = tf.constant('tensorflow string type')\r\n",
    "string_tf"
   ],
   "outputs": [
    {
     "output_type": "execute_result",
     "data": {
      "text/plain": [
       "<tf.Tensor: shape=(), dtype=string, numpy=b'tensorflow string type'>"
      ]
     },
     "metadata": {},
     "execution_count": 54
    }
   ],
   "metadata": {}
  },
  {
   "cell_type": "markdown",
   "source": [
    "### 3.2   字符串操作"
   ],
   "metadata": {}
  },
  {
   "cell_type": "markdown",
   "source": [
    "Tensorflow中，字符串操作通过Tf.strings模块进行的，Tf.strings模块包含了一些常见的字符串处理函数，如拼接join（），长度length（），切分split（）等."
   ],
   "metadata": {}
  },
  {
   "cell_type": "code",
   "execution_count": 55,
   "source": [
    "tf.strings.length(string_tf)"
   ],
   "outputs": [
    {
     "output_type": "execute_result",
     "data": {
      "text/plain": [
       "<tf.Tensor: shape=(), dtype=int32, numpy=22>"
      ]
     },
     "metadata": {},
     "execution_count": 55
    }
   ],
   "metadata": {}
  },
  {
   "cell_type": "markdown",
   "source": [
    "## 四、布尔类型"
   ],
   "metadata": {}
  },
  {
   "cell_type": "markdown",
   "source": [
    "TensorFlow的bool类型用于表达比较运算结果；"
   ],
   "metadata": {}
  },
  {
   "cell_type": "code",
   "execution_count": 56,
   "source": [
    "bool_tf = tf.constant(False)\r\n",
    "bool_tf"
   ],
   "outputs": [
    {
     "output_type": "execute_result",
     "data": {
      "text/plain": [
       "<tf.Tensor: shape=(), dtype=bool, numpy=False>"
      ]
     },
     "metadata": {},
     "execution_count": 56
    }
   ],
   "metadata": {}
  },
  {
   "cell_type": "markdown",
   "source": [
    "## 五、数值精度"
   ],
   "metadata": {}
  },
  {
   "cell_type": "markdown",
   "source": [
    "对于数值类型的张量有不同字节长度的精度，在创建张量时可以设定其精度如：16bit  32bit 64bit;对应TensorFlow中常用的精度类型有：tf.int16,tf.int32,tf.int64, tf.float16,tf. float 32,tf. float 64(tf.double)。"
   ],
   "metadata": {}
  },
  {
   "cell_type": "code",
   "execution_count": 57,
   "source": [
    "tf.constant(3.1415926, dtype=tf.double)"
   ],
   "outputs": [
    {
     "output_type": "execute_result",
     "data": {
      "text/plain": [
       "<tf.Tensor: shape=(), dtype=float64, numpy=3.1415926>"
      ]
     },
     "metadata": {},
     "execution_count": 57
    }
   ],
   "metadata": {}
  },
  {
   "cell_type": "markdown",
   "source": [
    "### 5.1查看数值精度"
   ],
   "metadata": {}
  },
  {
   "cell_type": "markdown",
   "source": [
    "通过张量的dtype成员属性查看数值的精度"
   ],
   "metadata": {}
  },
  {
   "cell_type": "code",
   "execution_count": 58,
   "source": [
    "data_tf = tf.constant(3.1415926)\r\n",
    "data_tf.dtype"
   ],
   "outputs": [
    {
     "output_type": "execute_result",
     "data": {
      "text/plain": [
       "tf.float32"
      ]
     },
     "metadata": {},
     "execution_count": 58
    }
   ],
   "metadata": {}
  },
  {
   "cell_type": "markdown",
   "source": [
    "### 5.2 数值类型转换"
   ],
   "metadata": {}
  },
  {
   "cell_type": "markdown",
   "source": [
    "Tensorflow中数据转换是通过tf.cast函数实现的"
   ],
   "metadata": {}
  },
  {
   "cell_type": "code",
   "execution_count": 59,
   "source": [
    "tf.cast(data_tf, tf.float64)"
   ],
   "outputs": [
    {
     "output_type": "execute_result",
     "data": {
      "text/plain": [
       "<tf.Tensor: shape=(), dtype=float64, numpy=3.141592502593994>"
      ]
     },
     "metadata": {},
     "execution_count": 59
    }
   ],
   "metadata": {}
  },
  {
   "cell_type": "markdown",
   "source": [
    "注意：同python、c++，数据类型转换需要保证合法性；"
   ],
   "metadata": {}
  },
  {
   "cell_type": "code",
   "execution_count": null,
   "source": [],
   "outputs": [],
   "metadata": {}
  }
 ],
 "metadata": {
  "orig_nbformat": 4,
  "language_info": {
   "name": "python",
   "version": "3.8.0",
   "mimetype": "text/x-python",
   "codemirror_mode": {
    "name": "ipython",
    "version": 3
   },
   "pygments_lexer": "ipython3",
   "nbconvert_exporter": "python",
   "file_extension": ".py"
  },
  "kernelspec": {
   "name": "python3",
   "display_name": "Python 3.8.0 64-bit"
  },
  "interpreter": {
   "hash": "e5edc721c267c354f7c3a43761a84baa24063647031c2095a95e3fbc9f4e28d2"
  }
 },
 "nbformat": 4,
 "nbformat_minor": 2
}