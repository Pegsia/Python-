{
 "cells": [
  {
   "cell_type": "markdown",
   "source": [
    "# 📚 2.1相知篇-Eager execution"
   ],
   "metadata": {}
  },
  {
   "cell_type": "markdown",
   "source": [
    "🔲能今天做好的事就不要等到明天。以梦为马，学习趁年华。   \n",
    "\n",
    "  即刻执行（Eager execution）是TensorFlow2.0的新特性，如同python解释器一样，执行即可获得计算结果，不需要手动建立图结构和会话，与python的兼容性更强, 为快速搭建和测试算法模型提供了便利。"
   ],
   "metadata": {}
  },
  {
   "cell_type": "markdown",
   "source": [
    "# 一、本节目标  \n",
    "\n",
    "        本节将详述Tensorflow2的新特性Eager execution，包括Eager execution的表现、状态查看、开启与关闭。"
   ],
   "metadata": {}
  },
  {
   "cell_type": "markdown",
   "source": [
    "# 二、 Eager execution的特性\n"
   ],
   "metadata": {}
  },
  {
   "cell_type": "markdown",
   "source": [
    "## 2.1 特性介绍  \n",
    "\n",
    "1 tensorflow2.0默认是Eager execution模式；  \n",
    "\n",
    "2 eager模式对numpy的支持很友好，具体如下：  \n",
    "       \n",
    "（1）    numpy的操作可以接受Tensor作为参数；  \n",
    "\n",
    "（2）    Tensorflow的数学操作会将python对象和numpy的arrays转换成Tensor;  \n",
    "\n",
    "（3）    tf.Tensor.numpy方法返回numpy的ndarray.  \n",
    "\n",
    "3 可逐行动态控制流，逐行控制代码的运行；  \n",
    "      \n",
    "4 一切皆函数，无须手动搭建tensorflow数据结构。  \n",
    "      "
   ],
   "metadata": {}
  },
  {
   "cell_type": "markdown",
   "source": [
    "## 2.2 相关API"
   ],
   "metadata": {}
  },
  {
   "cell_type": "markdown",
   "source": [
    "### 2.2.1 即刻输出"
   ],
   "metadata": {}
  },
  {
   "cell_type": "code",
   "execution_count": 1,
   "source": [
    "import tensorflow  as tf# 导入TensorFlow\r\n",
    "scalar_tf=tf.constant(3.14)#创建张量\r\n",
    "m=tf.add(scalar_tf,scalar_tf)#执行操作\r\n",
    "m#输出操作结果"
   ],
   "outputs": [
    {
     "output_type": "execute_result",
     "data": {
      "text/plain": [
       "<tf.Tensor: shape=(), dtype=float32, numpy=6.28>"
      ]
     },
     "metadata": {},
     "execution_count": 1
    }
   ],
   "metadata": {}
  },
  {
   "cell_type": "markdown",
   "source": [
    "### 2.2.2 状态查看和启动"
   ],
   "metadata": {}
  },
  {
   "cell_type": "markdown",
   "source": [
    "默认情况下，Eager execution处于启用状态，可以用tf.executing_eargerly()查看Eager Execution当前的启动状态，返回True则是开启，False是关闭。可以用tf.compat.v1.enable_eager_execution()启动eager模式。"
   ],
   "metadata": {}
  },
  {
   "cell_type": "code",
   "execution_count": 2,
   "source": [
    "tf.compat.v1.executing_eagerly()#查看状态"
   ],
   "outputs": [
    {
     "output_type": "execute_result",
     "data": {
      "text/plain": [
       "True"
      ]
     },
     "metadata": {},
     "execution_count": 2
    }
   ],
   "metadata": {}
  },
  {
   "cell_type": "markdown",
   "source": [
    "### 2.2.3 关闭与启动eager模式"
   ],
   "metadata": {}
  },
  {
   "cell_type": "markdown",
   "source": [
    "关闭eager模式的函数是 tf.compat.v1.disable_eager_execution() 。  \n",
    "\n",
    "启动eager模式的函数是tf.compat.v1.enable_eager_execution()。"
   ],
   "metadata": {}
  },
  {
   "cell_type": "code",
   "execution_count": 3,
   "source": [
    "tf.compat.v1.disable_eager_execution() #默认是开启的，先关闭\r\n",
    "tf.compat.v1.executing_eagerly()#查看状态\r\n"
   ],
   "outputs": [
    {
     "output_type": "execute_result",
     "data": {
      "text/plain": [
       "False"
      ]
     },
     "metadata": {},
     "execution_count": 3
    }
   ],
   "metadata": {}
  },
  {
   "cell_type": "code",
   "execution_count": 4,
   "source": [
    "tf.compat.v1.enable_eager_execution()#开启eager模式\r\n",
    "tf.compat.v1.executing_eagerly()#查看状态"
   ],
   "outputs": [
    {
     "output_type": "execute_result",
     "data": {
      "text/plain": [
       "True"
      ]
     },
     "metadata": {},
     "execution_count": 4
    }
   ],
   "metadata": {}
  },
  {
   "cell_type": "code",
   "execution_count": null,
   "source": [],
   "outputs": [],
   "metadata": {}
  }
 ],
 "metadata": {
  "kernelspec": {
   "display_name": "Python 3",
   "language": "python",
   "name": "python3"
  },
  "language_info": {
   "codemirror_mode": {
    "name": "ipython",
    "version": 3
   },
   "file_extension": ".py",
   "mimetype": "text/x-python",
   "name": "python",
   "nbconvert_exporter": "python",
   "pygments_lexer": "ipython3",
   "version": "3.6.5"
  },
  "tianchi_metadata": {
   "competitions": [],
   "datasets": [],
   "description": "",
   "notebookId": "173197",
   "source": "dsw"
  }
 },
 "nbformat": 4,
 "nbformat_minor": 4
}