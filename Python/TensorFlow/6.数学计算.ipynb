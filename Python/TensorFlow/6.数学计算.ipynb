{
 "cells": [
  {
   "cell_type": "markdown",
   "source": [
    "# 📚 2.5相知篇-数学计算"
   ],
   "metadata": {}
  },
  {
   "cell_type": "markdown",
   "source": [
    "Tensorflow2重新组织了数学计算模块，其提供了数学计算、数值处理的全维度接口，方便了使用者对数据的处理。本部分主要讲解tensorflow2的常用数学计算函数。"
   ],
   "metadata": {}
  },
  {
   "cell_type": "markdown",
   "source": [
    "## 一、本节目标\n",
    "        本节将详述讲解tensorflow2的tf.math模块，其提供了常用的基本数学计算、三角计算、复数计算等常用的函数。"
   ],
   "metadata": {}
  },
  {
   "cell_type": "markdown",
   "source": [
    "## 二、 tf.math模块常用函数列表\r\n",
    "Tensorflow提供了丰富的数学计算函数，并将这些函数统一到了tf.math模块中，常用的函数类型如下表所示。\r\n",
    "\r\n",
    "计算类型|函数\r\n",
    "|:---:|:---:|\r\n",
    "基本数学计算|tf.math.add tf.math.abs tf.math.pow tf.math.reduce_sum\r\n",
    "三角函数计算|tf.math.sin tf.math.asin\r\n",
    "特殊的数学计算|tf.math.igamma tf.math.zeta\r\n",
    "复数计算|tf.math.imag tf.math.angle\r\n",
    "数据分割|tf.math.segment_sum\r\n",
    "最值运算|tf.math.argmax "
   ],
   "metadata": {}
  },
  {
   "cell_type": "markdown",
   "source": [
    "关于数学计算所有的API请学者自行查阅文档：https://tensorflow.google.cn/api_docs/python/tf\n",
    "从左侧导航栏找到tf.math模块，即可浏览查看所有的数据计算api及其使用方法。"
   ],
   "metadata": {}
  },
  {
   "cell_type": "markdown",
   "source": [
    "## 三、 基本运算"
   ],
   "metadata": {}
  },
  {
   "cell_type": "markdown",
   "source": [
    "### 2.2 加减乘除\n",
    "加法："
   ],
   "metadata": {}
  },
  {
   "cell_type": "markdown",
   "source": [
    "tf.math.add(\n",
    "    x, y, name=None\n",
    ")"
   ],
   "metadata": {}
  },
  {
   "cell_type": "markdown",
   "source": [
    "Given two input tensors, the tf.add operation computes the sum for every element in the tensor.   \r\n",
    "Both input and output have a range (-inf, inf).   \r\n",
    "\r\n",
    "<img src=\"https://tianchi-public.oss-cn-hangzhou.aliyuncs.com/public/files/forum/161598320833664891615983207233.png\"/>"
   ],
   "metadata": {}
  },
  {
   "cell_type": "markdown",
   "source": [
    "减法、乘法、除法的参数与加法的类似，在此不再赘述，给出相关的API.  \n",
    "\n",
    "减法："
   ],
   "metadata": {}
  },
  {
   "cell_type": "markdown",
   "source": [
    "tf.math.subtract(\n",
    "    x, y, name=None\n",
    ")"
   ],
   "metadata": {}
  },
  {
   "cell_type": "markdown",
   "source": [
    "乘法："
   ],
   "metadata": {}
  },
  {
   "cell_type": "markdown",
   "source": [
    "tf.math.multiply(\n",
    "    x, y, name=None\n",
    ")"
   ],
   "metadata": {}
  },
  {
   "cell_type": "markdown",
   "source": [
    "除法："
   ],
   "metadata": {}
  },
  {
   "cell_type": "markdown",
   "source": [
    "tf.math.divide(\n",
    "    x, y, name=None\n",
    ")"
   ],
   "metadata": {}
  },
  {
   "cell_type": "code",
   "execution_count": 1,
   "source": [
    "import tensorflow as tf\r\n",
    "a = tf.constant([3, 8])\r\n",
    "b = tf.constant([2, 5])\r\n",
    "add = tf.add(a, b)       # 加法\r\n",
    "sub = tf.subtract(a,b)   # 减法\r\n",
    "mul = tf.multiply(a,b)   # 乘法\r\n",
    "div = tf.divide(a,b)     # 除法\r\n",
    "print(add)\r\n",
    "print('-'*50)\r\n",
    "print(sub)\r\n",
    "print('-'*50)\r\n",
    "print(mul)\r\n",
    "print('-'*50)\r\n",
    "print(div)"
   ],
   "outputs": [
    {
     "output_type": "stream",
     "name": "stdout",
     "text": [
      "tf.Tensor([ 5 13], shape=(2,), dtype=int32)\n",
      "--------------------------------------------------\n",
      "tf.Tensor([1 3], shape=(2,), dtype=int32)\n",
      "--------------------------------------------------\n",
      "tf.Tensor([ 6 40], shape=(2,), dtype=int32)\n",
      "--------------------------------------------------\n",
      "tf.Tensor([1.5 1.6], shape=(2,), dtype=float64)\n"
     ]
    }
   ],
   "metadata": {}
  },
  {
   "cell_type": "markdown",
   "source": [
    "### 2.2 指数、开方、对数\n",
    "指数运算："
   ],
   "metadata": {}
  },
  {
   "cell_type": "markdown",
   "source": [
    "tf.math.pow(\n",
    "    x, y, name=None\n",
    ")"
   ],
   "metadata": {}
  },
  {
   "cell_type": "markdown",
   "source": [
    "开方运算："
   ],
   "metadata": {}
  },
  {
   "cell_type": "markdown",
   "source": [
    "tf.math.sqrt(\n",
    "    x, name=None\n",
    ")"
   ],
   "metadata": {}
  },
  {
   "cell_type": "markdown",
   "source": [
    "对数运算："
   ],
   "metadata": {}
  },
  {
   "cell_type": "markdown",
   "source": [
    "tf.math.log(\n",
    "    x, name=None\n",
    ")"
   ],
   "metadata": {}
  },
  {
   "cell_type": "code",
   "execution_count": 8,
   "source": [
    "a = tf.constant([[1.,2.],[3.,4.]])\r\n",
    "# 指数为2\r\n",
    "b = tf.pow(a,2)\r\n",
    "# 开方 \r\n",
    "c = tf.sqrt(b)  \r\n",
    " # 自然指数运算\r\n",
    "d = tf.exp(a) \r\n",
    "# 对数运算,以自然常数e为底的对数\r\n",
    "e = tf.math.log(a)\r\n",
    "# 对各个元素求平方\r\n",
    "f = tf.square(a)   \r\n",
    "print(b)\r\n",
    "print('-'*50)\r\n",
    "print(c)\r\n",
    "print('-'*50)\r\n",
    "print(d)\r\n",
    "print('-'*50)\r\n",
    "print(e)\r\n",
    "print('-'*50)\r\n",
    "print(f)"
   ],
   "outputs": [
    {
     "output_type": "stream",
     "name": "stdout",
     "text": [
      "tf.Tensor(\n",
      "[[ 1.  4.]\n",
      " [ 9. 16.]], shape=(2, 2), dtype=float32)\n",
      "--------------------------------------------------\n",
      "tf.Tensor(\n",
      "[[1. 2.]\n",
      " [3. 4.]], shape=(2, 2), dtype=float32)\n",
      "--------------------------------------------------\n",
      "tf.Tensor(\n",
      "[[ 2.7182817  7.389056 ]\n",
      " [20.085537  54.59815  ]], shape=(2, 2), dtype=float32)\n",
      "--------------------------------------------------\n",
      "tf.Tensor(\n",
      "[[0.        0.6931472]\n",
      " [1.0986123 1.3862944]], shape=(2, 2), dtype=float32)\n",
      "--------------------------------------------------\n",
      "tf.Tensor(\n",
      "[[ 1.  4.]\n",
      " [ 9. 16.]], shape=(2, 2), dtype=float32)\n"
     ]
    }
   ],
   "metadata": {}
  },
  {
   "cell_type": "markdown",
   "source": [
    "### 2.3矩阵相乘"
   ],
   "metadata": {}
  },
  {
   "cell_type": "code",
   "execution_count": 2,
   "source": [
    "matrix1 = tf.constant([[1, 2], [3, 4]])\r\n",
    "matrix2 = tf.constant([[5, 6], [7, 8]])\r\n",
    "result = tf.matmul(matrix1, matrix2)\r\n",
    "print(result)"
   ],
   "outputs": [
    {
     "output_type": "stream",
     "name": "stdout",
     "text": [
      "tf.Tensor(\n",
      "[[19 22]\n",
      " [43 50]], shape=(2, 2), dtype=int32)\n"
     ]
    }
   ],
   "metadata": {}
  },
  {
   "cell_type": "code",
   "execution_count": null,
   "source": [],
   "outputs": [],
   "metadata": {}
  }
 ],
 "metadata": {
  "orig_nbformat": 4,
  "language_info": {
   "name": "python",
   "version": "3.8.0",
   "mimetype": "text/x-python",
   "codemirror_mode": {
    "name": "ipython",
    "version": 3
   },
   "pygments_lexer": "ipython3",
   "nbconvert_exporter": "python",
   "file_extension": ".py"
  },
  "kernelspec": {
   "name": "python3",
   "display_name": "Python 3.8.0 64-bit"
  },
  "interpreter": {
   "hash": "e5edc721c267c354f7c3a43761a84baa24063647031c2095a95e3fbc9f4e28d2"
  }
 },
 "nbformat": 4,
 "nbformat_minor": 2
}