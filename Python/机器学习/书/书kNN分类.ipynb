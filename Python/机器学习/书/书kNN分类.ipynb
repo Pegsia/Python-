{
 "cells": [
  {
   "cell_type": "code",
   "execution_count": 1,
   "metadata": {},
   "outputs": [],
   "source": [
    "import numpy as np\n",
    "import operator"
   ]
  },
  {
   "cell_type": "markdown",
   "metadata": {},
   "source": [
    "## 1.p19点的分类算法"
   ]
  },
  {
   "cell_type": "code",
   "execution_count": 41,
   "metadata": {},
   "outputs": [],
   "source": [
    "#创建数据和标签\n",
    "def creatDataSet():\n",
    "    group = np.array([[1.0, 1.1], [1.0, 1.0], [0.0, 0.0], [0.0, 0.1]])\n",
    "    labels = ['A', 'A', 'B', 'B']\n",
    "    return group, labels"
   ]
  },
  {
   "cell_type": "code",
   "execution_count": 39,
   "metadata": {},
   "outputs": [],
   "source": [
    "'''\n",
    "inX:需要分类的向量\n",
    "dataSet:训练样本集\n",
    "labels:标签向量\n",
    "k:选择最近的k个数目\n",
    "'''\n",
    "def classfy(inX, dataSet, labels, k):\n",
    "    size = dataSet.shape[0]\n",
    "    diffMat = np.tile(inX, (size , 1)) - dataSet # 计算点之间的差值\n",
    "    dis = np.sum(diffMat ** 2, 1) ** 0.5 #计算距离，先平方再求和再求根号\n",
    "    idx = np.argsort(dis) #排序返回下标\n",
    "    count = {}\n",
    "    for i in range(k):\n",
    "        label = labels[idx[i]] # 取前k个标签\n",
    "        count[label] = count.get(label, 0) + 1 # 进行标签计数\n",
    "    #对出现次数进行排序，依据维度选择第二维，且降序\n",
    "    sortedCount = sorted(count.items(), key = operator.itemgetter(1), reverse = True)\n",
    "    print(sortedCount)\n",
    "    return sortedCount[0][0]\n"
   ]
  },
  {
   "cell_type": "code",
   "execution_count": 43,
   "metadata": {},
   "outputs": [
    {
     "name": "stdout",
     "output_type": "stream",
     "text": [
      "[('A', 2), ('B', 1)]\n"
     ]
    },
    {
     "data": {
      "text/plain": [
       "'A'"
      ]
     },
     "execution_count": 43,
     "metadata": {},
     "output_type": "execute_result"
    }
   ],
   "source": [
    "group, labels = creatDataSet()\n",
    "classfy([0.5, 1], group, labels, 3)"
   ]
  },
  {
   "cell_type": "code",
   "execution_count": null,
   "metadata": {},
   "outputs": [],
   "source": []
  }
 ],
 "metadata": {
  "interpreter": {
   "hash": "e5edc721c267c354f7c3a43761a84baa24063647031c2095a95e3fbc9f4e28d2"
  },
  "kernelspec": {
   "display_name": "Python 3.8.0 64-bit",
   "name": "python3"
  },
  "language_info": {
   "name": "python",
   "version": ""
  },
  "orig_nbformat": 4
 },
 "nbformat": 4,
 "nbformat_minor": 2
}