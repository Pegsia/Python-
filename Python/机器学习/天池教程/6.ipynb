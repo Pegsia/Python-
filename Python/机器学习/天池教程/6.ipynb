{
 "cells": [
  {
   "cell_type": "markdown",
   "source": [
    "# 1. 实验室介绍"
   ],
   "metadata": {
    "uuid": "f1d71839-2697-4c93-b134-3969f61383db"
   }
  },
  {
   "cell_type": "markdown",
   "source": [
    "## 1.1 XGBoost的介绍"
   ],
   "metadata": {
    "uuid": "5b2a3f83-ca2c-4fb2-acae-ae37d42a64a7"
   }
  },
  {
   "cell_type": "markdown",
   "source": [
    "XGBoost是2016年由华盛顿大学陈天奇老师带领开发的一个可扩展机器学习系统。严格意义上讲XGBoost并不是一种模型，而是一个可供用户轻松解决分类、回归或排序问题的软件包。它内部实现了梯度提升树(GBDT)模型，并对模型中的算法进行了诸多优化，在取得高精度的同时又保持了极快的速度，在一段时间内成为了国内外数据挖掘、机器学习领域中的大规模杀伤性武器。\n",
    "\n",
    "更重要的是，XGBoost在系统优化和机器学习原理方面都进行了深入的考虑。毫不夸张的讲，XGBoost提供的可扩展性，可移植性与准确性推动了机器学习计算限制的上限，该系统在单台机器上运行速度比当时流行解决方案快十倍以上，甚至在分布式系统中可以处理十亿级的数据。"
   ],
   "metadata": {
    "uuid": "c226f0bc-04c4-497e-87c3-87498eebfa6c"
   }
  },
  {
   "cell_type": "markdown",
   "source": [
    "XGBoost的主要优点：\n",
    "\n",
    "1. 简单易用。相对其他机器学习库，用户可以轻松使用XGBoost并获得相当不错的效果。\n",
    "2. 高效可扩展。在处理大规模数据集时速度快效果好，对内存等硬件资源要求不高。\n",
    "3. 鲁棒性强。相对于深度学习模型不需要精细调参便能取得接近的效果。\n",
    "4. XGBoost内部实现提升树模型，可以自动处理缺失值。"
   ],
   "metadata": {
    "uuid": "882fb3bb-eefe-4f9a-b85c-9af8c7e20cb8"
   }
  },
  {
   "cell_type": "markdown",
   "source": [
    "XGBoost的主要缺点：\n",
    "\n",
    "1. 相对于深度学习模型无法对时空位置建模，不能很好地捕获图像、语音、文本等高维数据。\n",
    "2. 在拥有海量训练数据，并能找到合适的深度学习模型时，深度学习的精度可以遥遥领先XGBoost。"
   ],
   "metadata": {
    "uuid": "c074d155-5ec5-483d-b303-4e5ae629f538"
   }
  },
  {
   "cell_type": "markdown",
   "source": [
    "## 1.2 XGboost的应用"
   ],
   "metadata": {
    "uuid": "6c77773d-b383-498c-a010-fd6885261691"
   }
  },
  {
   "cell_type": "markdown",
   "source": [
    "XGBoost在机器学习与数据挖掘领域有着极为广泛的应用。据统计在2015年Kaggle平台上29个获奖方案中，17只队伍使用了XGBoost；在2015年KDD-Cup中，前十名的队伍均使用了XGBoost，且集成其他模型比不上调节XGBoost的参数所带来的提升。这些实实在在的例子都表明，XGBoost在各种问题上都可以取得非常好的效果。\n",
    "\n",
    "同时，XGBoost还被成功应用在工业界与学术界的各种问题中。例如商店销售额预测、高能物理事件分类、web文本分类;用户行为预测、运动检测、广告点击率预测、恶意软件分类、灾害风险预测、在线课程退学率预测。虽然领域相关的数据分析和特性工程在这些解决方案中也发挥了重要作用，但学习者与实践者对XGBoost的一致选择表明了这一软件包的影响力与重要性。"
   ],
   "metadata": {
    "uuid": "70e29563-ac90-4e64-9e91-0854d4e7fe68"
   }
  },
  {
   "cell_type": "markdown",
   "source": [
    "# 2. 实验室手册"
   ],
   "metadata": {
    "uuid": "8c818f85-5541-42f6-866d-184bf99d6dc2"
   }
  },
  {
   "cell_type": "markdown",
   "source": [
    "## 2.1 学习目标"
   ],
   "metadata": {
    "uuid": "943edb94-8dbe-417d-94c1-172f09855ceb"
   }
  },
  {
   "cell_type": "markdown",
   "source": [
    "- 了解 XGBoost 的参数与相关知识\n",
    "- 掌握 XGBoost 的Python调用并将其运用到天气数据集预测"
   ],
   "metadata": {
    "uuid": "1719d2c0-79ba-4b3b-8d45-4fd3d4b2cc0d"
   }
  },
  {
   "cell_type": "markdown",
   "source": [
    "## 2.2 代码流程"
   ],
   "metadata": {
    "uuid": "6565312d-a513-4acd-b99a-87c4560b5153"
   }
  },
  {
   "cell_type": "markdown",
   "source": [
    "Part1 基于天气数据集的XGBoost分类实践\n",
    "\n",
    "- Step1: 库函数导入 \n",
    "- Step2: 数据读取/载入 \n",
    "- Step3: 数据信息简单查看 \n",
    "- Step4: 可视化描述 \n",
    "- Step5: 对离散变量进行编码\n",
    "- Step6: 利用 XGBoost 进行训练与预测\n",
    "- Step7: 利用 XGBoost 进行特征选择\n",
    "- Step8: 通过调整参数获得更好的效果"
   ],
   "metadata": {
    "uuid": "ee0c2e4e-073f-4f8f-a5ab-7e8b053b795b"
   }
  },
  {
   "cell_type": "markdown",
   "source": [
    "## 2.3 算法实战"
   ],
   "metadata": {
    "uuid": "1e7426f5-ad5e-4fba-899b-ca3f30e20f4a"
   }
  },
  {
   "cell_type": "markdown",
   "source": [
    "## 2.3.1 基于天气数据集的XGBoost分类实战"
   ],
   "metadata": {
    "uuid": "b72af374-e214-4c20-beda-c220507ce7f5"
   }
  },
  {
   "cell_type": "markdown",
   "source": [
    "在实践的最开始，我们首先需要导入一些基础的函数库包括：numpy （Python进行科学计算的基础软件包），pandas（pandas是一种快速，强大，灵活且易于使用的开源数据分析和处理工具），matplotlib和seaborn绘图。"
   ],
   "metadata": {
    "uuid": "8df688fc-3333-4ce7-a83f-8097f6437470"
   }
  },
  {
   "cell_type": "code",
   "execution_count": 1,
   "source": [
    "#导入需要用到的数据集\r\n",
    "# !wget https://tianchi-media.oss-cn-beijing.aliyuncs.com/DSW/7XGBoost/train.csv"
   ],
   "outputs": [],
   "metadata": {
    "uuid": "279685f2-1468-4a70-bbaa-2ccf0314cad6"
   }
  },
  {
   "cell_type": "markdown",
   "source": [
    "**Step1：函数库导入**"
   ],
   "metadata": {
    "uuid": "771d934a-1db8-4ebe-8a90-5f408d9f2fb7"
   }
  },
  {
   "cell_type": "code",
   "execution_count": 2,
   "source": [
    "##  基础函数库\r\n",
    "import numpy as np \r\n",
    "import pandas as pd\r\n",
    "\r\n",
    "## 绘图函数库\r\n",
    "import matplotlib.pyplot as plt\r\n",
    "import seaborn as sns"
   ],
   "outputs": [],
   "metadata": {
    "uuid": "f0545519-577a-4e23-bd42-a8f1028a0110"
   }
  },
  {
   "cell_type": "markdown",
   "source": [
    "本次我们选择天气数据集进行方法的尝试训练，现在有一些由气象站提供的每日降雨数据，我们需要根据历史降雨数据来预测明天会下雨的概率。样例涉及到的测试集数据test.csv与train.csv的格式完全相同，但其RainTomorrow未给出，为预测变量。"
   ],
   "metadata": {
    "uuid": "74178b21-e9d1-4a59-b5b5-0ca0d19e0c51"
   }
  },
  {
   "cell_type": "markdown",
   "source": [
    "数据的各个特征描述如下："
   ],
   "metadata": {
    "uuid": "eb78e760-4a75-47f9-8337-9d4552e59a56"
   }
  },
  {
   "cell_type": "markdown",
   "source": [
    "| 特征名称      | 意义            | 取值范围 |\n",
    "|---------------|-----------------|----------|\n",
    "| Date          | 日期            | 字符串   |\n",
    "| Location      | 气象站的地址    | 字符串   |\n",
    "| MinTemp       | 最低温度        | 实数     |\n",
    "| MaxTemp       | 最高温度        | 实数     |\n",
    "| Rainfall      | 降雨量          | 实数     |\n",
    "| Evaporation   | 蒸发量          | 实数     |\n",
    "| Sunshine      | 光照时间        | 实数     |\n",
    "| WindGustDir   | 最强的风的方向  | 字符串   |\n",
    "| WindGustSpeed | 最强的风的速度  | 实数     |\n",
    "| WindDir9am    | 早上9点的风向   | 字符串   |\n",
    "| WindDir3pm    | 下午3点的风向   | 字符串   |\n",
    "| WindSpeed9am  | 早上9点的风速   | 实数     |\n",
    "| WindSpeed3pm  | 下午3点的风速   | 实数     |\n",
    "| Humidity9am   | 早上9点的湿度   | 实数     |\n",
    "| Humidity3pm   | 下午3点的湿度   | 实数     |\n",
    "| Pressure9am   | 早上9点的大气压 | 实数     |\n",
    "| Pressure3pm   | 早上3点的大气压 | 实数     |\n",
    "| Cloud9am      | 早上9点的云指数 | 实数     |\n",
    "| Cloud3pm      | 早上3点的云指数 | 实数     |\n",
    "| Temp9am       | 早上9点的温度   | 实数     |\n",
    "| Temp3pm       | 早上3点的温度   | 实数     |\n",
    "| RainToday     | 今天是否下雨    | No，Yes  |\n",
    "| RainTomorrow  | 明天是否下雨    | No，Yes  |"
   ],
   "metadata": {
    "uuid": "52fc4785-e700-4cc1-a132-0c64c53e4fa6"
   }
  },
  {
   "cell_type": "markdown",
   "source": [
    "**Step2：数据读取/载入**"
   ],
   "metadata": {
    "uuid": "d8c5733d-90bc-49ac-abac-446051cdb41f"
   }
  },
  {
   "cell_type": "code",
   "execution_count": 3,
   "source": [
    "## 我们利用Pandas自带的read_csv函数读取并转化为DataFrame格式\r\n",
    "\r\n",
    "data = pd.read_csv('data\\\\train.csv')"
   ],
   "outputs": [],
   "metadata": {
    "uuid": "fd383daa-73bc-4325-8332-a8aa1538e7f9"
   }
  },
  {
   "cell_type": "markdown",
   "source": [
    "**Step3：数据信息简单查看**"
   ],
   "metadata": {
    "uuid": "4f3169f9-3830-4890-9fd4-36ed0001c4cd"
   }
  },
  {
   "cell_type": "code",
   "execution_count": 4,
   "source": [
    "## 利用.info()查看数据的整体信息\r\n",
    "data.info()"
   ],
   "outputs": [
    {
     "output_type": "stream",
     "name": "stdout",
     "text": [
      "<class 'pandas.core.frame.DataFrame'>\n",
      "RangeIndex: 106644 entries, 0 to 106643\n",
      "Data columns (total 23 columns):\n",
      " #   Column         Non-Null Count   Dtype  \n",
      "---  ------         --------------   -----  \n",
      " 0   Date           106644 non-null  object \n",
      " 1   Location       106644 non-null  object \n",
      " 2   MinTemp        106183 non-null  float64\n",
      " 3   MaxTemp        106413 non-null  float64\n",
      " 4   Rainfall       105610 non-null  float64\n",
      " 5   Evaporation    60974 non-null   float64\n",
      " 6   Sunshine       55718 non-null   float64\n",
      " 7   WindGustDir    99660 non-null   object \n",
      " 8   WindGustSpeed  99702 non-null   float64\n",
      " 9   WindDir9am     99166 non-null   object \n",
      " 10  WindDir3pm     103788 non-null  object \n",
      " 11  WindSpeed9am   105643 non-null  float64\n",
      " 12  WindSpeed3pm   104653 non-null  float64\n",
      " 13  Humidity9am    105327 non-null  float64\n",
      " 14  Humidity3pm    103932 non-null  float64\n",
      " 15  Pressure9am    96107 non-null   float64\n",
      " 16  Pressure3pm    96123 non-null   float64\n",
      " 17  Cloud9am       66303 non-null   float64\n",
      " 18  Cloud3pm       63691 non-null   float64\n",
      " 19  Temp9am        105983 non-null  float64\n",
      " 20  Temp3pm        104599 non-null  float64\n",
      " 21  RainToday      105610 non-null  object \n",
      " 22  RainTomorrow   106644 non-null  object \n",
      "dtypes: float64(16), object(7)\n",
      "memory usage: 18.7+ MB\n"
     ]
    }
   ],
   "metadata": {
    "uuid": "d76c9920-9bfa-4ed6-870e-c29669a2b0d5"
   }
  },
  {
   "cell_type": "code",
   "execution_count": 5,
   "source": [
    "## 进行简单的数据查看，我们可以利用 .head() 头部.tail()尾部\r\n",
    "data.head()"
   ],
   "outputs": [
    {
     "output_type": "execute_result",
     "data": {
      "text/plain": [
       "        Date     Location  MinTemp  MaxTemp  Rainfall  Evaporation  Sunshine  \\\n",
       "0  2012/1/19  MountGinini     12.1     23.1       0.0          NaN       NaN   \n",
       "1  2015/4/13         Nhil     10.2     24.7       0.0          NaN       NaN   \n",
       "2   2010/8/5    Nuriootpa     -0.4     11.0       3.6          0.4       1.6   \n",
       "3  2013/3/18     Adelaide     13.2     22.6       0.0         15.4      11.0   \n",
       "4  2011/2/16         Sale     14.1     28.6       0.0          6.6       6.7   \n",
       "\n",
       "  WindGustDir  WindGustSpeed WindDir9am  ... Humidity9am  Humidity3pm  \\\n",
       "0           W           30.0          N  ...        60.0         54.0   \n",
       "1           E           39.0          E  ...        63.0         33.0   \n",
       "2           W           28.0          N  ...        97.0         78.0   \n",
       "3          SE           44.0          E  ...        47.0         34.0   \n",
       "4           E           28.0         NE  ...        92.0         42.0   \n",
       "\n",
       "   Pressure9am  Pressure3pm  Cloud9am  Cloud3pm  Temp9am  Temp3pm  RainToday  \\\n",
       "0          NaN          NaN       NaN       NaN     17.0     22.0         No   \n",
       "1       1021.9       1017.9       NaN       NaN     12.5     23.7         No   \n",
       "2       1025.9       1025.3       7.0       8.0      3.9      9.0        Yes   \n",
       "3       1025.0       1022.2       NaN       NaN     15.2     21.7         No   \n",
       "4       1018.0       1014.1       4.0       7.0     19.1     28.2         No   \n",
       "\n",
       "   RainTomorrow  \n",
       "0            No  \n",
       "1           Yes  \n",
       "2            No  \n",
       "3            No  \n",
       "4            No  \n",
       "\n",
       "[5 rows x 23 columns]"
      ],
      "text/html": [
       "<div>\n",
       "<style scoped>\n",
       "    .dataframe tbody tr th:only-of-type {\n",
       "        vertical-align: middle;\n",
       "    }\n",
       "\n",
       "    .dataframe tbody tr th {\n",
       "        vertical-align: top;\n",
       "    }\n",
       "\n",
       "    .dataframe thead th {\n",
       "        text-align: right;\n",
       "    }\n",
       "</style>\n",
       "<table border=\"1\" class=\"dataframe\">\n",
       "  <thead>\n",
       "    <tr style=\"text-align: right;\">\n",
       "      <th></th>\n",
       "      <th>Date</th>\n",
       "      <th>Location</th>\n",
       "      <th>MinTemp</th>\n",
       "      <th>MaxTemp</th>\n",
       "      <th>Rainfall</th>\n",
       "      <th>Evaporation</th>\n",
       "      <th>Sunshine</th>\n",
       "      <th>WindGustDir</th>\n",
       "      <th>WindGustSpeed</th>\n",
       "      <th>WindDir9am</th>\n",
       "      <th>...</th>\n",
       "      <th>Humidity9am</th>\n",
       "      <th>Humidity3pm</th>\n",
       "      <th>Pressure9am</th>\n",
       "      <th>Pressure3pm</th>\n",
       "      <th>Cloud9am</th>\n",
       "      <th>Cloud3pm</th>\n",
       "      <th>Temp9am</th>\n",
       "      <th>Temp3pm</th>\n",
       "      <th>RainToday</th>\n",
       "      <th>RainTomorrow</th>\n",
       "    </tr>\n",
       "  </thead>\n",
       "  <tbody>\n",
       "    <tr>\n",
       "      <th>0</th>\n",
       "      <td>2012/1/19</td>\n",
       "      <td>MountGinini</td>\n",
       "      <td>12.1</td>\n",
       "      <td>23.1</td>\n",
       "      <td>0.0</td>\n",
       "      <td>NaN</td>\n",
       "      <td>NaN</td>\n",
       "      <td>W</td>\n",
       "      <td>30.0</td>\n",
       "      <td>N</td>\n",
       "      <td>...</td>\n",
       "      <td>60.0</td>\n",
       "      <td>54.0</td>\n",
       "      <td>NaN</td>\n",
       "      <td>NaN</td>\n",
       "      <td>NaN</td>\n",
       "      <td>NaN</td>\n",
       "      <td>17.0</td>\n",
       "      <td>22.0</td>\n",
       "      <td>No</td>\n",
       "      <td>No</td>\n",
       "    </tr>\n",
       "    <tr>\n",
       "      <th>1</th>\n",
       "      <td>2015/4/13</td>\n",
       "      <td>Nhil</td>\n",
       "      <td>10.2</td>\n",
       "      <td>24.7</td>\n",
       "      <td>0.0</td>\n",
       "      <td>NaN</td>\n",
       "      <td>NaN</td>\n",
       "      <td>E</td>\n",
       "      <td>39.0</td>\n",
       "      <td>E</td>\n",
       "      <td>...</td>\n",
       "      <td>63.0</td>\n",
       "      <td>33.0</td>\n",
       "      <td>1021.9</td>\n",
       "      <td>1017.9</td>\n",
       "      <td>NaN</td>\n",
       "      <td>NaN</td>\n",
       "      <td>12.5</td>\n",
       "      <td>23.7</td>\n",
       "      <td>No</td>\n",
       "      <td>Yes</td>\n",
       "    </tr>\n",
       "    <tr>\n",
       "      <th>2</th>\n",
       "      <td>2010/8/5</td>\n",
       "      <td>Nuriootpa</td>\n",
       "      <td>-0.4</td>\n",
       "      <td>11.0</td>\n",
       "      <td>3.6</td>\n",
       "      <td>0.4</td>\n",
       "      <td>1.6</td>\n",
       "      <td>W</td>\n",
       "      <td>28.0</td>\n",
       "      <td>N</td>\n",
       "      <td>...</td>\n",
       "      <td>97.0</td>\n",
       "      <td>78.0</td>\n",
       "      <td>1025.9</td>\n",
       "      <td>1025.3</td>\n",
       "      <td>7.0</td>\n",
       "      <td>8.0</td>\n",
       "      <td>3.9</td>\n",
       "      <td>9.0</td>\n",
       "      <td>Yes</td>\n",
       "      <td>No</td>\n",
       "    </tr>\n",
       "    <tr>\n",
       "      <th>3</th>\n",
       "      <td>2013/3/18</td>\n",
       "      <td>Adelaide</td>\n",
       "      <td>13.2</td>\n",
       "      <td>22.6</td>\n",
       "      <td>0.0</td>\n",
       "      <td>15.4</td>\n",
       "      <td>11.0</td>\n",
       "      <td>SE</td>\n",
       "      <td>44.0</td>\n",
       "      <td>E</td>\n",
       "      <td>...</td>\n",
       "      <td>47.0</td>\n",
       "      <td>34.0</td>\n",
       "      <td>1025.0</td>\n",
       "      <td>1022.2</td>\n",
       "      <td>NaN</td>\n",
       "      <td>NaN</td>\n",
       "      <td>15.2</td>\n",
       "      <td>21.7</td>\n",
       "      <td>No</td>\n",
       "      <td>No</td>\n",
       "    </tr>\n",
       "    <tr>\n",
       "      <th>4</th>\n",
       "      <td>2011/2/16</td>\n",
       "      <td>Sale</td>\n",
       "      <td>14.1</td>\n",
       "      <td>28.6</td>\n",
       "      <td>0.0</td>\n",
       "      <td>6.6</td>\n",
       "      <td>6.7</td>\n",
       "      <td>E</td>\n",
       "      <td>28.0</td>\n",
       "      <td>NE</td>\n",
       "      <td>...</td>\n",
       "      <td>92.0</td>\n",
       "      <td>42.0</td>\n",
       "      <td>1018.0</td>\n",
       "      <td>1014.1</td>\n",
       "      <td>4.0</td>\n",
       "      <td>7.0</td>\n",
       "      <td>19.1</td>\n",
       "      <td>28.2</td>\n",
       "      <td>No</td>\n",
       "      <td>No</td>\n",
       "    </tr>\n",
       "  </tbody>\n",
       "</table>\n",
       "<p>5 rows × 23 columns</p>\n",
       "</div>"
      ]
     },
     "metadata": {},
     "execution_count": 5
    }
   ],
   "metadata": {
    "uuid": "e43081bf-b61d-4215-b78f-aa0245c3f7fe"
   }
  },
  {
   "cell_type": "markdown",
   "source": [
    "这里我们发现数据集中存在NaN，一般的我们认为NaN在数据集中代表了缺失值，可能是数据采集或处理时产生的一种错误。这里我们采用-1将缺失值进行填补，还有其他例如“中位数填补、平均数填补”的缺失值处理方法有兴趣的同学也可以尝试。"
   ],
   "metadata": {
    "uuid": "0cbab12d-c48b-4e40-a571-5652ce7f3c53"
   }
  },
  {
   "cell_type": "code",
   "execution_count": 6,
   "source": [
    "data = data.fillna(-1)"
   ],
   "outputs": [],
   "metadata": {
    "uuid": "74c328d1-f690-4cb7-a757-53f95fa40576"
   }
  },
  {
   "cell_type": "code",
   "execution_count": 7,
   "source": [
    "data.tail()"
   ],
   "outputs": [
    {
     "output_type": "execute_result",
     "data": {
      "text/plain": [
       "              Date      Location  MinTemp  MaxTemp  Rainfall  Evaporation  \\\n",
       "106639   2011/5/23    Launceston     10.1     16.1      15.8         -1.0   \n",
       "106640   2014/12/9     GoldCoast     19.3     31.7      36.0         -1.0   \n",
       "106641   2014/10/7    Wollongong     17.5     22.2       1.2         -1.0   \n",
       "106642   2012/1/16     Newcastle     17.6     27.0       3.0         -1.0   \n",
       "106643  2014/10/21  AliceSprings     16.3     37.9       0.0         14.2   \n",
       "\n",
       "        Sunshine WindGustDir  WindGustSpeed WindDir9am  ... Humidity9am  \\\n",
       "106639      -1.0          SE           31.0        NNW  ...        99.0   \n",
       "106640      -1.0          SE           80.0        NNW  ...        75.0   \n",
       "106641      -1.0         WNW           65.0        WNW  ...        61.0   \n",
       "106642      -1.0          -1           -1.0         NE  ...        68.0   \n",
       "106643      12.2         ESE           41.0        NNE  ...         8.0   \n",
       "\n",
       "        Humidity3pm  Pressure9am  Pressure3pm  Cloud9am  Cloud3pm  Temp9am  \\\n",
       "106639         86.0        999.2        995.2      -1.0      -1.0     13.0   \n",
       "106640         76.0       1013.8       1010.0      -1.0      -1.0     26.0   \n",
       "106641         56.0       1008.2       1008.2      -1.0      -1.0     17.8   \n",
       "106642         88.0         -1.0         -1.0       6.0       5.0     22.6   \n",
       "106643          6.0       1017.9       1014.0       0.0       1.0     32.2   \n",
       "\n",
       "        Temp3pm  RainToday  RainTomorrow  \n",
       "106639     15.6        Yes           Yes  \n",
       "106640     25.8        Yes           Yes  \n",
       "106641     21.4        Yes            No  \n",
       "106642     26.4        Yes            No  \n",
       "106643     35.7         No            No  \n",
       "\n",
       "[5 rows x 23 columns]"
      ],
      "text/html": [
       "<div>\n",
       "<style scoped>\n",
       "    .dataframe tbody tr th:only-of-type {\n",
       "        vertical-align: middle;\n",
       "    }\n",
       "\n",
       "    .dataframe tbody tr th {\n",
       "        vertical-align: top;\n",
       "    }\n",
       "\n",
       "    .dataframe thead th {\n",
       "        text-align: right;\n",
       "    }\n",
       "</style>\n",
       "<table border=\"1\" class=\"dataframe\">\n",
       "  <thead>\n",
       "    <tr style=\"text-align: right;\">\n",
       "      <th></th>\n",
       "      <th>Date</th>\n",
       "      <th>Location</th>\n",
       "      <th>MinTemp</th>\n",
       "      <th>MaxTemp</th>\n",
       "      <th>Rainfall</th>\n",
       "      <th>Evaporation</th>\n",
       "      <th>Sunshine</th>\n",
       "      <th>WindGustDir</th>\n",
       "      <th>WindGustSpeed</th>\n",
       "      <th>WindDir9am</th>\n",
       "      <th>...</th>\n",
       "      <th>Humidity9am</th>\n",
       "      <th>Humidity3pm</th>\n",
       "      <th>Pressure9am</th>\n",
       "      <th>Pressure3pm</th>\n",
       "      <th>Cloud9am</th>\n",
       "      <th>Cloud3pm</th>\n",
       "      <th>Temp9am</th>\n",
       "      <th>Temp3pm</th>\n",
       "      <th>RainToday</th>\n",
       "      <th>RainTomorrow</th>\n",
       "    </tr>\n",
       "  </thead>\n",
       "  <tbody>\n",
       "    <tr>\n",
       "      <th>106639</th>\n",
       "      <td>2011/5/23</td>\n",
       "      <td>Launceston</td>\n",
       "      <td>10.1</td>\n",
       "      <td>16.1</td>\n",
       "      <td>15.8</td>\n",
       "      <td>-1.0</td>\n",
       "      <td>-1.0</td>\n",
       "      <td>SE</td>\n",
       "      <td>31.0</td>\n",
       "      <td>NNW</td>\n",
       "      <td>...</td>\n",
       "      <td>99.0</td>\n",
       "      <td>86.0</td>\n",
       "      <td>999.2</td>\n",
       "      <td>995.2</td>\n",
       "      <td>-1.0</td>\n",
       "      <td>-1.0</td>\n",
       "      <td>13.0</td>\n",
       "      <td>15.6</td>\n",
       "      <td>Yes</td>\n",
       "      <td>Yes</td>\n",
       "    </tr>\n",
       "    <tr>\n",
       "      <th>106640</th>\n",
       "      <td>2014/12/9</td>\n",
       "      <td>GoldCoast</td>\n",
       "      <td>19.3</td>\n",
       "      <td>31.7</td>\n",
       "      <td>36.0</td>\n",
       "      <td>-1.0</td>\n",
       "      <td>-1.0</td>\n",
       "      <td>SE</td>\n",
       "      <td>80.0</td>\n",
       "      <td>NNW</td>\n",
       "      <td>...</td>\n",
       "      <td>75.0</td>\n",
       "      <td>76.0</td>\n",
       "      <td>1013.8</td>\n",
       "      <td>1010.0</td>\n",
       "      <td>-1.0</td>\n",
       "      <td>-1.0</td>\n",
       "      <td>26.0</td>\n",
       "      <td>25.8</td>\n",
       "      <td>Yes</td>\n",
       "      <td>Yes</td>\n",
       "    </tr>\n",
       "    <tr>\n",
       "      <th>106641</th>\n",
       "      <td>2014/10/7</td>\n",
       "      <td>Wollongong</td>\n",
       "      <td>17.5</td>\n",
       "      <td>22.2</td>\n",
       "      <td>1.2</td>\n",
       "      <td>-1.0</td>\n",
       "      <td>-1.0</td>\n",
       "      <td>WNW</td>\n",
       "      <td>65.0</td>\n",
       "      <td>WNW</td>\n",
       "      <td>...</td>\n",
       "      <td>61.0</td>\n",
       "      <td>56.0</td>\n",
       "      <td>1008.2</td>\n",
       "      <td>1008.2</td>\n",
       "      <td>-1.0</td>\n",
       "      <td>-1.0</td>\n",
       "      <td>17.8</td>\n",
       "      <td>21.4</td>\n",
       "      <td>Yes</td>\n",
       "      <td>No</td>\n",
       "    </tr>\n",
       "    <tr>\n",
       "      <th>106642</th>\n",
       "      <td>2012/1/16</td>\n",
       "      <td>Newcastle</td>\n",
       "      <td>17.6</td>\n",
       "      <td>27.0</td>\n",
       "      <td>3.0</td>\n",
       "      <td>-1.0</td>\n",
       "      <td>-1.0</td>\n",
       "      <td>-1</td>\n",
       "      <td>-1.0</td>\n",
       "      <td>NE</td>\n",
       "      <td>...</td>\n",
       "      <td>68.0</td>\n",
       "      <td>88.0</td>\n",
       "      <td>-1.0</td>\n",
       "      <td>-1.0</td>\n",
       "      <td>6.0</td>\n",
       "      <td>5.0</td>\n",
       "      <td>22.6</td>\n",
       "      <td>26.4</td>\n",
       "      <td>Yes</td>\n",
       "      <td>No</td>\n",
       "    </tr>\n",
       "    <tr>\n",
       "      <th>106643</th>\n",
       "      <td>2014/10/21</td>\n",
       "      <td>AliceSprings</td>\n",
       "      <td>16.3</td>\n",
       "      <td>37.9</td>\n",
       "      <td>0.0</td>\n",
       "      <td>14.2</td>\n",
       "      <td>12.2</td>\n",
       "      <td>ESE</td>\n",
       "      <td>41.0</td>\n",
       "      <td>NNE</td>\n",
       "      <td>...</td>\n",
       "      <td>8.0</td>\n",
       "      <td>6.0</td>\n",
       "      <td>1017.9</td>\n",
       "      <td>1014.0</td>\n",
       "      <td>0.0</td>\n",
       "      <td>1.0</td>\n",
       "      <td>32.2</td>\n",
       "      <td>35.7</td>\n",
       "      <td>No</td>\n",
       "      <td>No</td>\n",
       "    </tr>\n",
       "  </tbody>\n",
       "</table>\n",
       "<p>5 rows × 23 columns</p>\n",
       "</div>"
      ]
     },
     "metadata": {},
     "execution_count": 7
    }
   ],
   "metadata": {
    "uuid": "87825152-ad75-47ca-84dc-bb5af57fa603"
   }
  },
  {
   "cell_type": "code",
   "execution_count": 8,
   "source": [
    "## 利用value_counts函数查看训练集标签的数量\r\n",
    "pd.Series(data['RainTomorrow']).value_counts()"
   ],
   "outputs": [
    {
     "output_type": "execute_result",
     "data": {
      "text/plain": [
       "No     82786\n",
       "Yes    23858\n",
       "Name: RainTomorrow, dtype: int64"
      ]
     },
     "metadata": {},
     "execution_count": 8
    }
   ],
   "metadata": {
    "uuid": "5a68be5a-7b24-45eb-8524-1bad402e5798"
   }
  },
  {
   "cell_type": "markdown",
   "source": [
    "我们发现数据集中的负样本数量远大于正样本数量，这种常见的问题叫做“数据不平衡”问题，在某些情况下需要进行一些特殊处理。"
   ],
   "metadata": {
    "uuid": "1b5bc894-aa6a-4d88-aca7-f48a9d138d4a"
   }
  },
  {
   "cell_type": "code",
   "execution_count": 9,
   "source": [
    "## 对于特征进行一些统计描述\r\n",
    "data.describe()"
   ],
   "outputs": [
    {
     "output_type": "execute_result",
     "data": {
      "text/plain": [
       "             MinTemp        MaxTemp       Rainfall    Evaporation  \\\n",
       "count  106644.000000  106644.000000  106644.000000  106644.000000   \n",
       "mean       12.129147      23.183398       2.313912       2.704798   \n",
       "std         6.444358       7.208596       8.379145       4.519172   \n",
       "min        -8.500000      -4.800000      -1.000000      -1.000000   \n",
       "25%         7.500000      17.900000       0.000000      -1.000000   \n",
       "50%        12.000000      22.600000       0.000000       1.600000   \n",
       "75%        16.800000      28.300000       0.600000       5.400000   \n",
       "max        31.900000      48.100000     268.600000     145.000000   \n",
       "\n",
       "            Sunshine  WindGustSpeed   WindSpeed9am   WindSpeed3pm  \\\n",
       "count  106644.000000  106644.000000  106644.000000  106644.000000   \n",
       "mean        3.509008      37.305137      13.852200      18.265378   \n",
       "std         5.105696      16.585310       8.949659       9.118835   \n",
       "min        -1.000000      -1.000000      -1.000000      -1.000000   \n",
       "25%        -1.000000      30.000000       7.000000      11.000000   \n",
       "50%         0.200000      37.000000      13.000000      17.000000   \n",
       "75%         8.700000      46.000000      19.000000      24.000000   \n",
       "max        14.500000     135.000000     130.000000      87.000000   \n",
       "\n",
       "         Humidity9am    Humidity3pm    Pressure9am    Pressure3pm  \\\n",
       "count  106644.000000  106644.000000  106644.000000  106644.000000   \n",
       "mean       67.940353      50.104657     917.003689     914.995385   \n",
       "std        20.481579      22.136917     304.042528     303.120731   \n",
       "min        -1.000000      -1.000000      -1.000000      -1.000000   \n",
       "25%        56.000000      35.000000    1011.000000    1008.500000   \n",
       "50%        70.000000      51.000000    1016.700000    1014.200000   \n",
       "75%        83.000000      65.000000    1021.800000    1019.400000   \n",
       "max       100.000000     100.000000    1041.000000    1039.600000   \n",
       "\n",
       "            Cloud9am       Cloud3pm        Temp9am        Temp3pm  \n",
       "count  106644.000000  106644.000000  106644.000000  106644.000000  \n",
       "mean        2.381231       2.285670      16.877842      21.257600  \n",
       "std         3.483751       3.419658       6.629811       7.549532  \n",
       "min        -1.000000      -1.000000      -7.200000      -5.400000  \n",
       "25%        -1.000000      -1.000000      12.200000      16.300000  \n",
       "50%         1.000000       1.000000      16.700000      20.900000  \n",
       "75%         6.000000       6.000000      21.500000      26.300000  \n",
       "max         9.000000       9.000000      39.400000      46.200000  "
      ],
      "text/html": [
       "<div>\n",
       "<style scoped>\n",
       "    .dataframe tbody tr th:only-of-type {\n",
       "        vertical-align: middle;\n",
       "    }\n",
       "\n",
       "    .dataframe tbody tr th {\n",
       "        vertical-align: top;\n",
       "    }\n",
       "\n",
       "    .dataframe thead th {\n",
       "        text-align: right;\n",
       "    }\n",
       "</style>\n",
       "<table border=\"1\" class=\"dataframe\">\n",
       "  <thead>\n",
       "    <tr style=\"text-align: right;\">\n",
       "      <th></th>\n",
       "      <th>MinTemp</th>\n",
       "      <th>MaxTemp</th>\n",
       "      <th>Rainfall</th>\n",
       "      <th>Evaporation</th>\n",
       "      <th>Sunshine</th>\n",
       "      <th>WindGustSpeed</th>\n",
       "      <th>WindSpeed9am</th>\n",
       "      <th>WindSpeed3pm</th>\n",
       "      <th>Humidity9am</th>\n",
       "      <th>Humidity3pm</th>\n",
       "      <th>Pressure9am</th>\n",
       "      <th>Pressure3pm</th>\n",
       "      <th>Cloud9am</th>\n",
       "      <th>Cloud3pm</th>\n",
       "      <th>Temp9am</th>\n",
       "      <th>Temp3pm</th>\n",
       "    </tr>\n",
       "  </thead>\n",
       "  <tbody>\n",
       "    <tr>\n",
       "      <th>count</th>\n",
       "      <td>106644.000000</td>\n",
       "      <td>106644.000000</td>\n",
       "      <td>106644.000000</td>\n",
       "      <td>106644.000000</td>\n",
       "      <td>106644.000000</td>\n",
       "      <td>106644.000000</td>\n",
       "      <td>106644.000000</td>\n",
       "      <td>106644.000000</td>\n",
       "      <td>106644.000000</td>\n",
       "      <td>106644.000000</td>\n",
       "      <td>106644.000000</td>\n",
       "      <td>106644.000000</td>\n",
       "      <td>106644.000000</td>\n",
       "      <td>106644.000000</td>\n",
       "      <td>106644.000000</td>\n",
       "      <td>106644.000000</td>\n",
       "    </tr>\n",
       "    <tr>\n",
       "      <th>mean</th>\n",
       "      <td>12.129147</td>\n",
       "      <td>23.183398</td>\n",
       "      <td>2.313912</td>\n",
       "      <td>2.704798</td>\n",
       "      <td>3.509008</td>\n",
       "      <td>37.305137</td>\n",
       "      <td>13.852200</td>\n",
       "      <td>18.265378</td>\n",
       "      <td>67.940353</td>\n",
       "      <td>50.104657</td>\n",
       "      <td>917.003689</td>\n",
       "      <td>914.995385</td>\n",
       "      <td>2.381231</td>\n",
       "      <td>2.285670</td>\n",
       "      <td>16.877842</td>\n",
       "      <td>21.257600</td>\n",
       "    </tr>\n",
       "    <tr>\n",
       "      <th>std</th>\n",
       "      <td>6.444358</td>\n",
       "      <td>7.208596</td>\n",
       "      <td>8.379145</td>\n",
       "      <td>4.519172</td>\n",
       "      <td>5.105696</td>\n",
       "      <td>16.585310</td>\n",
       "      <td>8.949659</td>\n",
       "      <td>9.118835</td>\n",
       "      <td>20.481579</td>\n",
       "      <td>22.136917</td>\n",
       "      <td>304.042528</td>\n",
       "      <td>303.120731</td>\n",
       "      <td>3.483751</td>\n",
       "      <td>3.419658</td>\n",
       "      <td>6.629811</td>\n",
       "      <td>7.549532</td>\n",
       "    </tr>\n",
       "    <tr>\n",
       "      <th>min</th>\n",
       "      <td>-8.500000</td>\n",
       "      <td>-4.800000</td>\n",
       "      <td>-1.000000</td>\n",
       "      <td>-1.000000</td>\n",
       "      <td>-1.000000</td>\n",
       "      <td>-1.000000</td>\n",
       "      <td>-1.000000</td>\n",
       "      <td>-1.000000</td>\n",
       "      <td>-1.000000</td>\n",
       "      <td>-1.000000</td>\n",
       "      <td>-1.000000</td>\n",
       "      <td>-1.000000</td>\n",
       "      <td>-1.000000</td>\n",
       "      <td>-1.000000</td>\n",
       "      <td>-7.200000</td>\n",
       "      <td>-5.400000</td>\n",
       "    </tr>\n",
       "    <tr>\n",
       "      <th>25%</th>\n",
       "      <td>7.500000</td>\n",
       "      <td>17.900000</td>\n",
       "      <td>0.000000</td>\n",
       "      <td>-1.000000</td>\n",
       "      <td>-1.000000</td>\n",
       "      <td>30.000000</td>\n",
       "      <td>7.000000</td>\n",
       "      <td>11.000000</td>\n",
       "      <td>56.000000</td>\n",
       "      <td>35.000000</td>\n",
       "      <td>1011.000000</td>\n",
       "      <td>1008.500000</td>\n",
       "      <td>-1.000000</td>\n",
       "      <td>-1.000000</td>\n",
       "      <td>12.200000</td>\n",
       "      <td>16.300000</td>\n",
       "    </tr>\n",
       "    <tr>\n",
       "      <th>50%</th>\n",
       "      <td>12.000000</td>\n",
       "      <td>22.600000</td>\n",
       "      <td>0.000000</td>\n",
       "      <td>1.600000</td>\n",
       "      <td>0.200000</td>\n",
       "      <td>37.000000</td>\n",
       "      <td>13.000000</td>\n",
       "      <td>17.000000</td>\n",
       "      <td>70.000000</td>\n",
       "      <td>51.000000</td>\n",
       "      <td>1016.700000</td>\n",
       "      <td>1014.200000</td>\n",
       "      <td>1.000000</td>\n",
       "      <td>1.000000</td>\n",
       "      <td>16.700000</td>\n",
       "      <td>20.900000</td>\n",
       "    </tr>\n",
       "    <tr>\n",
       "      <th>75%</th>\n",
       "      <td>16.800000</td>\n",
       "      <td>28.300000</td>\n",
       "      <td>0.600000</td>\n",
       "      <td>5.400000</td>\n",
       "      <td>8.700000</td>\n",
       "      <td>46.000000</td>\n",
       "      <td>19.000000</td>\n",
       "      <td>24.000000</td>\n",
       "      <td>83.000000</td>\n",
       "      <td>65.000000</td>\n",
       "      <td>1021.800000</td>\n",
       "      <td>1019.400000</td>\n",
       "      <td>6.000000</td>\n",
       "      <td>6.000000</td>\n",
       "      <td>21.500000</td>\n",
       "      <td>26.300000</td>\n",
       "    </tr>\n",
       "    <tr>\n",
       "      <th>max</th>\n",
       "      <td>31.900000</td>\n",
       "      <td>48.100000</td>\n",
       "      <td>268.600000</td>\n",
       "      <td>145.000000</td>\n",
       "      <td>14.500000</td>\n",
       "      <td>135.000000</td>\n",
       "      <td>130.000000</td>\n",
       "      <td>87.000000</td>\n",
       "      <td>100.000000</td>\n",
       "      <td>100.000000</td>\n",
       "      <td>1041.000000</td>\n",
       "      <td>1039.600000</td>\n",
       "      <td>9.000000</td>\n",
       "      <td>9.000000</td>\n",
       "      <td>39.400000</td>\n",
       "      <td>46.200000</td>\n",
       "    </tr>\n",
       "  </tbody>\n",
       "</table>\n",
       "</div>"
      ]
     },
     "metadata": {},
     "execution_count": 9
    }
   ],
   "metadata": {
    "uuid": "62086cbb-fb99-4c55-9faf-c729445f4690"
   }
  },
  {
   "cell_type": "markdown",
   "source": [
    "**Step4:可视化描述**"
   ],
   "metadata": {
    "uuid": "212c975c-7107-4dc5-bce9-6d5d72c570f4"
   }
  },
  {
   "cell_type": "markdown",
   "source": [
    "为了方便，我们先纪录数字特征与非数字特征："
   ],
   "metadata": {
    "uuid": "ef304f5e-0bbc-4a7b-9e76-9c16d5ec49a2"
   }
  },
  {
   "cell_type": "code",
   "execution_count": 10,
   "source": [
    "numerical_features = [x for x in data.columns if data[x].dtype == np.float]"
   ],
   "outputs": [],
   "metadata": {
    "uuid": "e9ad19ea-27da-49d3-9709-665d67fba80c"
   }
  },
  {
   "cell_type": "code",
   "execution_count": 11,
   "source": [
    "category_features = [x for x in data.columns if data[x].dtype != np.float and x != 'RainTomorrow']"
   ],
   "outputs": [],
   "metadata": {
    "uuid": "5990acb8-ba5b-46bf-ac0b-d7120badb86f"
   }
  },
  {
   "cell_type": "code",
   "execution_count": 12,
   "source": [
    "## 选取三个特征与标签组合的散点可视化\r\n",
    "# sns.pairplot(data=data[['Rainfall',\r\n",
    "# 'Evaporation',\r\n",
    "# 'Sunshine'] + ['RainTomorrow']], diag_kind='hist', hue= 'RainTomorrow')\r\n",
    "# plt.show()"
   ],
   "outputs": [],
   "metadata": {
    "uuid": "845f8732-c047-43b9-8f29-40e699184910"
   }
  },
  {
   "cell_type": "markdown",
   "source": [
    "从上图可以发现，在2D情况下不同的特征组合对于第二天下雨与不下雨的散点分布，以及大概的区分能力。相对的Sunshine与其他特征的组合更具有区分能力"
   ],
   "metadata": {
    "uuid": "dbb0a397-f80d-4d90-8a7f-3131996421d4"
   }
  },
  {
   "cell_type": "code",
   "execution_count": 13,
   "source": [
    "for col in data[numerical_features].columns:\r\n",
    "    if col != 'RainTomorrow':\r\n",
    "        sns.boxplot(x='RainTomorrow', y=col, saturation=0.5, palette='pastel', data=data)\r\n",
    "        plt.title(col)\r\n",
    "        plt.show()"
   ],
   "outputs": [
    {
     "output_type": "display_data",
     "data": {
      "text/plain": [
       "<Figure size 432x288 with 1 Axes>"
      ],
      "image/png": "[encoded data removed]"
     },
     "metadata": {
      "needs_background": "light"
     }
    },
    {
     "output_type": "display_data",
     "data": {
      "text/plain": [
       "<Figure size 432x288 with 1 Axes>"
      ],
      "image/png": "[encoded data removed]"
     },
     "metadata": {
      "needs_background": "light"
     }
    },
    {
     "output_type": "display_data",
     "data": {
      "text/plain": [
       "<Figure size 432x288 with 1 Axes>"
      ],
      "image/png": "[encoded data removed]"
     },
     "metadata": {
      "needs_background": "light"
     }
    },
    {
     "output_type": "display_data",
     "data": {
      "text/plain": [
       "<Figure size 432x288 with 1 Axes>"
      ],
      "image/png": "[encoded data removed]"
     },
     "metadata": {
      "needs_background": "light"
     }
    },
    {
     "output_type": "display_data",
     "data": {
      "text/plain": [
       "<Figure size 432x288 with 1 Axes>"
      ],
      "image/png": "[encoded data removed]"
     },
     "metadata": {
      "needs_background": "light"
     }
    },
    {
     "output_type": "display_data",
     "data": {
      "text/plain": [
       "<Figure size 432x288 with 1 Axes>"
      ],
      "image/png": "[encoded data removed]"
     },
     "metadata": {
      "needs_background": "light"
     }
    },
    {
     "output_type": "display_data",
     "data": {
      "text/plain": [
       "<Figure size 432x288 with 1 Axes>"
      ],
      "image/png": "[encoded data removed]"
     },
     "metadata": {
      "needs_background": "light"
     }
    },
    {
     "output_type": "display_data",
     "data": {
      "text/plain": [
       "<Figure size 432x288 with 1 Axes>"
      ],
      "image/png": "[encoded data removed]"
     },
     "metadata": {
      "needs_background": "light"
     }
    },
    {
     "output_type": "display_data",
     "data": {
      "text/plain": [
       "<Figure size 432x288 with 1 Axes>"
      ],
      "image/png": "[encoded data removed]"
     },
     "metadata": {
      "needs_background": "light"
     }
    },
    {
     "output_type": "display_data",
     "data": {
      "text/plain": [
       "<Figure size 432x288 with 1 Axes>"
      ],
      "image/png": "[encoded data removed]"
     },
     "metadata": {
      "needs_background": "light"
     }
    },
    {
     "output_type": "display_data",
     "data": {
      "text/plain": [
       "<Figure size 432x288 with 1 Axes>"
      ],
      "image/png": "[encoded data removed]"
     },
     "metadata": {
      "needs_background": "light"
     }
    },
    {
     "output_type": "display_data",
     "data": {
      "text/plain": [
       "<Figure size 432x288 with 1 Axes>"
      ],
      "image/png": "[encoded data removed]"
     },
     "metadata": {
      "needs_background": "light"
     }
    },
    {
     "output_type": "display_data",
     "data": {
      "text/plain": [
       "<Figure size 432x288 with 1 Axes>"
      ],
      "image/png": "[encoded data removed]"
     },
     "metadata": {
      "needs_background": "light"
     }
    },
    {
     "output_type": "display_data",
     "data": {
      "text/plain": [
       "<Figure size 432x288 with 1 Axes>"
      ],
      "image/png": "[encoded data removed]"
     },
     "metadata": {
      "needs_background": "light"
     }
    },
    {
     "output_type": "display_data",
     "data": {
      "text/plain": [
       "<Figure size 432x288 with 1 Axes>"
      ],
      "image/png": "[encoded data removed]"
     },
     "metadata": {
      "needs_background": "light"
     }
    },
    {
     "output_type": "display_data",
     "data": {
      "text/plain": [
       "<Figure size 432x288 with 1 Axes>"
      ],
      "image/png": "[encoded data removed]"
     },
     "metadata": {
      "needs_background": "light"
     }
    }
   ],
   "metadata": {
    "uuid": "c71bfc44-d837-45e0-af0f-1fe7fc7fa60a"
   }
  },
  {
   "cell_type": "markdown",
   "source": [
    "利用箱型图我们也可以得到不同类别在不同特征上的分布差异情况。我们可以发现Sunshine,Humidity3pm,Cloud9am,Cloud3pm的区分能力较强"
   ],
   "metadata": {
    "uuid": "6534ed6d-9065-42b7-8b3a-9f70f23afef9"
   }
  },
  {
   "cell_type": "code",
   "execution_count": 14,
   "source": [
    "tlog = {}\r\n",
    "for i in category_features:\r\n",
    "    tlog[i] = data[data['RainTomorrow'] == 'Yes'][i].value_counts()\r\n",
    "flog = {}\r\n",
    "for i in category_features:\r\n",
    "    flog[i] = data[data['RainTomorrow'] == 'No'][i].value_counts()"
   ],
   "outputs": [],
   "metadata": {
    "uuid": "435991f8-2e5f-4f4b-9dae-889b542d6a57"
   }
  },
  {
   "cell_type": "code",
   "execution_count": 15,
   "source": [
    "plt.figure(figsize=(10,10))\r\n",
    "plt.subplot(1,2,1)\r\n",
    "plt.title('RainTomorrow')\r\n",
    "sns.barplot(x = pd.DataFrame(tlog['Location']).sort_index()['Location'], y = pd.DataFrame(tlog['Location']).sort_index().index, color = \"red\")\r\n",
    "plt.subplot(1,2,2)\r\n",
    "plt.title('Not RainTomorrow')\r\n",
    "sns.barplot(x = pd.DataFrame(flog['Location']).sort_index()['Location'], y = pd.DataFrame(flog['Location']).sort_index().index, color = \"blue\")\r\n",
    "plt.show()"
   ],
   "outputs": [
    {
     "output_type": "display_data",
     "data": {
      "text/plain": [
       "<Figure size 720x720 with 2 Axes>"
      ],
      "image/png": "[encoded data removed]"
     },
     "metadata": {
      "needs_background": "light"
     }
    }
   ],
   "metadata": {
    "uuid": "5b34f0cf-14ca-4575-a013-a45440d847e3"
   }
  },
  {
   "cell_type": "markdown",
   "source": [
    "从上图可以发现不同地区降雨情况差别很大，有些地方明显更容易降雨"
   ],
   "metadata": {
    "uuid": "b2fd003a-cb0c-4638-86a6-008bf208a72c"
   }
  },
  {
   "cell_type": "code",
   "execution_count": 16,
   "source": [
    "plt.figure(figsize=(10,2))\r\n",
    "plt.subplot(1,2,1)\r\n",
    "plt.title('RainTomorrow')\r\n",
    "sns.barplot(x = pd.DataFrame(tlog['RainToday'][:2]).sort_index()['RainToday'], y = pd.DataFrame(tlog['RainToday'][:2]).sort_index().index, color = \"red\")\r\n",
    "plt.subplot(1,2,2)\r\n",
    "plt.title('Not RainTomorrow')\r\n",
    "sns.barplot(x = pd.DataFrame(flog['RainToday'][:2]).sort_index()['RainToday'], y = pd.DataFrame(flog['RainToday'][:2]).sort_index().index, color = \"blue\")\r\n",
    "plt.show()"
   ],
   "outputs": [
    {
     "output_type": "display_data",
     "data": {
      "text/plain": [
       "<Figure size 720x144 with 2 Axes>"
      ],
      "image/png": "[encoded data removed]"
     },
     "metadata": {
      "needs_background": "light"
     }
    }
   ],
   "metadata": {
    "uuid": "cbf8ecdd-9d39-4bdf-a9c2-670ea7d0dbab"
   }
  },
  {
   "cell_type": "markdown",
   "source": [
    "上图我们可以发现，今天下雨明天不一定下雨，但今天不下雨，第二天大概率也不下雨。"
   ],
   "metadata": {
    "uuid": "4126c498-1ba3-4f88-9059-c963f717ce2a"
   }
  },
  {
   "cell_type": "markdown",
   "source": [
    "**Step5:对离散变量进行编码**"
   ],
   "metadata": {
    "uuid": "e38658c3-5ec9-4a3d-8f59-d977a24f6183"
   }
  },
  {
   "cell_type": "markdown",
   "source": [
    "由于XGBoost无法处理字符串类型的数据，我们需要一些方法讲字符串数据转化为数据。一种最简单的方法是把所有的相同类别的特征编码成同一个值，例如女=0，男=1，狗狗=2，所以最后编码的特征值是在$[0, 特征数量-1]$之间的整数。除此之外，还有独热编码、求和编码、留一法编码等等方法可以获得更好的效果。"
   ],
   "metadata": {
    "uuid": "cc2c8934-0a1b-4889-9a47-fc2ac73b69c0"
   }
  },
  {
   "cell_type": "code",
   "execution_count": 17,
   "source": [
    "## 把所有的相同类别的特征编码为同一个值\r\n",
    "def get_mapfunction(x):\r\n",
    "    mapp = dict(zip(x.unique().tolist(),\r\n",
    "         range(len(x.unique().tolist()))))\r\n",
    "    def mapfunction(y):\r\n",
    "        if y in mapp:\r\n",
    "            return mapp[y]\r\n",
    "        else:\r\n",
    "            return -1\r\n",
    "    return mapfunction\r\n",
    "for i in category_features:\r\n",
    "    data[i] = data[i].apply(get_mapfunction(data[i]))"
   ],
   "outputs": [],
   "metadata": {
    "uuid": "90a1f854-ffbf-4cdd-988b-2e9bef9ce174"
   }
  },
  {
   "cell_type": "code",
   "execution_count": 18,
   "source": [
    "## 编码后的字符串特征变成了数字\r\n",
    "\r\n",
    "data['Location'].unique()"
   ],
   "outputs": [
    {
     "output_type": "execute_result",
     "data": {
      "text/plain": [
       "array([ 0,  1,  2,  3,  4,  5,  6,  7,  8,  9, 10, 11, 12, 13, 14, 15, 16,\n",
       "       17, 18, 19, 20, 21, 22, 23, 24, 25, 26, 27, 28, 29, 30, 31, 32, 33,\n",
       "       34, 35, 36, 37, 38, 39, 40, 41, 42, 43, 44, 45, 46, 47, 48],\n",
       "      dtype=int64)"
      ]
     },
     "metadata": {},
     "execution_count": 18
    }
   ],
   "metadata": {
    "uuid": "aa676c65-e239-43ad-8388-b80a208ba240"
   }
  },
  {
   "cell_type": "markdown",
   "source": [
    "**Step6：利用 XGBoost 进行训练与预测**"
   ],
   "metadata": {
    "uuid": "d4809e57-e815-43d4-badc-404b2990c296"
   }
  },
  {
   "cell_type": "code",
   "execution_count": 19,
   "source": [
    "## 为了正确评估模型性能，将数据划分为训练集和测试集，并在训练集上训练模型，在测试集上验证模型性能。\r\n",
    "from sklearn.model_selection import train_test_split\r\n",
    "\r\n",
    "## 选择其类别为0和1的样本 （不包括类别为2的样本）\r\n",
    "data_target_part = data['RainTomorrow']\r\n",
    "data_features_part = data[[x for x in data.columns if x != 'RainTomorrow']]\r\n",
    "\r\n",
    "## 测试集大小为20%， 80%/20%分\r\n",
    "x_train, x_test, y_train, y_test = train_test_split(data_features_part, data_target_part, test_size = 0.2, random_state = 2020)"
   ],
   "outputs": [],
   "metadata": {
    "uuid": "ecdbab67-6616-400f-9d12-202cc1cd3029"
   }
  },
  {
   "cell_type": "code",
   "execution_count": 20,
   "source": [
    "## 导入XGBoost模型\r\n",
    "from xgboost.sklearn import XGBClassifier\r\n",
    "## 定义 XGBoost模型 \r\n",
    "clf = XGBClassifier()\r\n",
    "# 在训练集上训练XGBoost模型\r\n",
    "clf.fit(x_train, y_train)"
   ],
   "outputs": [
    {
     "output_type": "stream",
     "name": "stderr",
     "text": [
      "D:\\Python3.8.0\\lib\\site-packages\\xgboost\\sklearn.py:1146: UserWarning: The use of label encoder in XGBClassifier is deprecated and will be removed in a future release. To remove this warning, do the following: 1) Pass option use_label_encoder=False when constructing XGBClassifier object; and 2) Encode your labels (y) as integers starting with 0, i.e. 0, 1, 2, ..., [num_class - 1].\n",
      "  warnings.warn(label_encoder_deprecation_msg, UserWarning)\n"
     ]
    },
    {
     "output_type": "stream",
     "name": "stdout",
     "text": [
      "[15:52:26] WARNING: C:/Users/Administrator/workspace/xgboost-win64_release_1.4.0/src/learner.cc:1095: Starting in XGBoost 1.3.0, the default evaluation metric used with the objective 'binary:logistic' was changed from 'error' to 'logloss'. Explicitly set eval_metric if you'd like to restore the old behavior.\n"
     ]
    },
    {
     "output_type": "execute_result",
     "data": {
      "text/plain": [
       "XGBClassifier(base_score=0.5, booster='gbtree', colsample_bylevel=1,\n",
       "              colsample_bynode=1, colsample_bytree=1, gamma=0, gpu_id=-1,\n",
       "              importance_type='gain', interaction_constraints='',\n",
       "              learning_rate=0.300000012, max_delta_step=0, max_depth=6,\n",
       "              min_child_weight=1, missing=nan, monotone_constraints='()',\n",
       "              n_estimators=100, n_jobs=8, num_parallel_tree=1, random_state=0,\n",
       "              reg_alpha=0, reg_lambda=1, scale_pos_weight=1, subsample=1,\n",
       "              tree_method='exact', validate_parameters=1, verbosity=None)"
      ]
     },
     "metadata": {},
     "execution_count": 20
    }
   ],
   "metadata": {
    "uuid": "c0983bb2-d73a-4e40-9057-4a1273876613"
   }
  },
  {
   "cell_type": "code",
   "execution_count": 21,
   "source": [
    "## 在训练集和测试集上分布利用训练好的模型进行预测\r\n",
    "train_predict = clf.predict(x_train)\r\n",
    "test_predict = clf.predict(x_test)\r\n",
    "from sklearn import metrics\r\n",
    "\r\n",
    "## 利用accuracy（准确度）【预测正确的样本数目占总预测样本数目的比例】评估模型效果\r\n",
    "print('The accuracy of the Logistic Regression is:',metrics.accuracy_score(y_train,train_predict))\r\n",
    "print('The accuracy of the Logistic Regression is:',metrics.accuracy_score(y_test,test_predict))\r\n",
    "\r\n",
    "## 查看混淆矩阵 (预测值和真实值的各类情况统计矩阵)\r\n",
    "confusion_matrix_result = metrics.confusion_matrix(test_predict,y_test)\r\n",
    "print('The confusion matrix result:\\n',confusion_matrix_result)\r\n",
    "\r\n",
    "# 利用热力图对于结果进行可视化\r\n",
    "plt.figure(figsize=(8, 6))\r\n",
    "sns.heatmap(confusion_matrix_result, annot=True, cmap='Blues')\r\n",
    "plt.xlabel('Predicted labels')\r\n",
    "plt.ylabel('True labels')\r\n",
    "plt.show()"
   ],
   "outputs": [
    {
     "output_type": "stream",
     "name": "stdout",
     "text": [
      "The accuracy of the Logistic Regression is: 0.8982476703979371\n",
      "The accuracy of the Logistic Regression is: 0.8575179333302076\n",
      "The confusion matrix result:\n",
      " [[15656  2142]\n",
      " [  897  2634]]\n"
     ]
    },
    {
     "output_type": "display_data",
     "data": {
      "text/plain": [
       "<Figure size 576x432 with 2 Axes>"
      ],
      "image/png": "[encoded data removed]"
     },
     "metadata": {
      "needs_background": "light"
     }
    }
   ],
   "metadata": {
    "uuid": "07074272-bb7b-4114-8cc4-8cf8a84914e7"
   }
  },
  {
   "cell_type": "markdown",
   "source": [
    "我们可以发现共有15759 + 2306个样本预测正确，2470 + 794个样本预测错误。"
   ],
   "metadata": {
    "uuid": "c8f6b909-14db-4f6c-b0c6-6a5103997556"
   }
  },
  {
   "cell_type": "markdown",
   "source": [
    "**Step7: 利用 XGBoost 进行特征选择**"
   ],
   "metadata": {
    "uuid": "feb26ffe-274c-4205-8115-fab1fb9e0e84"
   }
  },
  {
   "cell_type": "markdown",
   "source": [
    "XGBoost的特征选择属于特征选择中的嵌入式方法，在XGboost中可以用属性feature_importances_去查看特征的重要度。"
   ],
   "metadata": {
    "uuid": "e42f6e49-2a4b-4edb-b4e0-e0de69228e06"
   }
  },
  {
   "cell_type": "code",
   "execution_count": 22,
   "source": [
    "? sns.barplot"
   ],
   "outputs": [
    {
     "output_type": "stream",
     "name": "stdout",
     "text": [
      "\u001b[1;31mSignature:\u001b[0m\n",
      " \u001b[0msns\u001b[0m\u001b[1;33m.\u001b[0m\u001b[0mbarplot\u001b[0m\u001b[1;33m(\u001b[0m\u001b[1;33m\n",
      "\u001b[0m    \u001b[1;33m*\u001b[0m\u001b[1;33m,\u001b[0m\u001b[1;33m\n",
      "\u001b[0m    \u001b[0mx\u001b[0m\u001b[1;33m=\u001b[0m\u001b[1;32mNone\u001b[0m\u001b[1;33m,\u001b[0m\u001b[1;33m\n",
      "\u001b[0m    \u001b[0my\u001b[0m\u001b[1;33m=\u001b[0m\u001b[1;32mNone\u001b[0m\u001b[1;33m,\u001b[0m\u001b[1;33m\n",
      "\u001b[0m    \u001b[0mhue\u001b[0m\u001b[1;33m=\u001b[0m\u001b[1;32mNone\u001b[0m\u001b[1;33m,\u001b[0m\u001b[1;33m\n",
      "\u001b[0m    \u001b[0mdata\u001b[0m\u001b[1;33m=\u001b[0m\u001b[1;32mNone\u001b[0m\u001b[1;33m,\u001b[0m\u001b[1;33m\n",
      "\u001b[0m    \u001b[0morder\u001b[0m\u001b[1;33m=\u001b[0m\u001b[1;32mNone\u001b[0m\u001b[1;33m,\u001b[0m\u001b[1;33m\n",
      "\u001b[0m    \u001b[0mhue_order\u001b[0m\u001b[1;33m=\u001b[0m\u001b[1;32mNone\u001b[0m\u001b[1;33m,\u001b[0m\u001b[1;33m\n",
      "\u001b[0m    \u001b[0mestimator\u001b[0m\u001b[1;33m=\u001b[0m\u001b[1;33m<\u001b[0m\u001b[0mfunction\u001b[0m \u001b[0mmean\u001b[0m \u001b[0mat\u001b[0m \u001b[1;36m0x0000022CFAE77AF0\u001b[0m\u001b[1;33m>\u001b[0m\u001b[1;33m,\u001b[0m\u001b[1;33m\n",
      "\u001b[0m    \u001b[0mci\u001b[0m\u001b[1;33m=\u001b[0m\u001b[1;36m95\u001b[0m\u001b[1;33m,\u001b[0m\u001b[1;33m\n",
      "\u001b[0m    \u001b[0mn_boot\u001b[0m\u001b[1;33m=\u001b[0m\u001b[1;36m1000\u001b[0m\u001b[1;33m,\u001b[0m\u001b[1;33m\n",
      "\u001b[0m    \u001b[0munits\u001b[0m\u001b[1;33m=\u001b[0m\u001b[1;32mNone\u001b[0m\u001b[1;33m,\u001b[0m\u001b[1;33m\n",
      "\u001b[0m    \u001b[0mseed\u001b[0m\u001b[1;33m=\u001b[0m\u001b[1;32mNone\u001b[0m\u001b[1;33m,\u001b[0m\u001b[1;33m\n",
      "\u001b[0m    \u001b[0morient\u001b[0m\u001b[1;33m=\u001b[0m\u001b[1;32mNone\u001b[0m\u001b[1;33m,\u001b[0m\u001b[1;33m\n",
      "\u001b[0m    \u001b[0mcolor\u001b[0m\u001b[1;33m=\u001b[0m\u001b[1;32mNone\u001b[0m\u001b[1;33m,\u001b[0m\u001b[1;33m\n",
      "\u001b[0m    \u001b[0mpalette\u001b[0m\u001b[1;33m=\u001b[0m\u001b[1;32mNone\u001b[0m\u001b[1;33m,\u001b[0m\u001b[1;33m\n",
      "\u001b[0m    \u001b[0msaturation\u001b[0m\u001b[1;33m=\u001b[0m\u001b[1;36m0.75\u001b[0m\u001b[1;33m,\u001b[0m\u001b[1;33m\n",
      "\u001b[0m    \u001b[0merrcolor\u001b[0m\u001b[1;33m=\u001b[0m\u001b[1;34m'.26'\u001b[0m\u001b[1;33m,\u001b[0m\u001b[1;33m\n",
      "\u001b[0m    \u001b[0merrwidth\u001b[0m\u001b[1;33m=\u001b[0m\u001b[1;32mNone\u001b[0m\u001b[1;33m,\u001b[0m\u001b[1;33m\n",
      "\u001b[0m    \u001b[0mcapsize\u001b[0m\u001b[1;33m=\u001b[0m\u001b[1;32mNone\u001b[0m\u001b[1;33m,\u001b[0m\u001b[1;33m\n",
      "\u001b[0m    \u001b[0mdodge\u001b[0m\u001b[1;33m=\u001b[0m\u001b[1;32mTrue\u001b[0m\u001b[1;33m,\u001b[0m\u001b[1;33m\n",
      "\u001b[0m    \u001b[0max\u001b[0m\u001b[1;33m=\u001b[0m\u001b[1;32mNone\u001b[0m\u001b[1;33m,\u001b[0m\u001b[1;33m\n",
      "\u001b[0m    \u001b[1;33m**\u001b[0m\u001b[0mkwargs\u001b[0m\u001b[1;33m,\u001b[0m\u001b[1;33m\n",
      "\u001b[0m\u001b[1;33m)\u001b[0m\u001b[1;33m\u001b[0m\u001b[1;33m\u001b[0m\u001b[0m\n",
      "\u001b[1;31mDocstring:\u001b[0m\n",
      "Show point estimates and confidence intervals as rectangular bars.\n",
      "\n",
      "A bar plot represents an estimate of central tendency for a numeric\n",
      "variable with the height of each rectangle and provides some indication of\n",
      "the uncertainty around that estimate using error bars. Bar plots include 0\n",
      "in the quantitative axis range, and they are a good choice when 0 is a\n",
      "meaningful value for the quantitative variable, and you want to make\n",
      "comparisons against it.\n",
      "\n",
      "For datasets where 0 is not a meaningful value, a point plot will allow you\n",
      "to focus on differences between levels of one or more categorical\n",
      "variables.\n",
      "\n",
      "It is also important to keep in mind that a bar plot shows only the mean\n",
      "(or other estimator) value, but in many cases it may be more informative to\n",
      "show the distribution of values at each level of the categorical variables.\n",
      "In that case, other approaches such as a box or violin plot may be more\n",
      "appropriate.\n",
      "\n",
      "\n",
      "Input data can be passed in a variety of formats, including:\n",
      "\n",
      "- Vectors of data represented as lists, numpy arrays, or pandas Series\n",
      "  objects passed directly to the ``x``, ``y``, and/or ``hue`` parameters.\n",
      "- A \"long-form\" DataFrame, in which case the ``x``, ``y``, and ``hue``\n",
      "  variables will determine how the data are plotted.\n",
      "- A \"wide-form\" DataFrame, such that each numeric column will be plotted.\n",
      "- An array or list of vectors.\n",
      "\n",
      "In most cases, it is possible to use numpy or Python objects, but pandas\n",
      "objects are preferable because the associated names will be used to\n",
      "annotate the axes. Additionally, you can use Categorical types for the\n",
      "grouping variables to control the order of plot elements.    \n",
      "\n",
      "This function always treats one of the variables as categorical and\n",
      "draws data at ordinal positions (0, 1, ... n) on the relevant axis, even\n",
      "when the data has a numeric or date type.\n",
      "\n",
      "See the :ref:`tutorial <categorical_tutorial>` for more information.    \n",
      "\n",
      "Parameters\n",
      "----------\n",
      "x, y, hue : names of variables in ``data`` or vector data, optional\n",
      "    Inputs for plotting long-form data. See examples for interpretation.        \n",
      "data : DataFrame, array, or list of arrays, optional\n",
      "    Dataset for plotting. If ``x`` and ``y`` are absent, this is\n",
      "    interpreted as wide-form. Otherwise it is expected to be long-form.    \n",
      "order, hue_order : lists of strings, optional\n",
      "    Order to plot the categorical levels in, otherwise the levels are\n",
      "    inferred from the data objects.        \n",
      "estimator : callable that maps vector -> scalar, optional\n",
      "    Statistical function to estimate within each categorical bin.\n",
      "ci : float or \"sd\" or None, optional\n",
      "    Size of confidence intervals to draw around estimated values.  If\n",
      "    \"sd\", skip bootstrapping and draw the standard deviation of the\n",
      "    observations. If ``None``, no bootstrapping will be performed, and\n",
      "    error bars will not be drawn.\n",
      "n_boot : int, optional\n",
      "    Number of bootstrap iterations to use when computing confidence\n",
      "    intervals.\n",
      "units : name of variable in ``data`` or vector data, optional\n",
      "    Identifier of sampling units, which will be used to perform a\n",
      "    multilevel bootstrap and account for repeated measures design.\n",
      "seed : int, numpy.random.Generator, or numpy.random.RandomState, optional\n",
      "    Seed or random number generator for reproducible bootstrapping.    \n",
      "orient : \"v\" | \"h\", optional\n",
      "    Orientation of the plot (vertical or horizontal). This is usually\n",
      "    inferred based on the type of the input variables, but it can be used\n",
      "    to resolve ambiguitiy when both `x` and `y` are numeric or when\n",
      "    plotting wide-form data.    \n",
      "color : matplotlib color, optional\n",
      "    Color for all of the elements, or seed for a gradient palette.    \n",
      "palette : palette name, list, or dict\n",
      "    Colors to use for the different levels of the ``hue`` variable. Should\n",
      "    be something that can be interpreted by :func:`color_palette`, or a\n",
      "    dictionary mapping hue levels to matplotlib colors.    \n",
      "saturation : float, optional\n",
      "    Proportion of the original saturation to draw colors at. Large patches\n",
      "    often look better with slightly desaturated colors, but set this to\n",
      "    ``1`` if you want the plot colors to perfectly match the input color\n",
      "    spec.    \n",
      "errcolor : matplotlib color\n",
      "    Color for the lines that represent the confidence interval.\n",
      "errwidth : float, optional\n",
      "    Thickness of error bar lines (and caps).         \n",
      "capsize : float, optional\n",
      "    Width of the \"caps\" on error bars.\n",
      "\n",
      "dodge : bool, optional\n",
      "    When hue nesting is used, whether elements should be shifted along the\n",
      "    categorical axis.    \n",
      "ax : matplotlib Axes, optional\n",
      "    Axes object to draw the plot onto, otherwise uses the current Axes.    \n",
      "kwargs : key, value mappings\n",
      "    Other keyword arguments are passed through to\n",
      "    :meth:`matplotlib.axes.Axes.bar`.\n",
      "\n",
      "Returns\n",
      "-------\n",
      "ax : matplotlib Axes\n",
      "    Returns the Axes object with the plot drawn onto it.    \n",
      "\n",
      "See Also\n",
      "--------\n",
      "countplot : Show the counts of observations in each categorical bin.    \n",
      "pointplot : Show point estimates and confidence intervals using scatterplot\n",
      "            glyphs.    \n",
      "catplot : Combine a categorical plot with a :class:`FacetGrid`.    \n",
      "\n",
      "Examples\n",
      "--------\n",
      "\n",
      "Draw a set of vertical bar plots grouped by a categorical variable:\n",
      "\n",
      ".. plot::\n",
      "    :context: close-figs\n",
      "\n",
      "    >>> import seaborn as sns\n",
      "    >>> sns.set_theme(style=\"whitegrid\")\n",
      "    >>> tips = sns.load_dataset(\"tips\")\n",
      "    >>> ax = sns.barplot(x=\"day\", y=\"total_bill\", data=tips)\n",
      "\n",
      "Draw a set of vertical bars with nested grouping by a two variables:\n",
      "\n",
      ".. plot::\n",
      "    :context: close-figs\n",
      "\n",
      "    >>> ax = sns.barplot(x=\"day\", y=\"total_bill\", hue=\"sex\", data=tips)\n",
      "\n",
      "Draw a set of horizontal bars:\n",
      "\n",
      ".. plot::\n",
      "    :context: close-figs\n",
      "\n",
      "    >>> ax = sns.barplot(x=\"tip\", y=\"day\", data=tips)\n",
      "\n",
      "Control bar order by passing an explicit order:\n",
      "\n",
      ".. plot::\n",
      "    :context: close-figs\n",
      "\n",
      "    >>> ax = sns.barplot(x=\"time\", y=\"tip\", data=tips,\n",
      "    ...                  order=[\"Dinner\", \"Lunch\"])\n",
      "\n",
      "Use median as the estimate of central tendency:\n",
      "\n",
      ".. plot::\n",
      "    :context: close-figs\n",
      "\n",
      "    >>> from numpy import median\n",
      "    >>> ax = sns.barplot(x=\"day\", y=\"tip\", data=tips, estimator=median)\n",
      "\n",
      "Show the standard error of the mean with the error bars:\n",
      "\n",
      ".. plot::\n",
      "    :context: close-figs\n",
      "\n",
      "    >>> ax = sns.barplot(x=\"day\", y=\"tip\", data=tips, ci=68)\n",
      "\n",
      "Show standard deviation of observations instead of a confidence interval:\n",
      "\n",
      ".. plot::\n",
      "    :context: close-figs\n",
      "\n",
      "    >>> ax = sns.barplot(x=\"day\", y=\"tip\", data=tips, ci=\"sd\")\n",
      "\n",
      "Add \"caps\" to the error bars:\n",
      "\n",
      ".. plot::\n",
      "    :context: close-figs\n",
      "\n",
      "    >>> ax = sns.barplot(x=\"day\", y=\"tip\", data=tips, capsize=.2)\n",
      "\n",
      "Use a different color palette for the bars:\n",
      "\n",
      ".. plot::\n",
      "    :context: close-figs\n",
      "\n",
      "    >>> ax = sns.barplot(x=\"size\", y=\"total_bill\", data=tips,\n",
      "    ...                  palette=\"Blues_d\")\n",
      "\n",
      "Use ``hue`` without changing bar position or width:\n",
      "\n",
      ".. plot::\n",
      "    :context: close-figs\n",
      "\n",
      "    >>> tips[\"weekend\"] = tips[\"day\"].isin([\"Sat\", \"Sun\"])\n",
      "    >>> ax = sns.barplot(x=\"day\", y=\"total_bill\", hue=\"weekend\",\n",
      "    ...                  data=tips, dodge=False)\n",
      "\n",
      "Plot all bars in a single color:\n",
      "\n",
      ".. plot::\n",
      "    :context: close-figs\n",
      "\n",
      "    >>> ax = sns.barplot(x=\"size\", y=\"total_bill\", data=tips,\n",
      "    ...                  color=\"salmon\", saturation=.5)\n",
      "\n",
      "Use :meth:`matplotlib.axes.Axes.bar` parameters to control the style.\n",
      "\n",
      ".. plot::\n",
      "    :context: close-figs\n",
      "\n",
      "    >>> ax = sns.barplot(x=\"day\", y=\"total_bill\", data=tips,\n",
      "    ...                  linewidth=2.5, facecolor=(1, 1, 1, 0),\n",
      "    ...                  errcolor=\".2\", edgecolor=\".2\")\n",
      "\n",
      "Use :func:`catplot` to combine a :func:`barplot` and a :class:`FacetGrid`.\n",
      "This allows grouping within additional categorical variables. Using\n",
      ":func:`catplot` is safer than using :class:`FacetGrid` directly, as it\n",
      "ensures synchronization of variable order across facets:\n",
      "\n",
      ".. plot::\n",
      "    :context: close-figs\n",
      "\n",
      "    >>> g = sns.catplot(x=\"sex\", y=\"total_bill\",\n",
      "    ...                 hue=\"smoker\", col=\"time\",\n",
      "    ...                 data=tips, kind=\"bar\",\n",
      "    ...                 height=4, aspect=.7);\n",
      "\u001b[1;31mFile:\u001b[0m      d:\\python3.8.0\\lib\\site-packages\\seaborn\\categorical.py\n",
      "\u001b[1;31mType:\u001b[0m      function\n"
     ]
    }
   ],
   "metadata": {
    "uuid": "f421c3e3-2e51-4c5e-93f8-c85abe71c619"
   }
  },
  {
   "cell_type": "code",
   "execution_count": 23,
   "source": [
    "sns.barplot(y=data_features_part.columns, x=clf.feature_importances_)"
   ],
   "outputs": [
    {
     "output_type": "execute_result",
     "data": {
      "text/plain": [
       "<AxesSubplot:>"
      ]
     },
     "metadata": {},
     "execution_count": 23
    },
    {
     "output_type": "display_data",
     "data": {
      "text/plain": [
       "<Figure size 432x288 with 1 Axes>"
      ],
      "image/png": "[encoded data removed]"
     },
     "metadata": {
      "needs_background": "light"
     }
    }
   ],
   "metadata": {
    "uuid": "193b65c7-9ca0-4c3b-a1af-98453eb0ddf1"
   }
  },
  {
   "cell_type": "markdown",
   "source": [
    "从图中我们可以发现下午3点的湿度与今天是否下雨是决定第二天是否下雨最重要的因素"
   ],
   "metadata": {
    "uuid": "13167bf9-41e6-4911-87f9-a7ec0eb5c768"
   }
  },
  {
   "cell_type": "markdown",
   "source": [
    "初次之外，我们还可以使用XGBoost中的下列重要属性来评估特征的重要性。\n",
    "\n",
    "- weight:是以特征用到的次数来评价\n",
    "- gain:当利用特征做划分的时候的评价基尼指数\n",
    "- cover:利用一个覆盖样本的指标二阶导数（具体原理不清楚有待探究）平均值来划分。\n",
    "- total_gain:总基尼指数\n",
    "- total_cover:总覆盖"
   ],
   "metadata": {
    "uuid": "d85a8dc2-79fe-44bf-bfcf-6ccb98f18090"
   }
  },
  {
   "cell_type": "code",
   "execution_count": 24,
   "source": [
    "from sklearn.metrics import accuracy_score\r\n",
    "from xgboost import plot_importance\r\n",
    "\r\n",
    "def estimate(model,data):\r\n",
    "\r\n",
    "    #sns.barplot(data.columns,model.feature_importances_)\r\n",
    "    ax1=plot_importance(model,importance_type=\"gain\")\r\n",
    "    ax1.set_title('gain')\r\n",
    "    ax2=plot_importance(model, importance_type=\"weight\")\r\n",
    "    ax2.set_title('weight')\r\n",
    "    ax3 = plot_importance(model, importance_type=\"cover\")\r\n",
    "    ax3.set_title('cover')\r\n",
    "    plt.show()\r\n",
    "def classes(data,label,test):\r\n",
    "    model=XGBClassifier()\r\n",
    "    model.fit(data,label)\r\n",
    "    ans=model.predict(test)\r\n",
    "    estimate(model, data)\r\n",
    "    return ans\r\n",
    " \r\n",
    "ans=classes(x_train,y_train,x_test)\r\n",
    "pre=accuracy_score(y_test, ans)\r\n",
    "print('acc=',accuracy_score(y_test,ans))\r\n"
   ],
   "outputs": [
    {
     "output_type": "stream",
     "name": "stderr",
     "text": [
      "D:\\Python3.8.0\\lib\\site-packages\\xgboost\\sklearn.py:1146: UserWarning: The use of label encoder in XGBClassifier is deprecated and will be removed in a future release. To remove this warning, do the following: 1) Pass option use_label_encoder=False when constructing XGBClassifier object; and 2) Encode your labels (y) as integers starting with 0, i.e. 0, 1, 2, ..., [num_class - 1].\n",
      "  warnings.warn(label_encoder_deprecation_msg, UserWarning)\n"
     ]
    },
    {
     "output_type": "stream",
     "name": "stdout",
     "text": [
      "[15:52:31] WARNING: C:/Users/Administrator/workspace/xgboost-win64_release_1.4.0/src/learner.cc:1095: Starting in XGBoost 1.3.0, the default evaluation metric used with the objective 'binary:logistic' was changed from 'error' to 'logloss'. Explicitly set eval_metric if you'd like to restore the old behavior.\n"
     ]
    },
    {
     "output_type": "display_data",
     "data": {
      "text/plain": [
       "<Figure size 432x288 with 1 Axes>"
      ],
      "image/png": "[encoded data removed]"
     },
     "metadata": {
      "needs_background": "light"
     }
    },
    {
     "output_type": "display_data",
     "data": {
      "text/plain": [
       "<Figure size 432x288 with 1 Axes>"
      ],
      "image/png": "[encoded data removed]"
     },
     "metadata": {
      "needs_background": "light"
     }
    },
    {
     "output_type": "display_data",
     "data": {
      "text/plain": [
       "<Figure size 432x288 with 1 Axes>"
      ],
      "image/png": "[encoded data removed]"
     },
     "metadata": {
      "needs_background": "light"
     }
    },
    {
     "output_type": "stream",
     "name": "stdout",
     "text": [
      "acc= 0.8575179333302076\n"
     ]
    }
   ],
   "metadata": {
    "uuid": "9868e60a-afcb-4ede-a519-108b833f4ab4"
   }
  },
  {
   "cell_type": "markdown",
   "source": [
    "这些图同样可以帮助我们更好的了解其他重要特征。"
   ],
   "metadata": {
    "uuid": "f13c561a-3edc-4ebb-82d6-c41f8180b146"
   }
  },
  {
   "cell_type": "markdown",
   "source": [
    "**Step8: 通过调整参数获得更好的效果**"
   ],
   "metadata": {
    "uuid": "39b1c7d4-e414-4cba-97e0-2306e1ac5fd3"
   }
  },
  {
   "cell_type": "markdown",
   "source": [
    "XGBoost中包括但不限于下列对模型影响较大的参数：\n",
    "1. learning_rate: 有时也叫作eta，系统默认值为0.3。每一步迭代的步长，很重要。太大了运行准确率不高，太小了运行速度慢。\n",
    "2. subsample：系统默认为1。这个参数控制对于每棵树，随机采样的比例。减小这个参数的值，算法会更加保守，避免过拟合, 取值范围零到一。\n",
    "3. colsample_bytree：系统默认值为1。我们一般设置成0.8左右。用来控制每棵随机采样的列数的占比(每一列是一个特征)。\n",
    "4. max_depth： 系统默认值为6，我们常用3-10之间的数字。这个值为树的最大深度。这个值是用来控制过拟合的。max_depth越大，模型学习的更加具体。"
   ],
   "metadata": {
    "uuid": "dfc16ed4-ebf8-4dc6-a9ef-fd4af6f2759d"
   }
  },
  {
   "cell_type": "markdown",
   "source": [
    "调节模型参数的方法有贪心算法、网格调参、贝叶斯调参等。这里我们采用网格调参，它的基本思想是穷举搜索：在所有候选的参数选择中，通过循环遍历，尝试每一种可能性，表现最好的参数就是最终的结果"
   ],
   "metadata": {
    "uuid": "4806b722-864c-4705-b6dd-808a17994d8d"
   }
  },
  {
   "cell_type": "code",
   "execution_count": 25,
   "source": [
    "## 从sklearn库中导入网格调参函数\r\n",
    "from sklearn.model_selection import GridSearchCV\r\n",
    "\r\n",
    "## 定义参数取值范围\r\n",
    "learning_rate = [0.1, 0.3, 0.6]\r\n",
    "subsample = [0.8, 0.9]\r\n",
    "colsample_bytree = [0.6, 0.8]\r\n",
    "max_depth = [3,5,8]\r\n",
    "\r\n",
    "parameters = { 'learning_rate': learning_rate,\r\n",
    "              'subsample': subsample,\r\n",
    "              'colsample_bytree':colsample_bytree,\r\n",
    "              'max_depth': max_depth}\r\n",
    "model = XGBClassifier(n_estimators = 50)\r\n",
    "\r\n",
    "## 进行网格搜索\r\n",
    "clf = GridSearchCV(model, parameters, cv=3, scoring='accuracy',verbose=1,n_jobs=-1)\r\n",
    "clf = clf.fit(x_train, y_train)"
   ],
   "outputs": [
    {
     "output_type": "stream",
     "name": "stdout",
     "text": [
      "Fitting 3 folds for each of 36 candidates, totalling 108 fits\n"
     ]
    },
    {
     "output_type": "error",
     "ename": "KeyboardInterrupt",
     "evalue": "",
     "traceback": [
      "\u001b[1;31m---------------------------------------------------------------------------\u001b[0m",
      "\u001b[1;31mKeyboardInterrupt\u001b[0m                         Traceback (most recent call last)",
      "\u001b[1;32m<ipython-input-25-11a1f74e8f8b>\u001b[0m in \u001b[0;36m<module>\u001b[1;34m\u001b[0m\n\u001b[0;32m     16\u001b[0m \u001b[1;31m## 进行网格搜索\u001b[0m\u001b[1;33m\u001b[0m\u001b[1;33m\u001b[0m\u001b[1;33m\u001b[0m\u001b[0m\n\u001b[0;32m     17\u001b[0m \u001b[0mclf\u001b[0m \u001b[1;33m=\u001b[0m \u001b[0mGridSearchCV\u001b[0m\u001b[1;33m(\u001b[0m\u001b[0mmodel\u001b[0m\u001b[1;33m,\u001b[0m \u001b[0mparameters\u001b[0m\u001b[1;33m,\u001b[0m \u001b[0mcv\u001b[0m\u001b[1;33m=\u001b[0m\u001b[1;36m3\u001b[0m\u001b[1;33m,\u001b[0m \u001b[0mscoring\u001b[0m\u001b[1;33m=\u001b[0m\u001b[1;34m'accuracy'\u001b[0m\u001b[1;33m,\u001b[0m\u001b[0mverbose\u001b[0m\u001b[1;33m=\u001b[0m\u001b[1;36m1\u001b[0m\u001b[1;33m,\u001b[0m\u001b[0mn_jobs\u001b[0m\u001b[1;33m=\u001b[0m\u001b[1;33m-\u001b[0m\u001b[1;36m1\u001b[0m\u001b[1;33m)\u001b[0m\u001b[1;33m\u001b[0m\u001b[1;33m\u001b[0m\u001b[0m\n\u001b[1;32m---> 18\u001b[1;33m \u001b[0mclf\u001b[0m \u001b[1;33m=\u001b[0m \u001b[0mclf\u001b[0m\u001b[1;33m.\u001b[0m\u001b[0mfit\u001b[0m\u001b[1;33m(\u001b[0m\u001b[0mx_train\u001b[0m\u001b[1;33m,\u001b[0m \u001b[0my_train\u001b[0m\u001b[1;33m)\u001b[0m\u001b[1;33m\u001b[0m\u001b[1;33m\u001b[0m\u001b[0m\n\u001b[0m",
      "\u001b[1;32mD:\\Python3.8.0\\lib\\site-packages\\sklearn\\utils\\validation.py\u001b[0m in \u001b[0;36minner_f\u001b[1;34m(*args, **kwargs)\u001b[0m\n\u001b[0;32m     61\u001b[0m             \u001b[0mextra_args\u001b[0m \u001b[1;33m=\u001b[0m \u001b[0mlen\u001b[0m\u001b[1;33m(\u001b[0m\u001b[0margs\u001b[0m\u001b[1;33m)\u001b[0m \u001b[1;33m-\u001b[0m \u001b[0mlen\u001b[0m\u001b[1;33m(\u001b[0m\u001b[0mall_args\u001b[0m\u001b[1;33m)\u001b[0m\u001b[1;33m\u001b[0m\u001b[1;33m\u001b[0m\u001b[0m\n\u001b[0;32m     62\u001b[0m             \u001b[1;32mif\u001b[0m \u001b[0mextra_args\u001b[0m \u001b[1;33m<=\u001b[0m \u001b[1;36m0\u001b[0m\u001b[1;33m:\u001b[0m\u001b[1;33m\u001b[0m\u001b[1;33m\u001b[0m\u001b[0m\n\u001b[1;32m---> 63\u001b[1;33m                 \u001b[1;32mreturn\u001b[0m \u001b[0mf\u001b[0m\u001b[1;33m(\u001b[0m\u001b[1;33m*\u001b[0m\u001b[0margs\u001b[0m\u001b[1;33m,\u001b[0m \u001b[1;33m**\u001b[0m\u001b[0mkwargs\u001b[0m\u001b[1;33m)\u001b[0m\u001b[1;33m\u001b[0m\u001b[1;33m\u001b[0m\u001b[0m\n\u001b[0m\u001b[0;32m     64\u001b[0m \u001b[1;33m\u001b[0m\u001b[0m\n\u001b[0;32m     65\u001b[0m             \u001b[1;31m# extra_args > 0\u001b[0m\u001b[1;33m\u001b[0m\u001b[1;33m\u001b[0m\u001b[1;33m\u001b[0m\u001b[0m\n",
      "\u001b[1;32mD:\\Python3.8.0\\lib\\site-packages\\sklearn\\model_selection\\_search.py\u001b[0m in \u001b[0;36mfit\u001b[1;34m(self, X, y, groups, **fit_params)\u001b[0m\n\u001b[0;32m    839\u001b[0m                 \u001b[1;32mreturn\u001b[0m \u001b[0mresults\u001b[0m\u001b[1;33m\u001b[0m\u001b[1;33m\u001b[0m\u001b[0m\n\u001b[0;32m    840\u001b[0m \u001b[1;33m\u001b[0m\u001b[0m\n\u001b[1;32m--> 841\u001b[1;33m             \u001b[0mself\u001b[0m\u001b[1;33m.\u001b[0m\u001b[0m_run_search\u001b[0m\u001b[1;33m(\u001b[0m\u001b[0mevaluate_candidates\u001b[0m\u001b[1;33m)\u001b[0m\u001b[1;33m\u001b[0m\u001b[1;33m\u001b[0m\u001b[0m\n\u001b[0m\u001b[0;32m    842\u001b[0m \u001b[1;33m\u001b[0m\u001b[0m\n\u001b[0;32m    843\u001b[0m             \u001b[1;31m# multimetric is determined here because in the case of a callable\u001b[0m\u001b[1;33m\u001b[0m\u001b[1;33m\u001b[0m\u001b[1;33m\u001b[0m\u001b[0m\n",
      "\u001b[1;32mD:\\Python3.8.0\\lib\\site-packages\\sklearn\\model_selection\\_search.py\u001b[0m in \u001b[0;36m_run_search\u001b[1;34m(self, evaluate_candidates)\u001b[0m\n\u001b[0;32m   1294\u001b[0m     \u001b[1;32mdef\u001b[0m \u001b[0m_run_search\u001b[0m\u001b[1;33m(\u001b[0m\u001b[0mself\u001b[0m\u001b[1;33m,\u001b[0m \u001b[0mevaluate_candidates\u001b[0m\u001b[1;33m)\u001b[0m\u001b[1;33m:\u001b[0m\u001b[1;33m\u001b[0m\u001b[1;33m\u001b[0m\u001b[0m\n\u001b[0;32m   1295\u001b[0m         \u001b[1;34m\"\"\"Search all candidates in param_grid\"\"\"\u001b[0m\u001b[1;33m\u001b[0m\u001b[1;33m\u001b[0m\u001b[0m\n\u001b[1;32m-> 1296\u001b[1;33m         \u001b[0mevaluate_candidates\u001b[0m\u001b[1;33m(\u001b[0m\u001b[0mParameterGrid\u001b[0m\u001b[1;33m(\u001b[0m\u001b[0mself\u001b[0m\u001b[1;33m.\u001b[0m\u001b[0mparam_grid\u001b[0m\u001b[1;33m)\u001b[0m\u001b[1;33m)\u001b[0m\u001b[1;33m\u001b[0m\u001b[1;33m\u001b[0m\u001b[0m\n\u001b[0m\u001b[0;32m   1297\u001b[0m \u001b[1;33m\u001b[0m\u001b[0m\n\u001b[0;32m   1298\u001b[0m \u001b[1;33m\u001b[0m\u001b[0m\n",
      "\u001b[1;32mD:\\Python3.8.0\\lib\\site-packages\\sklearn\\model_selection\\_search.py\u001b[0m in \u001b[0;36mevaluate_candidates\u001b[1;34m(candidate_params, cv, more_results)\u001b[0m\n\u001b[0;32m    793\u001b[0m                               n_splits, n_candidates, n_candidates * n_splits))\n\u001b[0;32m    794\u001b[0m \u001b[1;33m\u001b[0m\u001b[0m\n\u001b[1;32m--> 795\u001b[1;33m                 out = parallel(delayed(_fit_and_score)(clone(base_estimator),\n\u001b[0m\u001b[0;32m    796\u001b[0m                                                        \u001b[0mX\u001b[0m\u001b[1;33m,\u001b[0m \u001b[0my\u001b[0m\u001b[1;33m,\u001b[0m\u001b[1;33m\u001b[0m\u001b[1;33m\u001b[0m\u001b[0m\n\u001b[0;32m    797\u001b[0m                                                        \u001b[0mtrain\u001b[0m\u001b[1;33m=\u001b[0m\u001b[0mtrain\u001b[0m\u001b[1;33m,\u001b[0m \u001b[0mtest\u001b[0m\u001b[1;33m=\u001b[0m\u001b[0mtest\u001b[0m\u001b[1;33m,\u001b[0m\u001b[1;33m\u001b[0m\u001b[1;33m\u001b[0m\u001b[0m\n",
      "\u001b[1;32mD:\\Python3.8.0\\lib\\site-packages\\joblib\\parallel.py\u001b[0m in \u001b[0;36m__call__\u001b[1;34m(self, iterable)\u001b[0m\n\u001b[0;32m   1052\u001b[0m \u001b[1;33m\u001b[0m\u001b[0m\n\u001b[0;32m   1053\u001b[0m             \u001b[1;32mwith\u001b[0m \u001b[0mself\u001b[0m\u001b[1;33m.\u001b[0m\u001b[0m_backend\u001b[0m\u001b[1;33m.\u001b[0m\u001b[0mretrieval_context\u001b[0m\u001b[1;33m(\u001b[0m\u001b[1;33m)\u001b[0m\u001b[1;33m:\u001b[0m\u001b[1;33m\u001b[0m\u001b[1;33m\u001b[0m\u001b[0m\n\u001b[1;32m-> 1054\u001b[1;33m                 \u001b[0mself\u001b[0m\u001b[1;33m.\u001b[0m\u001b[0mretrieve\u001b[0m\u001b[1;33m(\u001b[0m\u001b[1;33m)\u001b[0m\u001b[1;33m\u001b[0m\u001b[1;33m\u001b[0m\u001b[0m\n\u001b[0m\u001b[0;32m   1055\u001b[0m             \u001b[1;31m# Make sure that we get a last message telling us we are done\u001b[0m\u001b[1;33m\u001b[0m\u001b[1;33m\u001b[0m\u001b[1;33m\u001b[0m\u001b[0m\n\u001b[0;32m   1056\u001b[0m             \u001b[0melapsed_time\u001b[0m \u001b[1;33m=\u001b[0m \u001b[0mtime\u001b[0m\u001b[1;33m.\u001b[0m\u001b[0mtime\u001b[0m\u001b[1;33m(\u001b[0m\u001b[1;33m)\u001b[0m \u001b[1;33m-\u001b[0m \u001b[0mself\u001b[0m\u001b[1;33m.\u001b[0m\u001b[0m_start_time\u001b[0m\u001b[1;33m\u001b[0m\u001b[1;33m\u001b[0m\u001b[0m\n",
      "\u001b[1;32mD:\\Python3.8.0\\lib\\site-packages\\joblib\\parallel.py\u001b[0m in \u001b[0;36mretrieve\u001b[1;34m(self)\u001b[0m\n\u001b[0;32m    931\u001b[0m             \u001b[1;32mtry\u001b[0m\u001b[1;33m:\u001b[0m\u001b[1;33m\u001b[0m\u001b[1;33m\u001b[0m\u001b[0m\n\u001b[0;32m    932\u001b[0m                 \u001b[1;32mif\u001b[0m \u001b[0mgetattr\u001b[0m\u001b[1;33m(\u001b[0m\u001b[0mself\u001b[0m\u001b[1;33m.\u001b[0m\u001b[0m_backend\u001b[0m\u001b[1;33m,\u001b[0m \u001b[1;34m'supports_timeout'\u001b[0m\u001b[1;33m,\u001b[0m \u001b[1;32mFalse\u001b[0m\u001b[1;33m)\u001b[0m\u001b[1;33m:\u001b[0m\u001b[1;33m\u001b[0m\u001b[1;33m\u001b[0m\u001b[0m\n\u001b[1;32m--> 933\u001b[1;33m                     \u001b[0mself\u001b[0m\u001b[1;33m.\u001b[0m\u001b[0m_output\u001b[0m\u001b[1;33m.\u001b[0m\u001b[0mextend\u001b[0m\u001b[1;33m(\u001b[0m\u001b[0mjob\u001b[0m\u001b[1;33m.\u001b[0m\u001b[0mget\u001b[0m\u001b[1;33m(\u001b[0m\u001b[0mtimeout\u001b[0m\u001b[1;33m=\u001b[0m\u001b[0mself\u001b[0m\u001b[1;33m.\u001b[0m\u001b[0mtimeout\u001b[0m\u001b[1;33m)\u001b[0m\u001b[1;33m)\u001b[0m\u001b[1;33m\u001b[0m\u001b[1;33m\u001b[0m\u001b[0m\n\u001b[0m\u001b[0;32m    934\u001b[0m                 \u001b[1;32melse\u001b[0m\u001b[1;33m:\u001b[0m\u001b[1;33m\u001b[0m\u001b[1;33m\u001b[0m\u001b[0m\n\u001b[0;32m    935\u001b[0m                     \u001b[0mself\u001b[0m\u001b[1;33m.\u001b[0m\u001b[0m_output\u001b[0m\u001b[1;33m.\u001b[0m\u001b[0mextend\u001b[0m\u001b[1;33m(\u001b[0m\u001b[0mjob\u001b[0m\u001b[1;33m.\u001b[0m\u001b[0mget\u001b[0m\u001b[1;33m(\u001b[0m\u001b[1;33m)\u001b[0m\u001b[1;33m)\u001b[0m\u001b[1;33m\u001b[0m\u001b[1;33m\u001b[0m\u001b[0m\n",
      "\u001b[1;32mD:\\Python3.8.0\\lib\\site-packages\\joblib\\_parallel_backends.py\u001b[0m in \u001b[0;36mwrap_future_result\u001b[1;34m(future, timeout)\u001b[0m\n\u001b[0;32m    540\u001b[0m         AsyncResults.get from multiprocessing.\"\"\"\n\u001b[0;32m    541\u001b[0m         \u001b[1;32mtry\u001b[0m\u001b[1;33m:\u001b[0m\u001b[1;33m\u001b[0m\u001b[1;33m\u001b[0m\u001b[0m\n\u001b[1;32m--> 542\u001b[1;33m             \u001b[1;32mreturn\u001b[0m \u001b[0mfuture\u001b[0m\u001b[1;33m.\u001b[0m\u001b[0mresult\u001b[0m\u001b[1;33m(\u001b[0m\u001b[0mtimeout\u001b[0m\u001b[1;33m=\u001b[0m\u001b[0mtimeout\u001b[0m\u001b[1;33m)\u001b[0m\u001b[1;33m\u001b[0m\u001b[1;33m\u001b[0m\u001b[0m\n\u001b[0m\u001b[0;32m    543\u001b[0m         \u001b[1;32mexcept\u001b[0m \u001b[0mCfTimeoutError\u001b[0m \u001b[1;32mas\u001b[0m \u001b[0me\u001b[0m\u001b[1;33m:\u001b[0m\u001b[1;33m\u001b[0m\u001b[1;33m\u001b[0m\u001b[0m\n\u001b[0;32m    544\u001b[0m             \u001b[1;32mraise\u001b[0m \u001b[0mTimeoutError\u001b[0m \u001b[1;32mfrom\u001b[0m \u001b[0me\u001b[0m\u001b[1;33m\u001b[0m\u001b[1;33m\u001b[0m\u001b[0m\n",
      "\u001b[1;32mD:\\Python3.8.0\\lib\\concurrent\\futures\\_base.py\u001b[0m in \u001b[0;36mresult\u001b[1;34m(self, timeout)\u001b[0m\n\u001b[0;32m    432\u001b[0m                 \u001b[1;32mreturn\u001b[0m \u001b[0mself\u001b[0m\u001b[1;33m.\u001b[0m\u001b[0m__get_result\u001b[0m\u001b[1;33m(\u001b[0m\u001b[1;33m)\u001b[0m\u001b[1;33m\u001b[0m\u001b[1;33m\u001b[0m\u001b[0m\n\u001b[0;32m    433\u001b[0m \u001b[1;33m\u001b[0m\u001b[0m\n\u001b[1;32m--> 434\u001b[1;33m             \u001b[0mself\u001b[0m\u001b[1;33m.\u001b[0m\u001b[0m_condition\u001b[0m\u001b[1;33m.\u001b[0m\u001b[0mwait\u001b[0m\u001b[1;33m(\u001b[0m\u001b[0mtimeout\u001b[0m\u001b[1;33m)\u001b[0m\u001b[1;33m\u001b[0m\u001b[1;33m\u001b[0m\u001b[0m\n\u001b[0m\u001b[0;32m    435\u001b[0m \u001b[1;33m\u001b[0m\u001b[0m\n\u001b[0;32m    436\u001b[0m             \u001b[1;32mif\u001b[0m \u001b[0mself\u001b[0m\u001b[1;33m.\u001b[0m\u001b[0m_state\u001b[0m \u001b[1;32min\u001b[0m \u001b[1;33m[\u001b[0m\u001b[0mCANCELLED\u001b[0m\u001b[1;33m,\u001b[0m \u001b[0mCANCELLED_AND_NOTIFIED\u001b[0m\u001b[1;33m]\u001b[0m\u001b[1;33m:\u001b[0m\u001b[1;33m\u001b[0m\u001b[1;33m\u001b[0m\u001b[0m\n",
      "\u001b[1;32mD:\\Python3.8.0\\lib\\threading.py\u001b[0m in \u001b[0;36mwait\u001b[1;34m(self, timeout)\u001b[0m\n\u001b[0;32m    300\u001b[0m         \u001b[1;32mtry\u001b[0m\u001b[1;33m:\u001b[0m    \u001b[1;31m# restore state no matter what (e.g., KeyboardInterrupt)\u001b[0m\u001b[1;33m\u001b[0m\u001b[1;33m\u001b[0m\u001b[0m\n\u001b[0;32m    301\u001b[0m             \u001b[1;32mif\u001b[0m \u001b[0mtimeout\u001b[0m \u001b[1;32mis\u001b[0m \u001b[1;32mNone\u001b[0m\u001b[1;33m:\u001b[0m\u001b[1;33m\u001b[0m\u001b[1;33m\u001b[0m\u001b[0m\n\u001b[1;32m--> 302\u001b[1;33m                 \u001b[0mwaiter\u001b[0m\u001b[1;33m.\u001b[0m\u001b[0macquire\u001b[0m\u001b[1;33m(\u001b[0m\u001b[1;33m)\u001b[0m\u001b[1;33m\u001b[0m\u001b[1;33m\u001b[0m\u001b[0m\n\u001b[0m\u001b[0;32m    303\u001b[0m                 \u001b[0mgotit\u001b[0m \u001b[1;33m=\u001b[0m \u001b[1;32mTrue\u001b[0m\u001b[1;33m\u001b[0m\u001b[1;33m\u001b[0m\u001b[0m\n\u001b[0;32m    304\u001b[0m             \u001b[1;32melse\u001b[0m\u001b[1;33m:\u001b[0m\u001b[1;33m\u001b[0m\u001b[1;33m\u001b[0m\u001b[0m\n",
      "\u001b[1;31mKeyboardInterrupt\u001b[0m: "
     ]
    }
   ],
   "metadata": {
    "uuid": "81d6f940-ef7b-47b1-9a88-7530f46c3af0"
   }
  },
  {
   "cell_type": "code",
   "execution_count": null,
   "source": [
    "## 网格搜索后的最好参数为\r\n",
    "\r\n",
    "clf.best_params_"
   ],
   "outputs": [
    {
     "output_type": "execute_result",
     "data": {
      "text/plain": [
       "{'colsample_bytree': 0.6,\n",
       " 'learning_rate': 0.3,\n",
       " 'max_depth': 8,\n",
       " 'subsample': 0.9}"
      ]
     },
     "metadata": {},
     "execution_count": 39
    }
   ],
   "metadata": {
    "uuid": "879eecb7-301d-4172-bf56-e139c410ab79"
   }
  },
  {
   "cell_type": "code",
   "execution_count": null,
   "source": [
    "## 在训练集和测试集上分布利用最好的模型参数进行预测\r\n",
    "\r\n",
    "## 定义带参数的 XGBoost模型 \r\n",
    "clf = XGBClassifier(colsample_bytree = 0.6, learning_rate = 0.3, max_depth= 8, subsample = 0.9)\r\n",
    "# 在训练集上训练XGBoost模型\r\n",
    "clf.fit(x_train, y_train)\r\n",
    "\r\n",
    "train_predict = clf.predict(x_train)\r\n",
    "test_predict = clf.predict(x_test)\r\n",
    "\r\n",
    "## 利用accuracy（准确度）【预测正确的样本数目占总预测样本数目的比例】评估模型效果\r\n",
    "print('The accuracy of the Logistic Regression is:',metrics.accuracy_score(y_train,train_predict))\r\n",
    "print('The accuracy of the Logistic Regression is:',metrics.accuracy_score(y_test,test_predict))\r\n",
    "\r\n",
    "## 查看混淆矩阵 (预测值和真实值的各类情况统计矩阵)\r\n",
    "confusion_matrix_result = metrics.confusion_matrix(test_predict,y_test)\r\n",
    "print('The confusion matrix result:\\n',confusion_matrix_result)\r\n",
    "\r\n",
    "# 利用热力图对于结果进行可视化\r\n",
    "plt.figure(figsize=(8, 6))\r\n",
    "sns.heatmap(confusion_matrix_result, annot=True, cmap='Blues')\r\n",
    "plt.xlabel('Predicted labels')\r\n",
    "plt.ylabel('True labels')\r\n",
    "plt.show()"
   ],
   "outputs": [
    {
     "output_type": "stream",
     "name": "stdout",
     "text": [
      "The accuracy of the Logistic Regression is: 0.9414522651350876\n",
      "The accuracy of the Logistic Regression is: 0.8569553190491819\n",
      "The confusion matrix result:\n",
      " [[15614  2112]\n",
      " [  939  2664]]\n"
     ]
    },
    {
     "output_type": "display_data",
     "data": {
      "text/plain": [
       "<Figure size 576x432 with 2 Axes>"
      ],
      "image/png": "[encoded data removed]"
     },
     "metadata": {
      "needs_background": "light"
     }
    }
   ],
   "metadata": {
    "uuid": "bdaa1885-9daf-493a-9576-314cad6cc60d"
   }
  },
  {
   "cell_type": "markdown",
   "source": [
    "原本有2470 + 790个错误，现在有 2112 + 939个错误，带来了明显的正确率提升。"
   ],
   "metadata": {
    "uuid": "0d578ce9-5059-4a88-8f4a-5837ad874245"
   }
  },
  {
   "cell_type": "markdown",
   "source": [
    "## 2.4 重要知识点"
   ],
   "metadata": {
    "uuid": "c3ebe57f-98ae-4d4e-b46b-b3b18aa3b58a"
   }
  },
  {
   "cell_type": "markdown",
   "source": [
    "### 2.4.1 XGBoost的重要参数"
   ],
   "metadata": {
    "uuid": "44f3d5c2-ed05-4089-a02b-b4c07df1a504"
   }
  },
  {
   "cell_type": "markdown",
   "source": [
    "1.**eta**[默认0.3]    \n",
    "通过为每一颗树增加权重，提高模型的鲁棒性。   \n",
    "典型值为0.01-0.2。   \n",
    "\n",
    "2.**min_child_weight**[默认1]    \n",
    "决定最小叶子节点样本权重和。    \n",
    "这个参数可以避免过拟合。当它的值较大时，可以避免模型学习到局部的特殊样本。    \n",
    "但是如果这个值过高，则会导致模型拟合不充分。  \n",
    "\n",
    "3.**max_depth**[默认6]     \n",
    "这个值也是用来避免过拟合的。max_depth越大，模型会学到更具体更局部的样本。        \n",
    "典型值：3-10     \n",
    "\n",
    "4.**max_leaf_nodes**     \n",
    "树上最大的节点或叶子的数量。   \n",
    "可以替代max_depth的作用。     \n",
    "这个参数的定义会导致忽略max_depth参数。    \n",
    "\n",
    "5.**gamma**[默认0]      \n",
    "在节点分裂时，只有分裂后损失函数的值下降了，才会分裂这个节点。Gamma指定了节点分裂所需的最小损失函数下降值。\n",
    "这个参数的值越大，算法越保守。这个参数的值和损失函数息息相关。   \n",
    "\n",
    "6.**max_delta_step**[默认0]    \n",
    "这参数限制每棵树权重改变的最大步长。如果这个参数的值为0，那就意味着没有约束。如果它被赋予了某个正值，那么它会让这个算法更加保守。   \n",
    "但是当各类别的样本十分不平衡时，它对分类问题是很有帮助的。   \n",
    "\n",
    "7.**subsample**[默认1]     \n",
    "这个参数控制对于每棵树，随机采样的比例。   \n",
    "减小这个参数的值，算法会更加保守，避免过拟合。但是，如果这个值设置得过小，它可能会导致欠拟合。    \n",
    "典型值：0.5-1   \n",
    "  \n",
    "8.**colsample_bytree**[默认1]    \n",
    "用来控制每棵随机采样的列数的占比(每一列是一个特征)。   \n",
    "典型值：0.5-1   \n",
    "\n",
    "9.**colsample_bylevel**[默认1]   \n",
    "用来控制树的每一级的每一次分裂，对列数的采样的占比。   \n",
    "subsample参数和colsample_bytree参数可以起到相同的作用，一般用不到。\n",
    "\n",
    "10.**lambda**[默认1]    \n",
    "权重的L2正则化项。(和Ridge regression类似)。    \n",
    "这个参数是用来控制XGBoost的正则化部分的。虽然大部分数据科学家很少用到这个参数，但是这个参数在减少过拟合上还是可以挖掘出更多用处的。    \n",
    "\n",
    "11.**alpha**[默认1]    \n",
    "权重的L1正则化项。(和Lasso regression类似)。  \n",
    "可以应用在很高维度的情况下，使得算法的速度更快。     \n",
    "\n",
    "12.**scale_pos_weight**[默认1]    \n",
    "在各类别样本十分不平衡时，把这个参数设定为一个正值，可以使算法更快收敛。    \n"
   ],
   "metadata": {
    "uuid": "47989402-15d1-4f67-9685-f764faef6f28"
   }
  },
  {
   "cell_type": "markdown",
   "source": [
    "### 2.4.2 XGBoost原理粗略讲解"
   ],
   "metadata": {
    "uuid": "08f7dafd-45b2-475a-9ef3-b0bdbb316b85"
   }
  },
  {
   "cell_type": "markdown",
   "source": [
    "XGBoost底层实现了GBDT算法，并对GBDT算法做了一系列优化：\n",
    "1. 对目标函数进行了泰勒展示的二阶展开，可以更加高效拟合误差。\n",
    "2. 提出了一种估计分裂点的算法加速CART树的构建过程，同时可以处理稀疏数据。\n",
    "3. 提出了一种树的并行策略加速迭代。\n",
    "4. 为模型的分布式算法进行了底层优化。"
   ],
   "metadata": {
    "uuid": "dfef76b2-9ba8-4b16-9571-42edc404853f"
   }
  },
  {
   "cell_type": "markdown",
   "source": [
    "XGBoost是基于CART树的集成模型，它的思想是串联多个决策树模型共同进行决策。\n",
    "\n",
    "![image.png](attachment:image.png)\n",
    "\n",
    "那么如何串联呢？XGBoost采用迭代预测误差的方法串联。举个通俗的例子，我们现在需要预测一辆车价值3000元。我们构建决策树1训练后预测为2600元，我们发现有400元的误差，那么决策树2的训练目标为400元，但决策树2的预测结果为350元，还存在50元的误差就交给第三棵树……以此类推，每一颗树用来估计之前所有树的误差，最后所有树预测结果的求和就是最终预测结果！\n",
    "\n",
    "XGBoost的基模型是CART回归树，它有两个特点：（1）CART树，是一颗二叉树。（2）回归树，最后拟合结果是连续值。\n",
    "\n",
    "XGBoost模型可以表示为以下形式，我们约定$f_t(x)$表示前$t$颗树的和，$h_t(x)$表示第$t$颗决策树，模型定义如下：\n",
    "\n",
    "$f_{t}(x)=\\sum_{t=1}^{T} h_{t}(x)$\n",
    "\n",
    "由于模型递归生成，第$t$步的模型由第$t-1$步的模型形成，可以写成：\n",
    "\n",
    "$f_{t}(x)=f_{t-1}(x)+h_{t}(x)$\n",
    "\n",
    "每次需要加上的树$h_t(x)$是之前树求和的误差：\n",
    "\n",
    "$r_{t, i}=y_{i}-f_{m-1}\\left(x_{i}\\right)$\n",
    "\n",
    "我们每一步只要拟合一颗输出为$r_{t,i}$的CART树加到$f_{t-1}(x)$就可以了。"
   ],
   "metadata": {
    "uuid": "bb349970-9ded-4a56-996b-1ce3f3f08668"
   },
   "attachments": {
    "image.png": {
     "image/png": "[encoded data removed]"
    }
   }
  }
 ],
 "metadata": {
  "kernelspec": {
   "display_name": "Python 3",
   "language": "python",
   "name": "python3"
  },
  "language_info": {
   "codemirror_mode": {
    "name": "ipython",
    "version": 3
   },
   "file_extension": ".py",
   "mimetype": "text/x-python",
   "name": "python",
   "nbconvert_exporter": "python",
   "pygments_lexer": "ipython3",
   "version": "3.6.5"
  }
 },
 "nbformat": 4,
 "nbformat_minor": 4
}