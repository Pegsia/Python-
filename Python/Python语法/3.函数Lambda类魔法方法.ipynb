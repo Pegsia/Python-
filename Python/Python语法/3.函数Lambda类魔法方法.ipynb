{
 "cells": [
  {
   "cell_type": "markdown",
   "metadata": {},
   "source": [
    "<h1>Python入门(下)</h1>\r\n",
    "\r\n",
    "1. [简介](#简介)\r\n",
    "\r\n",
    "2. [函数](#函数)<br>\r\n",
    "   [1.函数的定义](#1.函数的定义)<br>\r\n",
    "   [2.函数的调用](#2.函数的调用)<br>\r\n",
    "   [3.函数文档](#3.函数文档)<br>\r\n",
    "   [4.函数参数](#4.函数参数)<br>\r\n",
    "   [5.函数的返回值](#5.函数的返回值)<br>\r\n",
    "   [6.变量作用域](#6.变量作用域)<br>\r\n",
    " \r\n",
    "3. [Lambda-表达式](#Lambda-表达式)<br>\r\n",
    "   [1.匿名函数的定义](#1.匿名函数的定义)<br>\r\n",
    "   [2.匿名函数的应用](#2.匿名函数的应用)<br>\r\n",
    "   \r\n",
    "4. [类与对象](#类与对象)<br>\r\n",
    "   [1.属性和方法组成对象](#1.属性和方法组成对象)<br>\r\n",
    "   [2.self是什么？](#2.self-是什么？)<br>\r\n",
    "   [3.Python的魔法方法](#3.Python-的魔法方法)<br>\r\n",
    "   [4.公有和私有](#4.公有和私有)<br>\r\n",
    "   [5.继承](#5.继承)<br>\r\n",
    "   [6.组合](#6.组合)<br>\r\n",
    "   [7.类、类对象和实例对象](#7.类、类对象和实例对象)<br>\r\n",
    "   [8.什么是绑定？](#8.什么是绑定？)<br>\r\n",
    "   [9.一些相关的内置函数（BIF）](#9.一些相关的内置函数（BIF）)<br>\r\n",
    "   \r\n",
    "5. [魔法方法](#魔法方法)<br>\r\n",
    "   [1.基本的魔法方法](#1.基本的魔法方法)<br>\r\n",
    "   [2.算术运算符](#2.算术运算符)<br>\r\n",
    "   [3.反算术运算符](#3.反算术运算符)<br>\r\n",
    "   [4.增量赋值运算](#4.增量赋值运算符)<br>\r\n",
    "   [5.一元运算符](#5.一元运算符)<br>\r\n",
    "   [6.属性访问](#6.属性访问)<br>\r\n",
    "   [7.描述符](#7.描述符)<br>\r\n",
    "   [8.定制序列](#8.定制序列)<br>\r\n",
    "   [9.迭代器](#9.迭代器)<br>"
   ]
  },
  {
   "cell_type": "markdown",
   "metadata": {},
   "source": [
    "# 函数\n",
    "\n",
    "## 1.函数的定义\n",
    "\n",
    "还记得 Python 里面“万物皆对象”么？Python 把函数也当成对象，可以从另一个函数中返回出来而去构建高阶函数，比如：\n",
    "参数是函数、返回值是函数。\n",
    "\n",
    "我们首先来介绍函数的定义。\n",
    "\n",
    "- 函数以`def`关键词开头，后接函数名和圆括号`()`\n",
    "- 函数执行的代码以冒号起始，并且缩进\n",
    "- `return [表达式]`结束函数，选择性地返回一个值给调用方，不带表达式的`return`相当于返回`None`\n",
    "```python\n",
    "def functionname(parmeters):\n",
    "    '函数_文档字符'\n",
    "    funciton_suite\n",
    "    return [expression]\n",
    "\n",
    "## 2.函数的调用"
   ]
  },
  {
   "cell_type": "code",
   "execution_count": 2,
   "metadata": {},
   "outputs": [
    {
     "name": "stdout",
     "output_type": "stream",
     "text": [
      "hello\n",
      "None\n"
     ]
    }
   ],
   "source": [
    "def printme(str):\n",
    "    print(str)\n",
    "    \n",
    "temp = printme('hello')\n",
    "print(temp)"
   ]
  },
  {
   "cell_type": "markdown",
   "metadata": {},
   "source": [
    "## 3.函数文档"
   ]
  },
  {
   "cell_type": "code",
   "execution_count": 3,
   "metadata": {},
   "outputs": [
    {
     "name": "stdout",
     "output_type": "stream",
     "text": [
      "传递进来的tio叫做实参，因为Ta是具体的参数值\n",
      "函数定义过程中name是形参\n",
      "Help on function MyFirstFun in module __main__:\n",
      "\n",
      "MyFirstFun(name)\n",
      "    函数定义过程中name是形参\n",
      "\n"
     ]
    }
   ],
   "source": [
    "def MyFirstFun(name):\n",
    "    \"函数定义过程中name是形参\"\n",
    "    # 因为Ta只是一个形式，表示占据一个参数位置\n",
    "    print('传递进来的{0}叫做实参，因为Ta是具体的参数值'.format(name))\n",
    "\n",
    "MyFirstFun('tio')\n",
    "# 传递进来的tio叫做实参，因为Ta是具体的参数值\n",
    "\n",
    "print(MyFirstFun.__doc__)\n",
    "# 函数定义过程中name是形参\n",
    "\n",
    "help(MyFirstFun)\n",
    "# Help on function MyFirstFun in module __main__:\n",
    "\n",
    "# MyFirstFun(name)\n",
    "#     函数定义过程中name是形参"
   ]
  },
  {
   "cell_type": "markdown",
   "metadata": {},
   "source": [
    "## 4.函数参数\n",
    "\n",
    "Python的函数具有非常灵活多样的参数形态，即可以实现简单的调用，又可以传入非常复杂的参数，从简到繁的参数形态如下\n",
    "- 位置参数(positional argument)\n",
    "- 默认参数(default argument)\n",
    "- 可变参数(variable argument)\n",
    "- 关键字参数(keyword argument)\n",
    "- 命名关键字参数(name keyword argument)\n",
    "- 参数组合\n",
    "\n",
    "**1.位置参数**\n",
    "```python\n",
    "def funcitonname(arg1):\n",
    "    function_suite\n",
    "    return [expression]\n",
    "```\n",
    "- `arg1`位置参数，这些参数在吊用函数(call function)时位置要固定\n",
    "\n",
    "**2.默认参数**\n",
    "```python\n",
    "def funcitonname(arg1, arg2 = v):\n",
    "    function_suite\n",
    "    return [expression]\n",
    "```\n",
    "- `arg2 = v`默认参数 = 默认值，调用函数时，默认参数的值如果没有传入，则被认为是默认值\n",
    "- 默认参数一定要放在位置参数后面，不然程序会报错"
   ]
  },
  {
   "cell_type": "code",
   "execution_count": 4,
   "metadata": {},
   "outputs": [
    {
     "name": "stdout",
     "output_type": "stream",
     "text": [
      "Name：tio， Age:8\n",
      "Name：qiu， Age:12\n"
     ]
    }
   ],
   "source": [
    "def print_info(name, age = 8):\n",
    "    print('Name：{0}， Age:{1}'.format(name, age))\n",
    "    \n",
    "print_info('tio')     # Name：tio， Age:8\n",
    "print_info('qiu', 12) # Name：qiu， Age:12"
   ]
  },
  {
   "cell_type": "markdown",
   "metadata": {},
   "source": [
    "- python 允许函数调用时参数的顺序与声明时不一致，因为python解释器能够用参数名匹配参数值"
   ]
  },
  {
   "cell_type": "code",
   "execution_count": 5,
   "metadata": {},
   "outputs": [
    {
     "name": "stdout",
     "output_type": "stream",
     "text": [
      "Name:qiu, Age:3\n"
     ]
    }
   ],
   "source": [
    "def print_info(name, age = 2):\n",
    "    print('Name:{0}, Age:{1}'.format(name, age))\n",
    "\n",
    "print_info(age = 3, name = 'qiu')\n",
    "# Name:qiu, Age:3"
   ]
  },
  {
   "cell_type": "markdown",
   "metadata": {},
   "source": [
    "**3.可变参数**\n",
    "顾名思义，可变参数就是传入的参数个数是可变的，可以是0,1,2到任意个，是不定长的参数\n",
    "```python\n",
    "def funcitonname(arg1, arg2 = v, *args):\n",
    "    function_suite\n",
    "    return [expression]\n",
    "```\n",
    "- `*args`可变参数，可以是零个到任意个，自动组装成元组\n",
    "- 加了星号`*`的变量名会存放所有未命名的变量参数"
   ]
  },
  {
   "cell_type": "code",
   "execution_count": 10,
   "metadata": {},
   "outputs": [
    {
     "name": "stdout",
     "output_type": "stream",
     "text": [
      "11\n",
      "2\n",
      "90 1010 12312 "
     ]
    }
   ],
   "source": [
    "def print_info(arg1, *args):\n",
    "    print(arg1)\n",
    "    for var in args:\n",
    "        print(var, end = ' ')\n",
    "print_info(11) # 11\n",
    "print_info(2, 90,1010, 12312)\n",
    "# 2\n",
    "# 90 1010 12312 "
   ]
  },
  {
   "cell_type": "markdown",
   "metadata": {},
   "source": [
    "**4.关键字参数**\n",
    "```python\n",
    "def funcitonname(arg1, *args, **kwargs):\n",
    "    function_suite\n",
    "    return [expression]\n",
    "```\n",
    "- `**kwargs`关键字参数看，可以是从零个到任意个，自动组装成字典"
   ]
  },
  {
   "cell_type": "code",
   "execution_count": 12,
   "metadata": {},
   "outputs": [
    {
     "name": "stdout",
     "output_type": "stream",
     "text": [
      "10\n",
      "(32, 54)\n",
      "{}\n",
      "1\n",
      "(23, 43)\n",
      "{'a': 1, 'b': 12}\n"
     ]
    }
   ],
   "source": [
    "def print_info(arg1, *args, **kwargs):\n",
    "    print(arg1)\n",
    "    print(args)\n",
    "    print(kwargs)\n",
    "\n",
    "print_info(10,32, 54)\n",
    "# 10\n",
    "# (32, 54)\n",
    "# {}\n",
    "\n",
    "print_info(1, 23, 43, a = 1, b = 12)\n",
    "# 1\n",
    "# (23, 43)\n",
    "# {'a': 1, 'b': 12}"
   ]
  },
  {
   "cell_type": "markdown",
   "metadata": {},
   "source": [
    "[可变参数]和[关键字参数]的异同：\n",
    "- 可变参数和关键词参数允许传入零个到任意个参数\n",
    "- 可变参数在函数调用时自动组装成一个元组(tuple),关键字参数在函数调用时自动组装成一个字典(dict)\n",
    "\n",
    "**5.命名关键字参数**\n",
    "```python\n",
    "def funcitonname(arg1, *, nkw, **kwargs):\n",
    "    function_suite\n",
    "    return [expression]\n",
    "```\n",
    "- `*, nkw`命名关键字参数，用户想要输入的关键字参数，定义方式是在`nkw`前面加分隔符`*`\n",
    "- 如果要限制关键字参数的名字，就可以用命名关键字参数\n",
    "- 使用命名关键字参数时，要特别注意不能缺少参数名"
   ]
  },
  {
   "cell_type": "code",
   "execution_count": 13,
   "metadata": {},
   "outputs": [
    {
     "name": "stdout",
     "output_type": "stream",
     "text": [
      "70\n",
      "10\n",
      "{'a': 1, 'b': 2}\n"
     ]
    },
    {
     "ename": "TypeError",
     "evalue": "print_info() takes 1 positional argument but 2 were given",
     "output_type": "error",
     "traceback": [
      "\u001b[0;31m---------------------------------------------------------------------------\u001b[0m",
      "\u001b[0;31mTypeError\u001b[0m                                 Traceback (most recent call last)",
      "\u001b[0;32m<ipython-input-13-dd5dd73195fb>\u001b[0m in \u001b[0;36m<module>\u001b[0;34m\u001b[0m\n\u001b[1;32m      6\u001b[0m \u001b[0mprint_info\u001b[0m\u001b[0;34m(\u001b[0m\u001b[0;36m70\u001b[0m\u001b[0;34m,\u001b[0m \u001b[0mnkw\u001b[0m \u001b[0;34m=\u001b[0m \u001b[0;36m10\u001b[0m\u001b[0;34m,\u001b[0m \u001b[0ma\u001b[0m \u001b[0;34m=\u001b[0m \u001b[0;36m1\u001b[0m\u001b[0;34m,\u001b[0m \u001b[0mb\u001b[0m \u001b[0;34m=\u001b[0m \u001b[0;36m2\u001b[0m\u001b[0;34m)\u001b[0m\u001b[0;34m\u001b[0m\u001b[0m\n\u001b[1;32m      7\u001b[0m \u001b[0;34m\u001b[0m\u001b[0m\n\u001b[0;32m----> 8\u001b[0;31m \u001b[0mprint_info\u001b[0m\u001b[0;34m(\u001b[0m\u001b[0;36m70\u001b[0m\u001b[0;34m,\u001b[0m \u001b[0;36m10\u001b[0m\u001b[0;34m,\u001b[0m \u001b[0ma\u001b[0m \u001b[0;34m=\u001b[0m \u001b[0;36m1\u001b[0m\u001b[0;34m,\u001b[0m \u001b[0mb\u001b[0m \u001b[0;34m=\u001b[0m \u001b[0;36m2\u001b[0m\u001b[0;34m)\u001b[0m\u001b[0;34m\u001b[0m\u001b[0m\n\u001b[0m",
      "\u001b[0;31mTypeError\u001b[0m: print_info() takes 1 positional argument but 2 were given"
     ]
    }
   ],
   "source": [
    "def print_info(arg1, *, nkw, **kwargs):\n",
    "    print(arg1)\n",
    "    print(nkw)\n",
    "    print(kwargs)\n",
    "\n",
    "print_info(70, nkw = 10, a = 1, b = 2)\n",
    "# 70\n",
    "# 10\n",
    "# {'a': 1, 'b': 2}\n",
    "\n",
    "print_info(70, 10, a = 1, b = 2)\n",
    "# TypeError: print_info() takes 1 positional argument but 2 were given"
   ]
  },
  {
   "cell_type": "markdown",
   "metadata": {},
   "source": [
    "- 没有写参数名`nwk`，因此10被当成位置参数，而原函数只有一个位置参数，现在调用了两个，因此报错\n",
    "**6.参数组合**\n",
    "在puthon中定义函数，可以用位置参数、默认参数、可变参数、命名关键字参数、和关键字参数，这5种参数的4个都可以一起使用，但是注意\n",
    "\n",
    "<font color = #0099ff>参数定义的顺序必须是：</font>\n",
    "- 位置参数、默认参数、可变参数和关键字参数\n",
    "- 位置参数、默认参数、命名关键字参数和关键字参数\n",
    "\n",
    "要注意定义可变参数和关键字参数的语法：\n",
    "- `*args`是可变参数，`args`接受的是一个`tuple`\n",
    "- `**kwarg`是关键字参数，`kwarg`接受的是一个`dict`\n",
    "命名关键字参数是为了限制调用者可以传入的参数名，同时可以提供默认值。定义命名关键字不要忘了写分隔符`*`，否则定义的是位置参数\n",
    "警告：虽然可以组合多达五种参数，但不要同时使用太多的组合，否则函数很难懂\n",
    "\n",
    "## 5.函数的返回值"
   ]
  },
  {
   "cell_type": "code",
   "execution_count": 15,
   "metadata": {},
   "outputs": [
    {
     "name": "stdout",
     "output_type": "stream",
     "text": [
      "3\n",
      "[1, 2, 3, 4, 5, 6]\n"
     ]
    }
   ],
   "source": [
    "def add(a, b):\n",
    "    return a + b\n",
    "\n",
    "print(add(1, 2)) # 3\n",
    "print(add([1, 2, 3],[4, 5, 6])) # [1, 2, 3, 4, 5, 6]"
   ]
  },
  {
   "cell_type": "code",
   "execution_count": 16,
   "metadata": {},
   "outputs": [
    {
     "name": "stdout",
     "output_type": "stream",
     "text": [
      "['a', 1, 12.3]\n",
      "('1', 1, 23.2)\n"
     ]
    }
   ],
   "source": [
    "def fun1():\n",
    "    return ['a', 1, 12.3]\n",
    "\n",
    "def fun2():\n",
    "    return '1', 1, 23.2\n",
    "print(fun1()) # ['a', 1, 12.3]\n",
    "print(fun2()) # ('1', 1, 23.2)"
   ]
  },
  {
   "cell_type": "code",
   "execution_count": 17,
   "metadata": {},
   "outputs": [
    {
     "name": "stdout",
     "output_type": "stream",
     "text": [
      "hello\n",
      "None\n",
      "<class 'NoneType'>\n"
     ]
    }
   ],
   "source": [
    "def fun1(str):\n",
    "    print(str)\n",
    "\n",
    "temp = fun1('hello')  # hello\n",
    "print(temp)           # None\n",
    "print(type(temp))     # <class 'NoneType'>\n",
    "#无返回值的函数返回None"
   ]
  },
  {
   "cell_type": "markdown",
   "metadata": {},
   "source": [
    "## 6.变量作用域\n",
    "- python种，程序的变量并不是在哪个位置都可以访问的，访问权限决定于这个变量是在哪里赋值的\n",
    "- 定义在函数内部的变量拥有局部作用域，该变量称为局部变量\n",
    "- 定义在函数外部的变量拥有全局作用域，该变量成为全局变量\n",
    "- 局部变量只能在其被声明的函数内部访问，而全局变量可以在整个程序范围内访问"
   ]
  },
  {
   "cell_type": "code",
   "execution_count": 21,
   "metadata": {},
   "outputs": [
    {
     "name": "stdout",
     "output_type": "stream",
     "text": [
      "原价是： 98\n",
      "折扣是： 0.9\n"
     ]
    },
    {
     "name": "stdout",
     "output_type": "stream",
     "text": [
      "打折后88.20\n"
     ]
    }
   ],
   "source": [
    "def discounts(price, rate):\n",
    "    final_price = price * rate\n",
    "    return final_price\n",
    "\n",
    "old_price = float(input('请输入原价:'))  # 98\n",
    "rate = float(input('请输入折扣率:'))  # 0.9\n",
    "new_price = discounts(old_price, rate)\n",
    "print('打折后价格是:%.2f' % new_price)  # 88.20"
   ]
  },
  {
   "cell_type": "markdown",
   "metadata": {},
   "source": [
    "- 当内部作用域想修改外部作用域的变量时，就要用到`global`和`nonlocal`关键字了"
   ]
  },
  {
   "cell_type": "code",
   "execution_count": 34,
   "metadata": {},
   "outputs": [
    {
     "name": "stdout",
     "output_type": "stream",
     "text": [
      "1\n",
      "123\n",
      "123\n"
     ]
    }
   ],
   "source": [
    "num = 1\n",
    "\n",
    "def fun1():\n",
    "    global num\n",
    "    print(num) # 1\n",
    "    num = 123\n",
    "    print(num) # 123\n",
    "     \n",
    "fun1()\n",
    "print(num) # 123"
   ]
  },
  {
   "cell_type": "markdown",
   "metadata": {},
   "source": [
    "### 1.内嵌函数\n"
   ]
  },
  {
   "cell_type": "code",
   "execution_count": 35,
   "metadata": {},
   "outputs": [
    {
     "name": "stdout",
     "output_type": "stream",
     "text": [
      "outer函数在这被调用\n",
      "inner函数在这被调用\n"
     ]
    }
   ],
   "source": [
    "def outer():\n",
    "    print('outer函数在这被调用')\n",
    "    \n",
    "    def inner():\n",
    "        print('inner函数在这被调用')\n",
    "    \n",
    "    inner() #该函数只能在outer函数内部被调用\n",
    "\n",
    "outer()\n",
    "# outer函数在这被调用\n",
    "# inner函数在这被调用"
   ]
  },
  {
   "cell_type": "markdown",
   "metadata": {},
   "source": [
    "### 2.闭包\n",
    "- 闭包是函数式编程的一个重要语法结构，是一种特殊的内嵌函数\n",
    "- 如果在一个内部函数里对外层非全局变量作用域的变量进行引用，那么内部函数就被认为是闭包\n",
    "- 通过闭包可以访问外层非全局作用域的变量，这个作用域成为闭包作用域"
   ]
  },
  {
   "cell_type": "code",
   "execution_count": 37,
   "metadata": {},
   "outputs": [
    {
     "name": "stdout",
     "output_type": "stream",
     "text": [
      "<class 'function'>\n",
      "40\n"
     ]
    }
   ],
   "source": [
    "def funX(x):\n",
    "    def funY(y):\n",
    "        return x * y\n",
    "    return funY\n",
    "\n",
    "i = funX(8)\n",
    "print(type(i)) # <class 'function'>\n",
    "print(i(5))    # 40"
   ]
  },
  {
   "cell_type": "markdown",
   "metadata": {},
   "source": [
    "闭包的返回值通常是函数"
   ]
  },
  {
   "cell_type": "code",
   "execution_count": 38,
   "metadata": {},
   "outputs": [
    {
     "name": "stdout",
     "output_type": "stream",
     "text": [
      "3\n",
      "2\n",
      "0\n"
     ]
    }
   ],
   "source": [
    "def make_counter(init):\n",
    "    counter = [init]\n",
    "    \n",
    "    def inc(): counter[0] += 1\n",
    "    \n",
    "    def dec(): counter[0] -= 1\n",
    "    \n",
    "    def get(): return counter[0]\n",
    "    \n",
    "    def reset(): counter[0] = init\n",
    "    \n",
    "    return inc, dec, get, reset\n",
    "\n",
    "inc, dec, get, reset = make_counter(0)\n",
    "inc()\n",
    "inc()\n",
    "inc()\n",
    "print(get()) # 3\n",
    "dec()\n",
    "print(get()) # 2\n",
    "reset()\n",
    "print(get()) # 0"
   ]
  },
  {
   "cell_type": "markdown",
   "metadata": {},
   "source": [
    "如果要修改闭包作用域中的变量则需要`nonlocal`关键字"
   ]
  },
  {
   "cell_type": "code",
   "execution_count": 1,
   "metadata": {},
   "outputs": [
    {
     "name": "stdout",
     "output_type": "stream",
     "text": [
      "100\n",
      "100\n"
     ]
    }
   ],
   "source": [
    "def outer():\n",
    "    num = 10\n",
    "    \n",
    "    def inner():\n",
    "        nonlocal num\n",
    "        num = 100\n",
    "        print(num)\n",
    "    \n",
    "    inner()\n",
    "    print(num)\n",
    "    \n",
    "outer()\n",
    "# 100\n",
    "# 100"
   ]
  },
  {
   "cell_type": "markdown",
   "metadata": {},
   "source": [
    "## 3.递归\n",
    "- 如果一个函数在内部调用自己，这个函数就是递归函数\n",
    "\n",
    "【例子】 `n! = 1 x 2 x 3 x ... x n`"
   ]
  },
  {
   "cell_type": "code",
   "execution_count": 2,
   "metadata": {},
   "outputs": [
    {
     "name": "stdout",
     "output_type": "stream",
     "text": [
      "120\n",
      "120\n"
     ]
    }
   ],
   "source": [
    "#利用循环\n",
    "n = 5\n",
    "for k in range(1, 5):\n",
    "    n = n * k\n",
    "print(n) # 120\n",
    "\n",
    "#利用递归\n",
    "def factorial(n):\n",
    "    if n == 1:\n",
    "        return 1\n",
    "    return factorial(n - 1) * n\n",
    "\n",
    "print(factorial(5)) # 120x"
   ]
  },
  {
   "cell_type": "markdown",
   "metadata": {},
   "source": [
    "斐波那契数列`f(n) = f(n - 1) + f(n - 2), f(0) = 0, f(1) = 1`"
   ]
  },
  {
   "cell_type": "code",
   "execution_count": 6,
   "metadata": {},
   "outputs": [
    {
     "name": "stdout",
     "output_type": "stream",
     "text": [
      "[0, 1, 1, 2, 3, 5, 8, 13, 21, 34, 55]\n",
      "[0, 1, 1, 2, 3, 5, 8, 13, 21, 34, 55]\n"
     ]
    }
   ],
   "source": [
    "#利用循环\n",
    "lst = [0, 1]\n",
    "for k in range(2, 11):\n",
    "    lst.append(lst[k - 1] + lst[k - 2])\n",
    "print(lst)\n",
    "# [0, 1, 1, 2, 3, 5, 8, 13, 21, 34, 55]\n",
    "\n",
    "#利用递归\n",
    "def fibo(k):\n",
    "    if k <= 1:\n",
    "        return k\n",
    "    return fibo(k - 1) + fibo(k - 2)\n",
    "\n",
    "lst = []\n",
    "for k in range(11):\n",
    "    lst.append(fibo(k))\n",
    "print(lst)\n",
    "# [0, 1, 1, 2, 3, 5, 8, 13, 21, 34, 55]"
   ]
  },
  {
   "cell_type": "markdown",
   "metadata": {},
   "source": [
    "设置递归的层数，Python默认递归层数为100"
   ]
  },
  {
   "cell_type": "code",
   "execution_count": 7,
   "metadata": {},
   "outputs": [],
   "source": [
    "import sys\n",
    "sys.setrecursionlimit(1000)"
   ]
  },
  {
   "cell_type": "markdown",
   "metadata": {},
   "source": [
    "# Lambda表达式\n",
    "## 1.匿名函数的定义\n",
    "在python里有两类函数：\n",
    "- 第一类：用`def`关键词定义的正规函数\n",
    "- 第二类：用`lambda`关键词定义的匿名函数\n",
    "\n",
    "Python使用`lambda`关键词来创建匿名函数，而非用`def`关键词，它没有函数名，其语法结构如下：\n",
    "```python\n",
    "lambda argument_list: expression\n",
    "```\n",
    "- `lambda` 定义匿名函数的关键词\n",
    "- `argument_list` 函数参数，他们呢可以是位置参数、默认参数、关键字参数，规函数里的参数类型一样\n",
    "- `:` 冒号，在函数参数和表达式中间要加个冒号\n",
    "- `expression` 只是一个表达式，输入函数参数，输出一些值\n",
    "\n",
    "注意：\n",
    "- `expression`中没有`return`语句，因为`lambda`不需要它来返回，表达式本身结果就是返回值\n",
    "- 匿名函数拥有自己的命名空间，且不能访问参数列表之外或全局命名空间里的参数}"
   ]
  },
  {
   "cell_type": "code",
   "execution_count": 1,
   "metadata": {},
   "outputs": [
    {
     "name": "stdout",
     "output_type": "stream",
     "text": [
      "<function sqr at 0x7fd25050eae8>\n",
      "[0, 1, 4, 9, 16, 25, 36, 49, 64, 81]\n",
      "<function <lambda> at 0x7fd25020cb70>\n",
      "[0, 1, 4, 9, 16, 25, 36, 49, 64, 81]\n",
      "30\n",
      "21\n"
     ]
    }
   ],
   "source": [
    "def sqr(x):\n",
    "    return x ** 2\n",
    "\n",
    "print(sqr)\n",
    "# <function sqr at 0x7fd25050eae8>\n",
    "\n",
    "y = [sqr(x) for x in range(10)]\n",
    "print(y)\n",
    "# [0, 1, 4, 9, 16, 25, 36, 49, 64, 81]\n",
    "\n",
    "lad_sqr = lambda x : x ** 2\n",
    "print(lad_sqr)\n",
    "# <function <lambda> at 0x7fd25020cb70\n",
    "\n",
    "y = [lad_sqr(x) for x in range(10)]\n",
    "print(y)\n",
    "# [0, 1, 4, 9, 16, 25, 36, 49, 64, 81]\n",
    "\n",
    "sumary = lambda arg1, arg2: arg1 + arg2\n",
    "print(sumary(10, 20))\n",
    "# 30\n",
    "\n",
    "func = lambda *args: sum(args)\n",
    "print(func(1, 2, 3, 4, 5, 6))\n",
    "# 21"
   ]
  },
  {
   "cell_type": "markdown",
   "metadata": {},
   "source": [
    "## 2.匿名函数的应用\n",
    "\n",
    "函数式编程 是指代码中每一块都是不可变的，都由纯函数的形式组成。这里的<font color = #0099ff>纯函数，是指函数本身相互独立、互不影响，对于相同的输入，总会有相同的输出，没有任何副作用</font>\n",
    "\n",
    "【例子】 非函数式编程"
   ]
  },
  {
   "cell_type": "code",
   "execution_count": 2,
   "metadata": {},
   "outputs": [
    {
     "name": "stdout",
     "output_type": "stream",
     "text": [
      "[11, 12, 13]\n"
     ]
    }
   ],
   "source": [
    "def f(x):\n",
    "    for i in range(0, len(x)):\n",
    "        x[i] += 10\n",
    "    return x\n",
    "\n",
    "x = [1, 2, 3]\n",
    "f(x)\n",
    "print(x)\n",
    "# [11, 12, 13]"
   ]
  },
  {
   "cell_type": "markdown",
   "metadata": {},
   "source": [
    "函数式编程（不改变任何外部变量，相互无影响）"
   ]
  },
  {
   "cell_type": "code",
   "execution_count": 3,
   "metadata": {},
   "outputs": [
    {
     "name": "stdout",
     "output_type": "stream",
     "text": [
      "[1, 2, 3]\n"
     ]
    }
   ],
   "source": [
    "def f(x):\n",
    "    y = []\n",
    "    for item in x:\n",
    "        y.append(item + 10)\n",
    "    return y\n",
    "\n",
    "x = [1, 2, 3]\n",
    "f(x)\n",
    "print(x)\n",
    "# [1, 2, 3]"
   ]
  },
  {
   "cell_type": "markdown",
   "metadata": {},
   "source": [
    "匿名函数 常常应用于函数式编程的高阶函数(high-order function)中，只要有两种形式：\n",
    "- 参数是函数(filter, map)\n",
    "- 返回值是函数(closure)\n",
    "\n",
    "如，在`filter`和`map`函数中的应用：\n",
    "- `filter(function, iterable)`过滤序列，过滤掉不符合条件的元素，返回一个迭代器对象，如果咬转换为列表，可以使用`list()`来转换"
   ]
  },
  {
   "cell_type": "code",
   "execution_count": 4,
   "metadata": {},
   "outputs": [
    {
     "name": "stdout",
     "output_type": "stream",
     "text": [
      "[1, 3, 5]\n"
     ]
    }
   ],
   "source": [
    "odd = lambda x : x % 2 == 1\n",
    "lst = list(filter(odd, [1, 2, 3, 4, 5, 6]))\n",
    "print(lst)\n",
    "# [1, 3, 5]"
   ]
  },
  {
   "cell_type": "markdown",
   "metadata": {},
   "source": [
    "- `map(function, *iterables)`根据提供的函数对指定序列做映射"
   ]
  },
  {
   "cell_type": "code",
   "execution_count": 6,
   "metadata": {},
   "outputs": [
    {
     "name": "stdout",
     "output_type": "stream",
     "text": [
      "[1, 4, 9, 16, 25, 36]\n",
      "[3, 5, 7, 9, 11]\n"
     ]
    }
   ],
   "source": [
    "m1 = map(lambda x : x ** 2, [1, 2, 3, 4, 5, 6])\n",
    "print(list(m1))\n",
    "# [1, 4, 9, 16, 25, 36]\n",
    "\n",
    "m2 = map(lambda x, y : x + y, [1, 2, 3, 4, 5], [2, 3, 4, 5, 6, 7])\n",
    "print(list(m2))\n",
    "# [3, 5, 7, 9, 11]"
   ]
  },
  {
   "cell_type": "markdown",
   "metadata": {},
   "source": [
    "除了python这些内置函数，我们也可以自己定义高阶函数"
   ]
  },
  {
   "cell_type": "code",
   "execution_count": 9,
   "metadata": {},
   "outputs": [
    {
     "name": "stdout",
     "output_type": "stream",
     "text": [
      "21\n",
      "6\n",
      "3.5\n"
     ]
    }
   ],
   "source": [
    "def apply_to_list(fun, some_list):\n",
    "    return fun(some_list)\n",
    "\n",
    "lst = [1, 2, 3, 4, 5, 6]\n",
    "print(apply_to_list(sum, lst)) # 21\n",
    "\n",
    "print(apply_to_list(len, lst)) # 6\n",
    "\n",
    "print(apply_to_list(lambda x : sum(x) / len(x), lst)) # 3.5"
   ]
  },
  {
   "cell_type": "markdown",
   "metadata": {},
   "source": [
    "# 类与对象\n",
    "## 1.对象 = 属性 + 方法\n",
    "对象是类的实例，换句话说，类主要定义对象的结构，然后我们以类为模板创建对象。类不但包含方法定义，而且还包含所有实例共享的数据\n",
    "- 封装：信息隐蔽技术\n",
    "\n",
    "我们可以用关键字`class`定义Python类，关键字后面紧着类的名称、分号和类的实现\n",
    "\n",
    "- Python中类名约定以大写字母开头\n",
    "- Python类也是对象，它们是`type`的实例"
   ]
  },
  {
   "cell_type": "code",
   "execution_count": 11,
   "metadata": {},
   "outputs": [
    {
     "name": "stdout",
     "output_type": "stream",
     "text": [
      "<__main__.Turtle object at 0x7fd2501409b0>\n",
      "<class '__main__.Turtle'>\n",
      "<class '__main__.Turtle'>\n",
      "Turtle\n",
      "我正在很努力的向前爬\n",
      "我正在飞快向前跑\n",
      "咬死你！\n",
      "<class 'type'>\n"
     ]
    }
   ],
   "source": [
    "class Turtle:\n",
    "    \"\"\"关于类的一个简单例子\"\"\"\n",
    "    # 属性\n",
    "    color = 'green'\n",
    "    weight = 10\n",
    "    legs = 4\n",
    "    shell = True\n",
    "    mouth = '大嘴'\n",
    "    \n",
    "    #方法\n",
    "    def climb(self):\n",
    "        print('我正在很努力的向前爬')\n",
    "    def run(self):\n",
    "        print('我正在飞快向前跑')\n",
    "    def bite(self):\n",
    "        print('咬死你！')\n",
    "    def ear(self):\n",
    "        print('有的吃')\n",
    "    def sleep(self):\n",
    "        print('睡觉')\n",
    "        \n",
    "tt = Turtle()\n",
    "print(tt)\n",
    "# <__main__.Turtle object at 0x7fd250140668>\n",
    "\n",
    "print(type(tt))\n",
    "# <class '__main__.Turtle'>\n",
    "\n",
    "print(tt.__class__)\n",
    "# <class '__main__.Turtle'>\n",
    "\n",
    "print(tt.__class__.__name__)\n",
    "# Turtle\n",
    "\n",
    "tt.climb()\n",
    "# 我正在很努力的向前爬\n",
    "\n",
    "tt.run()\n",
    "# 我正在飞快向前跑\n",
    "\n",
    "tt.bite()\n",
    "# 咬死你！\n",
    "\n",
    "#Python中类也是对象，它们是type的实例\n",
    "print(type(Turtle))\n",
    "# <class 'type'>"
   ]
  },
  {
   "cell_type": "markdown",
   "metadata": {},
   "source": [
    "- 继承：子类自动共享父类之间数据和方法的机制"
   ]
  },
  {
   "cell_type": "code",
   "execution_count": 12,
   "metadata": {},
   "outputs": [
    {
     "name": "stdout",
     "output_type": "stream",
     "text": [
      "[1, 5, 6, 7, 8, 9]\n"
     ]
    }
   ],
   "source": [
    "class MyList(list):\n",
    "    pass\n",
    "\n",
    "lst = MyList([1, 5 ,6 ,7 ,8])\n",
    "lst.append(9)\n",
    "lst.sort()\n",
    "print(lst)\n",
    "# [1, 5, 6, 7, 8, 9]"
   ]
  },
  {
   "cell_type": "markdown",
   "metadata": {},
   "source": [
    "- 多态：不同对象对同一方法相应不同的行动"
   ]
  },
  {
   "cell_type": "code",
   "execution_count": 14,
   "metadata": {},
   "outputs": [
    {
     "name": "stdout",
     "output_type": "stream",
     "text": [
      "pig is walking\n"
     ]
    }
   ],
   "source": [
    "class Animal:\n",
    "    def run(self):\n",
    "        return AttributeError('子类必须实现这个方法')\n",
    "\n",
    "class People(Animal):\n",
    "    def run(self):\n",
    "        print('人在走')\n",
    "        \n",
    "class Pig(Animal):\n",
    "    def run(self):\n",
    "        print('pig is walking')\n",
    "        \n",
    "class Dog(Animal):\n",
    "    def run(self):\n",
    "        print('dog is walking')\n",
    "        \n",
    "def func(animal):\n",
    "    animal.run()\n",
    "\n",
    "# animal = Pig()\n",
    "func(Pig())\n",
    "# pig is walking"
   ]
  },
  {
   "cell_type": "markdown",
   "metadata": {},
   "source": [
    "## 2.self是什么\n",
    "Python中的`self`相当于C++中的`this`指针"
   ]
  },
  {
   "cell_type": "code",
   "execution_count": 15,
   "metadata": {},
   "outputs": [
    {
     "name": "stdout",
     "output_type": "stream",
     "text": [
      "<__main__.Test object at 0x7fd250204c50>\n",
      "<class '__main__.Test'>\n"
     ]
    }
   ],
   "source": [
    "class Test:\n",
    "    def prt(self):\n",
    "        print(self)\n",
    "        print(self.__class__)\n",
    "\n",
    "t = Test()\n",
    "t.prt()\n",
    "# <__main__.Test object at 0x7fd250204c50>\n",
    "# <class '__main__.Test'>"
   ]
  },
  {
   "cell_type": "markdown",
   "metadata": {},
   "source": [
    "类的方法与普通函数只有一个特别的区别：它们必须有一个额外的第一个参数名称（对应于该实例，即该对象本身），按照惯例它的名称是`self`。在调用方法时，我们无需明确提供与参数`self`相对应的参数"
   ]
  },
  {
   "cell_type": "code",
   "execution_count": 16,
   "metadata": {},
   "outputs": [
    {
     "name": "stdout",
     "output_type": "stream",
     "text": [
      "我是qiuA\n",
      "我是qiuB\n"
     ]
    }
   ],
   "source": [
    "class Ball:\n",
    "    def setName(self, name):\n",
    "        self.name = name\n",
    "        \n",
    "    def kick(self):\n",
    "        print('我是%s' % self.name)\n",
    "\n",
    "a = Ball()\n",
    "a.setName('qiuA')\n",
    "\n",
    "b = Ball()\n",
    "b.setName('qiuB')\n",
    "\n",
    "a.kick() # 我是qiuA\n",
    "b.kick() # 我是qiu"
   ]
  },
  {
   "cell_type": "markdown",
   "metadata": {},
   "source": [
    "## 3.Python的魔法方法\n",
    "据说，Python的对象天生拥有一些神奇的方法，它们时面向对象的Python的一切...\n",
    "\n",
    "它们时可以给你的类增加魔力的特殊方法\n",
    "\n",
    "如果你的对象实现了这些方法中的某一个，那么这个方法就会在特殊的情况下被Python调用，而这一切都是自动发生的\n",
    "\n",
    "类有一个名为`__init__(self[, param1, param2...])`的魔法方法，该方法在类实例化时会自动调用"
   ]
  },
  {
   "cell_type": "code",
   "execution_count": 18,
   "metadata": {},
   "outputs": [
    {
     "name": "stdout",
     "output_type": "stream",
     "text": [
      "我是qiuA\n",
      "我是qiuB\n"
     ]
    }
   ],
   "source": [
    "class Ball:\n",
    "    def __init__(self, name):\n",
    "        self.name = name\n",
    "        \n",
    "    def kick(self):\n",
    "        print('我是%s'%self.name)\n",
    "\n",
    "a = Ball('qiuA')\n",
    "b = Ball('qiuB')\n",
    "\n",
    "a.kick() # 我是qiuA\n",
    "b.kick() # 我是qiuB"
   ]
  },
  {
   "cell_type": "markdown",
   "metadata": {},
   "source": [
    "## 4.公有和私有\n",
    "在python中定义私有变量只需要在变量名或函数名前面加上`__`两个下划线，那么这个函数或变量就会为私有了\n",
    "\n",
    "Python的私有为伪私有"
   ]
  },
  {
   "cell_type": "code",
   "execution_count": 21,
   "metadata": {},
   "outputs": [
    {
     "name": "stdout",
     "output_type": "stream",
     "text": [
      "1\n",
      "2\n",
      "2\n",
      "2\n"
     ]
    },
    {
     "ename": "AttributeError",
     "evalue": "'justCounter' object has no attribute '__secrerCount'",
     "output_type": "error",
     "traceback": [
      "\u001b[0;31m---------------------------------------------------------------------------\u001b[0m",
      "\u001b[0;31mAttributeError\u001b[0m                            Traceback (most recent call last)",
      "\u001b[0;32m<ipython-input-21-83f6b604a8e4>\u001b[0m in \u001b[0;36m<module>\u001b[0;34m\u001b[0m\n\u001b[1;32m     14\u001b[0m \u001b[0;34m\u001b[0m\u001b[0m\n\u001b[1;32m     15\u001b[0m \u001b[0mprint\u001b[0m\u001b[0;34m(\u001b[0m\u001b[0mcounter\u001b[0m\u001b[0;34m.\u001b[0m\u001b[0m_justCounter__secretCount\u001b[0m\u001b[0;34m)\u001b[0m\u001b[0;34m\u001b[0m\u001b[0m\n\u001b[0;32m---> 16\u001b[0;31m \u001b[0mprint\u001b[0m\u001b[0;34m(\u001b[0m\u001b[0mcounter\u001b[0m\u001b[0;34m.\u001b[0m\u001b[0m__secrerCount\u001b[0m\u001b[0;34m)\u001b[0m\u001b[0;34m\u001b[0m\u001b[0m\n\u001b[0m",
      "\u001b[0;31mAttributeError\u001b[0m: 'justCounter' object has no attribute '__secrerCount'"
     ]
    }
   ],
   "source": [
    "class justCounter:\n",
    "    __secretCount = 0\n",
    "    publicCount = 0\n",
    "    \n",
    "    def count(self):\n",
    "        self.__secretCount += 1\n",
    "        self.publicCount += 1\n",
    "        print(self.__secretCount)\n",
    "\n",
    "counter = justCounter()\n",
    "counter.count() # 1 \n",
    "counter.count() # 2\n",
    "print(counter.publicCount) # 2\n",
    "\n",
    "#Python的私有为伪私有\n",
    "print(counter._justCounter__secretCount) # 2\n",
    "print(counter.__secrerCount) \n",
    "# AttributeError: 'justCounter' object has no attribute '__secrerCount'"
   ]
  },
  {
   "cell_type": "markdown",
   "metadata": {},
   "source": [
    "类的私有方法"
   ]
  },
  {
   "cell_type": "code",
   "execution_count": 24,
   "metadata": {},
   "outputs": [
    {
     "name": "stdout",
     "output_type": "stream",
     "text": [
      "name qiu\n",
      "url qwasdfsdf\n",
      "这是公共方法\n",
      "这是私有方法\n"
     ]
    },
    {
     "ename": "AttributeError",
     "evalue": "'Site' object has no attribute '__foo'",
     "output_type": "error",
     "traceback": [
      "\u001b[0;31m---------------------------------------------------------------------------\u001b[0m",
      "\u001b[0;31mAttributeError\u001b[0m                            Traceback (most recent call last)",
      "\u001b[0;32m<ipython-input-24-4e1662ee53d5>\u001b[0m in \u001b[0;36m<module>\u001b[0;34m\u001b[0m\n\u001b[1;32m     20\u001b[0m \u001b[0mx\u001b[0m\u001b[0;34m.\u001b[0m\u001b[0mfoo\u001b[0m\u001b[0;34m(\u001b[0m\u001b[0;34m)\u001b[0m\u001b[0;34m\u001b[0m\u001b[0m\n\u001b[1;32m     21\u001b[0m \u001b[0;34m\u001b[0m\u001b[0m\n\u001b[0;32m---> 22\u001b[0;31m \u001b[0mx\u001b[0m\u001b[0;34m.\u001b[0m\u001b[0m__foo\u001b[0m\u001b[0;34m(\u001b[0m\u001b[0;34m)\u001b[0m\u001b[0;34m\u001b[0m\u001b[0m\n\u001b[0m",
      "\u001b[0;31mAttributeError\u001b[0m: 'Site' object has no attribute '__foo'"
     ]
    }
   ],
   "source": [
    "class Site:\n",
    "    def __init__(self, name, url):\n",
    "        self.name = name\n",
    "        self.__url = url\n",
    "    \n",
    "    def who(self):\n",
    "        print('name', self.name)\n",
    "        print('url', self.__url)\n",
    "        \n",
    "    def __foo(self):\n",
    "        print('这是私有方法')\n",
    "        \n",
    "    def foo(self):\n",
    "        print('这是公共方法')\n",
    "        self.__foo()\n",
    "    \n",
    "x = Site('qiu', 'qwasdfsdf')\n",
    "x.who()\n",
    "# name qiu\n",
    "# url qwasdfsdf\n",
    "\n",
    "x.foo()\n",
    "# 这是公共方法\n",
    "# 这是私有方法\n",
    "\n",
    "x.__foo()\n",
    "# AttributeError: 'Site' object has no attribute '__foo'"
   ]
  },
  {
   "cell_type": "markdown",
   "metadata": {},
   "source": [
    "## 5.继承\n",
    "Python同样支持类的继承，派生类的定义如下所示：\n",
    "```python\n",
    "class DerivedClassName(BaseClassName):\n",
    "    statement-1\n",
    "        .\n",
    "        .\n",
    "        .\n",
    "    statement-N\n",
    "```\n",
    "`BaseClassName`（基类名）必须与派生类在一个作用域内。除了类，还可以用表达式，基类定义在另一个模块中时这一点非常有用：\n",
    "```python\n",
    "class DerivedClassName(modname.BaseClassName):\n",
    "    statement-1\n",
    "        .\n",
    "        .\n",
    "        .\n",
    "    statement-N\n",
    "```\n",
    "【例子】如果子类中定义与父类同名的方法或属性，则会自动覆盖父类对应的方法或属性"
   ]
  },
  {
   "cell_type": "code",
   "execution_count": 2,
   "metadata": {},
   "outputs": [
    {
     "name": "stdout",
     "output_type": "stream",
     "text": [
      "说：我今年0岁，上4年级\n"
     ]
    }
   ],
   "source": [
    "#类定义\n",
    "class People:\n",
    "    #定义基本属性\n",
    "    name = ''\n",
    "    age = 0\n",
    "    #定义私有属性，私有属性在类外部无法直接访问\n",
    "    __weight  = 0\n",
    "    \n",
    "    #定义构造方法\n",
    "    def __init__(self, name, age, weight):\n",
    "        self.name = name\n",
    "        self.age = age\n",
    "        self.__weight = weight\n",
    "        \n",
    "    def speak(self):\n",
    "        print(\"%s说：我今年%d岁\" % (self.name, self.age))\n",
    "\n",
    "class Student(People):\n",
    "    grade = ''\n",
    "    \n",
    "    def __init__(self, name, age, weight, grade):\n",
    "        #调用父类的构造函数\n",
    "#         People.__init__(self, name, age, weight)\n",
    "        self.grade = grade\n",
    "    \n",
    "    #覆写父类的方法\n",
    "    def speak(self):\n",
    "        print(\"%s说：我今年%d岁，上%d年级\" % (self.name, self.age,self.grade))\n",
    "    \n",
    "s = Student('qiu', 12, 23, 4)\n",
    "s.speak()\n",
    "# qiu说：我今年12岁，上4年级"
   ]
  },
  {
   "cell_type": "markdown",
   "metadata": {},
   "source": [
    "如果去掉`People.__init__(self, name, age, weight)`，则会输出`说：我今年0岁，上4年级`，因为子类的构造方法把父类的构造方法覆盖了"
   ]
  },
  {
   "cell_type": "code",
   "execution_count": 5,
   "metadata": {},
   "outputs": [
    {
     "name": "stdout",
     "output_type": "stream",
     "text": [
      "我的位置 -1 6\n",
      "吃吃吃！\n"
     ]
    },
    {
     "ename": "AttributeError",
     "evalue": "'Shark' object has no attribute 'y'",
     "output_type": "error",
     "traceback": [
      "\u001b[0;31m---------------------------------------------------------------------------\u001b[0m",
      "\u001b[0;31mAttributeError\u001b[0m                            Traceback (most recent call last)",
      "\u001b[0;32m<ipython-input-5-b1f8d096668f>\u001b[0m in \u001b[0;36m<module>\u001b[0;34m\u001b[0m\n\u001b[1;32m     32\u001b[0m \u001b[0ms\u001b[0m \u001b[0;34m=\u001b[0m \u001b[0mShark\u001b[0m\u001b[0;34m(\u001b[0m\u001b[0;34m)\u001b[0m\u001b[0;34m\u001b[0m\u001b[0m\n\u001b[1;32m     33\u001b[0m \u001b[0ms\u001b[0m\u001b[0;34m.\u001b[0m\u001b[0meat\u001b[0m\u001b[0;34m(\u001b[0m\u001b[0;34m)\u001b[0m\u001b[0;34m\u001b[0m\u001b[0m\n\u001b[0;32m---> 34\u001b[0;31m \u001b[0ms\u001b[0m\u001b[0;34m.\u001b[0m\u001b[0mmove\u001b[0m\u001b[0;34m(\u001b[0m\u001b[0;34m)\u001b[0m\u001b[0;34m\u001b[0m\u001b[0m\n\u001b[0m",
      "\u001b[0;32m<ipython-input-5-b1f8d096668f>\u001b[0m in \u001b[0;36mmove\u001b[0;34m(self)\u001b[0m\n\u001b[1;32m      8\u001b[0m     \u001b[0;32mdef\u001b[0m \u001b[0mmove\u001b[0m\u001b[0;34m(\u001b[0m\u001b[0mself\u001b[0m\u001b[0;34m)\u001b[0m\u001b[0;34m:\u001b[0m\u001b[0;34m\u001b[0m\u001b[0m\n\u001b[1;32m      9\u001b[0m         \u001b[0mself\u001b[0m\u001b[0;34m.\u001b[0m\u001b[0mx\u001b[0m \u001b[0;34m=\u001b[0m \u001b[0;34m-\u001b[0m\u001b[0;36m1\u001b[0m\u001b[0;34m\u001b[0m\u001b[0m\n\u001b[0;32m---> 10\u001b[0;31m         \u001b[0mprint\u001b[0m\u001b[0;34m(\u001b[0m\u001b[0;34m\"我的位置\"\u001b[0m\u001b[0;34m,\u001b[0m \u001b[0mself\u001b[0m\u001b[0;34m.\u001b[0m\u001b[0mx\u001b[0m\u001b[0;34m,\u001b[0m \u001b[0mself\u001b[0m\u001b[0;34m.\u001b[0m\u001b[0my\u001b[0m\u001b[0;34m)\u001b[0m\u001b[0;34m\u001b[0m\u001b[0m\n\u001b[0m\u001b[1;32m     11\u001b[0m \u001b[0;34m\u001b[0m\u001b[0m\n\u001b[1;32m     12\u001b[0m \u001b[0;32mclass\u001b[0m \u001b[0mGoldFish\u001b[0m\u001b[0;34m(\u001b[0m\u001b[0mFish\u001b[0m\u001b[0;34m)\u001b[0m\u001b[0;34m:\u001b[0m\u001b[0;34m\u001b[0m\u001b[0m\n",
      "\u001b[0;31mAttributeError\u001b[0m: 'Shark' object has no attribute 'y'"
     ]
    }
   ],
   "source": [
    "import random\n",
    "\n",
    "class Fish:\n",
    "    def __init__(self):\n",
    "        self.x = random.randint(0, 10)\n",
    "        self.y = random.randint(0, 10)\n",
    "    \n",
    "    def move(self):\n",
    "        self.x = -1\n",
    "        print(\"我的位置\", self.x, self.y)\n",
    "\n",
    "class GoldFish(Fish):\n",
    "    pass\n",
    "\n",
    "class Carp(Fish):\n",
    "    pass\n",
    "\n",
    "class Shark(Fish):\n",
    "    def __init__(self):\n",
    "        self.hungry = True\n",
    "        \n",
    "    def eat(self):\n",
    "        if self.hungry:\n",
    "            print('吃吃吃！')\n",
    "            self.hungry = False\n",
    "        else:\n",
    "            print('吃不下了！')\n",
    "            self.hungry = True\n",
    "    \n",
    "g = GoldFish()\n",
    "g.move()  # 我的位置 -1 6\n",
    "s = Shark()\n",
    "s.eat()   # 吃吃吃！\n",
    "s.move()\n",
    "# AttributeError: 'Shark' object has no attribute 'y'"
   ]
  },
  {
   "cell_type": "markdown",
   "metadata": {},
   "source": [
    "解决该问题可以用一下两种方式：\n",
    "- 调用未绑定的父类方法`Fish.__init__(self)`"
   ]
  },
  {
   "cell_type": "code",
   "execution_count": 6,
   "metadata": {},
   "outputs": [],
   "source": [
    "class Shark(Fish):\n",
    "    def __init__(self):\n",
    "        Fish.__init__(self)\n",
    "        self.hungry = True"
   ]
  },
  {
   "cell_type": "markdown",
   "metadata": {},
   "source": [
    "- 使用super函数`super().__init__()`"
   ]
  },
  {
   "cell_type": "code",
   "execution_count": 7,
   "metadata": {},
   "outputs": [],
   "source": [
    "class Shark(Fish):\n",
    "    def __init__(self):\n",
    "        super().__init__()\n",
    "        self.hungry = True"
   ]
  },
  {
   "cell_type": "markdown",
   "metadata": {},
   "source": [
    "Python虽然支持多继承的形式，但我们一般不适用多继承，因为容易引起混乱\n",
    "```python\n",
    "class DerivedClassName(Base1, Base2, Base3):\n",
    "    statement-1\n",
    "        .\n",
    "        .\n",
    "        .\n",
    "    statement-N\n",
    "```\n",
    "需要注意圆括号中父类的顺序，如是父类中有相同的方法名，而在子类使用时未指定，Python从左至右搜索，即方法在子类中未找到时，从左到右查找父类中是否包含方法"
   ]
  },
  {
   "cell_type": "code",
   "execution_count": 8,
   "metadata": {},
   "outputs": [
    {
     "name": "stdout",
     "output_type": "stream",
     "text": [
      "我叫 qiu，我是一个演说家，我演讲的主题是  python\n",
      "Tim 说: 我 25 岁了，我在读 4 年级\n"
     ]
    }
   ],
   "source": [
    "# 类定义\n",
    "class People:\n",
    "    # 定义基本属性\n",
    "    name = ''\n",
    "    age = 0\n",
    "    # 定义私有属性,私有属性在类外部无法直接进行访问\n",
    "    __weight = 0\n",
    "\n",
    "    # 定义构造方法\n",
    "    def __init__(self, n, a, w):\n",
    "        self.name = n\n",
    "        self.age = a\n",
    "        self.__weight = w\n",
    "\n",
    "    def speak(self):\n",
    "        print(\"%s 说: 我 %d 岁。\" % (self.name, self.age))\n",
    "\n",
    "\n",
    "# 单继承示例\n",
    "class Student(People):\n",
    "    grade = ''\n",
    "\n",
    "    def __init__(self, n, a, w, g):\n",
    "        # 调用父类的构函\n",
    "        People.__init__(self, n, a, w)\n",
    "        self.grade = g\n",
    "\n",
    "    # 覆写父类的方法\n",
    "    def speak(self):\n",
    "        print(\"%s 说: 我 %d 岁了，我在读 %d 年级\" % (self.name, self.age, self.grade))\n",
    "\n",
    "\n",
    "# 另一个类，多重继承之前的准备\n",
    "class Speaker:\n",
    "    topic = ''\n",
    "    name = ''\n",
    "\n",
    "    def __init__(self, n, t):\n",
    "        self.name = n\n",
    "        self.topic = t\n",
    "\n",
    "    def speak(self):\n",
    "        print(\"我叫 %s，我是一个演说家，我演讲的主题是 %s\" % (self.name, self.topic))\n",
    "\n",
    "# 多重继承\n",
    "class Sample01(Speaker, Student):\n",
    "    a = ''\n",
    "    \n",
    "    def __init__(self, n, a, w, g, t):\n",
    "        Student.__init__(self, n, a, w, g)\n",
    "        Speaker.__init__(self, n, t)\n",
    "        \n",
    "# 方法同名，默认调用的时在括号中排前的父类方法\n",
    "test = Sample01('qiu', 23, 69, 4,' python')\n",
    "test.speak()\n",
    "# 我叫 qiu，我是一个演说家，我演讲的主题是  python\n",
    "\n",
    "class Sample02(Student, Speaker):\n",
    "    a = ''\n",
    "\n",
    "    def __init__(self, n, a, w, g, t):\n",
    "        Student.__init__(self, n, a, w, g)\n",
    "        Speaker.__init__(self, n, t)\n",
    "\n",
    "# 方法名同，默认调用的是在括号中排前地父类的方法\n",
    "test = Sample02(\"Tim\", 25, 80, 4, \"Python\")\n",
    "test.speak()  \n",
    "# Tim 说: 我 25 岁了，我在读 4 年级"
   ]
  },
  {
   "cell_type": "markdown",
   "metadata": {},
   "source": [
    "## 6.组合"
   ]
  },
  {
   "cell_type": "code",
   "execution_count": 9,
   "metadata": {},
   "outputs": [
    {
     "name": "stdout",
     "output_type": "stream",
     "text": [
      "水池里有乌龟2只，小鱼3条\n"
     ]
    }
   ],
   "source": [
    "class Turtle:\n",
    "    def __init__(self, x):\n",
    "        self.num = x\n",
    "        \n",
    "class Fish:\n",
    "    def __init__(self, x):\n",
    "        self.num = x\n",
    "        \n",
    "class Pool:\n",
    "    def __init__(self, x, y):\n",
    "        self.turtle = Turtle(x)\n",
    "        self.fish = Fish(y)\n",
    "    \n",
    "    def print_num(self):\n",
    "        print('水池里有乌龟%s只，小鱼%s条' % (self.turtle.num, self.fish.num))\n",
    "\n",
    "p = Pool(2, 3)\n",
    "p.print_num()\n",
    "# 水池里有乌龟2只，小鱼3条"
   ]
  },
  {
   "cell_type": "markdown",
   "metadata": {},
   "source": [
    "\n",
    "\n",
    "## 7.类、类对象和实例对象\n",
    "\n",
    "![类对象和实例对象](https://img-blog.csdnimg.cn/20191007090316462.png)\n",
    "\n",
    "- <font color = #0099ff>类对象：创建一个类，其实也是一个对象也在内存开辟了一块空间，称为类对象，类对象只有一个。</font>\n"
   ]
  },
  {
   "cell_type": "code",
   "execution_count": null,
   "metadata": {},
   "outputs": [],
   "source": [
    "class A(object):\n",
    "    pass"
   ]
  },
  {
   "cell_type": "markdown",
   "metadata": {},
   "source": [
    "- 实例对象：就是通过实例化类创建的对象，称为实例对象，实例对象可以有多个。"
   ]
  },
  {
   "cell_type": "code",
   "execution_count": 10,
   "metadata": {},
   "outputs": [],
   "source": [
    "class A(object):\n",
    "    pass\n",
    "\n",
    "#实例化对象a, b, c都属于实例对象\n",
    "a = A()\n",
    "b = A()\n",
    "c = A()"
   ]
  },
  {
   "cell_type": "markdown",
   "metadata": {},
   "source": [
    "- 类属性：类里面的方法，外面定义的变量称为类属性。类属性所属于类对象并且多个实例对象之间共享同一类属性，说白了就是类属性所有的通过该类实例化的对象都能共享"
   ]
  },
  {
   "cell_type": "code",
   "execution_count": 11,
   "metadata": {},
   "outputs": [],
   "source": [
    "class A():\n",
    "    a = 0 # 类属性\n",
    "    def __init__(self, xx):\n",
    "        A.a = xx #使用类属性可以通过（类名.类属性）调用"
   ]
  },
  {
   "cell_type": "markdown",
   "metadata": {},
   "source": [
    "- 实例属性，实例属性和具体的某个实例对象有关系，并且一个实例对象和另外一个实例对象是不共享属性的，说白了实例属性只能在自己的对象里面使用，其他的对象不能直接使用，因为`self`是谁调用，它的值就属于该对象"
   ]
  },
  {
   "cell_type": "code",
   "execution_count": 4,
   "metadata": {},
   "outputs": [
    {
     "name": "stdout",
     "output_type": "stream",
     "text": [
      "类对象.类属性的值 100\n",
      "self.类属性的值 100\n",
      "self.实例属性的值 100\n",
      "\n",
      "类对象.类属性的值 100\n",
      "self.类属性的值 100\n",
      "self.实例属性的值 100\n",
      "\n",
      "类对象.类属性的值 100\n",
      "self.类属性的值 200\n",
      "self.实例属性的值 200\n",
      "\n",
      "类对象.类属性的值 100\n",
      "self.类属性的值 100\n",
      "self.实例属性的值 100\n",
      "\n",
      "类对象.类属性的值 300\n",
      "self.类属性的值 200\n",
      "self.实例属性的值 200\n",
      "\n",
      "类对象.类属性的值 300\n",
      "self.类属性的值 300\n",
      "self.实例属性的值 100\n",
      "\n"
     ]
    }
   ],
   "source": [
    "# 创建类对象\n",
    "class Test(object):\n",
    "    class_attr = 100 # 类属性\n",
    "    \n",
    "    def __init__(self):\n",
    "        self.sl_attr = 100 # 实例属性\n",
    "    \n",
    "    def func(self):\n",
    "        print('类对象.类属性的值', Test.class_attr)\n",
    "        print('self.类属性的值',   self.class_attr)\n",
    "        print('self.实例属性的值', self.sl_attr)\n",
    "        print()\n",
    "        \n",
    "a = Test()\n",
    "a.func()\n",
    "# 类对象.类属性的值 100\n",
    "# self.类属性的值 100\n",
    "# self.实例属性的值 100\n",
    "\n",
    "b = Test()\n",
    "b.func()\n",
    "# 类对象.类属性的值 100\n",
    "# self.类属性的值 100\n",
    "# self.实例属性的值 100\n",
    "\n",
    "a.class_attr = 200\n",
    "a.sl_attr = 200\n",
    "a.func()\n",
    "# 类对象.类属性的值 100\n",
    "# self.类属性的值 200\n",
    "# self.实例属性的值 200\n",
    "\n",
    "b.func()\n",
    "# 类对象.类属性的值 100\n",
    "# self.类属性的值 100\n",
    "# self.实例属性的值 100\n",
    "\n",
    "Test.class_attr = 300\n",
    "a.func()\n",
    "# 类对象.类属性的值 300\n",
    "# self.类属性的值 200\n",
    "# self.实例属性的值 200\n",
    "\n",
    "b.func()\n",
    "# 类对象.类属性的值 300\n",
    "# self.类属性的值 300       没有self赋值的原因？\n",
    "# self.实例属性的值 100"
   ]
  },
  {
   "cell_type": "markdown",
   "metadata": {},
   "source": [
    "- 属性与方法名相同，属性会覆盖方法"
   ]
  },
  {
   "cell_type": "code",
   "execution_count": 8,
   "metadata": {},
   "outputs": [
    {
     "name": "stdout",
     "output_type": "stream",
     "text": [
      "aaa\n",
      "{}\n",
      "1\n",
      "{'x': 1}\n"
     ]
    }
   ],
   "source": [
    "class A:\n",
    "    def x(self):\n",
    "        print('aaa')\n",
    "    \n",
    "aa = A()\n",
    "aa.x()  # \n",
    "print(aa.__dict__)\n",
    "aa.x = 1\n",
    "print(aa.x) # 1\n",
    "print(vars(aa))\n",
    "# aa.x()\n",
    "# TypeError: 'int' object is not callable"
   ]
  },
  {
   "cell_type": "markdown",
   "metadata": {},
   "source": [
    "## 8.什么是绑定？\n",
    "Python严格要求方法需要有实例才能被调用，这种限制其实就是Python所谓的绑定概念\n",
    "\n",
    "Python对象的数据属性通常存储在名为`.__dict__`的字典中，我们可以直接访问`__dict__`，或利用Python的内置函数`vars()`获取`.__dict__`"
   ]
  },
  {
   "cell_type": "code",
   "execution_count": 10,
   "metadata": {},
   "outputs": [
    {
     "name": "stdout",
     "output_type": "stream",
     "text": [
      "{}\n",
      "{}\n",
      "{'__module__': '__main__', 'setXY': <function CC.setXY at 0x7f664408c510>, 'printXY': <function CC.printXY at 0x7f664408c598>, '__dict__': <attribute '__dict__' of 'CC' objects>, '__weakref__': <attribute '__weakref__' of 'CC' objects>, '__doc__': None}\n",
      "{'x': 4, 'y': 5}\n",
      "{'__module__': '__main__', 'setXY': <function CC.setXY at 0x7f664408c510>, 'printXY': <function CC.printXY at 0x7f664408c598>, '__dict__': <attribute '__dict__' of 'CC' objects>, '__weakref__': <attribute '__weakref__' of 'CC' objects>, '__doc__': None}\n",
      "{'__module__': '__main__', 'setXY': <function CC.setXY at 0x7f664408c510>, 'printXY': <function CC.printXY at 0x7f664408c598>, '__dict__': <attribute '__dict__' of 'CC' objects>, '__weakref__': <attribute '__weakref__' of 'CC' objects>, '__doc__': None}\n"
     ]
    }
   ],
   "source": [
    "class CC:\n",
    "    def setXY(self, x, y):\n",
    "        self.x = x\n",
    "        self.y = y\n",
    "        \n",
    "    def printXY(self):\n",
    "        print(self.x, self.y)\n",
    "        \n",
    "dd = CC()\n",
    "print(dd.__dict__)\n",
    "# {}\n",
    "\n",
    "print(vars(dd))\n",
    "# {}\n",
    "\n",
    "print(CC.__dict__)\n",
    "'''\n",
    "{'__module__': '__main__', 'setXY': <function CC.setXY at 0x7f664408c510>, \n",
    "'printXY': <function CC.printXY at 0x7f664408c598>, \n",
    "'__dict__': <attribute '__dict__' of 'CC' objects>, \n",
    "'__weakref__': <attribute '__weakref__' of 'CC' objects>, '__doc__': None}\n",
    "'''\n",
    "\n",
    "dd.setXY(4, 5)\n",
    "print(dd.__dict__)\n",
    "# {'x': 4, 'y': 5}\n",
    "\n",
    "print(vars(CC))\n",
    "'''\n",
    "{'__module__': '__main__', 'setXY': <function CC.setXY at 0x7f664408c510>, \n",
    "'printXY': <function CC.printXY at 0x7f664408c598>, \n",
    "'__dict__': <attribute '__dict__' of 'CC' objects>, \n",
    "'__weakref__': <attribute '__weakref__' of 'CC' objects>, '__doc__': None}\n",
    "'''\n",
    "\n",
    "print(CC.__dict__)\n",
    "'''\n",
    "{'__module__': '__main__', 'setXY': <function CC.setXY at 0x7f664408c510>, \n",
    "'printXY': <function CC.printXY at 0x7f664408c598>, \n",
    "'__dict__': <attribute '__dict__' of 'CC' objects>, \n",
    "'__weakref__': <attribute '__weakref__' of 'CC' objects>, '__doc__': None}\n",
    "'''"
   ]
  },
  {
   "cell_type": "markdown",
   "metadata": {},
   "source": [
    "## 9.一些相关的内置函数（BIF）\n",
    "- `issubclass(class, classuinfo)`方法用于判断参数class是否是类型参数classinfo的子类\n",
    "- 一个被认为是自身的子类\n",
    "- `classinfo`可以是类对象的元组，只要class是其中任何一个候选类的子类，则返回`True`"
   ]
  },
  {
   "cell_type": "code",
   "execution_count": 13,
   "metadata": {},
   "outputs": [
    {
     "name": "stdout",
     "output_type": "stream",
     "text": [
      "True\n",
      "True\n",
      "False\n",
      "True\n"
     ]
    }
   ],
   "source": [
    "class B:\n",
    "    pass\n",
    "\n",
    "class A(B):\n",
    "    pass\n",
    "\n",
    "print(issubclass(A, B)) # True\n",
    "print(issubclass(A, A)) # True\n",
    "print(issubclass(B, A)) # False\n",
    "print(issubclass(B, (A, object))) # True"
   ]
  },
  {
   "cell_type": "markdown",
   "metadata": {},
   "source": [
    "- `isinstance(object, classinfo)`方法用于判断一个对象是否是一个已知的类型，类似`type()`\n",
    "- `type()`不会认为子类是一种父类类型，不考虑继承关系\n",
    "- `isinstance()`会认为子类是之中父类类型，考虑继承关系\n",
    "- 如果第一个参数不是对象，则永远返回`False`\n",
    "- 如果第二个参数不是类或者由类对象尊称的元组，会抛出一个`TypeError`异常"
   ]
  },
  {
   "cell_type": "code",
   "execution_count": 15,
   "metadata": {},
   "outputs": [
    {
     "name": "stdout",
     "output_type": "stream",
     "text": [
      "True\n",
      "False\n",
      "True\n",
      "True\n",
      "True\n",
      "True\n",
      "False\n"
     ]
    }
   ],
   "source": [
    "a = 2\n",
    "print(isinstance(a ,int)) # True\n",
    "print(isinstance(a, str)) # False\n",
    "print(isinstance(a, (str, int, list))) # True\n",
    "\n",
    "class A:\n",
    "    pass\n",
    "\n",
    "class B(A):\n",
    "    pass\n",
    "\n",
    "print(isinstance(A(), A)) # True\n",
    "print(type(A()) == A)     # True\n",
    "print(isinstance(B(), A)) # True\n",
    "print(type(B()) == A)     # False"
   ]
  },
  {
   "cell_type": "markdown",
   "metadata": {},
   "source": [
    "- `hasattr(object, name)`用于判断对象是否包含对应的属性"
   ]
  },
  {
   "cell_type": "code",
   "execution_count": 16,
   "metadata": {},
   "outputs": [
    {
     "name": "stdout",
     "output_type": "stream",
     "text": [
      "True\n",
      "True\n",
      "False\n"
     ]
    }
   ],
   "source": [
    "class Coordinate:\n",
    "    x = 10\n",
    "    y = -34\n",
    "    z = 0\n",
    "    \n",
    "point1 = Coordinate()\n",
    "print(hasattr(point1, 'x')) # True\n",
    "print(hasattr(point1, 'y')) # True\n",
    "print(hasattr(point1, 'qiu')) # False"
   ]
  },
  {
   "cell_type": "markdown",
   "metadata": {},
   "source": [
    "- `getattr(object, name[, default])`用于返回一个对象属性值"
   ]
  },
  {
   "cell_type": "code",
   "execution_count": 18,
   "metadata": {},
   "outputs": [
    {
     "name": "stdout",
     "output_type": "stream",
     "text": [
      "1\n",
      "1\n",
      "3\n"
     ]
    },
    {
     "ename": "AttributeError",
     "evalue": "'A' object has no attribute 'bar2'",
     "output_type": "error",
     "traceback": [
      "\u001b[0;31m---------------------------------------------------------------------------\u001b[0m",
      "\u001b[0;31mAttributeError\u001b[0m                            Traceback (most recent call last)",
      "\u001b[0;32m<ipython-input-18-f6540e1ab082>\u001b[0m in \u001b[0;36m<module>\u001b[0;34m\u001b[0m\n\u001b[1;32m      6\u001b[0m \u001b[0mprint\u001b[0m\u001b[0;34m(\u001b[0m\u001b[0ma\u001b[0m\u001b[0;34m.\u001b[0m\u001b[0mbar\u001b[0m\u001b[0;34m)\u001b[0m\u001b[0;34m\u001b[0m\u001b[0m\n\u001b[1;32m      7\u001b[0m \u001b[0mprint\u001b[0m\u001b[0;34m(\u001b[0m\u001b[0mgetattr\u001b[0m\u001b[0;34m(\u001b[0m\u001b[0ma\u001b[0m\u001b[0;34m,\u001b[0m \u001b[0;34m'bar2'\u001b[0m\u001b[0;34m,\u001b[0m \u001b[0;36m3\u001b[0m\u001b[0;34m)\u001b[0m\u001b[0;34m)\u001b[0m \u001b[0;31m# 3\u001b[0m\u001b[0;34m\u001b[0m\u001b[0m\n\u001b[0;32m----> 8\u001b[0;31m \u001b[0mprint\u001b[0m\u001b[0;34m(\u001b[0m\u001b[0mgetattr\u001b[0m\u001b[0;34m(\u001b[0m\u001b[0ma\u001b[0m\u001b[0;34m,\u001b[0m \u001b[0;34m'bar2'\u001b[0m\u001b[0;34m)\u001b[0m\u001b[0;34m)\u001b[0m\u001b[0;34m\u001b[0m\u001b[0m\n\u001b[0m\u001b[1;32m      9\u001b[0m \u001b[0;31m# AttributeError: 'A' object has no attribute 'bar2'\u001b[0m\u001b[0;34m\u001b[0m\u001b[0;34m\u001b[0m\u001b[0m\n",
      "\u001b[0;31mAttributeError\u001b[0m: 'A' object has no attribute 'bar2'"
     ]
    }
   ],
   "source": [
    "class A(object):\n",
    "    bar = 1\n",
    "    \n",
    "a = A()\n",
    "print(getattr(a, 'bar')) # 1\n",
    "print(getattr(a, 'bar2', 3)) # 3\n",
    "print(getattr(a, 'bar2'))\n",
    "# AttributeError: 'A' object has no attribute 'bar2'"
   ]
  },
  {
   "cell_type": "code",
   "execution_count": 21,
   "metadata": {},
   "outputs": [
    {
     "name": "stdout",
     "output_type": "stream",
     "text": [
      "<bound method A.set of <__main__.A object at 0x7f6644035048>> <class 'method'>\n",
      "2 1\n"
     ]
    }
   ],
   "source": [
    "class A(object):\n",
    "    def set(self, a, b):\n",
    "        x = a\n",
    "        a = b\n",
    "        b = x\n",
    "        print(a, b)\n",
    "        \n",
    "a = A()\n",
    "c = getattr(a, 'set')\n",
    "print(c, type(c))\n",
    "# <bound method A.set of <__main__.A object at 0x7f6644089e10>>\n",
    "# <class 'method'>\n",
    "c(a = '1', b = '2') # 2 1"
   ]
  },
  {
   "cell_type": "markdown",
   "metadata": {},
   "source": [
    "- `setattr(object, name, value)`对应函数`getattr()`，用于设置属性值，该属性不一定是存在的"
   ]
  },
  {
   "cell_type": "code",
   "execution_count": 22,
   "metadata": {},
   "outputs": [
    {
     "name": "stdout",
     "output_type": "stream",
     "text": [
      "1\n",
      "5\n",
      "23\n"
     ]
    }
   ],
   "source": [
    "class A(object):\n",
    "    bar = 1 \n",
    "    \n",
    "a = A()\n",
    "print(getattr(a, 'bar')) # 1\n",
    "\n",
    "setattr(a, 'bar', 5)\n",
    "print(a.bar) # 5\n",
    "\n",
    "setattr(a, 'age', 23)\n",
    "print(getattr(a, 'age')) # 23"
   ]
  },
  {
   "cell_type": "markdown",
   "metadata": {},
   "source": [
    "- `delattr(object, name)`用于删除  类对象 属性"
   ]
  },
  {
   "cell_type": "code",
   "execution_count": 24,
   "metadata": {},
   "outputs": [
    {
     "name": "stdout",
     "output_type": "stream",
     "text": [
      "x =  10\n",
      "y =  -5\n",
      "z =  0\n",
      "--删除 z 属性后--\n",
      "x =  10\n",
      "y =  -5\n"
     ]
    },
    {
     "ename": "AttributeError",
     "evalue": "'Coordinate' object has no attribute 'z'",
     "output_type": "error",
     "traceback": [
      "\u001b[0;31m---------------------------------------------------------------------------\u001b[0m",
      "\u001b[0;31mAttributeError\u001b[0m                            Traceback (most recent call last)",
      "\u001b[0;32m<ipython-input-24-d877634e369e>\u001b[0m in \u001b[0;36m<module>\u001b[0;34m\u001b[0m\n\u001b[1;32m     17\u001b[0m \u001b[0;34m\u001b[0m\u001b[0m\n\u001b[1;32m     18\u001b[0m \u001b[0;31m# 触发错误\u001b[0m\u001b[0;34m\u001b[0m\u001b[0;34m\u001b[0m\u001b[0m\n\u001b[0;32m---> 19\u001b[0;31m \u001b[0mprint\u001b[0m\u001b[0;34m(\u001b[0m\u001b[0;34m'z = '\u001b[0m\u001b[0;34m,\u001b[0m \u001b[0mpoint1\u001b[0m\u001b[0;34m.\u001b[0m\u001b[0mz\u001b[0m\u001b[0;34m)\u001b[0m\u001b[0;34m\u001b[0m\u001b[0m\n\u001b[0m",
      "\u001b[0;31mAttributeError\u001b[0m: 'Coordinate' object has no attribute 'z'"
     ]
    }
   ],
   "source": [
    "class Coordinate:\n",
    "    x = 10\n",
    "    y = -5\n",
    "    z = 0\n",
    "    \n",
    "point1 = Coordinate()\n",
    "\n",
    "print('x = ', point1.x)  # x =  10\n",
    "print('y = ', point1.y)  # y =  -5\n",
    "print('z = ', point1.z)  # z =  0\n",
    "\n",
    "delattr(Coordinate, 'z')\n",
    "\n",
    "print('--删除 z 属性后--')  # --删除 z 属性后--\n",
    "print('x = ', point1.x)  # x =  10\n",
    "print('y = ', point1.y)  # y =  -5\n",
    "\n",
    "# 触发错误\n",
    "print('z = ', point1.z)\n",
    "# AttributeError: 'Coordinate' object has no attribute 'z'"
   ]
  },
  {
   "cell_type": "markdown",
   "metadata": {},
   "source": [
    "- `class property([fget[, fset[, fdel[, doc]]]])`用于在新式类中返回属性值\n",
    "    - `fget` 获取属性值的函数\n",
    "    - `fset` 设置属性值的函数\n",
    "    - `fdel` 删除属性值的函数\n",
    "    - `doc` 属性描述信息"
   ]
  },
  {
   "cell_type": "code",
   "execution_count": 42,
   "metadata": {},
   "outputs": [
    {
     "name": "stdout",
     "output_type": "stream",
     "text": [
      "None\n",
      "None\n",
      "{}\n"
     ]
    }
   ],
   "source": [
    "class C(object):\n",
    "    def __init__(self):\n",
    "        self.__x = None\n",
    "        \n",
    "    def getx(self):\n",
    "        return self.__x\n",
    "    \n",
    "    def setx(self, value):\n",
    "        self.__x = value\n",
    "        \n",
    "    def delx(self):\n",
    "        del self.__x\n",
    "        \n",
    "    x = property(getx, setx, delx, \"I'm the 'x' property\")\n",
    "    \n",
    "cc = C()\n",
    "# cc.x = 2\n",
    "# print(C.__dict__)\n",
    "print(cc._C__x) # 2\n",
    "print(cc.x)     # 2\n",
    "\n",
    "del cc.x\n",
    "print(cc.__dict__) # {}\n",
    "# print(cc.x) \n",
    "# AttributeError: 'C' object has no attribute '_C__x'"
   ]
  },
  {
   "cell_type": "markdown",
   "metadata": {},
   "source": [
    "# 魔法方法\n",
    "魔法方法总是被双下划线包围，例如`__init__`\n",
    "\n",
    "魔法方法是面向对象的Python的一切，如果你不知道魔法方法，说明你还没意识到面向对象的Python的强大\n",
    "\n",
    "魔法方法的\"魔法\"体现在它们总能在适当的时候被自动调用\n",
    "\n",
    "魔法方法的第一个参数应为`cls`（类方法）或者`self`（实例方法）\n",
    "- `cls` 代表一个类的名称\n",
    "- `self` 代表一个实例对象的名称"
   ]
  },
  {
   "cell_type": "markdown",
   "metadata": {},
   "source": [
    "## 1.基本的魔法方法\n",
    "- `__init__(self[, ...])`构造器，当一个实例被创建的时候自动调用的初始化方法"
   ]
  },
  {
   "cell_type": "code",
   "execution_count": 43,
   "metadata": {},
   "outputs": [
    {
     "name": "stdout",
     "output_type": "stream",
     "text": [
      "18\n",
      "20\n"
     ]
    }
   ],
   "source": [
    "class Rectangle:\n",
    "    def __init__(self, x, y):\n",
    "        self.x = x\n",
    "        self.y = y\n",
    "\n",
    "    def getPeri(self):\n",
    "        return (self.x + self.y) * 2\n",
    "\n",
    "    def getArea(self):\n",
    "        return self.x * self.y\n",
    "\n",
    "\n",
    "rect = Rectangle(4, 5)\n",
    "print(rect.getPeri())  # 18\n",
    "print(rect.getArea())  # 20"
   ]
  },
  {
   "cell_type": "markdown",
   "metadata": {},
   "source": [
    "- `__new__(cls[, ...])`在一个对象实例化的时候所调用的第一个方法，在调用`__init__`初始化前，先调用`__new__`\n",
    " - `__new__`至少要有一个参数`cls`，代表要实例化的类，此参数在实例化时由Python解释器自动提供，后面的参数直接传递给`__init__`\n",
    " - `__new__`对当前类进行了实例化，并将实例返回，传给`__init__`的`self`。<font color = #0099ff>但是，执行了`__new__`，并不一定会进入`__init__`,只有`__new__`返回了当前类`cls`的实例，当前类的`__init__`才会进入</font>"
   ]
  },
  {
   "cell_type": "code",
   "execution_count": 55,
   "metadata": {},
   "outputs": [
    {
     "name": "stdout",
     "output_type": "stream",
     "text": [
      "into B __new__\n",
      "<class '__main__.B'> (10,) {}\n",
      "\n",
      "into A　__new__\n",
      "<class '__main__.B'> (10,) {}\n",
      "\n",
      "into B __init__\n",
      "10\n",
      "into B __new__\n",
      "<class '__main__.B'> (11,) {}\n",
      "\n",
      "into A　__new__\n",
      "<class '__main__.A'> (11,) {}\n",
      "\n"
     ]
    },
    {
     "ename": "AttributeError",
     "evalue": "'A' object has no attribute 'value'",
     "output_type": "error",
     "traceback": [
      "\u001b[0;31m---------------------------------------------------------------------------\u001b[0m",
      "\u001b[0;31mAttributeError\u001b[0m                            Traceback (most recent call last)",
      "\u001b[0;32m<ipython-input-55-7cda07bc9557>\u001b[0m in \u001b[0;36m<module>\u001b[0;34m\u001b[0m\n\u001b[1;32m     62\u001b[0m \u001b[0;31m# into A　__new__\u001b[0m\u001b[0;34m\u001b[0m\u001b[0;34m\u001b[0m\u001b[0m\n\u001b[1;32m     63\u001b[0m \u001b[0;31m# <class '__main__.A'> (11,) {}\u001b[0m\u001b[0;34m\u001b[0m\u001b[0;34m\u001b[0m\u001b[0m\n\u001b[0;32m---> 64\u001b[0;31m \u001b[0mprint\u001b[0m\u001b[0;34m(\u001b[0m\u001b[0mb\u001b[0m\u001b[0;34m.\u001b[0m\u001b[0mvalue\u001b[0m\u001b[0;34m)\u001b[0m\u001b[0;34m\u001b[0m\u001b[0m\n\u001b[0m",
      "\u001b[0;31mAttributeError\u001b[0m: 'A' object has no attribute 'value'"
     ]
    }
   ],
   "source": [
    "class A(object):\n",
    "    def __init__(self, value):\n",
    "        print(\"into A __init__\")\n",
    "        self.value = value\n",
    "        \n",
    "    def __new__(cls, *args, **kwargs):\n",
    "        print(\"into A　__new__\")\n",
    "        print(cls, args, kwargs)\n",
    "        print()\n",
    "        return object.__new__(cls)\n",
    "    \n",
    "class B(A):\n",
    "    def __init__(self, value):\n",
    "        print(\"into B __init__\")\n",
    "        self.value = value\n",
    "        \n",
    "    def __new__(cls, *args, **kwargs):\n",
    "        print(\"into B __new__\")\n",
    "        print(cls, args, kwargs)\n",
    "        print()\n",
    "        return super().__new__(cls, *args, **kwargs)\n",
    "    \n",
    "b = B(10)\n",
    "# into B __new__\n",
    "# <class '__main__.B'> (10,) {}\n",
    "\n",
    "# into A　__new__\n",
    "# <class '__main__.B'> (10,) {}\n",
    "\n",
    "# into B __init__\n",
    "'''并没有进入A的__init__因为不是创建A的实例'''\n",
    "print(b.value) # 10\n",
    "\n",
    "\n",
    "class A(object):\n",
    "    def __init__(self, value):\n",
    "        print(\"into A __init__\")\n",
    "        self.value = value\n",
    "        \n",
    "    def __new__(cls, *args, **kwargs):\n",
    "        print(\"into A　__new__\")\n",
    "        print(cls, args, kwargs)\n",
    "        print()\n",
    "        return object.__new__(cls)\n",
    "    \n",
    "class B(A):\n",
    "    def __init__(self, value):\n",
    "        print(\"into B __init__\")\n",
    "        self.value = value\n",
    "        \n",
    "    def __new__(cls, *args, **kwargs):\n",
    "        print(\"into B __new__\")\n",
    "        print(cls, args, kwargs)\n",
    "        print()\n",
    "        return super().__new__(A, *args, **kwargs) # 改动了cls变为A\n",
    "    \n",
    "b = B(11)\n",
    "\n",
    "# into B __new__\n",
    "# <class '__main__.B'> (11,) {}\n",
    "\n",
    "# into A　__new__\n",
    "# <class '__main__.A'> (11,) {}\n",
    "\n",
    "print(b.value)\n",
    "# AttributeError: 'A' object has no attribute 'value'"
   ]
  },
  {
   "cell_type": "markdown",
   "metadata": {},
   "source": [
    "- 若`__new__`没有正确返回当前类`cls`的实例，那么`__init__`是不会被调用的，即使是父类的实例也不行，将没有`__init__`被调用\n",
    "\n",
    "【例子】利用`__new__`实现单例模式"
   ]
  },
  {
   "cell_type": "code",
   "execution_count": 58,
   "metadata": {},
   "outputs": [
    {
     "name": "stdout",
     "output_type": "stream",
     "text": [
      "140076868543040\n",
      "140076868546176\n",
      "140076868543656\n",
      "140076868543656\n",
      "True\n"
     ]
    }
   ],
   "source": [
    "class Earth:\n",
    "    pass\n",
    "\n",
    "a = Earth()\n",
    "print(id(a)) # 140076868544888\n",
    "\n",
    "b = Earth()\n",
    "print(id(b)) # 140077204556040\n",
    "\n",
    "class Earth:\n",
    "    __instance = None\n",
    "    \n",
    "    def __new__(cls):\n",
    "        if cls.__instance is None:\n",
    "            cls.__instance = object.__new__(cls)\n",
    "            return cls.__instance\n",
    "        else:\n",
    "            return cls.__instance\n",
    "    \n",
    "a = Earth()\n",
    "print(id(a)) # 140076868546400\n",
    "b = Earth()\n",
    "print(id(b)) # 140076868546400\n",
    "print(a is b) # True"
   ]
  },
  {
   "cell_type": "markdown",
   "metadata": {},
   "source": [
    "- `__new__`方法主要是当你继承一些不可变的class时（比如`int, str, tuple`），提供给你一个自己定义这些类的实例化过程的途径"
   ]
  },
  {
   "cell_type": "code",
   "execution_count": 59,
   "metadata": {},
   "outputs": [
    {
     "name": "stdout",
     "output_type": "stream",
     "text": [
      "I LOVE SHA QIU\n"
     ]
    }
   ],
   "source": [
    "class CapStr(str):\n",
    "    def __new__(cls, string):\n",
    "        string = string.upper()\n",
    "        return str.__new__(cls, string)\n",
    "    \n",
    "a = CapStr('i love sha qiu')\n",
    "print(a) # I LOVE SHA QIU"
   ]
  },
  {
   "cell_type": "markdown",
   "metadata": {},
   "source": [
    "- `__del__(self)`析构器，当一个对象将要被系统回收之时调用的方法\n",
    "\n",
    "Python采用自动引用计数(ARC)方式来回收对象所占用的空间，当程序中有一个变量引用该Python对象时，Python会自动保证该对象引用计数为1，当程序中有两个变量引用该Python对象时，Python会自动保证该对象引用计数为2，以此类推，如果一个对象的引用计数变成了0，则说明程序中不再有变量引用该对象，表明程序不再需要该对象，因此Python就会回收该对象\n",
    "\n",
    "大部分时候，Python的ARC都能准确、高效的回收系统中的每个对象。但如果系统中出现循环引用的情况，比如对象a持有一个实例变量引用对象b，而对象b又持有一个实例变量引用对象a，此时两个对象的引用计数都是1，而实际上程序已经不再有变量引用它们，系统应该回收它们，此时Python的垃圾回收器就可能没那么快，要等专门的循环垃圾回收器(Cyclic Garbage Collector)来检测并回收这种引用循环"
   ]
  },
  {
   "cell_type": "code",
   "execution_count": 1,
   "metadata": {},
   "outputs": [
    {
     "name": "stdout",
     "output_type": "stream",
     "text": [
      "into c __init__\n",
      "into c __del__\n"
     ]
    }
   ],
   "source": [
    "class C(object):\n",
    "    def __init__(self):\n",
    "        print('into c __init__')\n",
    "        \n",
    "    def __del__(self):\n",
    "        print('into c __del__')\n",
    "        \n",
    "c1 = C()\n",
    "# into c __init__\n",
    "c2 = c1\n",
    "c3 = c2\n",
    "\n",
    "del c3\n",
    "del c2\n",
    "del c1\n",
    "# into c __del__"
   ]
  },
  {
   "cell_type": "markdown",
   "metadata": {},
   "source": [
    "- `__str__(self):`\n",
    " - 当你打印一个对象的时候，触发`__str__`\n",
    " - 当你使用`%s`格式化的时候，触发`__str__`\n",
    " - `str`强转数据类型的时候，触发`__str__`\n",
    " \n",
    "- `__repr__(self):`\n",
    " - `repr`是`str`的备胎、\n",
    " - 有`__str__`的时候执行`__str__`，没有实现时执行`__rper__`\n",
    " - `repr(obj)`内置函数对象的结果是`__repr__`的返回值\n",
    " - 当你使用`%r`格式化的时候，触发`__repr__`"
   ]
  },
  {
   "cell_type": "code",
   "execution_count": 2,
   "metadata": {},
   "outputs": [
    {
     "name": "stdout",
     "output_type": "stream",
     "text": [
      "名字是：tom，年龄是：12\n",
      "名字是：tom，年龄是：12\n",
      "Cat:(tom, 12)\n",
      "tom 在吃鱼\n"
     ]
    }
   ],
   "source": [
    "class Cat:\n",
    "    \"\"\"定义一个猫类\"\"\"\n",
    "    def __init__(self, new_name, new_age):\n",
    "        \"\"\"在创建完对象之后， 会自动调用，它完成对象的初始化的功能\"\"\"\n",
    "        self.name = new_name\n",
    "        self.age  = new_age\n",
    "        \n",
    "    def __str__(self):\n",
    "        \"\"\"返回一个对象的描述信息\"\"\"\n",
    "        return \"名字是：%s，年龄是：%s\" % (self.name, self.age)\n",
    "    \n",
    "    def __repr__(self):\n",
    "        \"\"\"返回一个对象的描述信息\"\"\"\n",
    "        return \"Cat:(%s, %d)\" % (self.name, self.age)\n",
    "    \n",
    "    def eat(self):\n",
    "        print('%s 在吃鱼' % self.name)\n",
    "        \n",
    "tom = Cat('tom', 12)\n",
    "print(tom)        # 名字是：tom，年龄是：12\n",
    "print(str(tom))   # 名字是：tom，年龄是：12\n",
    "print(repr(tom))  # Cat:(tom, 12)\n",
    "tom.eat()         # tom 在吃鱼"
   ]
  },
  {
   "cell_type": "markdown",
   "metadata": {},
   "source": [
    "- `__str__(self)`的返回结果可读性更强。也就是说`__str__`的意义是得到便于人们阅读的信息，就像下面的`2021-05-25`一样\n",
    "- `__repr__(self)`的返回结果应该更准确，也就是说`__repr__`存在的目的在于调试，便于开发者使用"
   ]
  },
  {
   "cell_type": "code",
   "execution_count": 3,
   "metadata": {},
   "outputs": [
    {
     "name": "stdout",
     "output_type": "stream",
     "text": [
      "2021-05-25\n",
      "datetime.date(2021, 5, 25)\n",
      "2021-05-25\n",
      "datetime.date(2021, 5, 25)\n"
     ]
    }
   ],
   "source": [
    "import datetime\n",
    "\n",
    "today = datetime.date.today()\n",
    "print(str(today))   # 2021-05-25\n",
    "print(repr(today))  # datetime.date(2021, 5, 25)\n",
    "print('%s'%today)   # 2021-05-25\n",
    "print('%r'%today)   # datetime.date(2021, 5, 25)"
   ]
  },
  {
   "cell_type": "markdown",
   "metadata": {},
   "source": [
    "## 2.算数运算符\n",
    "类型工厂函数，指的是“不用过类而实通过函数来创建对象”"
   ]
  },
  {
   "cell_type": "code",
   "execution_count": 4,
   "metadata": {},
   "outputs": [
    {
     "name": "stdout",
     "output_type": "stream",
     "text": [
      "<class 'builtin_function_or_method'>\n",
      "<class 'builtin_function_or_method'>\n",
      "<class 'type'>\n",
      "<class 'type'>\n",
      "123\n"
     ]
    }
   ],
   "source": [
    "class C:\n",
    "    pass\n",
    "\n",
    "print(type(len))  # <class 'builtin_function_or_method'>\n",
    "print(type(dir))  # <class 'builtin_function_or_method'>\n",
    "print(type(int))  # <class 'type'>\n",
    "print(type(list))  # <class 'type'>\n",
    "print(type(tuple))  # <class 'type'>\n",
    "print(type(C))  # <class 'type'>\n",
    "print(int('123'))  # 123\n",
    "\n",
    "# 这个例子中list工厂函数把一个元祖对象加工成了一个列表对象。\n",
    "print(list((1, 2, 3)))  # [1, 2, 3]"
   ]
  },
  {
   "cell_type": "markdown",
   "metadata": {},
   "source": [
    "- `__add__(self, other)`定义加法的行为：`+`\n",
    "- `__sub__(self, other)`定义减法的行为：`-`"
   ]
  },
  {
   "cell_type": "code",
   "execution_count": 6,
   "metadata": {},
   "outputs": [
    {
     "name": "stdout",
     "output_type": "stream",
     "text": [
      "高为10，重为5\n",
      "高为20，重为20\n",
      "高为20，重为15\n",
      "高为30，重为20\n"
     ]
    }
   ],
   "source": [
    "class MyClass:\n",
    "    \n",
    "    def __init__(self, height, weight):\n",
    "        self.height = height\n",
    "        self.weight = weight\n",
    "        \n",
    "    # 两个对象长相加，重不变，返回一个新的类\n",
    "    def __add__(self, others):\n",
    "        return MyClass(self.height + others.height, self.weight)\n",
    "    \n",
    "    # 两个对象重相减，长不变，返回一个新的类\n",
    "    def __sub__(self, others):\n",
    "        return MyClass(self.height, self.weight - others.weight)\n",
    "    \n",
    "    def intro(self):\n",
    "        print('高为%d，重为%d' % (self.height, self.weight))\n",
    "        \n",
    "def main():\n",
    "    a = MyClass(height = 10, weight = 5)\n",
    "    a.intro()\n",
    "    \n",
    "    b = MyClass(20, 20)\n",
    "    b.intro()\n",
    "    \n",
    "    c = b - a\n",
    "    c.intro()\n",
    "    \n",
    "    d = b + a\n",
    "    d.intro()\n",
    "    \n",
    "if __name__ == '__main__':\n",
    "    main()\n",
    "# 高为10，重为5\n",
    "# 高为20，重为20\n",
    "# 高为20，重为15\n",
    "# 高为30，重为20"
   ]
  },
  {
   "cell_type": "markdown",
   "metadata": {},
   "source": [
    "- `__mul__(self, other)`定义乘法的行为：`*`\n",
    "- `__truediv__(self, other)`定义真除法的行为：`/`\n",
    "- `__floordiv__(self, other)`定义整数除法的行为：`//`\n",
    "- `__mod__(self, other)` 定义取模算法的行为：`%`\n",
    "- `__divmod__(self, other)`定义当被 `divmod()` 调用时的行为\n",
    "- `divmod(a, b)`把除数和余数运算结果结合起来，返回一个包含商和余数的元组`(a // b, a % b)`"
   ]
  },
  {
   "cell_type": "code",
   "execution_count": 7,
   "metadata": {},
   "outputs": [
    {
     "name": "stdout",
     "output_type": "stream",
     "text": [
      "(3, 1)\n",
      "(4, 0)\n"
     ]
    }
   ],
   "source": [
    "print(divmod(7, 2)) # (3, 1)\n",
    "print(divmod(8, 2)) # (4, 0)"
   ]
  },
  {
   "cell_type": "markdown",
   "metadata": {},
   "source": [
    "- `__pow__(self, other[, module])`定义当被 `power()` 调用或 `**` 运算时的行为\n",
    "- `__lshift__(self, other)`定义按位左移位的行为：`<<`\n",
    "- `__rshift__(self, other)`定义按位右移位的行为：`>>`\n",
    "- `__and__(self, other)`定义按位与操作的行为：`&`\n",
    "- `__xor__(self, other)`定义按位异或操作的行为：`^`\n",
    "- `__or__(self, other)`定义按位或操作的行为：`|`\n",
    "\n",
    "## 3.反算术运算符\n",
    "反运算魔法方法，与算数运算符保持一一对应，不用之处就是反运算的魔法方法多了一个`r`。当文件左操作不支持相应的操作时被调用\n",
    "\n",
    "- `__radd__(self, other)`定义加法的行为：`+`\n",
    "- `__rsub__(self, other)`定义减法的行为：`-`\n",
    "- `__rmul__(self, other)`定义乘法的行为：`*`\n",
    "- `__rtruediv__(self, other)`定义真除法的行为：`/`\n",
    "- `__rfloordiv__(self, other)`定义整数除法的行为：`//`\n",
    "- `__rmod__(self, other)` 定义取模算法的行为：`%`\n",
    "- `__rdivmod__(self, other)`定义当被 divmod() 调用时的行为\n",
    "- `__rpow__(self, other[, module])`定义当被 power() 调用或 `**` 运算时的行为\n",
    "- `__rlshift__(self, other)`定义按位左移位的行为：`<<`\n",
    "- `__rrshift__(self, other)`定义按位右移位的行为：`>>`\n",
    "- `__rand__(self, other)`定义按位与操作的行为：`&`\n",
    "- `__rxor__(self, other)`定义按位异或操作的行为：`^`\n",
    "- `__ror__(self, other)`定义按位或操作的行为：`|`\n",
    "\n",
    "`a + b`\n",
    "这里加数是`a`，被加数是`b`，因此`a`是主动，反运算就是如果`a`对象的`__add__()`方法没有实现或者不支持相应的操作，那么Python就会调用`b`的`__radd__()`方法"
   ]
  },
  {
   "cell_type": "code",
   "execution_count": 9,
   "metadata": {},
   "outputs": [
    {
     "name": "stdout",
     "output_type": "stream",
     "text": [
      "47\n",
      "-1\n"
     ]
    }
   ],
   "source": [
    "class Nint(int):\n",
    "    def __radd__(self, other):\n",
    "        return int.__sub__(other, self)\n",
    "    \n",
    "a = Nint(45)\n",
    "b = Nint(2)\n",
    "print(a + b) # 47\n",
    "print(1 + b) # -1\n",
    "'''int没有实现和Nint的加法，故调用Nint的__radd__也就是int的sub'''"
   ]
  },
  {
   "cell_type": "markdown",
   "metadata": {},
   "source": [
    "## 4.增量赋值运算符\n",
    "\n",
    "- `__iadd__(self, other)`定义赋值加法的行为：`+=`\n",
    "- `__isub__(self, other)`定义赋值减法的行为：`-=`\n",
    "- `__imul__(self, other)`定义赋值乘法的行为：`*=`\n",
    "- `__itruediv__(self, other)`定义赋值真除法的行为：`/=`\n",
    "- `__ifloordiv__(self, other)`定义赋值整数除法的行为：`//=`\n",
    "- `__imod__(self, other)`定义赋值取模算法的行为：`%=`\n",
    "- `__ipow__(self, other[, modulo])`定义赋值幂运算的行为：`**=`\n",
    "- `__ilshift__(self, other)`定义赋值按位左移位的行为：`<<=`\n",
    "- `__irshift__(self, other)`定义赋值按位右移位的行为：`>>=`\n",
    "- `__iand__(self, other)`定义赋值按位与操作的行为：`&=`\n",
    "- `__ixor__(self, other)`定义赋值按位异或操作的行为：`^=`\n",
    "- `__ior__(self, other)`定义赋值按位或操作的行为：`|=`\n",
    "\n",
    "\n",
    "## 5.一元运算符\n",
    "- `__neg__(self)`定义负号的行为：`-x`\n",
    "- `__pos__(self)`定义正号的行为：`+x`\n",
    "- `__abs__(self)`定义当被`abs()`调用时的行为\n",
    "- `__invert__(self)`定义按位求反的行为：`~x`\n",
    "\n",
    "## 6.属性访问\n",
    "\n",
    "\n",
    "\n",
    "- `__getattr__(self, name)`: 定义当用户试图获取一个不存在的属性时的行为。\n",
    "- `__getattribute__(self, name)`：定义当该类的属性被访问时的行为（先调用该方法，查看是否存在该属性，若不存在，接着去调用`__getattr__`）。\n",
    "- `__setattr__(self, name, value)`：定义当一个属性被设置时的行为。\n",
    "- `__delattr__(self, name)`：定义当一个属性被删除时的行为。"
   ]
  },
  {
   "cell_type": "code",
   "execution_count": 11,
   "metadata": {},
   "outputs": [
    {
     "name": "stdout",
     "output_type": "stream",
     "text": [
      "__getattribute__\n",
      "__getattr__\n",
      "__setattr__\n",
      "__delattr__\n"
     ]
    }
   ],
   "source": [
    "class C:\n",
    "    def __getattribute__(self, item):\n",
    "        print('__getattribute__')\n",
    "        return super().__getattribute__(item)\n",
    "\n",
    "    def __getattr__(self, item):\n",
    "        print('__getattr__')\n",
    "\n",
    "    def __setattr__(self, key, value):\n",
    "        print('__setattr__')\n",
    "        super().__setattr__(key, value)\n",
    "\n",
    "    def __delattr__(self, item):\n",
    "        print('__delattr__')\n",
    "        super().__delattr__(item)\n",
    "\n",
    "\n",
    "c = C()\n",
    "c.x\n",
    "# __getattribute__\n",
    "# __getattr__\n",
    "\n",
    "c.x = 1\n",
    "# __setattr__\n",
    "\n",
    "del c.x\n",
    "# __delattr__"
   ]
  },
  {
   "cell_type": "markdown",
   "metadata": {},
   "source": [
    "## 7.描述符\n",
    "\n",
    "描述符就是将某种特殊类型的类的实例指派给另一个类的属性\n",
    "- `__get__(self, instance, owner)`用于访问属性，它返回属性的值\n",
    "- `__set__(self, instance, value)`将在属性分配操作中调用，不返回任何内容\n",
    "- `__del__(self, instance)`控制删除操作，不返回任何内容"
   ]
  },
  {
   "cell_type": "code",
   "execution_count": 15,
   "metadata": {},
   "outputs": [
    {
     "name": "stdout",
     "output_type": "stream",
     "text": [
      "__get__ <__main__.MyDecriptor object at 0x7f3e2411ba90> <__main__.Test object at 0x7f3e2411bef0> <class '__main__.Test'>\n",
      "__get__ <__main__.MyDecriptor object at 0x7f3e2411ba90> <__main__.Test object at 0x7f3e2411bef0> <class '__main__.Test'>\n",
      "None\n",
      "__delete__ <__main__.MyDecriptor object at 0x7f3e2411ba90> <__main__.Test object at 0x7f3e2411bef0>\n"
     ]
    }
   ],
   "source": [
    "class MyDecriptor:\n",
    "    def __get__(self, instance, owner):\n",
    "        print('__get__', self, instance, owner)\n",
    "        \n",
    "    def __set__(self, instance, value):\n",
    "        print('__set__', self, instance, value)\n",
    "        \n",
    "    def __delete__(self, instance):\n",
    "        print('__delete__', self, instance)\n",
    "        \n",
    "class Test:\n",
    "    x = MyDecriptor()\n",
    "    \n",
    "t = Test()\n",
    "t.x\n",
    "# __get__ \n",
    "# <__main__.MyDecriptor object at 0x7f3e2411bcc0> \n",
    "# <__main__.Test object at 0x7f3e2411ba90> \n",
    "# <class '__main__.Test'>\n",
    "\n",
    "t.x = 'x-men'\n",
    "# __set__ \n",
    "# <__main__.MyDecriptor object at 0x7f3e2411bcc0> \n",
    "# <__main__.Test object at 0x7f3e2411ba90> \n",
    "# x-men\n",
    "\n",
    "del t.x\n",
    "# __delete__ \n",
    "# <__main__.MyDecriptor object at 0x7f3e2411bcc0> \n",
    "# <__main__.Test object at 0x7f3e2411ba90>\n",
    " "
   ]
  },
  {
   "cell_type": "markdown",
   "metadata": {},
   "source": [
    "## 8.定制序列\n",
    "协议（Protocols）与其它；编程语言中的接口很相似，它规定你哪些方法必须要定义，然而，在Python中的协议显得不那么正式，事实上，在Python中，协议更像是一种指南\n",
    "\n",
    "**容器类型的协议**\n",
    "- 如果说你希望定制的容器是不可变的话，你只需要定义`__len__()`和`__getitem__()`方法\n",
    "- 如果你希望定制的容器是可变的话，除了`__len__()`和`__getitem__()`方法，你还需要定义`__setitem__()`和`__delitem__()`两个方法\n",
    "\n",
    "【例子】编写一个不可改变的自定义列表，要求记录列表中每个元素被访问的次数"
   ]
  },
  {
   "cell_type": "code",
   "execution_count": 2,
   "metadata": {},
   "outputs": [
    {
     "name": "stdout",
     "output_type": "stream",
     "text": [
      "3\n",
      "6\n",
      "7\n",
      "{0: 0, 1: 2, 2: 0, 3: 0, 4: 0}\n",
      "{0: 0, 1: 1, 2: 1, 3: 0, 4: 0}\n"
     ]
    }
   ],
   "source": [
    "class CountList:\n",
    "    def __init__(self, *args):\n",
    "        self.values = [x for x in args]\n",
    "        self.count = {}.fromkeys(range(len(self.values)), 0)\n",
    "        \n",
    "    def __len__(self):\n",
    "        return len(self.values)\n",
    "    \n",
    "    def __getitem__(self, item):\n",
    "        self.count[item] += 1\n",
    "        return self.values[item]\n",
    "    \n",
    "c1 = CountList(1, 3, 5 ,7 , 9)\n",
    "c2 = CountList(2, 4, 6, 8, 10)\n",
    "print(c1[1]) # 3\n",
    "print(c2[2]) # 6\n",
    "print(c1[1] + c2[1]) # 7\n",
    "\n",
    "print(c1.count)\n",
    "# {0: 0, 1: 2, 2: 0, 3: 0, 4: 0}\n",
    "\n",
    "print(c2.count)\n",
    "# {0: 0, 1: 1, 2: 1, 3: 0, 4: 0}"
   ]
  },
  {
   "cell_type": "markdown",
   "metadata": {},
   "source": [
    "- `__len__(self)`定义当被`len()`调用时的行为（返回容器中元素的个数）\n",
    "- `__getitem__(self, key)`定义获取容器中元素的行为，相当于`self[key]`\n",
    "- `__setitem__(self, key, value)`定义设置容器中指定元素的行为，相当于`self[key] = value`\n",
    "- `__delitem__(self, key)`定义删除容器中指定元素的行为，相当于`del self[key]`\n",
    "\n",
    "【例子】编写一个可改变的自定义列表，要求记录列表中每个元素被访问的次数"
   ]
  },
  {
   "cell_type": "code",
   "execution_count": 5,
   "metadata": {},
   "outputs": [
    {
     "name": "stdout",
     "output_type": "stream",
     "text": [
      "3\n",
      "6\n",
      "15\n",
      "{0: 0, 1: 2, 2: 0, 3: 0, 4: 0}\n",
      "{0: 0, 1: 0, 2: 2, 3: 0, 4: 0}\n",
      "{0: 0, 1: 0, 2: 0, 3: 0}\n"
     ]
    }
   ],
   "source": [
    "class CountList:\n",
    "    def __init__(self, *args):\n",
    "        self.values = [x for x in args]\n",
    "        self.count = {}.fromkeys(range(len(self.values)), 0)\n",
    "        \n",
    "    def __len__(self):\n",
    "        return len(self.values)\n",
    "    \n",
    "    def __getitem__(self, item):\n",
    "        self.count[item] += 1\n",
    "        return self.values[item]\n",
    "    \n",
    "    def __setitem__(self, item, value):\n",
    "        self.values[item] = value\n",
    "        \n",
    "    def __delitem__(self, key):\n",
    "        del self.values[key]\n",
    "        for i in range(0, len(self.values)):\n",
    "            if i >= key:\n",
    "                self.count[i] = self.count[i + 1]\n",
    "        self.count.pop(len(self.values))\n",
    "        \n",
    "c1 = CountList(1, 3, 5, 7, 9)\n",
    "c2 = CountList(2, 4, 6, 8, 10)\n",
    "print(c1[1]) # 3\n",
    "print(c2[2]) # 6\n",
    "c2[2] = 12\n",
    "print(c1[1] + c2[2]) # 15\n",
    "print(c1.count)\n",
    "# {0: 0, 1: 2, 2: 0, 3: 0, 4: 0}\n",
    "\n",
    "print(c2.count)\n",
    "# {0: 0, 1: 0, 2: 2, 3: 0, 4: 0}\n",
    "\n",
    "del c1[1]\n",
    "print(c1.count)\n",
    "# {0: 0, 1: 0, 2: 0, 3: 0}"
   ]
  },
  {
   "cell_type": "markdown",
   "metadata": {},
   "source": [
    "## 9.迭代器\n",
    "- 迭代是Python最强大的功能之一，是访问集合元素的一种方式\n",
    "- 迭代器是一个可以记住遍历的位置的对象\n",
    "- 迭代器对象从集合的第一个元素开始访问，直到所有的元素都被访问完结束\n",
    "- 迭代器只能往前不会后退\n",
    "- 字符串，列表和元组对象都可用于创建迭代器"
   ]
  },
  {
   "cell_type": "code",
   "execution_count": 7,
   "metadata": {},
   "outputs": [
    {
     "name": "stdout",
     "output_type": "stream",
     "text": [
      "t\n",
      "i\n",
      "o\n",
      "q\n",
      "i\n",
      "u\n",
      "t\n",
      "i\n",
      "o\n",
      "q\n",
      "i\n",
      "u\n"
     ]
    }
   ],
   "source": [
    "string = 'tioqiu'\n",
    "for c in string:\n",
    "    print(c)\n",
    "    \n",
    "for c in iter(string):\n",
    "    print(c)\n",
    "# t\n",
    "# i\n",
    "# o\n",
    "# q\n",
    "# i\n",
    "# u"
   ]
  },
  {
   "cell_type": "code",
   "execution_count": 8,
   "metadata": {},
   "outputs": [
    {
     "name": "stdout",
     "output_type": "stream",
     "text": [
      "B -> baidu\n",
      "A -> ali\n",
      "B -> baidu\n",
      "A -> ali\n"
     ]
    }
   ],
   "source": [
    "links = {'B':'baidu', 'A':'ali'}\n",
    "for each in links:\n",
    "    print('%s -> %s' % (each, links[each]))\n",
    "    \n",
    "for each in iter(links):\n",
    "    print('%s -> %s' % (each, links[each]))\n",
    "# B -> baidu\n",
    "# A -> ali"
   ]
  },
  {
   "cell_type": "markdown",
   "metadata": {},
   "source": [
    "- 迭代器有两个基本的方法：`iter()`和`next()`\n",
    "- `iter(object)`函数用来生成迭代器\n",
    "- `next(iterator[, default])`返回迭代器的下一个项目\n",
    " - `iterator` -可迭代对象\n",
    " - `default` -可选，用于设置在没有下一个元素时返回该默认值，如果不设置，又没有下一个元素则会触发`StopIteration`异常"
   ]
  },
  {
   "cell_type": "code",
   "execution_count": 12,
   "metadata": {},
   "outputs": [
    {
     "name": "stdout",
     "output_type": "stream",
     "text": [
      "B\n",
      "A\n",
      "B\n",
      "A\n",
      "none\n"
     ]
    }
   ],
   "source": [
    "links = {'B':'baidu', 'A':'ali'}\n",
    "it = iter(links)\n",
    "while True:\n",
    "    try:\n",
    "        each = next(it)\n",
    "    except StopIteration:\n",
    "        break\n",
    "    else:\n",
    "        print(each)\n",
    "\n",
    "# B\n",
    "# A\n",
    "it = iter(links)\n",
    "print(next(it))\n",
    "print(next(it))\n",
    "print(next(it,'none'))\n",
    "# B\n",
    "# A\n",
    "# none"
   ]
  },
  {
   "cell_type": "markdown",
   "metadata": {},
   "source": [
    "把一个类作为一个迭代器使用需要在类中实现两个魔法方法`__iter__()`与`__next__()`\n",
    "- `__iter__(self)`定义当迭代容器中的元素的行为，返回一个特殊的迭代器对象，这个迭代器对象实现了`__next__()`方法并通过`StopIteration`异常标识迭代的完成\n",
    "- `__next__()`返回下一个迭代器对象\n",
    "- `StopIteration`异常用于标识迭代的完成，防止出现无限循环的情况，在`__next__()`方法中我们可以设置在完成指定循环次数后触发`StopIteartion`异常来结束迭代"
   ]
  },
  {
   "cell_type": "code",
   "execution_count": 13,
   "metadata": {},
   "outputs": [
    {
     "name": "stdout",
     "output_type": "stream",
     "text": [
      "1 1 2 3 5 8 13 21 34 55 89 "
     ]
    }
   ],
   "source": [
    "class Fibs:\n",
    "    def __init__(self, n = 10):\n",
    "        self.a = 0\n",
    "        self.b = 1\n",
    "        self.n = n\n",
    "        \n",
    "    def __iter__(self):\n",
    "        return self\n",
    "    \n",
    "    def __next__(self):\n",
    "        self.a, self.b = self.b, self.a + self.b\n",
    "        if self.a > self.n:\n",
    "            raise StopIteration\n",
    "        return self.a\n",
    "    \n",
    "fibs = Fibs(100)\n",
    "for each in fibs:\n",
    "    print(each, end = ' ')\n",
    "\n",
    "# 1 1 2 3 5 8 13 21 34 55 89 "
   ]
  },
  {
   "cell_type": "markdown",
   "metadata": {},
   "source": [
    "## 10.生成器\n",
    "- 在Python中，使用了`yield`的函数被成为生成器(generator)\n",
    "- 跟普通函数不同的是，生成器是一个返回迭代器的函数，只能用于迭代操作，更简单点理解生成器就是一个迭代器\n",
    "- 在调用生成器运行的过程中，每次遇到`yield`时函数会暂停并保存当前所有的运行信息，返回`yield`的值，并在下一次执行`next()`方法时从当前位置继续运行\n",
    "- 调用一个生成器函数，返回的是一个迭代器对象"
   ]
  },
  {
   "cell_type": "code",
   "execution_count": 16,
   "metadata": {},
   "outputs": [
    {
     "name": "stdout",
     "output_type": "stream",
     "text": [
      "生成器执行!\n",
      "1\n",
      "--\n",
      "2\n",
      "--\n",
      "\n",
      "生成器执行!\n",
      "1\n",
      "2\n"
     ]
    },
    {
     "ename": "StopIteration",
     "evalue": "",
     "output_type": "error",
     "traceback": [
      "\u001b[0;31m---------------------------------------------------------------------------\u001b[0m",
      "\u001b[0;31mStopIteration\u001b[0m                             Traceback (most recent call last)",
      "\u001b[0;32m<ipython-input-16-e80ef2da650f>\u001b[0m in \u001b[0;36m<module>\u001b[0;34m\u001b[0m\n\u001b[1;32m     19\u001b[0m \u001b[0;34m\u001b[0m\u001b[0m\n\u001b[1;32m     20\u001b[0m \u001b[0mprint\u001b[0m\u001b[0;34m(\u001b[0m\u001b[0mnext\u001b[0m\u001b[0;34m(\u001b[0m\u001b[0mmyG\u001b[0m\u001b[0;34m)\u001b[0m\u001b[0;34m)\u001b[0m \u001b[0;31m# 2\u001b[0m\u001b[0;34m\u001b[0m\u001b[0m\n\u001b[0;32m---> 21\u001b[0;31m \u001b[0mprint\u001b[0m\u001b[0;34m(\u001b[0m\u001b[0mnext\u001b[0m\u001b[0;34m(\u001b[0m\u001b[0mmyG\u001b[0m\u001b[0;34m)\u001b[0m\u001b[0;34m)\u001b[0m \u001b[0;31m# StopIteration:\u001b[0m\u001b[0;34m\u001b[0m\u001b[0m\n\u001b[0m",
      "\u001b[0;31mStopIteration\u001b[0m: "
     ]
    }
   ],
   "source": [
    "def myGen():\n",
    "    print('生成器执行!')\n",
    "    yield 1\n",
    "    yield 2\n",
    "    \n",
    "myG = myGen()\n",
    "for each in myG:\n",
    "    print(each)\n",
    "    print('--')\n",
    "\n",
    "# 生成器执行!\n",
    "# 1\n",
    "# --\n",
    "# 2\n",
    "# --\n",
    "\n",
    "print()\n",
    "myG = myGen()\n",
    "print(next(myG))\n",
    "# 生成器执行!\n",
    "# 1\n",
    "\n",
    "print(next(myG)) # 2\n",
    "print(next(myG)) # StopIteration: "
   ]
  },
  {
   "cell_type": "code",
   "execution_count": 18,
   "metadata": {},
   "outputs": [
    {
     "name": "stdout",
     "output_type": "stream",
     "text": [
      "1 1 2 3 5 8 13 21 34 55 89 "
     ]
    }
   ],
   "source": [
    "def fibs(n):\n",
    "    a = 0\n",
    "    b = 1\n",
    "    while True:\n",
    "        a, b = b, a + b\n",
    "        if a > n:\n",
    "            return\n",
    "        yield a\n",
    "        \n",
    "for each in fibs(100):\n",
    "    print(each, end = ' ')\n",
    "# 1 1 2 3 5 8 13 21 34 55 89 "
   ]
  },
  {
   "cell_type": "code",
   "execution_count": null,
   "metadata": {},
   "outputs": [],
   "source": []
  }
 ],
 "metadata": {
  "interpreter": {
   "hash": "e5edc721c267c354f7c3a43761a84baa24063647031c2095a95e3fbc9f4e28d2"
  },
  "kernelspec": {
   "display_name": "Python 3.8.0 64-bit",
   "name": "python3"
  },
  "language_info": {
   "name": "python",
   "version": ""
  }
 },
 "nbformat": 4,
 "nbformat_minor": 4
}